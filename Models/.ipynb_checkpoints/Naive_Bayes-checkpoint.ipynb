{
 "cells": [
  {
   "cell_type": "code",
   "execution_count": 4,
   "id": "b8bd3adb",
   "metadata": {},
   "outputs": [
    {
     "name": "stdout",
     "output_type": "stream",
     "text": []
    }
   ],
   "source": [
    "# run in Interactive python\n",
    "# ipython\n",
    "# markov init --api-token=eEgdgto3SXBEzG8edLW85qZX\n",
    "                                                                                                                                                                                                                                                                                                                                                                                        "
   ]
  },
  {
   "cell_type": "code",
   "execution_count": 1,
   "id": "ce518a26",
   "metadata": {},
   "outputs": [
    {
     "name": "stderr",
     "output_type": "stream",
     "text": [
      "2023-08-09 15:09:50.267256: I tensorflow/tsl/cuda/cudart_stub.cc:28] Could not find cuda drivers on your machine, GPU will not be used.\n",
      "2023-08-09 15:09:56.525025: I tensorflow/tsl/cuda/cudart_stub.cc:28] Could not find cuda drivers on your machine, GPU will not be used.\n",
      "2023-08-09 15:09:56.555273: I tensorflow/core/platform/cpu_feature_guard.cc:182] This TensorFlow binary is optimized to use available CPU instructions in performance-critical operations.\n",
      "To enable the following instructions: AVX2 FMA, in other operations, rebuild TensorFlow with the appropriate compiler flags.\n",
      "2023-08-09 15:10:05.247793: W tensorflow/compiler/tf2tensorrt/utils/py_utils.cc:38] TF-TRT Warning: Could not find TensorRT\n"
     ]
    },
    {
     "name": "stdout",
     "output_type": "stream",
     "text": [
      "\r"
     ]
    }
   ],
   "source": [
    "import markov\n",
    "import keras\n",
    "import random\n",
    "import pandas as pd\n",
    "import numpy as np\n",
    "from sklearn.model_selection import train_test_split\n",
    "from sklearn.feature_extraction.text import CountVectorizer\n",
    "from keras.models import Sequential\n",
    "from keras.layers import Dense"
   ]
  },
  {
   "cell_type": "code",
   "execution_count": 2,
   "id": "629e2e7d",
   "metadata": {},
   "outputs": [
    {
     "name": "stdout",
     "output_type": "stream",
     "text": [
      "\r"
     ]
    }
   ],
   "source": [
    "\n",
    "# Read the data from the CSV file into a Pandas DataFrame\n",
    "data = pd.read_csv('../Data/Cleaned_Tweets_stopwords.csv')\n",
    "\n",
    "tweets = data['cleaned_text']\n",
    "labels = data['label']\n",
    "\n",
    "# Create a CountVectorizer object for converting text data into a matrix of token counts\n",
    "vectorizer = CountVectorizer()\n",
    "X = vectorizer.fit_transform(tweets)\n",
    "\n",
    "# Convert the sparse matrix to a dense numpy array\n",
    "X = X.toarray()\n",
    "\n",
    "# Split the data into training and testing sets (80% training, 20% testing)\n",
    "X_train, X_test, y_train, y_test = train_test_split(X, labels, test_size=0.2, random_state=42)\n",
    "\n",
    "# Convert labels to one-hot encoding\n",
    "num_classes = len(np.unique(labels))\n",
    "y_train_onehot = pd.get_dummies(y_train).values\n",
    "y_test_onehot = pd.get_dummies(y_test).values\n"
   ]
  },
  {
   "cell_type": "code",
   "execution_count": 3,
   "id": "2198b998",
   "metadata": {},
   "outputs": [
    {
     "name": "stdout",
     "output_type": "stream",
     "text": [
      "\r"
     ]
    }
   ],
   "source": [
    "\n",
    "# Create a Multinomial Naive Bayes model in Keras\n",
    "model = Sequential()\n",
    "model.add(Dense(num_classes, input_shape=(X_train.shape[1],), activation='softmax'))\n",
    "\n",
    "# Compile the model\n",
    "model.compile(loss='categorical_crossentropy', optimizer='adam', metrics=['accuracy'])\n"
   ]
  },
  {
   "cell_type": "code",
   "execution_count": 4,
   "id": "c3be21b6",
   "metadata": {},
   "outputs": [
    {
     "name": "stdout",
     "output_type": "stream",
     "text": [
      "\r"
     ]
    }
   ],
   "source": [
    "\n",
    "MODEL_NAME = \"Naive_Bayes_Baseline_Trial\"\n",
    "\n",
    "markov.keras.auto_record(\n",
    "    name=MODEL_NAME,\n",
    "    notes=\"Multinomial Naive Bayes Baseline Model Using Keras\",\n",
    "    project_id=\"3RwfGCEUTujA5y\" # team-2 project\n",
    ")"
   ]
  },
  {
   "cell_type": "code",
   "execution_count": 5,
   "id": "916146aa",
   "metadata": {},
   "outputs": [
    {
     "name": "stderr",
     "output_type": "stream",
     "text": [
      "2023-08-09 15:10:34.180290: W tensorflow/tsl/framework/cpu_allocator_impl.cc:83] Allocation of 673961328 exceeds 10% of free system memory.\n"
     ]
    },
    {
     "name": "stdout",
     "output_type": "stream",
     "text": [
      "ℹ Creating MarkovML model object Model: Naive_Bayes_Baseline_Trial. Call model_object.register() to register with MarkovML backend.\n",
      "✔ Creating Model Model: Naive_Bayes_Baseline_Trial⠙ Creating Model Model: Naive_Bayes_Baseline_Trial⠹ Creating Model Model: Naive_Bayes_Baseline_Trial⠸ Creating Model Model: Naive_Bayes_Baseline_Trial⠼ Creating Model Model: Naive_Bayes_Baseline_Trial⠴ Creating Model Model: Naive_Bayes_Baseline_Trial⠦ Creating Model Model: Naive_Bayes_Baseline_Trial⠧ Creating Model Model: Naive_Bayes_Baseline_Trial⠇ Creating Model Model: Naive_Bayes_Baseline_Trial⠏ Creating Model Model: Naive_Bayes_Baseline_Trial⠋ Creating Model Model: Naive_Bayes_Baseline_Trial⠙ Creating Model Model: Naive_Bayes_Baseline_Trial⠹ Creating Model Model: Naive_Bayes_Baseline_Trial⠸ Creating Model Model: Naive_Bayes_Baseline_Trial⠼ Creating Model Model: Naive_Bayes_Baseline_Trial⠴ Creating Model Model: Naive_Bayes_Baseline_Trial⠦ Creating Model Model: Naive_Bayes_Baseline_Trial⠧ Creating Model Model: Naive_Bayes_Baseline_Trial⠇ Creating Model Model: Naive_Bayes_Baseline_Trial⠏ Creating Model Model: Naive_Bayes_Baseline_Trial⠋ Creating Model Model: Naive_Bayes_Baseline_Trial⠙ Creating Model Model: Naive_Bayes_Baseline_Trial⠹ Creating Model Model: Naive_Bayes_Baseline_Trial⠸ Creating Model Model: Naive_Bayes_Baseline_Trial⠼ Creating Model Model: Naive_Bayes_Baseline_Trial⠴ Creating Model Model: Naive_Bayes_Baseline_Trial⠦ Creating Model Model: Naive_Bayes_Baseline_Trial⠧ Creating Model Model: Naive_Bayes_Baseline_Trial⠇ Creating Model Model: Naive_Bayes_Baseline_Trial⠏ Creating Model Model: Naive_Bayes_Baseline_Trial⠋ Creating Model Model: Naive_Bayes_Baseline_Trial Model creation for model Model: Naive_Bayes_Baseline_Trial successful!\n",
      "ℹ Creating ExperimentRecorder object Naive_Bayes_Baseline_Trial. Call recorder_object.register() to register with MarkovML backend.\n",
      "✔ Registering ExperimentRecorder with Markov Backend.⠙ Registering ExperimentRecorder with Markov Backend.⠹ Registering ExperimentRecorder with Markov Backend.⠸ Registering ExperimentRecorder with Markov Backend.⠼ Registering ExperimentRecorder with Markov Backend.⠴ Registering ExperimentRecorder with Markov Backend.⠦ Registering ExperimentRecorder with Markov Backend.⠧ Registering ExperimentRecorder with Markov Backend.⠇ Registering ExperimentRecorder with Markov Backend.⠏ Registering ExperimentRecorder with Markov Backend.⠋ Registering ExperimentRecorder with Markov Backend.⠙ Registering ExperimentRecorder with Markov Backend.⠹ Registering ExperimentRecorder with Markov Backend.⠸ Registering ExperimentRecorder with Markov Backend.⠼ Registering ExperimentRecorder with Markov Backend.⠴ Registering ExperimentRecorder with Markov Backend.⠦ Registering ExperimentRecorder with Markov Backend.⠧ Registering ExperimentRecorder with Markov Backend.⠇ Registering ExperimentRecorder with Markov Backend.⠏ Registering ExperimentRecorder with Markov Backend.⠋ Registering ExperimentRecorder with Markov Backend.⠙ Registering ExperimentRecorder with Markov Backend.⠹ Registering ExperimentRecorder with Markov Backend.⠸ Registering ExperimentRecorder with Markov Backend.⠼ Registering ExperimentRecorder with Markov Backend.⠴ Registering ExperimentRecorder with Markov Backend.⠦ Registering ExperimentRecorder with Markov Backend.⠧ Registering ExperimentRecorder with Markov Backend.⠇ Registering ExperimentRecorder with Markov Backend.⠏ Registering ExperimentRecorder with Markov Backend.⠋ Registering ExperimentRecorder with Markov Backend.⠙ Registering ExperimentRecorder with Markov Backend.⠹ Registering ExperimentRecorder with Markov Backend.⠸ Registering ExperimentRecorder with Markov Backend.⠼ Registering ExperimentRecorder with Markov Backend.⠴ Registering ExperimentRecorder with Markov Backend.⠦ Registering ExperimentRecorder with Markov Backend.⠧ Registering ExperimentRecorder with Markov Backend.⠇ Registering ExperimentRecorder with Markov Backend.⠏ Registering ExperimentRecorder with Markov Backend.⠋ Registering ExperimentRecorder with Markov Backend.⠙ Registering ExperimentRecorder with Markov Backend.⠹ Registering ExperimentRecorder with Markov Backend.⠸ Registering ExperimentRecorder with Markov Backend.⠼ Registering ExperimentRecorder with Markov Backend.⠴ Registering ExperimentRecorder with Markov Backend.⠦ Registering ExperimentRecorder with Markov Backend.⠧ Registering ExperimentRecorder with Markov Backend.⠇ Registering ExperimentRecorder with Markov Backend.⠏ Registering ExperimentRecorder with Markov Backend.⠋ Registering ExperimentRecorder with Markov Backend.⠙ Registering ExperimentRecorder with Markov Backend.⠹ Registering ExperimentRecorder with Markov Backend.⠸ Registering ExperimentRecorder with Markov Backend.⠼ Registering ExperimentRecorder with Markov Backend.⠴ Registering ExperimentRecorder with Markov Backend.⠦ Registering ExperimentRecorder with Markov Backend.⠧ Registering ExperimentRecorder with Markov Backend.⠇ Registering ExperimentRecorder with Markov Backend.⠏ Registering ExperimentRecorder with Markov Backend.⠋ Registering ExperimentRecorder with Markov Backend.⠙ Registering ExperimentRecorder with Markov Backend.⠹ Registering ExperimentRecorder with Markov Backend.⠸ Registering ExperimentRecorder with Markov Backend.⠼ Registering ExperimentRecorder with Markov Backend.⠴ Registering ExperimentRecorder with Markov Backend.⠦ Registering ExperimentRecorder with Markov Backend.⠧ Registering ExperimentRecorder with Markov Backend.⠇ Registering ExperimentRecorder with Markov Backend.⠏ Registering ExperimentRecorder with Markov Backend.⠋ Registering ExperimentRecorder with Markov Backend.⠙ Registering ExperimentRecorder with Markov Backend.⠹ Registering ExperimentRecorder with Markov Backend.⠸ Registering ExperimentRecorder with Markov Backend.⠼ Registering ExperimentRecorder with Markov Backend.⠴ Registering ExperimentRecorder with Markov Backend.⠦ Registering ExperimentRecorder with Markov Backend.⠧ Registering ExperimentRecorder with Markov Backend.⠇ Registering ExperimentRecorder with Markov Backend.⠏ Registering ExperimentRecorder with Markov Backend. ExperimentRecorder successfully registered.\n",
      "ℹ You can view the experiment at \u001b\\https://app.markovml.com/pioneer-wsp-27a2ukk2as/proj/3RwfGCEUTujA5y/experiments/hp-A2gciLSGgL4KoLvbVe7WeLK\u001b]8;;\u001b\\\n",
      "ℹ Starting recorder to track training data on markov backend using multiple threads. Please wait!\n",
      "Epoch 1/15\n"
     ]
    },
    {
     "name": "stderr",
     "output_type": "stream",
     "text": [
      " [Elapsed Time: 0:00:02]  [|                    #               |] ( 49.7 B/s) "
     ]
    },
    {
     "name": "stdout",
     "output_type": "stream",
     "text": [
      "149/149 [==============================] - ETA: 0s - loss: 0.6404 - accuracy: 0.7455"
     ]
    },
    {
     "name": "stderr",
     "output_type": "stream",
     "text": [
      "\r",
      " [Elapsed Time: 0:00:00]  [|#                                   |] (  0.0 s/B) "
     ]
    },
    {
     "name": "stdout",
     "output_type": "stream",
     "text": [
      "149/149 [==============================] - 4s 7ms/step - loss: 0.6404 - accuracy: 0.7455 - val_loss: 0.5824 - val_accuracy: 0.8102\n",
      "Epoch 2/15\n",
      "143/149 [===========================>..] - ETA: 0s - loss: 0.5219 - accuracy: 0.8864"
     ]
    },
    {
     "name": "stderr",
     "output_type": "stream",
     "text": [
      "\r",
      " [Elapsed Time: 0:00:04]  [|                               #    |] ( 24.9 B/s) "
     ]
    },
    {
     "name": "stdout",
     "output_type": "stream",
     "text": [
      "149/149 [==============================] - 1s 5ms/step - loss: 0.5206 - accuracy: 0.8878 - val_loss: 0.5172 - val_accuracy: 0.8159\n",
      "Epoch 3/15\n",
      "149/149 [==============================] - 1s 6ms/step - loss: 0.4404 - accuracy: 0.9110 - val_loss: 0.4757 - val_accuracy: 0.8178\n",
      "Epoch 4/15\n",
      "149/149 [==============================] - 1s 6ms/step - loss: 0.3833 - accuracy: 0.9228 - val_loss: 0.4455 - val_accuracy: 0.8235\n",
      "Epoch 5/15\n",
      "149/149 [==============================] - 1s 6ms/step - loss: 0.3403 - accuracy: 0.9321 - val_loss: 0.4229 - val_accuracy: 0.8254\n",
      "Epoch 6/15\n",
      "149/149 [==============================] - 1s 5ms/step - loss: 0.3063 - accuracy: 0.9384 - val_loss: 0.4071 - val_accuracy: 0.8235\n",
      "Epoch 7/15\n",
      "149/149 [==============================] - 1s 5ms/step - loss: 0.2788 - accuracy: 0.9448 - val_loss: 0.3935 - val_accuracy: 0.8197\n",
      "Epoch 8/15\n",
      "149/149 [==============================] - 1s 5ms/step - loss: 0.2556 - accuracy: 0.9500 - val_loss: 0.3833 - val_accuracy: 0.8292\n",
      "Epoch 9/15\n",
      "149/149 [==============================] - 1s 6ms/step - loss: 0.2359 - accuracy: 0.9536 - val_loss: 0.3750 - val_accuracy: 0.8292\n",
      "Epoch 10/15\n",
      "106/149 [====================>.........] - ETA: 0s - loss: 0.2211 - accuracy: 0.9552"
     ]
    },
    {
     "name": "stderr",
     "output_type": "stream",
     "text": [
      "\r",
      " [Elapsed Time: 0:00:07]  [|  #                                 |] (  4.0 B/s) "
     ]
    },
    {
     "name": "stdout",
     "output_type": "stream",
     "text": [
      "149/149 [==============================] - 1s 5ms/step - loss: 0.2189 - accuracy: 0.9585 - val_loss: 0.3681 - val_accuracy: 0.8292\n",
      "Epoch 11/15\n",
      "149/149 [==============================] - 1s 5ms/step - loss: 0.2041 - accuracy: 0.9627 - val_loss: 0.3626 - val_accuracy: 0.8311\n",
      "Epoch 12/15\n",
      "149/149 [==============================] - 1s 6ms/step - loss: 0.1909 - accuracy: 0.9667 - val_loss: 0.3576 - val_accuracy: 0.8349\n",
      "Epoch 13/15\n",
      "149/149 [==============================] - 1s 5ms/step - loss: 0.1792 - accuracy: 0.9688 - val_loss: 0.3541 - val_accuracy: 0.8368\n",
      "Epoch 14/15\n",
      "149/149 [==============================] - 1s 5ms/step - loss: 0.1685 - accuracy: 0.9720 - val_loss: 0.3514 - val_accuracy: 0.8387\n",
      "Epoch 15/15\n",
      "149/149 [==============================] - 1s 5ms/step - loss: 0.1589 - accuracy: 0.9749 - val_loss: 0.3489 - val_accuracy: 0.8387\n"
     ]
    },
    {
     "name": "stderr",
     "output_type": "stream",
     "text": [
      " [Elapsed Time: 0:00:21]  [|  #                                 |] (  1.4 B/s) \n"
     ]
    },
    {
     "name": "stdout",
     "output_type": "stream",
     "text": [
      "⠋ Please wait while we send the remaining data to the markov backend..."
     ]
    },
    {
     "name": "stderr",
     "output_type": "stream",
     "text": [
      "\r",
      " [Elapsed Time: 0:00:26]  [|                        #           |] (  3.8 B/s) "
     ]
    },
    {
     "name": "stdout",
     "output_type": "stream",
     "text": []
    },
    {
     "name": "stderr",
     "output_type": "stream",
     "text": [
      "\n"
     ]
    },
    {
     "name": "stdout",
     "output_type": "stream",
     "text": [
      "✔ Please wait while we send the remaining data to the markov backend... Recording has successfully completed.\n",
      "ℹ You can view the experiment at \u001b\\https://app.markovml.com/pioneer-wsp-27a2ukk2as/proj/3RwfGCEUTujA5y/experiments/hp-A2gciLSGgL4KoLvbVe7WeLK\u001b]8;;\u001b\\\n"
     ]
    },
    {
     "data": {
      "text/plain": [
       "<keras.src.callbacks.History at 0x7fa2a433b3a0>"
      ]
     },
     "execution_count": 5,
     "metadata": {},
     "output_type": "execute_result"
    },
    {
     "name": "stdout",
     "output_type": "stream",
     "text": []
    }
   ],
   "source": [
    "epochs = 15\n",
    "batch_size = 32\n",
    "model.fit(X_train, y_train_onehot, epochs=epochs, batch_size=batch_size, validation_split=0.1)"
   ]
  },
  {
   "cell_type": "code",
   "execution_count": 6,
   "id": "cb8d5e4a",
   "metadata": {},
   "outputs": [
    {
     "name": "stdout",
     "output_type": "stream",
     "text": [
      "42/42 [==============================] - 0s 3ms/step\n"
     ]
    }
   ],
   "source": [
    "y_pred = model.predict(X_test)\n",
    "orig_copy = y_pred.tolist()\n",
    "y_pred[y_pred > 0.5] = 1\n",
    "y_pred[y_pred <= 0.5] = 0"
   ]
  },
  {
   "cell_type": "code",
   "execution_count": 8,
   "id": "fe6e7556",
   "metadata": {},
   "outputs": [
    {
     "name": "stdout",
     "output_type": "stream",
     "text": [
      "ℹ Creating EvaluationRecorder object Evaluating Naive Bayes. Call recorder_object.register() to register with MarkovML backend.\n",
      "✔ Registering evaluation recorder Evaluating Naive Bayes⠙ Registering evaluation recorder Evaluating Naive Bayes⠹ Registering evaluation recorder Evaluating Naive Bayes⠸ Registering evaluation recorder Evaluating Naive Bayes⠼ Registering evaluation recorder Evaluating Naive Bayes⠴ Registering evaluation recorder Evaluating Naive Bayes⠦ Registering evaluation recorder Evaluating Naive Bayes⠧ Registering evaluation recorder Evaluating Naive Bayes⠇ Registering evaluation recorder Evaluating Naive Bayes⠏ Registering evaluation recorder Evaluating Naive Bayes⠋ Registering evaluation recorder Evaluating Naive Bayes⠙ Registering evaluation recorder Evaluating Naive Bayes⠹ Registering evaluation recorder Evaluating Naive Bayes⠸ Registering evaluation recorder Evaluating Naive Bayes⠼ Registering evaluation recorder Evaluating Naive Bayes⠴ Registering evaluation recorder Evaluating Naive Bayes⠦ Registering evaluation recorder Evaluating Naive Bayes⠧ Registering evaluation recorder Evaluating Naive Bayes⠇ Registering evaluation recorder Evaluating Naive Bayes⠏ Registering evaluation recorder Evaluating Naive Bayes⠋ Registering evaluation recorder Evaluating Naive Bayes⠙ Registering evaluation recorder Evaluating Naive Bayes⠹ Registering evaluation recorder Evaluating Naive Bayes⠸ Registering evaluation recorder Evaluating Naive Bayes⠼ Registering evaluation recorder Evaluating Naive Bayes Evaluation recorder creation for EvaluationRecording(name='Evaluating Naive Bayes', model_id='3uXJmxgKeSdf3fiWjz', note='', dataset_id='4Sjrh3yito3qKjujy', info={'project_id': '3RwfGCEUTujA5y'}) successful.\n"
     ]
    },
    {
     "data": {
      "text/plain": [
       "<markov.api.recording.evaluations.evaluation_recorder.EvaluationRecorder at 0x7fa267649460>"
      ]
     },
     "execution_count": 8,
     "metadata": {},
     "output_type": "execute_result"
    },
    {
     "name": "stdout",
     "output_type": "stream",
     "text": []
    }
   ],
   "source": [
    "evaluation_recorder1 = markov.EvaluationRecorder(\n",
    "    name=f\"Evaluating Naive Bayes\",\n",
    "    model_id=\"3uXJmxgKeSdf3fiWjz\",\n",
    "    project_id=\"3RwfGCEUTujA5y\",\n",
    "    dataset_id=\"4Sjrh3yito3qKjujy\"\n",
    ")\n",
    "evaluation_recorder1.register()"
   ]
  },
  {
   "cell_type": "code",
   "execution_count": 9,
   "id": "22705266",
   "metadata": {},
   "outputs": [
    {
     "name": "stdout",
     "output_type": "stream",
     "text": []
    }
   ],
   "source": [
    "def _get_cost(inferred, actual):\n",
    "    if actual == inferred:\n",
    "        return 0\n",
    "    else:\n",
    "        return random.randint(2, 5)"
   ]
  },
  {
   "cell_type": "code",
   "execution_count": 11,
   "id": "6b5b0d91",
   "metadata": {},
   "outputs": [
    {
     "name": "stderr",
     "output_type": "stream",
     "text": [
      "Upload Progress : 100%|███████████████████████████████████████████████████████████████████████████████████████████████████████████████████████████████████████████████████████████| 2/2 [00:07<00:00,  3.52s/batch]\n"
     ]
    },
    {
     "name": "stdout",
     "output_type": "stream",
     "text": [
      "EvaluationRecordingFinishResponse(count=1318, recording_id='4VG6BdSXpzJpew3LYw7B73c', return_code='OK', message='', run_id='jYpbq9ZLuDTLoQbKncJ')\n"
     ]
    }
   ],
   "source": [
    "import markov\n",
    "from markov.api.schemas.model_recording import SingleTagInferenceRecord,RecordMetaType,RecordCustomMetric\n",
    "urid = 1\n",
    "for prob, pred, orig, txt in zip(orig_copy, y_pred, y_test, X_test):\n",
    "    urid = urid + 1\n",
    "    mi_record = SingleTagInferenceRecord(\n",
    "        inferred=float(pred[0]),\n",
    "        actual=float(orig),\n",
    "        urid=urid,\n",
    "        score=float(prob[0]),\n",
    "        custom_metrics=[\n",
    "            RecordCustomMetric(label=\"Cost\", value=_get_cost(float(pred[0]), float(orig))),\n",
    "            RecordCustomMetric(label=\"Probability\", value=float(prob[0]))\n",
    "        ]\n",
    "    )\n",
    "    evaluation_recorder1.add_record(mi_record)\n",
    "outcome = evaluation_recorder1.finish()\n",
    "print(outcome)"
   ]
  }
 ],
 "metadata": {
  "kernelspec": {
   "display_name": "Python 3 (ipykernel)",
   "language": "python",
   "name": "python3"
  },
  "language_info": {
   "codemirror_mode": {
    "name": "ipython",
    "version": 3
   },
   "file_extension": ".py",
   "mimetype": "text/x-python",
   "name": "python",
   "nbconvert_exporter": "python",
   "pygments_lexer": "ipython3",
   "version": "3.9.16"
  }
 },
 "nbformat": 4,
 "nbformat_minor": 5
}
