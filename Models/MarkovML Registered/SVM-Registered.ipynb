{
 "cells": [
  {
   "cell_type": "markdown",
   "id": "eddaef4a",
   "metadata": {},
   "source": [
    "# Basic Model"
   ]
  },
  {
   "cell_type": "code",
   "execution_count": 62,
   "id": "5d2d47d5",
   "metadata": {},
   "outputs": [
    {
     "name": "stdout",
     "output_type": "stream",
     "text": []
    },
    {
     "name": "stderr",
     "output_type": "stream",
     "text": [
      " [Elapsed Time: 0:32:29]  [|                    #               |] ( 19.5 s/B) "
     ]
    }
   ],
   "source": [
    "import pandas as pd\n",
    "from sklearn.feature_extraction.text import TfidfVectorizer\n",
    "from sklearn.model_selection import train_test_split\n",
    "from sklearn.svm import SVC,LinearSVC\n",
    "from sklearn.metrics import classification_report, confusion_matrix, accuracy_score, precision_score, recall_score, f1_score, roc_auc_score,roc_curve\n",
    "import matplotlib.pyplot as plt\n",
    "import numpy as np\n",
    "from sklearn.decomposition import PCA\n",
    "import seaborn as sns\n",
    "import markov\n",
    "import random\n",
    "from markov.api.schemas.model_recording import SingleTagInferenceRecord,RecordMetaType,RecordCustomMetric\n",
    "from markov.api.recording.experiments.experiment_summary_api import ExperimentSummary"
   ]
  },
  {
   "cell_type": "markdown",
   "id": "87df4345",
   "metadata": {},
   "source": [
    "### Ingesting, preprocessing, and splitting Twitter data, then converting text to TF-IDF vectors for training and validation.\n",
    "\n",
    "\n",
    "\n",
    "\n"
   ]
  },
  {
   "cell_type": "code",
   "execution_count": 15,
   "id": "7e9fbbf2",
   "metadata": {},
   "outputs": [
    {
     "name": "stdout",
     "output_type": "stream",
     "text": [
      "\r"
     ]
    }
   ],
   "source": [
    "data = pd.read_csv('../Data/Cleaned_Tweets_stopwords.csv')\n",
    "\n",
    "X = data['cleaned_text']\n",
    "y = data['label']\n",
    "\n",
    "X_train, X_val, y_train, y_val = train_test_split(X, y, test_size=0.2, random_state=42)\n"
   ]
  },
  {
   "cell_type": "code",
   "execution_count": 16,
   "id": "4bed74ac",
   "metadata": {},
   "outputs": [
    {
     "name": "stdout",
     "output_type": "stream",
     "text": [
      "\r"
     ]
    }
   ],
   "source": [
    "tfidf_vectorizer = TfidfVectorizer(max_features=2500) \n",
    "X_train_tfidf = tfidf_vectorizer.fit_transform(X_train)\n",
    "X_val_tfidf = tfidf_vectorizer.transform(X_val)"
   ]
  },
  {
   "cell_type": "code",
   "execution_count": 17,
   "id": "0244f638",
   "metadata": {},
   "outputs": [
    {
     "name": "stdout",
     "output_type": "stream",
     "text": [
      "\r"
     ]
    }
   ],
   "source": [
    "svm_model = SVC(kernel='linear',C=1.0) "
   ]
  },
  {
   "cell_type": "code",
   "execution_count": 18,
   "id": "f46038cf",
   "metadata": {},
   "outputs": [
    {
     "name": "stdout",
     "output_type": "stream",
     "text": [
      "✔ Fetching project with id vXmg4DkwjkU3JR⠙ Fetching project with id vXmg4DkwjkU3JR⠹ Fetching project with id vXmg4DkwjkU3JR⠸ Fetching project with id vXmg4DkwjkU3JR⠼ Fetching project with id vXmg4DkwjkU3JR⠴ Fetching project with id vXmg4DkwjkU3JR⠦ Fetching project with id vXmg4DkwjkU3JR⠧ Fetching project with id vXmg4DkwjkU3JR⠇ Fetching project with id vXmg4DkwjkU3JR⠏ Fetching project with id vXmg4DkwjkU3JR⠋ Fetching project with id vXmg4DkwjkU3JR⠙ Fetching project with id vXmg4DkwjkU3JR⠹ Fetching project with id vXmg4DkwjkU3JR⠸ Fetching project with id vXmg4DkwjkU3JR⠼ Fetching project with id vXmg4DkwjkU3JR⠴ Fetching project with id vXmg4DkwjkU3JR⠦ Fetching project with id vXmg4DkwjkU3JR Successfully fetched project Team_2_Updated_Results\n",
      "ℹ Creating MarkovML project object Team_2_Updated_Results. Call project_object.register() to register with MarkovML backend.\n",
      "ℹ Creating MarkovML model object Model: SVM(Basic). Call model_object.register() to register with MarkovML backend.\n",
      "✔ Creating Model Model: SVM(Basic)⠙ Creating Model Model: SVM(Basic)⠹ Creating Model Model: SVM(Basic)⠸ Creating Model Model: SVM(Basic)⠼ Creating Model Model: SVM(Basic)⠴ Creating Model Model: SVM(Basic)⠦ Creating Model Model: SVM(Basic)⠧ Creating Model Model: SVM(Basic)⠇ Creating Model Model: SVM(Basic)⠏ Creating Model Model: SVM(Basic)⠋ Creating Model Model: SVM(Basic)⠙ Creating Model Model: SVM(Basic)⠹ Creating Model Model: SVM(Basic)⠸ Creating Model Model: SVM(Basic)⠼ Creating Model Model: SVM(Basic)⠴ Creating Model Model: SVM(Basic)⠦ Creating Model Model: SVM(Basic)⠧ Creating Model Model: SVM(Basic) Model creation for model Model: SVM(Basic) successful!\n",
      "ℹ Creating ExperimentRecorder object SVM(Basic). Call recorder_object.register() to register with MarkovML backend.\n",
      "✔ Registering ExperimentRecorder with Markov Backend.⠙ Registering ExperimentRecorder with Markov Backend.⠹ Registering ExperimentRecorder with Markov Backend.⠸ Registering ExperimentRecorder with Markov Backend.⠼ Registering ExperimentRecorder with Markov Backend.⠴ Registering ExperimentRecorder with Markov Backend.⠦ Registering ExperimentRecorder with Markov Backend.⠧ Registering ExperimentRecorder with Markov Backend.⠇ Registering ExperimentRecorder with Markov Backend.⠏ Registering ExperimentRecorder with Markov Backend.⠋ Registering ExperimentRecorder with Markov Backend.⠙ Registering ExperimentRecorder with Markov Backend.⠹ Registering ExperimentRecorder with Markov Backend.⠸ Registering ExperimentRecorder with Markov Backend.⠼ Registering ExperimentRecorder with Markov Backend.⠴ Registering ExperimentRecorder with Markov Backend.⠦ Registering ExperimentRecorder with Markov Backend.⠧ Registering ExperimentRecorder with Markov Backend.⠇ Registering ExperimentRecorder with Markov Backend.⠏ Registering ExperimentRecorder with Markov Backend.⠋ Registering ExperimentRecorder with Markov Backend.⠙ Registering ExperimentRecorder with Markov Backend.⠹ Registering ExperimentRecorder with Markov Backend.⠸ Registering ExperimentRecorder with Markov Backend.⠼ Registering ExperimentRecorder with Markov Backend.⠴ Registering ExperimentRecorder with Markov Backend.⠦ Registering ExperimentRecorder with Markov Backend.⠧ Registering ExperimentRecorder with Markov Backend.⠇ Registering ExperimentRecorder with Markov Backend.⠏ Registering ExperimentRecorder with Markov Backend.⠋ Registering ExperimentRecorder with Markov Backend.⠙ Registering ExperimentRecorder with Markov Backend.⠹ Registering ExperimentRecorder with Markov Backend.⠸ Registering ExperimentRecorder with Markov Backend.⠼ Registering ExperimentRecorder with Markov Backend.⠴ Registering ExperimentRecorder with Markov Backend.⠦ Registering ExperimentRecorder with Markov Backend. ExperimentRecorder successfully registered.\n",
      "ℹ You can view the experiment at \u001b\\https://app.markovml.com/pioneer-wsp-27a2ukk2as/proj/vXmg4DkwjkU3JR/experiments/hp-EXoyacntX2k9NC2BDxzxqzN\u001b]8;;\u001b\\\n"
     ]
    },
    {
     "data": {
      "text/plain": [
       "<markov.api.recording.experiments.experiment_recorder.ExperimentRecorder at 0x7f9364332ac0>"
      ]
     },
     "execution_count": 18,
     "metadata": {},
     "output_type": "execute_result"
    },
    {
     "name": "stdout",
     "output_type": "stream",
     "text": []
    }
   ],
   "source": [
    "import markov\n",
    "\n",
    "my_project = markov.Project.get_by_id(\"vXmg4DkwjkU3JR\")\n",
    "\n",
    "recorder1 = my_project.create_experiment_recorder(\n",
    "        experiment_name = \"SVM(Basic)\",\n",
    "    experiment_notes = \"Linear SVM Experiment\",\n",
    "    hyper_parameters ={\n",
    "        \"C\": 1.0,\n",
    "        \"kernel\": \"linear\"\n",
    "    }\n",
    ")\n",
    "recorder1.register()"
   ]
  },
  {
   "cell_type": "code",
   "execution_count": 19,
   "id": "303340db",
   "metadata": {},
   "outputs": [
    {
     "data": {
      "text/html": [
       "<style>#sk-container-id-2 {color: black;}#sk-container-id-2 pre{padding: 0;}#sk-container-id-2 div.sk-toggleable {background-color: white;}#sk-container-id-2 label.sk-toggleable__label {cursor: pointer;display: block;width: 100%;margin-bottom: 0;padding: 0.3em;box-sizing: border-box;text-align: center;}#sk-container-id-2 label.sk-toggleable__label-arrow:before {content: \"▸\";float: left;margin-right: 0.25em;color: #696969;}#sk-container-id-2 label.sk-toggleable__label-arrow:hover:before {color: black;}#sk-container-id-2 div.sk-estimator:hover label.sk-toggleable__label-arrow:before {color: black;}#sk-container-id-2 div.sk-toggleable__content {max-height: 0;max-width: 0;overflow: hidden;text-align: left;background-color: #f0f8ff;}#sk-container-id-2 div.sk-toggleable__content pre {margin: 0.2em;color: black;border-radius: 0.25em;background-color: #f0f8ff;}#sk-container-id-2 input.sk-toggleable__control:checked~div.sk-toggleable__content {max-height: 200px;max-width: 100%;overflow: auto;}#sk-container-id-2 input.sk-toggleable__control:checked~label.sk-toggleable__label-arrow:before {content: \"▾\";}#sk-container-id-2 div.sk-estimator input.sk-toggleable__control:checked~label.sk-toggleable__label {background-color: #d4ebff;}#sk-container-id-2 div.sk-label input.sk-toggleable__control:checked~label.sk-toggleable__label {background-color: #d4ebff;}#sk-container-id-2 input.sk-hidden--visually {border: 0;clip: rect(1px 1px 1px 1px);clip: rect(1px, 1px, 1px, 1px);height: 1px;margin: -1px;overflow: hidden;padding: 0;position: absolute;width: 1px;}#sk-container-id-2 div.sk-estimator {font-family: monospace;background-color: #f0f8ff;border: 1px dotted black;border-radius: 0.25em;box-sizing: border-box;margin-bottom: 0.5em;}#sk-container-id-2 div.sk-estimator:hover {background-color: #d4ebff;}#sk-container-id-2 div.sk-parallel-item::after {content: \"\";width: 100%;border-bottom: 1px solid gray;flex-grow: 1;}#sk-container-id-2 div.sk-label:hover label.sk-toggleable__label {background-color: #d4ebff;}#sk-container-id-2 div.sk-serial::before {content: \"\";position: absolute;border-left: 1px solid gray;box-sizing: border-box;top: 0;bottom: 0;left: 50%;z-index: 0;}#sk-container-id-2 div.sk-serial {display: flex;flex-direction: column;align-items: center;background-color: white;padding-right: 0.2em;padding-left: 0.2em;position: relative;}#sk-container-id-2 div.sk-item {position: relative;z-index: 1;}#sk-container-id-2 div.sk-parallel {display: flex;align-items: stretch;justify-content: center;background-color: white;position: relative;}#sk-container-id-2 div.sk-item::before, #sk-container-id-2 div.sk-parallel-item::before {content: \"\";position: absolute;border-left: 1px solid gray;box-sizing: border-box;top: 0;bottom: 0;left: 50%;z-index: -1;}#sk-container-id-2 div.sk-parallel-item {display: flex;flex-direction: column;z-index: 1;position: relative;background-color: white;}#sk-container-id-2 div.sk-parallel-item:first-child::after {align-self: flex-end;width: 50%;}#sk-container-id-2 div.sk-parallel-item:last-child::after {align-self: flex-start;width: 50%;}#sk-container-id-2 div.sk-parallel-item:only-child::after {width: 0;}#sk-container-id-2 div.sk-dashed-wrapped {border: 1px dashed gray;margin: 0 0.4em 0.5em 0.4em;box-sizing: border-box;padding-bottom: 0.4em;background-color: white;}#sk-container-id-2 div.sk-label label {font-family: monospace;font-weight: bold;display: inline-block;line-height: 1.2em;}#sk-container-id-2 div.sk-label-container {text-align: center;}#sk-container-id-2 div.sk-container {/* jupyter's `normalize.less` sets `[hidden] { display: none; }` but bootstrap.min.css set `[hidden] { display: none !important; }` so we also need the `!important` here to be able to override the default hidden behavior on the sphinx rendered scikit-learn.org. See: https://github.com/scikit-learn/scikit-learn/issues/21755 */display: inline-block !important;position: relative;}#sk-container-id-2 div.sk-text-repr-fallback {display: none;}</style><div id=\"sk-container-id-2\" class=\"sk-top-container\"><div class=\"sk-text-repr-fallback\"><pre>SVC(kernel=&#x27;linear&#x27;)</pre><b>In a Jupyter environment, please rerun this cell to show the HTML representation or trust the notebook. <br />On GitHub, the HTML representation is unable to render, please try loading this page with nbviewer.org.</b></div><div class=\"sk-container\" hidden><div class=\"sk-item\"><div class=\"sk-estimator sk-toggleable\"><input class=\"sk-toggleable__control sk-hidden--visually\" id=\"sk-estimator-id-2\" type=\"checkbox\" checked><label for=\"sk-estimator-id-2\" class=\"sk-toggleable__label sk-toggleable__label-arrow\">SVC</label><div class=\"sk-toggleable__content\"><pre>SVC(kernel=&#x27;linear&#x27;)</pre></div></div></div></div></div>"
      ],
      "text/plain": [
       "SVC(kernel='linear')"
      ]
     },
     "execution_count": 19,
     "metadata": {},
     "output_type": "execute_result"
    },
    {
     "name": "stdout",
     "output_type": "stream",
     "text": []
    }
   ],
   "source": [
    "svm_model.fit(X_train_tfidf, y_train)"
   ]
  },
  {
   "cell_type": "code",
   "execution_count": 20,
   "id": "9c94cd1c",
   "metadata": {},
   "outputs": [
    {
     "name": "stdout",
     "output_type": "stream",
     "text": [
      "Accuracy: 0.9225806451612903\n",
      "Hinge Loss: 0.5525616698292221\n"
     ]
    }
   ],
   "source": [
    "y_pred_train = svm_model.predict(X_train_tfidf)\n",
    "\n",
    "# Calculate accuracy\n",
    "accuracy = accuracy_score(y_train, y_pred_train)\n",
    "print(\"Accuracy:\", accuracy)\n",
    "hinge_loss = np.maximum(0, 1 - y_train * y_pred_train).mean()\n",
    "print(\"Hinge Loss:\", hinge_loss)\n",
    "training_accuracy = accuracy\n",
    "training_loss = hinge_loss\n"
   ]
  },
  {
   "cell_type": "code",
   "execution_count": 21,
   "id": "aec0c6ba",
   "metadata": {},
   "outputs": [
    {
     "name": "stdout",
     "output_type": "stream",
     "text": []
    }
   ],
   "source": [
    "y_pred = svm_model.predict(X_val_tfidf)"
   ]
  },
  {
   "cell_type": "code",
   "execution_count": 22,
   "id": "69bbfe57",
   "metadata": {},
   "outputs": [
    {
     "name": "stdout",
     "output_type": "stream",
     "text": [
      "Accuracy: 0.84597875569044\n",
      "Hinge Loss: 0.6107738998482549\n"
     ]
    }
   ],
   "source": [
    "accuracy = accuracy_score(y_val, y_pred)\n",
    "print(\"Accuracy:\", accuracy)\n",
    "hinge_loss = np.maximum(0, 1 - y_val * y_pred).mean()\n",
    "print(\"Hinge Loss:\", hinge_loss)\n"
   ]
  },
  {
   "cell_type": "code",
   "execution_count": 23,
   "id": "b16c4afe",
   "metadata": {},
   "outputs": [
    {
     "name": "stdout",
     "output_type": "stream",
     "text": [
      "ℹ Starting recorder to track training data on markov backend using multiple threads. Please wait!\n"
     ]
    },
    {
     "name": "stderr",
     "output_type": "stream",
     "text": [
      " [Elapsed Time: 0:00:00]  [|#                                   |] (  0.0 s/B) \n"
     ]
    },
    {
     "name": "stdout",
     "output_type": "stream",
     "text": [
      "⠋ Please wait while we send the remaining data to the markov backend...\r"
     ]
    },
    {
     "name": "stderr",
     "output_type": "stream",
     "text": [
      "\r",
      " [Elapsed Time: 0:00:08]  [|         #                          |] ( 12.2 B/s) "
     ]
    },
    {
     "name": "stdout",
     "output_type": "stream",
     "text": [
      "\r"
     ]
    },
    {
     "name": "stderr",
     "output_type": "stream",
     "text": [
      "\n"
     ]
    },
    {
     "name": "stdout",
     "output_type": "stream",
     "text": [
      "✔ Please wait while we send the remaining data to the markov backend... Recording has successfully completed.\n",
      "ℹ You can view the experiment at \u001b\\https://app.markovml.com/pioneer-wsp-27a2ukk2as/proj/vXmg4DkwjkU3JR/experiments/hp-EXoyacntX2k9NC2BDxzxqzN\u001b]8;;\u001b\\\n"
     ]
    }
   ],
   "source": [
    "with recorder1:\n",
    "    recorder1.add_record({\"accuracy\": accuracy})\n",
    "    recorder1.add_record({\"loss\": hinge_loss})\n",
    "    recorder1.summary.add_training_loss(value=\"{:.2f}\".format(training_loss))\n",
    "    recorder1.summary.add_training_accuracy(value=\"{:.2f}\".format(training_accuracy))\n",
    "    recorder1.summary.add_validation_loss(value=\"{:.2f}\".format(hinge_loss))\n",
    "    recorder1.summary.add_validation_accuracy(value=\"{:.2f}\".format(accuracy))\n",
    "    \n",
    "\n"
   ]
  },
  {
   "cell_type": "markdown",
   "id": "d52cb074",
   "metadata": {},
   "source": [
    "### Hyperparameter tuning for SVM classification on TF-IDF text data, varying C values, n-gram ranges, and max features."
   ]
  },
  {
   "cell_type": "code",
   "execution_count": 24,
   "id": "712a08ce",
   "metadata": {},
   "outputs": [
    {
     "name": "stdout",
     "output_type": "stream",
     "text": []
    }
   ],
   "source": [
    "import pandas as pd\n",
    "from sklearn.feature_extraction.text import TfidfVectorizer\n",
    "from sklearn.model_selection import train_test_split\n",
    "from sklearn.svm import SVC\n",
    "from sklearn.metrics import classification_report, confusion_matrix, accuracy_score, precision_score, recall_score, f1_score, roc_auc_score,roc_curve\n",
    "import matplotlib.pyplot as plt\n",
    "import numpy as np\n",
    "from sklearn.decomposition import PCA\n",
    "import seaborn as sns\n"
   ]
  },
  {
   "cell_type": "code",
   "execution_count": 25,
   "id": "a5fe5f68",
   "metadata": {},
   "outputs": [
    {
     "name": "stdout",
     "output_type": "stream",
     "text": []
    }
   ],
   "source": [
    "data = pd.read_csv('../Data/Cleaned_Tweets_stopwords.csv')\n",
    "\n",
    "X = data['cleaned_text']\n",
    "y = data['label']\n",
    "\n",
    "X_train, X_val, y_train, y_val = train_test_split(X, y, test_size=0.2, random_state=42)\n"
   ]
  },
  {
   "cell_type": "code",
   "execution_count": 30,
   "id": "aa737670",
   "metadata": {},
   "outputs": [
    {
     "name": "stdout",
     "output_type": "stream",
     "text": [
      "⠋ Fetching project with id vXmg4DkwjkU3JR⠙ Fetching project with id vXmg4DkwjkU3JR⠹ Fetching project with id vXmg4DkwjkU3JR⠸ Fetching project with id vXmg4DkwjkU3JR⠼ Fetching project with id vXmg4DkwjkU3JR⠴ Fetching project with id vXmg4DkwjkU3JR"
     ]
    },
    {
     "name": "stderr",
     "output_type": "stream",
     "text": [
      "\r",
      " [Elapsed Time: 0:01:10]  [|                #                   |] (  1.4 B/s) "
     ]
    },
    {
     "name": "stdout",
     "output_type": "stream",
     "text": [
      "✔ Fetching project with id vXmg4DkwjkU3JR⠧ Fetching project with id vXmg4DkwjkU3JR⠇ Fetching project with id vXmg4DkwjkU3JR⠏ Fetching project with id vXmg4DkwjkU3JR⠋ Fetching project with id vXmg4DkwjkU3JR⠙ Fetching project with id vXmg4DkwjkU3JR⠹ Fetching project with id vXmg4DkwjkU3JR⠸ Fetching project with id vXmg4DkwjkU3JR⠼ Fetching project with id vXmg4DkwjkU3JR⠴ Fetching project with id vXmg4DkwjkU3JR⠦ Fetching project with id vXmg4DkwjkU3JR⠧ Fetching project with id vXmg4DkwjkU3JR⠇ Fetching project with id vXmg4DkwjkU3JR Successfully fetched project Team_2_Updated_Results\n",
      "ℹ Creating MarkovML project object Team_2_Updated_Results. Call project_object.register() to register with MarkovML backend.\n",
      "ℹ Creating MarkovML model object Model: SVM_Parameters-0.01-(1, 1)-5000. Call model_object.register() to register with MarkovML backend.\n",
      "⠋ Creating Model Model: SVM_Parameters-0.01-(1, 1)-5000⠙ Creating Model Model: SVM_Parameters-0.01-(1, 1)-5000⠹ Creating Model Model: SVM_Parameters-0.01-(1, 1)-5000⠸ Creating Model Model: SVM_Parameters-0.01-(1, 1)-5000⠼ Creating Model Model: SVM_Parameters-0.01-(1, 1)-5000⠴ Creating Model Model: SVM_Parameters-0.01-(1, 1)-5000⠦ Creating Model Model: SVM_Parameters-0.01-(1, 1)-5000⠧ Creating Model Model: SVM_Parameters-0.01-(1, 1)-5000⠇ Creating Model Model: SVM_Parameters-0.01-(1, 1)-5000⠏ Creating Model Model: SVM_Parameters-0.01-(1, 1)-5000"
     ]
    },
    {
     "name": "stderr",
     "output_type": "stream",
     "text": [
      "\r",
      " [Elapsed Time: 0:01:12]  [|   #                                |] (  1.4 B/s) "
     ]
    },
    {
     "name": "stdout",
     "output_type": "stream",
     "text": [
      "✔ Creating Model Model: SVM_Parameters-0.01-(1, 1)-5000⠙ Creating Model Model: SVM_Parameters-0.01-(1, 1)-5000⠹ Creating Model Model: SVM_Parameters-0.01-(1, 1)-5000⠸ Creating Model Model: SVM_Parameters-0.01-(1, 1)-5000⠼ Creating Model Model: SVM_Parameters-0.01-(1, 1)-5000⠴ Creating Model Model: SVM_Parameters-0.01-(1, 1)-5000⠦ Creating Model Model: SVM_Parameters-0.01-(1, 1)-5000⠧ Creating Model Model: SVM_Parameters-0.01-(1, 1)-5000 Model creation for model Model: SVM_Parameters-0.01-(1, 1)-5000 successful!\n",
      "ℹ Creating ExperimentRecorder object SVM_Parameters-0.01-(1, 1)-5000. Call recorder_object.register() to register with MarkovML backend.\n",
      "⠋ Registering ExperimentRecorder with Markov Backend.⠙ Registering ExperimentRecorder with Markov Backend.⠹ Registering ExperimentRecorder with Markov Backend.⠸ Registering ExperimentRecorder with Markov Backend.⠼ Registering ExperimentRecorder with Markov Backend.⠴ Registering ExperimentRecorder with Markov Backend.⠦ Registering ExperimentRecorder with Markov Backend.⠧ Registering ExperimentRecorder with Markov Backend.⠇ Registering ExperimentRecorder with Markov Backend.⠏ Registering ExperimentRecorder with Markov Backend.⠋ Registering ExperimentRecorder with Markov Backend.⠙ Registering ExperimentRecorder with Markov Backend.⠹ Registering ExperimentRecorder with Markov Backend.⠸ Registering ExperimentRecorder with Markov Backend."
     ]
    },
    {
     "name": "stderr",
     "output_type": "stream",
     "text": [
      "\r",
      " [Elapsed Time: 0:01:14]  [|                       #            |] (  1.3 B/s) "
     ]
    },
    {
     "name": "stdout",
     "output_type": "stream",
     "text": [
      "⠼ Registering ExperimentRecorder with Markov Backend.⠴ Registering ExperimentRecorder with Markov Backend.⠦ Registering ExperimentRecorder with Markov Backend.⠧ Registering ExperimentRecorder with Markov Backend.⠇ Registering ExperimentRecorder with Markov Backend.⠏ Registering ExperimentRecorder with Markov Backend.⠋ Registering ExperimentRecorder with Markov Backend.⠙ Registering ExperimentRecorder with Markov Backend.⠹ Registering ExperimentRecorder with Markov Backend.⠸ Registering ExperimentRecorder with Markov Backend.⠼ Registering ExperimentRecorder with Markov Backend.⠴ Registering ExperimentRecorder with Markov Backend.⠦ Registering ExperimentRecorder with Markov Backend.⠧ Registering ExperimentRecorder with Markov Backend.⠇ Registering ExperimentRecorder with Markov Backend.⠏ Registering ExperimentRecorder with Markov Backend.⠋ Registering ExperimentRecorder with Markov Backend.⠙ Registering ExperimentRecorder with Markov Backend.⠹ Registering ExperimentRecorder with Markov Backend.⠸ Registering ExperimentRecorder with Markov Backend.⠼ Registering ExperimentRecorder with Markov Backend.⠴ Registering ExperimentRecorder with Markov Backend.⠦ Registering ExperimentRecorder with Markov Backend."
     ]
    },
    {
     "name": "stderr",
     "output_type": "stream",
     "text": [
      "\r",
      " [Elapsed Time: 0:01:16]  [|                            #       |] (  1.3 B/s) "
     ]
    },
    {
     "name": "stdout",
     "output_type": "stream",
     "text": [
      "✔ ExperimentRecorder successfully registered.\n",
      "ℹ You can view the experiment at \u001b\\https://app.markovml.com/pioneer-wsp-27a2ukk2as/proj/vXmg4DkwjkU3JR/experiments/hp-7vFkPATbgs3sfwrd5562z5w\u001b]8;;\u001b\\\n"
     ]
    },
    {
     "name": "stderr",
     "output_type": "stream",
     "text": [
      " [Elapsed Time: 0:01:22]  [|                               #    |] (  1.2 B/s) "
     ]
    },
    {
     "name": "stdout",
     "output_type": "stream",
     "text": [
      "Accuracy: 0.506614617219692\n",
      "Hinge Loss: 0.9945781826068099\n",
      "Accuracy: 0.5204855842185129\n",
      "Hinge Loss: 0.992412746585736\n",
      "ℹ Starting recorder to track training data on markov backend using multiple threads. Please wait!\n"
     ]
    },
    {
     "name": "stderr",
     "output_type": "stream",
     "text": [
      " [Elapsed Time: 0:00:00]  [|#                                   |] (  0.0 s/B) \n"
     ]
    },
    {
     "name": "stdout",
     "output_type": "stream",
     "text": [
      "⠋ Please wait while we send the remaining data to the markov backend...\r"
     ]
    },
    {
     "name": "stderr",
     "output_type": "stream",
     "text": [
      " [Elapsed Time: 0:00:06]  [|          #                         |] ( 16.3 B/s) \n"
     ]
    },
    {
     "name": "stdout",
     "output_type": "stream",
     "text": [
      "✔ Please wait while we send the remaining data to the markov backend... Recording has successfully completed.\n"
     ]
    },
    {
     "name": "stderr",
     "output_type": "stream",
     "text": [
      "\r",
      " [Elapsed Time: 0:01:32]  [|          #                         |] (  1.1 B/s) "
     ]
    },
    {
     "name": "stdout",
     "output_type": "stream",
     "text": [
      "ℹ You can view the experiment at \u001b\\https://app.markovml.com/pioneer-wsp-27a2ukk2as/proj/vXmg4DkwjkU3JR/experiments/hp-7vFkPATbgs3sfwrd5562z5w\u001b]8;;\u001b\\\n",
      "C: 0.01, ngram_range: (1, 1), max_features: 5000\n",
      "ROC AUC Score: 0.5077881619937694\n",
      "\n",
      "✔ Fetching project with id vXmg4DkwjkU3JR⠙ Fetching project with id vXmg4DkwjkU3JR⠹ Fetching project with id vXmg4DkwjkU3JR⠸ Fetching project with id vXmg4DkwjkU3JR⠼ Fetching project with id vXmg4DkwjkU3JR⠴ Fetching project with id vXmg4DkwjkU3JR⠦ Fetching project with id vXmg4DkwjkU3JR⠧ Fetching project with id vXmg4DkwjkU3JR⠇ Fetching project with id vXmg4DkwjkU3JR⠏ Fetching project with id vXmg4DkwjkU3JR⠋ Fetching project with id vXmg4DkwjkU3JR⠙ Fetching project with id vXmg4DkwjkU3JR⠹ Fetching project with id vXmg4DkwjkU3JR⠸ Fetching project with id vXmg4DkwjkU3JR⠼ Fetching project with id vXmg4DkwjkU3JR Successfully fetched project Team_2_Updated_Results\n",
      "ℹ Creating MarkovML project object Team_2_Updated_Results. Call project_object.register() to register with MarkovML backend.\n",
      "ℹ Creating MarkovML model object Model: SVM_Parameters-0.01-(1, 1)-10000. Call model_object.register() to register with MarkovML backend.\n",
      "⠋ Creating Model Model: SVM_Parameters-0.01-(1, 1)-10000⠙ Creating Model Model: SVM_Parameters-0.01-(1, 1)-10000⠹ Creating Model Model: SVM_Parameters-0.01-(1, 1)-10000⠸ Creating Model Model: SVM_Parameters-0.01-(1, 1)-10000⠼ Creating Model Model: SVM_Parameters-0.01-(1, 1)-10000⠴ Creating Model Model: SVM_Parameters-0.01-(1, 1)-10000⠦ Creating Model Model: SVM_Parameters-0.01-(1, 1)-10000⠧ Creating Model Model: SVM_Parameters-0.01-(1, 1)-10000"
     ]
    },
    {
     "name": "stderr",
     "output_type": "stream",
     "text": [
      "\r",
      " [Elapsed Time: 0:01:34]  [|         #                          |] (  1.1 B/s) "
     ]
    },
    {
     "name": "stdout",
     "output_type": "stream",
     "text": [
      "✔ Creating Model Model: SVM_Parameters-0.01-(1, 1)-10000⠏ Creating Model Model: SVM_Parameters-0.01-(1, 1)-10000⠋ Creating Model Model: SVM_Parameters-0.01-(1, 1)-10000⠙ Creating Model Model: SVM_Parameters-0.01-(1, 1)-10000⠹ Creating Model Model: SVM_Parameters-0.01-(1, 1)-10000⠸ Creating Model Model: SVM_Parameters-0.01-(1, 1)-10000⠼ Creating Model Model: SVM_Parameters-0.01-(1, 1)-10000⠴ Creating Model Model: SVM_Parameters-0.01-(1, 1)-10000⠦ Creating Model Model: SVM_Parameters-0.01-(1, 1)-10000⠧ Creating Model Model: SVM_Parameters-0.01-(1, 1)-10000 Model creation for model Model: SVM_Parameters-0.01-(1, 1)-10000 successful!\n",
      "ℹ Creating ExperimentRecorder object SVM_Parameters-0.01-(1, 1)-10000. Call recorder_object.register() to register with MarkovML backend.\n",
      "⠋ Registering ExperimentRecorder with Markov Backend.⠙ Registering ExperimentRecorder with Markov Backend.⠹ Registering ExperimentRecorder with Markov Backend.⠸ Registering ExperimentRecorder with Markov Backend.⠼ Registering ExperimentRecorder with Markov Backend.⠴ Registering ExperimentRecorder with Markov Backend.⠦ Registering ExperimentRecorder with Markov Backend.⠧ Registering ExperimentRecorder with Markov Backend.⠇ Registering ExperimentRecorder with Markov Backend.⠏ Registering ExperimentRecorder with Markov Backend.⠋ Registering ExperimentRecorder with Markov Backend.⠙ Registering ExperimentRecorder with Markov Backend."
     ]
    },
    {
     "name": "stderr",
     "output_type": "stream",
     "text": [
      "\r",
      " [Elapsed Time: 0:01:36]  [|                             #      |] (  1.0 B/s) "
     ]
    },
    {
     "name": "stdout",
     "output_type": "stream",
     "text": [
      "⠹ Registering ExperimentRecorder with Markov Backend.⠸ Registering ExperimentRecorder with Markov Backend.⠼ Registering ExperimentRecorder with Markov Backend.⠴ Registering ExperimentRecorder with Markov Backend.⠦ Registering ExperimentRecorder with Markov Backend.⠧ Registering ExperimentRecorder with Markov Backend.⠇ Registering ExperimentRecorder with Markov Backend.⠏ Registering ExperimentRecorder with Markov Backend.⠋ Registering ExperimentRecorder with Markov Backend.⠙ Registering ExperimentRecorder with Markov Backend.⠹ Registering ExperimentRecorder with Markov Backend.⠸ Registering ExperimentRecorder with Markov Backend.⠼ Registering ExperimentRecorder with Markov Backend.⠴ Registering ExperimentRecorder with Markov Backend.⠦ Registering ExperimentRecorder with Markov Backend.⠧ Registering ExperimentRecorder with Markov Backend.⠇ Registering ExperimentRecorder with Markov Backend.⠏ Registering ExperimentRecorder with Markov Backend.⠋ Registering ExperimentRecorder with Markov Backend.⠙ Registering ExperimentRecorder with Markov Backend.⠹ Registering ExperimentRecorder with Markov Backend.⠸ Registering ExperimentRecorder with Markov Backend.⠼ Registering ExperimentRecorder with Markov Backend."
     ]
    },
    {
     "name": "stderr",
     "output_type": "stream",
     "text": [
      "\r",
      " [Elapsed Time: 0:01:38]  [|                      #             |] (  1.0 B/s) "
     ]
    },
    {
     "name": "stdout",
     "output_type": "stream",
     "text": [
      "✔ Registering ExperimentRecorder with Markov Backend.⠦ Registering ExperimentRecorder with Markov Backend. ExperimentRecorder successfully registered.\n",
      "ℹ You can view the experiment at \u001b\\https://app.markovml.com/pioneer-wsp-27a2ukk2as/proj/vXmg4DkwjkU3JR/experiments/hp-AyUez6ngQYctMfZjaBTf6HQ\u001b]8;;\u001b\\\n"
     ]
    },
    {
     "name": "stderr",
     "output_type": "stream",
     "text": [
      " [Elapsed Time: 0:01:42]  [|                 #                  |] (  1.0 B/s) "
     ]
    },
    {
     "name": "stdout",
     "output_type": "stream",
     "text": [
      "Accuracy: 0.5027109086965951\n",
      "Hinge Loss: 0.9984818911299067\n"
     ]
    },
    {
     "name": "stderr",
     "output_type": "stream",
     "text": [
      "\r",
      " [Elapsed Time: 0:01:44]  [|                                  # |] (  1.0 B/s) "
     ]
    },
    {
     "name": "stdout",
     "output_type": "stream",
     "text": [
      "Accuracy: 0.5166919575113809\n",
      "Hinge Loss: 0.996206373292868\n",
      "ℹ Starting recorder to track training data on markov backend using multiple threads. Please wait!\n"
     ]
    },
    {
     "name": "stderr",
     "output_type": "stream",
     "text": [
      " [Elapsed Time: 0:00:00]  [|#                                   |] (  0.0 s/B) \n",
      " [Elapsed Time: 0:01:52]  [|                         #          |] (  0.9 B/s) "
     ]
    },
    {
     "name": "stdout",
     "output_type": "stream",
     "text": [
      "⠋ Please wait while we send the remaining data to the markov backend...\r"
     ]
    },
    {
     "name": "stderr",
     "output_type": "stream",
     "text": [
      "\r",
      " [Elapsed Time: 0:00:06]  [|          #                         |] ( 16.3 B/s) "
     ]
    },
    {
     "name": "stdout",
     "output_type": "stream",
     "text": [
      "\r"
     ]
    },
    {
     "name": "stderr",
     "output_type": "stream",
     "text": [
      "\n"
     ]
    },
    {
     "name": "stdout",
     "output_type": "stream",
     "text": [
      "✔ Please wait while we send the remaining data to the markov backend... Recording has successfully completed.\n",
      "ℹ You can view the experiment at \u001b\\https://app.markovml.com/pioneer-wsp-27a2ukk2as/proj/vXmg4DkwjkU3JR/experiments/hp-AyUez6ngQYctMfZjaBTf6HQ\u001b]8;;\u001b\\\n",
      "C: 0.01, ngram_range: (1, 1), max_features: 10000\n",
      "ROC AUC Score: 0.5038940809968847\n",
      "\n",
      "⠋ Fetching project with id vXmg4DkwjkU3JR⠙ Fetching project with id vXmg4DkwjkU3JR"
     ]
    },
    {
     "name": "stderr",
     "output_type": "stream",
     "text": [
      "\r",
      " [Elapsed Time: 0:01:54]  [|     #                              |] (  0.9 B/s) "
     ]
    },
    {
     "name": "stdout",
     "output_type": "stream",
     "text": [
      "✔ Fetching project with id vXmg4DkwjkU3JR⠸ Fetching project with id vXmg4DkwjkU3JR⠼ Fetching project with id vXmg4DkwjkU3JR⠴ Fetching project with id vXmg4DkwjkU3JR⠦ Fetching project with id vXmg4DkwjkU3JR⠧ Fetching project with id vXmg4DkwjkU3JR⠇ Fetching project with id vXmg4DkwjkU3JR⠏ Fetching project with id vXmg4DkwjkU3JR⠋ Fetching project with id vXmg4DkwjkU3JR⠙ Fetching project with id vXmg4DkwjkU3JR⠹ Fetching project with id vXmg4DkwjkU3JR⠸ Fetching project with id vXmg4DkwjkU3JR Successfully fetched project Team_2_Updated_Results\n",
      "ℹ Creating MarkovML project object Team_2_Updated_Results. Call project_object.register() to register with MarkovML backend.\n",
      "ℹ Creating MarkovML model object Model: SVM_Parameters-0.01-(1, 1)-15000. Call model_object.register() to register with MarkovML backend.\n",
      "⠋ Creating Model Model: SVM_Parameters-0.01-(1, 1)-15000⠙ Creating Model Model: SVM_Parameters-0.01-(1, 1)-15000⠹ Creating Model Model: SVM_Parameters-0.01-(1, 1)-15000⠸ Creating Model Model: SVM_Parameters-0.01-(1, 1)-15000⠼ Creating Model Model: SVM_Parameters-0.01-(1, 1)-15000⠴ Creating Model Model: SVM_Parameters-0.01-(1, 1)-15000⠦ Creating Model Model: SVM_Parameters-0.01-(1, 1)-15000⠧ Creating Model Model: SVM_Parameters-0.01-(1, 1)-15000⠇ Creating Model Model: SVM_Parameters-0.01-(1, 1)-15000⠏ Creating Model Model: SVM_Parameters-0.01-(1, 1)-15000⠋ Creating Model Model: SVM_Parameters-0.01-(1, 1)-15000"
     ]
    },
    {
     "name": "stderr",
     "output_type": "stream",
     "text": [
      "\r",
      " [Elapsed Time: 0:01:56]  [|              #                     |] (  0.9 B/s) "
     ]
    },
    {
     "name": "stdout",
     "output_type": "stream",
     "text": [
      "✔ Creating Model Model: SVM_Parameters-0.01-(1, 1)-15000⠹ Creating Model Model: SVM_Parameters-0.01-(1, 1)-15000⠸ Creating Model Model: SVM_Parameters-0.01-(1, 1)-15000⠼ Creating Model Model: SVM_Parameters-0.01-(1, 1)-15000⠴ Creating Model Model: SVM_Parameters-0.01-(1, 1)-15000⠦ Creating Model Model: SVM_Parameters-0.01-(1, 1)-15000 Model creation for model Model: SVM_Parameters-0.01-(1, 1)-15000 successful!\n",
      "ℹ Creating ExperimentRecorder object SVM_Parameters-0.01-(1, 1)-15000. Call recorder_object.register() to register with MarkovML backend.\n",
      "⠋ Registering ExperimentRecorder with Markov Backend.⠙ Registering ExperimentRecorder with Markov Backend.⠹ Registering ExperimentRecorder with Markov Backend.⠸ Registering ExperimentRecorder with Markov Backend.⠼ Registering ExperimentRecorder with Markov Backend.⠴ Registering ExperimentRecorder with Markov Backend.⠦ Registering ExperimentRecorder with Markov Backend.⠧ Registering ExperimentRecorder with Markov Backend.⠇ Registering ExperimentRecorder with Markov Backend.⠏ Registering ExperimentRecorder with Markov Backend.⠋ Registering ExperimentRecorder with Markov Backend.⠙ Registering ExperimentRecorder with Markov Backend.⠹ Registering ExperimentRecorder with Markov Backend.⠸ Registering ExperimentRecorder with Markov Backend.⠼ Registering ExperimentRecorder with Markov Backend.⠴ Registering ExperimentRecorder with Markov Backend.⠦ Registering ExperimentRecorder with Markov Backend."
     ]
    },
    {
     "name": "stderr",
     "output_type": "stream",
     "text": [
      "\r",
      " [Elapsed Time: 0:01:58]  [|                                  # |] (  0.8 B/s) "
     ]
    },
    {
     "name": "stdout",
     "output_type": "stream",
     "text": [
      "✔ Registering ExperimentRecorder with Markov Backend.⠇ Registering ExperimentRecorder with Markov Backend.⠏ Registering ExperimentRecorder with Markov Backend.⠋ Registering ExperimentRecorder with Markov Backend.⠙ Registering ExperimentRecorder with Markov Backend.⠹ Registering ExperimentRecorder with Markov Backend.⠸ Registering ExperimentRecorder with Markov Backend.⠼ Registering ExperimentRecorder with Markov Backend.⠴ Registering ExperimentRecorder with Markov Backend.⠦ Registering ExperimentRecorder with Markov Backend.⠧ Registering ExperimentRecorder with Markov Backend.⠇ Registering ExperimentRecorder with Markov Backend.⠏ Registering ExperimentRecorder with Markov Backend.⠋ Registering ExperimentRecorder with Markov Backend.⠙ Registering ExperimentRecorder with Markov Backend.⠹ Registering ExperimentRecorder with Markov Backend.⠸ Registering ExperimentRecorder with Markov Backend. ExperimentRecorder successfully registered.\n",
      "ℹ You can view the experiment at \u001b\\https://app.markovml.com/pioneer-wsp-27a2ukk2as/proj/vXmg4DkwjkU3JR/experiments/hp-5rAmjL7YBTB4QJfQGZj9vjT\u001b]8;;\u001b\\\n"
     ]
    },
    {
     "name": "stderr",
     "output_type": "stream",
     "text": [
      " [Elapsed Time: 0:02:02]  [|  #                                 |] (  0.8 B/s) "
     ]
    },
    {
     "name": "stdout",
     "output_type": "stream",
     "text": [
      "Accuracy: 0.5014096725222295\n",
      "Hinge Loss: 0.9997831273042724\n"
     ]
    },
    {
     "name": "stderr",
     "output_type": "stream",
     "text": [
      "\r",
      " [Elapsed Time: 0:02:04]  [|                      #             |] (  0.8 B/s) "
     ]
    },
    {
     "name": "stdout",
     "output_type": "stream",
     "text": [
      "Accuracy: 0.5151745068285281\n",
      "Hinge Loss: 0.9977238239757208\n",
      "ℹ Starting recorder to track training data on markov backend using multiple threads. Please wait!\n"
     ]
    },
    {
     "name": "stderr",
     "output_type": "stream",
     "text": [
      " [Elapsed Time: 0:00:00]  [|#                                   |] (  0.0 s/B) \n",
      " [Elapsed Time: 0:02:12]  [|                                #   |] (  0.8 B/s) "
     ]
    },
    {
     "name": "stdout",
     "output_type": "stream",
     "text": [
      "⠋ Please wait while we send the remaining data to the markov backend...\r"
     ]
    },
    {
     "name": "stderr",
     "output_type": "stream",
     "text": [
      "\r",
      " [Elapsed Time: 0:00:06]  [|          #                         |] ( 16.3 B/s) "
     ]
    },
    {
     "name": "stdout",
     "output_type": "stream",
     "text": [
      "⠙"
     ]
    },
    {
     "name": "stderr",
     "output_type": "stream",
     "text": [
      "\n"
     ]
    },
    {
     "name": "stdout",
     "output_type": "stream",
     "text": [
      "✔Please wait while we send the remaining data to the markov backend... Recording has successfully completed.\n"
     ]
    },
    {
     "name": "stderr",
     "output_type": "stream",
     "text": [
      "\r",
      " [Elapsed Time: 0:02:14]  [|                  #                 |] (  0.7 B/s) "
     ]
    },
    {
     "name": "stdout",
     "output_type": "stream",
     "text": [
      "ℹ You can view the experiment at \u001b\\https://app.markovml.com/pioneer-wsp-27a2ukk2as/proj/vXmg4DkwjkU3JR/experiments/hp-5rAmjL7YBTB4QJfQGZj9vjT\u001b]8;;\u001b\\\n",
      "C: 0.01, ngram_range: (1, 1), max_features: 15000\n",
      "ROC AUC Score: 0.5023364485981309\n",
      "\n",
      "✔ Fetching project with id vXmg4DkwjkU3JR⠙ Fetching project with id vXmg4DkwjkU3JR⠹ Fetching project with id vXmg4DkwjkU3JR⠸ Fetching project with id vXmg4DkwjkU3JR⠼ Fetching project with id vXmg4DkwjkU3JR⠴ Fetching project with id vXmg4DkwjkU3JR⠦ Fetching project with id vXmg4DkwjkU3JR⠧ Fetching project with id vXmg4DkwjkU3JR⠇ Fetching project with id vXmg4DkwjkU3JR⠏ Fetching project with id vXmg4DkwjkU3JR⠋ Fetching project with id vXmg4DkwjkU3JR⠙ Fetching project with id vXmg4DkwjkU3JR⠹ Fetching project with id vXmg4DkwjkU3JR⠸ Fetching project with id vXmg4DkwjkU3JR⠼ Fetching project with id vXmg4DkwjkU3JR Successfully fetched project Team_2_Updated_Results\n",
      "ℹ Creating MarkovML project object Team_2_Updated_Results. Call project_object.register() to register with MarkovML backend.\n",
      "ℹ Creating MarkovML model object Model: SVM_Parameters-0.01-(1, 2)-5000. Call model_object.register() to register with MarkovML backend.\n",
      "⠋ Creating Model Model: SVM_Parameters-0.01-(1, 2)-5000⠙ Creating Model Model: SVM_Parameters-0.01-(1, 2)-5000⠹ Creating Model Model: SVM_Parameters-0.01-(1, 2)-5000⠸ Creating Model Model: SVM_Parameters-0.01-(1, 2)-5000"
     ]
    },
    {
     "name": "stderr",
     "output_type": "stream",
     "text": [
      "\r",
      " [Elapsed Time: 0:02:16]  [| #                                  |] (  0.7 B/s) "
     ]
    },
    {
     "name": "stdout",
     "output_type": "stream",
     "text": [
      "✔ Creating Model Model: SVM_Parameters-0.01-(1, 2)-5000 Creating Model Model: SVM_Parameters-0.01-(1, 2)-5000⠦ Creating Model Model: SVM_Parameters-0.01-(1, 2)-5000⠧ Creating Model Model: SVM_Parameters-0.01-(1, 2)-5000⠇ Creating Model Model: SVM_Parameters-0.01-(1, 2)-5000⠏ Creating Model Model: SVM_Parameters-0.01-(1, 2)-5000⠋ Creating Model Model: SVM_Parameters-0.01-(1, 2)-5000⠙ Creating Model Model: SVM_Parameters-0.01-(1, 2)-5000⠹ Creating Model Model: SVM_Parameters-0.01-(1, 2)-5000⠸ Creating Model Model: SVM_Parameters-0.01-(1, 2)-5000⠼ Creating Model Model: SVM_Parameters-0.01-(1, 2)-5000⠴ Creating Model Model: SVM_Parameters-0.01-(1, 2)-5000⠦ Creating Model Model: SVM_Parameters-0.01-(1, 2)-5000⠧ Creating Model Model: SVM_Parameters-0.01-(1, 2)-5000⠇ Creating Model Model: SVM_Parameters-0.01-(1, 2)-5000⠏ Creating Model Model: SVM_Parameters-0.01-(1, 2)-5000⠋ Creating Model Model: SVM_Parameters-0.01-(1, 2)-5000 Model creation for model Model: SVM_Parameters-0.01-(1, 2)-5000 successful!\n",
      "ℹ Creating ExperimentRecorder object SVM_Parameters-0.01-(1, 2)-5000. Call recorder_object.register() to register with MarkovML backend.\n",
      "⠋ Registering ExperimentRecorder with Markov Backend.⠙ Registering ExperimentRecorder with Markov Backend.⠹ Registering ExperimentRecorder with Markov Backend.⠸ Registering ExperimentRecorder with Markov Backend.⠼ Registering ExperimentRecorder with Markov Backend."
     ]
    },
    {
     "name": "stderr",
     "output_type": "stream",
     "text": [
      "\r",
      " [Elapsed Time: 0:02:18]  [|                     #              |] (  0.7 B/s) "
     ]
    },
    {
     "name": "stdout",
     "output_type": "stream",
     "text": [
      "⠴ Registering ExperimentRecorder with Markov Backend.⠦ Registering ExperimentRecorder with Markov Backend.⠧ Registering ExperimentRecorder with Markov Backend.⠇ Registering ExperimentRecorder with Markov Backend.⠏ Registering ExperimentRecorder with Markov Backend.⠋ Registering ExperimentRecorder with Markov Backend.⠙ Registering ExperimentRecorder with Markov Backend.⠹ Registering ExperimentRecorder with Markov Backend.⠸ Registering ExperimentRecorder with Markov Backend.⠼ Registering ExperimentRecorder with Markov Backend.⠴ Registering ExperimentRecorder with Markov Backend.⠦ Registering ExperimentRecorder with Markov Backend.⠧ Registering ExperimentRecorder with Markov Backend.⠇ Registering ExperimentRecorder with Markov Backend.⠏ Registering ExperimentRecorder with Markov Backend.⠋ Registering ExperimentRecorder with Markov Backend.⠙ Registering ExperimentRecorder with Markov Backend.⠹ Registering ExperimentRecorder with Markov Backend.⠸ Registering ExperimentRecorder with Markov Backend.⠼ Registering ExperimentRecorder with Markov Backend.⠴ Registering ExperimentRecorder with Markov Backend.⠦ Registering ExperimentRecorder with Markov Backend.⠧ Registering ExperimentRecorder with Markov Backend."
     ]
    },
    {
     "name": "stderr",
     "output_type": "stream",
     "text": [
      "\r",
      " [Elapsed Time: 0:02:20]  [|                              #     |] (  0.7 B/s) "
     ]
    },
    {
     "name": "stdout",
     "output_type": "stream",
     "text": [
      "✔ Registering ExperimentRecorder with Markov Backend.⠏ Registering ExperimentRecorder with Markov Backend.⠋ Registering ExperimentRecorder with Markov Backend.⠙ Registering ExperimentRecorder with Markov Backend.⠹ Registering ExperimentRecorder with Markov Backend.⠸ Registering ExperimentRecorder with Markov Backend. ExperimentRecorder successfully registered.\n",
      "ℹ You can view the experiment at \u001b\\https://app.markovml.com/pioneer-wsp-27a2ukk2as/proj/vXmg4DkwjkU3JR/experiments/hp-4kJHv7gURKTZMMWrp68xPV2\u001b]8;;\u001b\\\n"
     ]
    },
    {
     "name": "stderr",
     "output_type": "stream",
     "text": [
      " [Elapsed Time: 0:02:24]  [|         #                          |] (  0.7 B/s) "
     ]
    },
    {
     "name": "stdout",
     "output_type": "stream",
     "text": [
      "Accuracy: 0.5059639991325092\n",
      "Hinge Loss: 0.9952288006939927\n",
      "Accuracy: 0.5182094081942337\n",
      "Hinge Loss: 0.9946889226100152\n",
      "ℹ Starting recorder to track training data on markov backend using multiple threads. Please wait!\n"
     ]
    },
    {
     "name": "stderr",
     "output_type": "stream",
     "text": [
      " [Elapsed Time: 0:00:00]  [|#                                   |] (  0.0 s/B) \n"
     ]
    },
    {
     "name": "stdout",
     "output_type": "stream",
     "text": [
      "⠋ Please wait while we send the remaining data to the markov backend...\r"
     ]
    },
    {
     "name": "stderr",
     "output_type": "stream",
     "text": [
      "\r",
      " [Elapsed Time: 0:00:06]  [|          #                         |] ( 16.2 B/s) "
     ]
    },
    {
     "name": "stdout",
     "output_type": "stream",
     "text": [
      "⠙"
     ]
    },
    {
     "name": "stderr",
     "output_type": "stream",
     "text": [
      "\n"
     ]
    },
    {
     "name": "stdout",
     "output_type": "stream",
     "text": [
      "✔Please wait while we send the remaining data to the markov backend... Recording has successfully completed.\n"
     ]
    },
    {
     "name": "stderr",
     "output_type": "stream",
     "text": [
      "\r",
      " [Elapsed Time: 0:02:35]  [|                                 #  |] (  0.6 B/s) "
     ]
    },
    {
     "name": "stdout",
     "output_type": "stream",
     "text": [
      "ℹ You can view the experiment at \u001b\\https://app.markovml.com/pioneer-wsp-27a2ukk2as/proj/vXmg4DkwjkU3JR/experiments/hp-4kJHv7gURKTZMMWrp68xPV2\u001b]8;;\u001b\\\n",
      "C: 0.01, ngram_range: (1, 2), max_features: 5000\n",
      "ROC AUC Score: 0.5054517133956387\n",
      "\n",
      "⠋ Fetching project with id vXmg4DkwjkU3JR⠙ Fetching project with id vXmg4DkwjkU3JR⠹ Fetching project with id vXmg4DkwjkU3JR⠸ Fetching project with id vXmg4DkwjkU3JR⠼ Fetching project with id vXmg4DkwjkU3JR⠴ Fetching project with id vXmg4DkwjkU3JR⠦ Fetching project with id vXmg4DkwjkU3JR⠧ Fetching project with id vXmg4DkwjkU3JR⠇ Fetching project with id vXmg4DkwjkU3JR⠏ Fetching project with id vXmg4DkwjkU3JR⠋ Fetching project with id vXmg4DkwjkU3JR⠙ Fetching project with id vXmg4DkwjkU3JR⠹ Fetching project with id vXmg4DkwjkU3JR⠸ Fetching project with id vXmg4DkwjkU3JR⠼ Fetching project with id vXmg4DkwjkU3JR"
     ]
    },
    {
     "name": "stderr",
     "output_type": "stream",
     "text": [
      "\r",
      " [Elapsed Time: 0:02:37]  [|             #                      |] (  0.6 B/s) "
     ]
    },
    {
     "name": "stdout",
     "output_type": "stream",
     "text": [
      "✔ Fetching project with id vXmg4DkwjkU3JR⠦ Fetching project with id vXmg4DkwjkU3JR⠧ Fetching project with id vXmg4DkwjkU3JR⠇ Fetching project with id vXmg4DkwjkU3JR⠏ Fetching project with id vXmg4DkwjkU3JR⠋ Fetching project with id vXmg4DkwjkU3JR⠙ Fetching project with id vXmg4DkwjkU3JR⠹ Fetching project with id vXmg4DkwjkU3JR⠸ Fetching project with id vXmg4DkwjkU3JR⠼ Fetching project with id vXmg4DkwjkU3JR⠴ Fetching project with id vXmg4DkwjkU3JR⠦ Fetching project with id vXmg4DkwjkU3JR⠧ Fetching project with id vXmg4DkwjkU3JR⠇ Fetching project with id vXmg4DkwjkU3JR⠏ Fetching project with id vXmg4DkwjkU3JR⠋ Fetching project with id vXmg4DkwjkU3JR⠙ Fetching project with id vXmg4DkwjkU3JR⠹ Fetching project with id vXmg4DkwjkU3JR⠸ Fetching project with id vXmg4DkwjkU3JR Successfully fetched project Team_2_Updated_Results\n",
      "ℹ Creating MarkovML project object Team_2_Updated_Results. Call project_object.register() to register with MarkovML backend.\n",
      "ℹ Creating MarkovML model object Model: SVM_Parameters-0.01-(1, 2)-10000. Call model_object.register() to register with MarkovML backend.\n",
      "⠋ Creating Model Model: SVM_Parameters-0.01-(1, 2)-10000⠙ Creating Model Model: SVM_Parameters-0.01-(1, 2)-10000⠹ Creating Model Model: SVM_Parameters-0.01-(1, 2)-10000⠸ Creating Model Model: SVM_Parameters-0.01-(1, 2)-10000"
     ]
    },
    {
     "name": "stderr",
     "output_type": "stream",
     "text": [
      "\r",
      " [Elapsed Time: 0:02:39]  [|      #                             |] (  0.6 B/s) "
     ]
    },
    {
     "name": "stdout",
     "output_type": "stream",
     "text": [
      "✔ Creating Model Model: SVM_Parameters-0.01-(1, 2)-10000⠴ Creating Model Model: SVM_Parameters-0.01-(1, 2)-10000⠦ Creating Model Model: SVM_Parameters-0.01-(1, 2)-10000⠧ Creating Model Model: SVM_Parameters-0.01-(1, 2)-10000⠇ Creating Model Model: SVM_Parameters-0.01-(1, 2)-10000⠏ Creating Model Model: SVM_Parameters-0.01-(1, 2)-10000⠋ Creating Model Model: SVM_Parameters-0.01-(1, 2)-10000⠙ Creating Model Model: SVM_Parameters-0.01-(1, 2)-10000⠹ Creating Model Model: SVM_Parameters-0.01-(1, 2)-10000⠸ Creating Model Model: SVM_Parameters-0.01-(1, 2)-10000⠼ Creating Model Model: SVM_Parameters-0.01-(1, 2)-10000⠴ Creating Model Model: SVM_Parameters-0.01-(1, 2)-10000⠦ Creating Model Model: SVM_Parameters-0.01-(1, 2)-10000 Model creation for model Model: SVM_Parameters-0.01-(1, 2)-10000 successful!\n",
      "ℹ Creating ExperimentRecorder object SVM_Parameters-0.01-(1, 2)-10000. Call recorder_object.register() to register with MarkovML backend.\n",
      "⠋ Registering ExperimentRecorder with Markov Backend.⠙ Registering ExperimentRecorder with Markov Backend.⠹ Registering ExperimentRecorder with Markov Backend.⠸ Registering ExperimentRecorder with Markov Backend.⠼ Registering ExperimentRecorder with Markov Backend.⠴ Registering ExperimentRecorder with Markov Backend.⠦ Registering ExperimentRecorder with Markov Backend.⠧ Registering ExperimentRecorder with Markov Backend.⠇ Registering ExperimentRecorder with Markov Backend."
     ]
    },
    {
     "name": "stderr",
     "output_type": "stream",
     "text": [
      "\r",
      " [Elapsed Time: 0:02:41]  [|                          #         |] (  0.6 B/s) "
     ]
    },
    {
     "name": "stdout",
     "output_type": "stream",
     "text": [
      "⠏ Registering ExperimentRecorder with Markov Backend.⠋ Registering ExperimentRecorder with Markov Backend.⠙ Registering ExperimentRecorder with Markov Backend.⠹ Registering ExperimentRecorder with Markov Backend.⠸ Registering ExperimentRecorder with Markov Backend.⠼ Registering ExperimentRecorder with Markov Backend.⠴ Registering ExperimentRecorder with Markov Backend.⠦ Registering ExperimentRecorder with Markov Backend.⠧ Registering ExperimentRecorder with Markov Backend.⠇ Registering ExperimentRecorder with Markov Backend.⠏ Registering ExperimentRecorder with Markov Backend.⠋ Registering ExperimentRecorder with Markov Backend.⠙ Registering ExperimentRecorder with Markov Backend.⠹ Registering ExperimentRecorder with Markov Backend.⠸ Registering ExperimentRecorder with Markov Backend.⠼ Registering ExperimentRecorder with Markov Backend.⠴ Registering ExperimentRecorder with Markov Backend.⠦ Registering ExperimentRecorder with Markov Backend.⠧ Registering ExperimentRecorder with Markov Backend.⠇ Registering ExperimentRecorder with Markov Backend.⠏ Registering ExperimentRecorder with Markov Backend.⠋ Registering ExperimentRecorder with Markov Backend.⠙ Registering ExperimentRecorder with Markov Backend."
     ]
    },
    {
     "name": "stderr",
     "output_type": "stream",
     "text": [
      "\r",
      " [Elapsed Time: 0:02:43]  [|                         #          |] (  0.6 B/s) "
     ]
    },
    {
     "name": "stdout",
     "output_type": "stream",
     "text": [
      "✔ Registering ExperimentRecorder with Markov Backend.⠸ Registering ExperimentRecorder with Markov Backend.⠼ Registering ExperimentRecorder with Markov Backend.⠴ Registering ExperimentRecorder with Markov Backend.⠦ Registering ExperimentRecorder with Markov Backend. ExperimentRecorder successfully registered.\n",
      "ℹ You can view the experiment at \u001b\\https://app.markovml.com/pioneer-wsp-27a2ukk2as/proj/vXmg4DkwjkU3JR/experiments/hp-8DPRRdVyMtpLU2ecrg6YBzB\u001b]8;;\u001b\\\n"
     ]
    },
    {
     "name": "stderr",
     "output_type": "stream",
     "text": [
      " [Elapsed Time: 0:02:47]  [|              #                     |] (  0.6 B/s) "
     ]
    },
    {
     "name": "stdout",
     "output_type": "stream",
     "text": [
      "Accuracy: 0.5018434179136847\n",
      "Hinge Loss: 0.9993493819128172\n"
     ]
    },
    {
     "name": "stderr",
     "output_type": "stream",
     "text": [
      "\r",
      " [Elapsed Time: 0:02:49]  [|                                  # |] (  0.6 B/s) "
     ]
    },
    {
     "name": "stdout",
     "output_type": "stream",
     "text": [
      "Accuracy: 0.5166919575113809\n",
      "Hinge Loss: 0.996206373292868\n",
      "ℹ Starting recorder to track training data on markov backend using multiple threads. Please wait!\n"
     ]
    },
    {
     "name": "stderr",
     "output_type": "stream",
     "text": [
      " [Elapsed Time: 0:00:00]  [|#                                   |] (  0.0 s/B) \n",
      " [Elapsed Time: 0:02:57]  [|                             #      |] (  0.6 B/s) "
     ]
    },
    {
     "name": "stdout",
     "output_type": "stream",
     "text": [
      "⠋ Please wait while we send the remaining data to the markov backend..."
     ]
    },
    {
     "name": "stderr",
     "output_type": "stream",
     "text": [
      "\r",
      " [Elapsed Time: 0:00:06]  [|          #                         |] ( 16.3 B/s) "
     ]
    },
    {
     "name": "stdout",
     "output_type": "stream",
     "text": [
      "\r"
     ]
    },
    {
     "name": "stderr",
     "output_type": "stream",
     "text": [
      "\n"
     ]
    },
    {
     "name": "stdout",
     "output_type": "stream",
     "text": [
      "✔ Please wait while we send the remaining data to the markov backend... Recording has successfully completed.\n"
     ]
    },
    {
     "name": "stderr",
     "output_type": "stream",
     "text": [
      "\r",
      " [Elapsed Time: 0:02:59]  [|         #                          |] (  0.6 B/s) "
     ]
    },
    {
     "name": "stdout",
     "output_type": "stream",
     "text": [
      "ℹ You can view the experiment at \u001b\\https://app.markovml.com/pioneer-wsp-27a2ukk2as/proj/vXmg4DkwjkU3JR/experiments/hp-8DPRRdVyMtpLU2ecrg6YBzB\u001b]8;;\u001b\\\n",
      "C: 0.01, ngram_range: (1, 2), max_features: 10000\n",
      "ROC AUC Score: 0.5038940809968847\n",
      "\n",
      "⠋ Fetching project with id vXmg4DkwjkU3JR⠙ Fetching project with id vXmg4DkwjkU3JR⠹ Fetching project with id vXmg4DkwjkU3JR⠸ Fetching project with id vXmg4DkwjkU3JR⠼ Fetching project with id vXmg4DkwjkU3JR⠴ Fetching project with id vXmg4DkwjkU3JR⠦ Fetching project with id vXmg4DkwjkU3JR⠧ Fetching project with id vXmg4DkwjkU3JR⠇ Fetching project with id vXmg4DkwjkU3JR⠏ Fetching project with id vXmg4DkwjkU3JR⠋ Fetching project with id vXmg4DkwjkU3JR⠙ Fetching project with id vXmg4DkwjkU3JR⠹ Fetching project with id vXmg4DkwjkU3JR"
     ]
    },
    {
     "name": "stderr",
     "output_type": "stream",
     "text": [
      "\r",
      " [Elapsed Time: 0:03:01]  [|          #                         |] (  0.6 B/s) "
     ]
    },
    {
     "name": "stdout",
     "output_type": "stream",
     "text": [
      "✔ Fetching project with id vXmg4DkwjkU3JR⠼ Fetching project with id vXmg4DkwjkU3JR Successfully fetched project Team_2_Updated_Results\n",
      "ℹ Creating MarkovML project object Team_2_Updated_Results. Call project_object.register() to register with MarkovML backend.\n",
      "ℹ Creating MarkovML model object Model: SVM_Parameters-0.01-(1, 2)-15000. Call model_object.register() to register with MarkovML backend.\n",
      "✔ Creating Model Model: SVM_Parameters-0.01-(1, 2)-15000⠙ Creating Model Model: SVM_Parameters-0.01-(1, 2)-15000⠹ Creating Model Model: SVM_Parameters-0.01-(1, 2)-15000⠸ Creating Model Model: SVM_Parameters-0.01-(1, 2)-15000⠼ Creating Model Model: SVM_Parameters-0.01-(1, 2)-15000⠴ Creating Model Model: SVM_Parameters-0.01-(1, 2)-15000⠦ Creating Model Model: SVM_Parameters-0.01-(1, 2)-15000⠧ Creating Model Model: SVM_Parameters-0.01-(1, 2)-15000⠇ Creating Model Model: SVM_Parameters-0.01-(1, 2)-15000⠏ Creating Model Model: SVM_Parameters-0.01-(1, 2)-15000⠋ Creating Model Model: SVM_Parameters-0.01-(1, 2)-15000⠙ Creating Model Model: SVM_Parameters-0.01-(1, 2)-15000⠹ Creating Model Model: SVM_Parameters-0.01-(1, 2)-15000⠸ Creating Model Model: SVM_Parameters-0.01-(1, 2)-15000⠼ Creating Model Model: SVM_Parameters-0.01-(1, 2)-15000⠴ Creating Model Model: SVM_Parameters-0.01-(1, 2)-15000⠦ Creating Model Model: SVM_Parameters-0.01-(1, 2)-15000 Model creation for model Model: SVM_Parameters-0.01-(1, 2)-15000 successful!\n",
      "ℹ Creating ExperimentRecorder object SVM_Parameters-0.01-(1, 2)-15000. Call recorder_object.register() to register with MarkovML backend.\n",
      "⠋ Registering ExperimentRecorder with Markov Backend.⠙ Registering ExperimentRecorder with Markov Backend.⠹ Registering ExperimentRecorder with Markov Backend.⠸ Registering ExperimentRecorder with Markov Backend."
     ]
    },
    {
     "name": "stderr",
     "output_type": "stream",
     "text": [
      "\r",
      " [Elapsed Time: 0:03:03]  [|                              #     |] (  0.5 B/s) "
     ]
    },
    {
     "name": "stdout",
     "output_type": "stream",
     "text": [
      "⠼ Registering ExperimentRecorder with Markov Backend.⠴ Registering ExperimentRecorder with Markov Backend.⠦ Registering ExperimentRecorder with Markov Backend.⠧ Registering ExperimentRecorder with Markov Backend.⠇ Registering ExperimentRecorder with Markov Backend.⠏ Registering ExperimentRecorder with Markov Backend.⠋ Registering ExperimentRecorder with Markov Backend.⠙ Registering ExperimentRecorder with Markov Backend.⠹ Registering ExperimentRecorder with Markov Backend.⠸ Registering ExperimentRecorder with Markov Backend.⠼ Registering ExperimentRecorder with Markov Backend.⠴ Registering ExperimentRecorder with Markov Backend.⠦ Registering ExperimentRecorder with Markov Backend.⠧ Registering ExperimentRecorder with Markov Backend.⠇ Registering ExperimentRecorder with Markov Backend.⠏ Registering ExperimentRecorder with Markov Backend.⠋ Registering ExperimentRecorder with Markov Backend.⠙ Registering ExperimentRecorder with Markov Backend.⠹ Registering ExperimentRecorder with Markov Backend.⠸ Registering ExperimentRecorder with Markov Backend.⠼ Registering ExperimentRecorder with Markov Backend.⠴ Registering ExperimentRecorder with Markov Backend.⠦ Registering ExperimentRecorder with Markov Backend."
     ]
    },
    {
     "name": "stderr",
     "output_type": "stream",
     "text": [
      "\r",
      " [Elapsed Time: 0:03:05]  [|                     #              |] (  0.5 B/s) "
     ]
    },
    {
     "name": "stdout",
     "output_type": "stream",
     "text": [
      "✔ Registering ExperimentRecorder with Markov Backend.⠇ Registering ExperimentRecorder with Markov Backend.⠏ Registering ExperimentRecorder with Markov Backend.⠋ Registering ExperimentRecorder with Markov Backend.⠙ Registering ExperimentRecorder with Markov Backend.⠹ Registering ExperimentRecorder with Markov Backend.⠸ Registering ExperimentRecorder with Markov Backend.⠼ Registering ExperimentRecorder with Markov Backend.⠴ Registering ExperimentRecorder with Markov Backend.⠦ Registering ExperimentRecorder with Markov Backend.⠧ Registering ExperimentRecorder with Markov Backend. ExperimentRecorder successfully registered.\n",
      "ℹ You can view the experiment at \u001b\\https://app.markovml.com/pioneer-wsp-27a2ukk2as/proj/vXmg4DkwjkU3JR/experiments/hp-7C43Ltyc6FnZvz8ex5Ad66V\u001b]8;;\u001b\\\n"
     ]
    },
    {
     "name": "stderr",
     "output_type": "stream",
     "text": [
      " [Elapsed Time: 0:03:09]  [|                  #                 |] (  0.5 B/s) "
     ]
    },
    {
     "name": "stdout",
     "output_type": "stream",
     "text": [
      "Accuracy: 0.501626545217957\n",
      "Hinge Loss: 0.9995662546085448\n"
     ]
    },
    {
     "name": "stderr",
     "output_type": "stream",
     "text": [
      "\r",
      " [Elapsed Time: 0:03:11]  [|                                 #  |] (  0.5 B/s) "
     ]
    },
    {
     "name": "stdout",
     "output_type": "stream",
     "text": [
      "Accuracy: 0.5151745068285281\n",
      "Hinge Loss: 0.9977238239757208\n",
      "ℹ Starting recorder to track training data on markov backend using multiple threads. Please wait!\n"
     ]
    },
    {
     "name": "stderr",
     "output_type": "stream",
     "text": [
      " [Elapsed Time: 0:00:00]  [|#                                   |] (  0.0 s/B) \n",
      " [Elapsed Time: 0:03:19]  [|                        #           |] (  0.5 B/s) "
     ]
    },
    {
     "name": "stdout",
     "output_type": "stream",
     "text": [
      "⠋ Please wait while we send the remaining data to the markov backend..."
     ]
    },
    {
     "name": "stderr",
     "output_type": "stream",
     "text": [
      "\r",
      " [Elapsed Time: 0:00:06]  [|          #                         |] ( 16.2 B/s) "
     ]
    },
    {
     "name": "stdout",
     "output_type": "stream",
     "text": [
      "⠙"
     ]
    },
    {
     "name": "stderr",
     "output_type": "stream",
     "text": [
      "\n"
     ]
    },
    {
     "name": "stdout",
     "output_type": "stream",
     "text": [
      "✔Please wait while we send the remaining data to the markov backend... Recording has successfully completed.\n",
      "ℹ You can view the experiment at \u001b\\https://app.markovml.com/pioneer-wsp-27a2ukk2as/proj/vXmg4DkwjkU3JR/experiments/hp-7C43Ltyc6FnZvz8ex5Ad66V\u001b]8;;\u001b\\\n",
      "C: 0.01, ngram_range: (1, 2), max_features: 15000\n",
      "ROC AUC Score: 0.5023364485981309\n",
      "\n"
     ]
    },
    {
     "name": "stderr",
     "output_type": "stream",
     "text": [
      "\r",
      " [Elapsed Time: 0:03:21]  [|    #                               |] (  0.5 B/s) "
     ]
    },
    {
     "name": "stdout",
     "output_type": "stream",
     "text": [
      "⠋ Fetching project with id vXmg4DkwjkU3JR⠙ Fetching project with id vXmg4DkwjkU3JR⠹ Fetching project with id vXmg4DkwjkU3JR⠸ Fetching project with id vXmg4DkwjkU3JR⠼ Fetching project with id vXmg4DkwjkU3JR⠴ Fetching project with id vXmg4DkwjkU3JR⠦ Fetching project with id vXmg4DkwjkU3JR⠧ Fetching project with id vXmg4DkwjkU3JR⠇ Fetching project with id vXmg4DkwjkU3JR⠏ Fetching project with id vXmg4DkwjkU3JR⠋ Fetching project with id vXmg4DkwjkU3JR⠙ Fetching project with id vXmg4DkwjkU3JR⠹ Fetching project with id vXmg4DkwjkU3JR⠸ Fetching project with id vXmg4DkwjkU3JR⠼ Fetching project with id vXmg4DkwjkU3JR⠴ Fetching project with id vXmg4DkwjkU3JR⠦ Fetching project with id vXmg4DkwjkU3JR⠧ Fetching project with id vXmg4DkwjkU3JR⠇ Fetching project with id vXmg4DkwjkU3JR"
     ]
    },
    {
     "name": "stderr",
     "output_type": "stream",
     "text": [
      "\r",
      " [Elapsed Time: 0:03:23]  [|                #                   |] (  0.5 B/s) "
     ]
    },
    {
     "name": "stdout",
     "output_type": "stream",
     "text": [
      "✔ Fetching project with id vXmg4DkwjkU3JR⠋ Fetching project with id vXmg4DkwjkU3JR⠙ Fetching project with id vXmg4DkwjkU3JR⠹ Fetching project with id vXmg4DkwjkU3JR⠸ Fetching project with id vXmg4DkwjkU3JR Successfully fetched project Team_2_Updated_Results\n",
      "ℹ Creating MarkovML project object Team_2_Updated_Results. Call project_object.register() to register with MarkovML backend.\n",
      "ℹ Creating MarkovML model object Model: SVM_Parameters-0.01-(1, 3)-5000. Call model_object.register() to register with MarkovML backend.\n",
      "⠋ Creating Model Model: SVM_Parameters-0.01-(1, 3)-5000⠙ Creating Model Model: SVM_Parameters-0.01-(1, 3)-5000⠹ Creating Model Model: SVM_Parameters-0.01-(1, 3)-5000⠸ Creating Model Model: SVM_Parameters-0.01-(1, 3)-5000⠼ Creating Model Model: SVM_Parameters-0.01-(1, 3)-5000⠴ Creating Model Model: SVM_Parameters-0.01-(1, 3)-5000⠦ Creating Model Model: SVM_Parameters-0.01-(1, 3)-5000⠧ Creating Model Model: SVM_Parameters-0.01-(1, 3)-5000⠇ Creating Model Model: SVM_Parameters-0.01-(1, 3)-5000⠏ Creating Model Model: SVM_Parameters-0.01-(1, 3)-5000⠋ Creating Model Model: SVM_Parameters-0.01-(1, 3)-5000⠙ Creating Model Model: SVM_Parameters-0.01-(1, 3)-5000⠹ Creating Model Model: SVM_Parameters-0.01-(1, 3)-5000⠸ Creating Model Model: SVM_Parameters-0.01-(1, 3)-5000⠼ Creating Model Model: SVM_Parameters-0.01-(1, 3)-5000⠴ Creating Model Model: SVM_Parameters-0.01-(1, 3)-5000⠦ Creating Model Model: SVM_Parameters-0.01-(1, 3)-5000⠧ Creating Model Model: SVM_Parameters-0.01-(1, 3)-5000"
     ]
    },
    {
     "name": "stderr",
     "output_type": "stream",
     "text": [
      "\r",
      " [Elapsed Time: 0:03:25]  [|                                   #|] (  0.5 B/s) "
     ]
    },
    {
     "name": "stdout",
     "output_type": "stream",
     "text": [
      "✔ Creating Model Model: SVM_Parameters-0.01-(1, 3)-5000⠏ Creating Model Model: SVM_Parameters-0.01-(1, 3)-5000 Model creation for model Model: SVM_Parameters-0.01-(1, 3)-5000 successful!\n",
      "ℹ Creating ExperimentRecorder object SVM_Parameters-0.01-(1, 3)-5000. Call recorder_object.register() to register with MarkovML backend.\n",
      "⠋ Registering ExperimentRecorder with Markov Backend.⠙ Registering ExperimentRecorder with Markov Backend.⠹ Registering ExperimentRecorder with Markov Backend.⠸ Registering ExperimentRecorder with Markov Backend.⠼ Registering ExperimentRecorder with Markov Backend.⠴ Registering ExperimentRecorder with Markov Backend.⠦ Registering ExperimentRecorder with Markov Backend.⠧ Registering ExperimentRecorder with Markov Backend.⠇ Registering ExperimentRecorder with Markov Backend.⠏ Registering ExperimentRecorder with Markov Backend.⠋ Registering ExperimentRecorder with Markov Backend.⠙ Registering ExperimentRecorder with Markov Backend.⠹ Registering ExperimentRecorder with Markov Backend.⠸ Registering ExperimentRecorder with Markov Backend.⠼ Registering ExperimentRecorder with Markov Backend.⠴ Registering ExperimentRecorder with Markov Backend.⠦ Registering ExperimentRecorder with Markov Backend.⠧ Registering ExperimentRecorder with Markov Backend.⠇ Registering ExperimentRecorder with Markov Backend.⠏ Registering ExperimentRecorder with Markov Backend.⠋ Registering ExperimentRecorder with Markov Backend."
     ]
    },
    {
     "name": "stderr",
     "output_type": "stream",
     "text": [
      "\r",
      " [Elapsed Time: 0:03:27]  [|               #                    |] (  0.5 B/s) "
     ]
    },
    {
     "name": "stdout",
     "output_type": "stream",
     "text": [
      "✔ Registering ExperimentRecorder with Markov Backend.⠹ Registering ExperimentRecorder with Markov Backend.⠸ Registering ExperimentRecorder with Markov Backend.⠼ Registering ExperimentRecorder with Markov Backend.⠴ Registering ExperimentRecorder with Markov Backend.⠦ Registering ExperimentRecorder with Markov Backend.⠧ Registering ExperimentRecorder with Markov Backend.⠇ Registering ExperimentRecorder with Markov Backend.⠏ Registering ExperimentRecorder with Markov Backend.⠋ Registering ExperimentRecorder with Markov Backend.⠙ Registering ExperimentRecorder with Markov Backend.⠹ Registering ExperimentRecorder with Markov Backend.⠸ Registering ExperimentRecorder with Markov Backend.⠼ Registering ExperimentRecorder with Markov Backend. ExperimentRecorder successfully registered.\n",
      "ℹ You can view the experiment at \u001b\\https://app.markovml.com/pioneer-wsp-27a2ukk2as/proj/vXmg4DkwjkU3JR/experiments/hp-7MUa8tdqaUQpXEi65zaWWXJ\u001b]8;;\u001b\\\n"
     ]
    },
    {
     "name": "stderr",
     "output_type": "stream",
     "text": [
      " [Elapsed Time: 0:03:31]  [|                        #           |] (  0.5 B/s) "
     ]
    },
    {
     "name": "stdout",
     "output_type": "stream",
     "text": [
      "Accuracy: 0.5061808718282368\n",
      "Hinge Loss: 0.995011927998265\n",
      "Accuracy: 0.5182094081942337\n",
      "Hinge Loss: 0.9946889226100152\n",
      "ℹ Starting recorder to track training data on markov backend using multiple threads. Please wait!\n"
     ]
    },
    {
     "name": "stderr",
     "output_type": "stream",
     "text": [
      " [Elapsed Time: 0:00:00]  [|#                                   |] (  0.0 s/B) \n"
     ]
    },
    {
     "name": "stdout",
     "output_type": "stream",
     "text": [
      "⠋"
     ]
    },
    {
     "name": "stderr",
     "output_type": "stream",
     "text": [
      "\r",
      " [Elapsed Time: 0:03:41]  [|                   #                |] (  0.5 B/s) "
     ]
    },
    {
     "name": "stdout",
     "output_type": "stream",
     "text": [
      " Please wait while we send the remaining data to the markov backend...\r"
     ]
    },
    {
     "name": "stderr",
     "output_type": "stream",
     "text": [
      "\r",
      " [Elapsed Time: 0:00:06]  [|          #                         |] ( 16.4 B/s) "
     ]
    },
    {
     "name": "stdout",
     "output_type": "stream",
     "text": [
      "⠙"
     ]
    },
    {
     "name": "stderr",
     "output_type": "stream",
     "text": [
      "\n"
     ]
    },
    {
     "name": "stdout",
     "output_type": "stream",
     "text": [
      "✔Please wait while we send the remaining data to the markov backend... Recording has successfully completed.\n",
      "ℹ You can view the experiment at \u001b\\https://app.markovml.com/pioneer-wsp-27a2ukk2as/proj/vXmg4DkwjkU3JR/experiments/hp-7MUa8tdqaUQpXEi65zaWWXJ\u001b]8;;\u001b\\\n",
      "C: 0.01, ngram_range: (1, 3), max_features: 5000\n",
      "ROC AUC Score: 0.5054517133956387\n",
      "\n",
      "⠋ Fetching project with id vXmg4DkwjkU3JR⠙ Fetching project with id vXmg4DkwjkU3JR"
     ]
    },
    {
     "name": "stderr",
     "output_type": "stream",
     "text": [
      "\r",
      " [Elapsed Time: 0:03:43]  [| #                                  |] (  0.4 B/s) "
     ]
    },
    {
     "name": "stdout",
     "output_type": "stream",
     "text": [
      "✔ Fetching project with id vXmg4DkwjkU3JR⠸ Fetching project with id vXmg4DkwjkU3JR⠼ Fetching project with id vXmg4DkwjkU3JR⠴ Fetching project with id vXmg4DkwjkU3JR⠦ Fetching project with id vXmg4DkwjkU3JR⠧ Fetching project with id vXmg4DkwjkU3JR⠇ Fetching project with id vXmg4DkwjkU3JR⠏ Fetching project with id vXmg4DkwjkU3JR⠋ Fetching project with id vXmg4DkwjkU3JR⠙ Fetching project with id vXmg4DkwjkU3JR⠹ Fetching project with id vXmg4DkwjkU3JR⠸ Fetching project with id vXmg4DkwjkU3JR⠼ Fetching project with id vXmg4DkwjkU3JR⠴ Fetching project with id vXmg4DkwjkU3JR⠦ Fetching project with id vXmg4DkwjkU3JR Successfully fetched project Team_2_Updated_Results\n",
      "ℹ Creating MarkovML project object Team_2_Updated_Results. Call project_object.register() to register with MarkovML backend.\n",
      "ℹ Creating MarkovML model object Model: SVM_Parameters-0.01-(1, 3)-10000. Call model_object.register() to register with MarkovML backend.\n",
      "⠋ Creating Model Model: SVM_Parameters-0.01-(1, 3)-10000⠙ Creating Model Model: SVM_Parameters-0.01-(1, 3)-10000⠹ Creating Model Model: SVM_Parameters-0.01-(1, 3)-10000⠸ Creating Model Model: SVM_Parameters-0.01-(1, 3)-10000⠼ Creating Model Model: SVM_Parameters-0.01-(1, 3)-10000⠴ Creating Model Model: SVM_Parameters-0.01-(1, 3)-10000⠦ Creating Model Model: SVM_Parameters-0.01-(1, 3)-10000⠧ Creating Model Model: SVM_Parameters-0.01-(1, 3)-10000"
     ]
    },
    {
     "name": "stderr",
     "output_type": "stream",
     "text": [
      "\r",
      " [Elapsed Time: 0:03:45]  [|                     #              |] (  0.4 B/s) "
     ]
    },
    {
     "name": "stdout",
     "output_type": "stream",
     "text": [
      "✔ Creating Model Model: SVM_Parameters-0.01-(1, 3)-10000⠏ Creating Model Model: SVM_Parameters-0.01-(1, 3)-10000⠋ Creating Model Model: SVM_Parameters-0.01-(1, 3)-10000⠙ Creating Model Model: SVM_Parameters-0.01-(1, 3)-10000⠹ Creating Model Model: SVM_Parameters-0.01-(1, 3)-10000⠸ Creating Model Model: SVM_Parameters-0.01-(1, 3)-10000⠼ Creating Model Model: SVM_Parameters-0.01-(1, 3)-10000⠴ Creating Model Model: SVM_Parameters-0.01-(1, 3)-10000⠦ Creating Model Model: SVM_Parameters-0.01-(1, 3)-10000 Model creation for model Model: SVM_Parameters-0.01-(1, 3)-10000 successful!\n",
      "ℹ Creating ExperimentRecorder object SVM_Parameters-0.01-(1, 3)-10000. Call recorder_object.register() to register with MarkovML backend.\n",
      "⠋ Registering ExperimentRecorder with Markov Backend.⠙ Registering ExperimentRecorder with Markov Backend.⠹ Registering ExperimentRecorder with Markov Backend.⠸ Registering ExperimentRecorder with Markov Backend.⠼ Registering ExperimentRecorder with Markov Backend.⠴ Registering ExperimentRecorder with Markov Backend.⠦ Registering ExperimentRecorder with Markov Backend.⠧ Registering ExperimentRecorder with Markov Backend.⠇ Registering ExperimentRecorder with Markov Backend.⠏ Registering ExperimentRecorder with Markov Backend.⠋ Registering ExperimentRecorder with Markov Backend.⠙ Registering ExperimentRecorder with Markov Backend.⠹ Registering ExperimentRecorder with Markov Backend."
     ]
    },
    {
     "name": "stderr",
     "output_type": "stream",
     "text": [
      "\r",
      " [Elapsed Time: 0:03:47]  [|                              #     |] (  0.4 B/s) "
     ]
    },
    {
     "name": "stdout",
     "output_type": "stream",
     "text": [
      "⠸ Registering ExperimentRecorder with Markov Backend.⠼ Registering ExperimentRecorder with Markov Backend.⠴ Registering ExperimentRecorder with Markov Backend.⠦ Registering ExperimentRecorder with Markov Backend.⠧ Registering ExperimentRecorder with Markov Backend.⠇ Registering ExperimentRecorder with Markov Backend.⠏ Registering ExperimentRecorder with Markov Backend.⠋ Registering ExperimentRecorder with Markov Backend.⠙ Registering ExperimentRecorder with Markov Backend.⠹ Registering ExperimentRecorder with Markov Backend.⠸ Registering ExperimentRecorder with Markov Backend.⠼ Registering ExperimentRecorder with Markov Backend.⠴ Registering ExperimentRecorder with Markov Backend.⠦ Registering ExperimentRecorder with Markov Backend.⠧ Registering ExperimentRecorder with Markov Backend.⠇ Registering ExperimentRecorder with Markov Backend.⠏ Registering ExperimentRecorder with Markov Backend.⠋ Registering ExperimentRecorder with Markov Backend.⠙ Registering ExperimentRecorder with Markov Backend.⠹ Registering ExperimentRecorder with Markov Backend.⠸ Registering ExperimentRecorder with Markov Backend.⠼ Registering ExperimentRecorder with Markov Backend.⠴ Registering ExperimentRecorder with Markov Backend."
     ]
    },
    {
     "name": "stderr",
     "output_type": "stream",
     "text": [
      "\r",
      " [Elapsed Time: 0:03:49]  [|          #                         |] (  0.4 B/s) "
     ]
    },
    {
     "name": "stdout",
     "output_type": "stream",
     "text": [
      "✔ Registering ExperimentRecorder with Markov Backend.⠧ Registering ExperimentRecorder with Markov Backend.⠇ Registering ExperimentRecorder with Markov Backend.⠏ Registering ExperimentRecorder with Markov Backend. ExperimentRecorder successfully registered.\n",
      "ℹ You can view the experiment at \u001b\\https://app.markovml.com/pioneer-wsp-27a2ukk2as/proj/vXmg4DkwjkU3JR/experiments/hp-7HXNbmMsmpxZ7rAFNqSV3GM\u001b]8;;\u001b\\\n"
     ]
    },
    {
     "name": "stderr",
     "output_type": "stream",
     "text": [
      " [Elapsed Time: 0:03:53]  [|                             #      |] (  0.4 B/s) "
     ]
    },
    {
     "name": "stdout",
     "output_type": "stream",
     "text": [
      "Accuracy: 0.5020602906094123\n",
      "Hinge Loss: 0.9991325092170895\n",
      "Accuracy: 0.5166919575113809\n",
      "Hinge Loss: 0.996206373292868\n",
      "ℹ Starting recorder to track training data on markov backend using multiple threads. Please wait!\n"
     ]
    },
    {
     "name": "stderr",
     "output_type": "stream",
     "text": [
      " [Elapsed Time: 0:00:00]  [|#                                   |] (  0.0 s/B) \n",
      " [Elapsed Time: 0:04:03]  [|              #                     |] (  0.4 B/s) "
     ]
    },
    {
     "name": "stdout",
     "output_type": "stream",
     "text": [
      "⠋ Please wait while we send the remaining data to the markov backend...\r"
     ]
    },
    {
     "name": "stderr",
     "output_type": "stream",
     "text": [
      "\r",
      " [Elapsed Time: 0:00:06]  [|          #                         |] ( 16.3 B/s) "
     ]
    },
    {
     "name": "stdout",
     "output_type": "stream",
     "text": [
      "⠙"
     ]
    },
    {
     "name": "stderr",
     "output_type": "stream",
     "text": [
      "\n"
     ]
    },
    {
     "name": "stdout",
     "output_type": "stream",
     "text": [
      "✔Please wait while we send the remaining data to the markov backend... Recording has successfully completed.\n",
      "ℹ You can view the experiment at \u001b\\https://app.markovml.com/pioneer-wsp-27a2ukk2as/proj/vXmg4DkwjkU3JR/experiments/hp-7HXNbmMsmpxZ7rAFNqSV3GM\u001b]8;;\u001b\\\n",
      "C: 0.01, ngram_range: (1, 3), max_features: 10000\n",
      "ROC AUC Score: 0.5038940809968847\n",
      "\n"
     ]
    },
    {
     "name": "stderr",
     "output_type": "stream",
     "text": [
      "\r",
      " [Elapsed Time: 0:04:05]  [|     #                              |] (  0.4 B/s) "
     ]
    },
    {
     "name": "stdout",
     "output_type": "stream",
     "text": [
      "✔ Fetching project with id vXmg4DkwjkU3JR⠙ Fetching project with id vXmg4DkwjkU3JR⠹ Fetching project with id vXmg4DkwjkU3JR⠸ Fetching project with id vXmg4DkwjkU3JR⠼ Fetching project with id vXmg4DkwjkU3JR⠴ Fetching project with id vXmg4DkwjkU3JR⠦ Fetching project with id vXmg4DkwjkU3JR⠧ Fetching project with id vXmg4DkwjkU3JR⠇ Fetching project with id vXmg4DkwjkU3JR⠏ Fetching project with id vXmg4DkwjkU3JR⠋ Fetching project with id vXmg4DkwjkU3JR⠙ Fetching project with id vXmg4DkwjkU3JR⠹ Fetching project with id vXmg4DkwjkU3JR⠸ Fetching project with id vXmg4DkwjkU3JR⠼ Fetching project with id vXmg4DkwjkU3JR Successfully fetched project Team_2_Updated_Results\n",
      "ℹ Creating MarkovML project object Team_2_Updated_Results. Call project_object.register() to register with MarkovML backend.\n",
      "ℹ Creating MarkovML model object Model: SVM_Parameters-0.01-(1, 3)-15000. Call model_object.register() to register with MarkovML backend.\n",
      "⠋ Creating Model Model: SVM_Parameters-0.01-(1, 3)-15000⠙ Creating Model Model: SVM_Parameters-0.01-(1, 3)-15000⠹ Creating Model Model: SVM_Parameters-0.01-(1, 3)-15000⠸ Creating Model Model: SVM_Parameters-0.01-(1, 3)-15000⠼ Creating Model Model: SVM_Parameters-0.01-(1, 3)-15000⠴ Creating Model Model: SVM_Parameters-0.01-(1, 3)-15000⠦ Creating Model Model: SVM_Parameters-0.01-(1, 3)-15000⠧ Creating Model Model: SVM_Parameters-0.01-(1, 3)-15000"
     ]
    },
    {
     "name": "stderr",
     "output_type": "stream",
     "text": [
      "\r",
      " [Elapsed Time: 0:04:07]  [|                          #         |] (  0.4 B/s) "
     ]
    },
    {
     "name": "stdout",
     "output_type": "stream",
     "text": [
      "✔ Creating Model Model: SVM_Parameters-0.01-(1, 3)-15000⠏ Creating Model Model: SVM_Parameters-0.01-(1, 3)-15000⠋ Creating Model Model: SVM_Parameters-0.01-(1, 3)-15000⠙ Creating Model Model: SVM_Parameters-0.01-(1, 3)-15000⠹ Creating Model Model: SVM_Parameters-0.01-(1, 3)-15000⠸ Creating Model Model: SVM_Parameters-0.01-(1, 3)-15000⠼ Creating Model Model: SVM_Parameters-0.01-(1, 3)-15000⠴ Creating Model Model: SVM_Parameters-0.01-(1, 3)-15000 Model creation for model Model: SVM_Parameters-0.01-(1, 3)-15000 successful!\n",
      "ℹ Creating ExperimentRecorder object SVM_Parameters-0.01-(1, 3)-15000. Call recorder_object.register() to register with MarkovML backend.\n",
      "⠋ Registering ExperimentRecorder with Markov Backend.⠙ Registering ExperimentRecorder with Markov Backend.⠹ Registering ExperimentRecorder with Markov Backend.⠸ Registering ExperimentRecorder with Markov Backend.⠼ Registering ExperimentRecorder with Markov Backend.⠴ Registering ExperimentRecorder with Markov Backend.⠦ Registering ExperimentRecorder with Markov Backend.⠧ Registering ExperimentRecorder with Markov Backend.⠇ Registering ExperimentRecorder with Markov Backend.⠏ Registering ExperimentRecorder with Markov Backend.⠋ Registering ExperimentRecorder with Markov Backend.⠙ Registering ExperimentRecorder with Markov Backend.⠹ Registering ExperimentRecorder with Markov Backend."
     ]
    },
    {
     "name": "stderr",
     "output_type": "stream",
     "text": [
      "\r",
      " [Elapsed Time: 0:04:09]  [|                         #          |] (  0.4 B/s) "
     ]
    },
    {
     "name": "stdout",
     "output_type": "stream",
     "text": [
      "✔ Registering ExperimentRecorder with Markov Backend.⠼ Registering ExperimentRecorder with Markov Backend.⠴ Registering ExperimentRecorder with Markov Backend.⠦ Registering ExperimentRecorder with Markov Backend.⠧ Registering ExperimentRecorder with Markov Backend.⠇ Registering ExperimentRecorder with Markov Backend.⠏ Registering ExperimentRecorder with Markov Backend.⠋ Registering ExperimentRecorder with Markov Backend.⠙ Registering ExperimentRecorder with Markov Backend.⠹ Registering ExperimentRecorder with Markov Backend.⠸ Registering ExperimentRecorder with Markov Backend.⠼ Registering ExperimentRecorder with Markov Backend.⠴ Registering ExperimentRecorder with Markov Backend.⠦ Registering ExperimentRecorder with Markov Backend.⠧ Registering ExperimentRecorder with Markov Backend.⠇ Registering ExperimentRecorder with Markov Backend.⠏ Registering ExperimentRecorder with Markov Backend.⠋ Registering ExperimentRecorder with Markov Backend.⠙ Registering ExperimentRecorder with Markov Backend.⠹ Registering ExperimentRecorder with Markov Backend.⠸ Registering ExperimentRecorder with Markov Backend.⠼ Registering ExperimentRecorder with Markov Backend. ExperimentRecorder successfully registered.\n",
      "ℹ You can view the experiment at \u001b\\https://app.markovml.com/pioneer-wsp-27a2ukk2as/proj/vXmg4DkwjkU3JR/experiments/hp-6ePQMBpHgd52ygLSRdqVCt4\u001b]8;;\u001b\\\n"
     ]
    },
    {
     "name": "stderr",
     "output_type": "stream",
     "text": [
      " [Elapsed Time: 0:04:17]  [|                 #                  |] (  0.4 B/s) "
     ]
    },
    {
     "name": "stdout",
     "output_type": "stream",
     "text": [
      "Accuracy: 0.501626545217957\n",
      "Hinge Loss: 0.9995662546085448\n",
      "Accuracy: 0.5151745068285281\n",
      "Hinge Loss: 0.9977238239757208\n",
      "ℹ Starting recorder to track training data on markov backend using multiple threads. Please wait!\n"
     ]
    },
    {
     "name": "stderr",
     "output_type": "stream",
     "text": [
      " [Elapsed Time: 0:00:00]  [|#                                   |] (  0.0 s/B) \n"
     ]
    },
    {
     "name": "stdout",
     "output_type": "stream",
     "text": [
      "⠋ Please wait while we send the remaining data to the markov backend..."
     ]
    },
    {
     "name": "stderr",
     "output_type": "stream",
     "text": [
      "\r",
      " [Elapsed Time: 0:00:06]  [|          #                         |] ( 16.4 B/s) "
     ]
    },
    {
     "name": "stdout",
     "output_type": "stream",
     "text": [
      "\r"
     ]
    },
    {
     "name": "stderr",
     "output_type": "stream",
     "text": [
      "\n"
     ]
    },
    {
     "name": "stdout",
     "output_type": "stream",
     "text": [
      "✔ Please wait while we send the remaining data to the markov backend... Recording has successfully completed.\n"
     ]
    },
    {
     "name": "stderr",
     "output_type": "stream",
     "text": [
      "\r",
      " [Elapsed Time: 0:04:27]  [|           #                        |] (  0.4 B/s) "
     ]
    },
    {
     "name": "stdout",
     "output_type": "stream",
     "text": [
      "ℹ You can view the experiment at \u001b\\https://app.markovml.com/pioneer-wsp-27a2ukk2as/proj/vXmg4DkwjkU3JR/experiments/hp-6ePQMBpHgd52ygLSRdqVCt4\u001b]8;;\u001b\\\n",
      "C: 0.01, ngram_range: (1, 3), max_features: 15000\n",
      "ROC AUC Score: 0.5023364485981309\n",
      "\n",
      "⠋ Fetching project with id vXmg4DkwjkU3JR⠙ Fetching project with id vXmg4DkwjkU3JR⠹ Fetching project with id vXmg4DkwjkU3JR⠸ Fetching project with id vXmg4DkwjkU3JR⠼ Fetching project with id vXmg4DkwjkU3JR⠴ Fetching project with id vXmg4DkwjkU3JR"
     ]
    },
    {
     "name": "stderr",
     "output_type": "stream",
     "text": [
      "\r",
      " [Elapsed Time: 0:04:29]  [|                               #    |] (  0.4 B/s) "
     ]
    },
    {
     "name": "stdout",
     "output_type": "stream",
     "text": [
      "✔ Fetching project with id vXmg4DkwjkU3JR⠧ Fetching project with id vXmg4DkwjkU3JR⠇ Fetching project with id vXmg4DkwjkU3JR⠏ Fetching project with id vXmg4DkwjkU3JR⠋ Fetching project with id vXmg4DkwjkU3JR⠙ Fetching project with id vXmg4DkwjkU3JR⠹ Fetching project with id vXmg4DkwjkU3JR⠸ Fetching project with id vXmg4DkwjkU3JR⠼ Fetching project with id vXmg4DkwjkU3JR Successfully fetched project Team_2_Updated_Results\n",
      "ℹ Creating MarkovML project object Team_2_Updated_Results. Call project_object.register() to register with MarkovML backend.\n",
      "ℹ Creating MarkovML model object Model: SVM_Parameters-0.1-(1, 1)-5000. Call model_object.register() to register with MarkovML backend.\n",
      "⠋ Creating Model Model: SVM_Parameters-0.1-(1, 1)-5000⠙ Creating Model Model: SVM_Parameters-0.1-(1, 1)-5000⠹ Creating Model Model: SVM_Parameters-0.1-(1, 1)-5000⠸ Creating Model Model: SVM_Parameters-0.1-(1, 1)-5000⠼ Creating Model Model: SVM_Parameters-0.1-(1, 1)-5000⠴ Creating Model Model: SVM_Parameters-0.1-(1, 1)-5000⠦ Creating Model Model: SVM_Parameters-0.1-(1, 1)-5000⠧ Creating Model Model: SVM_Parameters-0.1-(1, 1)-5000⠇ Creating Model Model: SVM_Parameters-0.1-(1, 1)-5000⠏ Creating Model Model: SVM_Parameters-0.1-(1, 1)-5000⠋ Creating Model Model: SVM_Parameters-0.1-(1, 1)-5000⠙ Creating Model Model: SVM_Parameters-0.1-(1, 1)-5000⠹ Creating Model Model: SVM_Parameters-0.1-(1, 1)-5000⠸ Creating Model Model: SVM_Parameters-0.1-(1, 1)-5000"
     ]
    },
    {
     "name": "stderr",
     "output_type": "stream",
     "text": [
      "\r",
      " [Elapsed Time: 0:04:31]  [|                    #               |] (  0.4 B/s) "
     ]
    },
    {
     "name": "stdout",
     "output_type": "stream",
     "text": [
      "✔ Creating Model Model: SVM_Parameters-0.1-(1, 1)-5000⠴ Creating Model Model: SVM_Parameters-0.1-(1, 1)-5000 Model creation for model Model: SVM_Parameters-0.1-(1, 1)-5000 successful!\n",
      "ℹ Creating ExperimentRecorder object SVM_Parameters-0.1-(1, 1)-5000. Call recorder_object.register() to register with MarkovML backend.\n",
      "⠋ Registering ExperimentRecorder with Markov Backend.⠙ Registering ExperimentRecorder with Markov Backend.⠹ Registering ExperimentRecorder with Markov Backend.⠸ Registering ExperimentRecorder with Markov Backend.⠼ Registering ExperimentRecorder with Markov Backend.⠴ Registering ExperimentRecorder with Markov Backend.⠦ Registering ExperimentRecorder with Markov Backend.⠧ Registering ExperimentRecorder with Markov Backend.⠇ Registering ExperimentRecorder with Markov Backend.⠏ Registering ExperimentRecorder with Markov Backend.⠋ Registering ExperimentRecorder with Markov Backend.⠙ Registering ExperimentRecorder with Markov Backend.⠹ Registering ExperimentRecorder with Markov Backend.⠸ Registering ExperimentRecorder with Markov Backend.⠼ Registering ExperimentRecorder with Markov Backend.⠴ Registering ExperimentRecorder with Markov Backend.⠦ Registering ExperimentRecorder with Markov Backend.⠧ Registering ExperimentRecorder with Markov Backend.⠇ Registering ExperimentRecorder with Markov Backend.⠏ Registering ExperimentRecorder with Markov Backend.⠋ Registering ExperimentRecorder with Markov Backend.⠙ Registering ExperimentRecorder with Markov Backend."
     ]
    },
    {
     "name": "stderr",
     "output_type": "stream",
     "text": [
      "\r",
      " [Elapsed Time: 0:04:33]  [|#                                   |] (  0.4 B/s) "
     ]
    },
    {
     "name": "stdout",
     "output_type": "stream",
     "text": [
      "✔ Registering ExperimentRecorder with Markov Backend.⠸ Registering ExperimentRecorder with Markov Backend.⠼ Registering ExperimentRecorder with Markov Backend.⠴ Registering ExperimentRecorder with Markov Backend.⠦ Registering ExperimentRecorder with Markov Backend.⠧ Registering ExperimentRecorder with Markov Backend.⠇ Registering ExperimentRecorder with Markov Backend.⠏ Registering ExperimentRecorder with Markov Backend.⠋ Registering ExperimentRecorder with Markov Backend.⠙ Registering ExperimentRecorder with Markov Backend.⠹ Registering ExperimentRecorder with Markov Backend.⠸ Registering ExperimentRecorder with Markov Backend.⠼ Registering ExperimentRecorder with Markov Backend.⠴ Registering ExperimentRecorder with Markov Backend. ExperimentRecorder successfully registered.\n",
      "ℹ You can view the experiment at \u001b\\https://app.markovml.com/pioneer-wsp-27a2ukk2as/proj/vXmg4DkwjkU3JR/experiments/hp-44WfjiuBSm6Fi8iUnhDCNdN\u001b]8;;\u001b\\\n"
     ]
    },
    {
     "name": "stderr",
     "output_type": "stream",
     "text": [
      " [Elapsed Time: 0:04:37]  [|                                #   |] (  0.4 B/s) "
     ]
    },
    {
     "name": "stdout",
     "output_type": "stream",
     "text": [
      "Accuracy: 0.8204294079375407\n",
      "Hinge Loss: 0.6690522663196704\n",
      "Accuracy: 0.8141122913505311\n",
      "Hinge Loss: 0.6820940819423369\n",
      "ℹ Starting recorder to track training data on markov backend using multiple threads. Please wait!\n"
     ]
    },
    {
     "name": "stderr",
     "output_type": "stream",
     "text": [
      " [Elapsed Time: 0:00:00]  [|#                                   |] (  0.0 s/B) \n"
     ]
    },
    {
     "name": "stdout",
     "output_type": "stream",
     "text": [
      "⠋ Please wait while we send the remaining data to the markov backend...\r"
     ]
    },
    {
     "name": "stderr",
     "output_type": "stream",
     "text": [
      "\r",
      " [Elapsed Time: 0:00:06]  [|          #                         |] ( 16.3 B/s) "
     ]
    },
    {
     "name": "stdout",
     "output_type": "stream",
     "text": [
      "⠙ Please wait while we send the remaining data to the markov backend..."
     ]
    },
    {
     "name": "stderr",
     "output_type": "stream",
     "text": [
      "\n"
     ]
    },
    {
     "name": "stdout",
     "output_type": "stream",
     "text": [
      "✔ Recording has successfully completed.\n"
     ]
    },
    {
     "name": "stderr",
     "output_type": "stream",
     "text": [
      "\r",
      " [Elapsed Time: 0:04:47]  [|   #                                |] (  0.3 B/s) "
     ]
    },
    {
     "name": "stdout",
     "output_type": "stream",
     "text": [
      "ℹ You can view the experiment at \u001b\\https://app.markovml.com/pioneer-wsp-27a2ukk2as/proj/vXmg4DkwjkU3JR/experiments/hp-44WfjiuBSm6Fi8iUnhDCNdN\u001b]8;;\u001b\\\n",
      "C: 0.1, ngram_range: (1, 1), max_features: 5000\n",
      "ROC AUC Score: 0.8100517981898283\n",
      "\n",
      "⠋ Fetching project with id vXmg4DkwjkU3JR⠙ Fetching project with id vXmg4DkwjkU3JR⠹ Fetching project with id vXmg4DkwjkU3JR⠸ Fetching project with id vXmg4DkwjkU3JR⠼ Fetching project with id vXmg4DkwjkU3JR⠴ Fetching project with id vXmg4DkwjkU3JR⠦ Fetching project with id vXmg4DkwjkU3JR⠧ Fetching project with id vXmg4DkwjkU3JR⠇ Fetching project with id vXmg4DkwjkU3JR⠏ Fetching project with id vXmg4DkwjkU3JR⠋ Fetching project with id vXmg4DkwjkU3JR"
     ]
    },
    {
     "name": "stderr",
     "output_type": "stream",
     "text": [
      "\r",
      " [Elapsed Time: 0:04:49]  [|                #                   |] (  0.3 B/s) "
     ]
    },
    {
     "name": "stdout",
     "output_type": "stream",
     "text": [
      "✔ Fetching project with id vXmg4DkwjkU3JR⠹ Fetching project with id vXmg4DkwjkU3JR Successfully fetched project Team_2_Updated_Results\n",
      "ℹ Creating MarkovML project object Team_2_Updated_Results. Call project_object.register() to register with MarkovML backend.\n",
      "ℹ Creating MarkovML model object Model: SVM_Parameters-0.1-(1, 1)-10000. Call model_object.register() to register with MarkovML backend.\n",
      "✔ Creating Model Model: SVM_Parameters-0.1-(1, 1)-10000⠙ Creating Model Model: SVM_Parameters-0.1-(1, 1)-10000⠹ Creating Model Model: SVM_Parameters-0.1-(1, 1)-10000⠸ Creating Model Model: SVM_Parameters-0.1-(1, 1)-10000⠼ Creating Model Model: SVM_Parameters-0.1-(1, 1)-10000⠴ Creating Model Model: SVM_Parameters-0.1-(1, 1)-10000⠦ Creating Model Model: SVM_Parameters-0.1-(1, 1)-10000⠧ Creating Model Model: SVM_Parameters-0.1-(1, 1)-10000⠇ Creating Model Model: SVM_Parameters-0.1-(1, 1)-10000⠏ Creating Model Model: SVM_Parameters-0.1-(1, 1)-10000⠋ Creating Model Model: SVM_Parameters-0.1-(1, 1)-10000⠙ Creating Model Model: SVM_Parameters-0.1-(1, 1)-10000⠹ Creating Model Model: SVM_Parameters-0.1-(1, 1)-10000⠸ Creating Model Model: SVM_Parameters-0.1-(1, 1)-10000⠼ Creating Model Model: SVM_Parameters-0.1-(1, 1)-10000⠴ Creating Model Model: SVM_Parameters-0.1-(1, 1)-10000⠦ Creating Model Model: SVM_Parameters-0.1-(1, 1)-10000 Model creation for model Model: SVM_Parameters-0.1-(1, 1)-10000 successful!\n",
      "ℹ Creating ExperimentRecorder object SVM_Parameters-0.1-(1, 1)-10000. Call recorder_object.register() to register with MarkovML backend.\n",
      "⠋ Registering ExperimentRecorder with Markov Backend.⠙ Registering ExperimentRecorder with Markov Backend.⠹ Registering ExperimentRecorder with Markov Backend.⠸ Registering ExperimentRecorder with Markov Backend."
     ]
    },
    {
     "name": "stderr",
     "output_type": "stream",
     "text": [
      "\r",
      " [Elapsed Time: 0:04:51]  [|                                   #|] (  0.3 B/s) "
     ]
    },
    {
     "name": "stdout",
     "output_type": "stream",
     "text": [
      "⠼ Registering ExperimentRecorder with Markov Backend.⠴ Registering ExperimentRecorder with Markov Backend.⠦ Registering ExperimentRecorder with Markov Backend.⠧ Registering ExperimentRecorder with Markov Backend.⠇ Registering ExperimentRecorder with Markov Backend.⠏ Registering ExperimentRecorder with Markov Backend.⠋ Registering ExperimentRecorder with Markov Backend.⠙ Registering ExperimentRecorder with Markov Backend.⠹ Registering ExperimentRecorder with Markov Backend.⠸ Registering ExperimentRecorder with Markov Backend.⠼ Registering ExperimentRecorder with Markov Backend.⠴ Registering ExperimentRecorder with Markov Backend.⠦ Registering ExperimentRecorder with Markov Backend.⠧ Registering ExperimentRecorder with Markov Backend.⠇ Registering ExperimentRecorder with Markov Backend.⠏ Registering ExperimentRecorder with Markov Backend.⠋ Registering ExperimentRecorder with Markov Backend.⠙ Registering ExperimentRecorder with Markov Backend.⠹ Registering ExperimentRecorder with Markov Backend.⠸ Registering ExperimentRecorder with Markov Backend.⠼ Registering ExperimentRecorder with Markov Backend.⠴ Registering ExperimentRecorder with Markov Backend.⠦ Registering ExperimentRecorder with Markov Backend."
     ]
    },
    {
     "name": "stderr",
     "output_type": "stream",
     "text": [
      "\r",
      " [Elapsed Time: 0:04:53]  [|               #                    |] (  0.3 B/s) "
     ]
    },
    {
     "name": "stdout",
     "output_type": "stream",
     "text": [
      "✔ Registering ExperimentRecorder with Markov Backend.⠇ Registering ExperimentRecorder with Markov Backend.⠏ Registering ExperimentRecorder with Markov Backend.⠋ Registering ExperimentRecorder with Markov Backend.⠙ Registering ExperimentRecorder with Markov Backend. ExperimentRecorder successfully registered.\n",
      "ℹ You can view the experiment at \u001b\\https://app.markovml.com/pioneer-wsp-27a2ukk2as/proj/vXmg4DkwjkU3JR/experiments/hp-Az4EUU9PMvncJHo9nrTttkZ\u001b]8;;\u001b\\\n"
     ]
    },
    {
     "name": "stderr",
     "output_type": "stream",
     "text": [
      " [Elapsed Time: 0:04:57]  [|                        #           |] (  0.3 B/s) "
     ]
    },
    {
     "name": "stdout",
     "output_type": "stream",
     "text": [
      "Accuracy: 0.8106701366297983\n",
      "Hinge Loss: 0.6811971372804164\n",
      "Accuracy: 0.8050075872534143\n",
      "Hinge Loss: 0.6927162367223065\n",
      "ℹ Starting recorder to track training data on markov backend using multiple threads. Please wait!\n"
     ]
    },
    {
     "name": "stderr",
     "output_type": "stream",
     "text": [
      " [Elapsed Time: 0:00:00]  [|#                                   |] (  0.0 s/B) \n"
     ]
    },
    {
     "name": "stdout",
     "output_type": "stream",
     "text": [
      "⠋ Please wait while we send the remaining data to the markov backend...\r"
     ]
    },
    {
     "name": "stderr",
     "output_type": "stream",
     "text": [
      "\r",
      " [Elapsed Time: 0:00:06]  [|          #                         |] ( 16.3 B/s) "
     ]
    },
    {
     "name": "stdout",
     "output_type": "stream",
     "text": [
      "\r"
     ]
    },
    {
     "name": "stderr",
     "output_type": "stream",
     "text": [
      "\n"
     ]
    },
    {
     "name": "stdout",
     "output_type": "stream",
     "text": [
      "✔ Please wait while we send the remaining data to the markov backend... Recording has successfully completed.\n"
     ]
    },
    {
     "name": "stderr",
     "output_type": "stream",
     "text": [
      "\r",
      " [Elapsed Time: 0:05:07]  [|                  #                 |] (  0.3 B/s) "
     ]
    },
    {
     "name": "stdout",
     "output_type": "stream",
     "text": [
      "ℹ You can view the experiment at \u001b\\https://app.markovml.com/pioneer-wsp-27a2ukk2as/proj/vXmg4DkwjkU3JR/experiments/hp-Az4EUU9PMvncJHo9nrTttkZ\u001b]8;;\u001b\\\n",
      "C: 0.1, ngram_range: (1, 1), max_features: 10000\n",
      "ROC AUC Score: 0.8006276613393796\n",
      "\n",
      "⠋ Fetching project with id vXmg4DkwjkU3JR⠙ Fetching project with id vXmg4DkwjkU3JR⠹ Fetching project with id vXmg4DkwjkU3JR⠸ Fetching project with id vXmg4DkwjkU3JR⠼ Fetching project with id vXmg4DkwjkU3JR⠴ Fetching project with id vXmg4DkwjkU3JR⠦ Fetching project with id vXmg4DkwjkU3JR⠧ Fetching project with id vXmg4DkwjkU3JR⠇ Fetching project with id vXmg4DkwjkU3JR⠏ Fetching project with id vXmg4DkwjkU3JR⠋ Fetching project with id vXmg4DkwjkU3JR⠙ Fetching project with id vXmg4DkwjkU3JR"
     ]
    },
    {
     "name": "stderr",
     "output_type": "stream",
     "text": [
      "\r",
      " [Elapsed Time: 0:05:09]  [| #                                  |] (  0.3 B/s) "
     ]
    },
    {
     "name": "stdout",
     "output_type": "stream",
     "text": [
      "✔ Fetching project with id vXmg4DkwjkU3JR⠸ Fetching project with id vXmg4DkwjkU3JR Successfully fetched project Team_2_Updated_Results\n",
      "ℹ Creating MarkovML project object Team_2_Updated_Results. Call project_object.register() to register with MarkovML backend.\n",
      "ℹ Creating MarkovML model object Model: SVM_Parameters-0.1-(1, 1)-15000. Call model_object.register() to register with MarkovML backend.\n",
      "✔ Creating Model Model: SVM_Parameters-0.1-(1, 1)-15000⠙ Creating Model Model: SVM_Parameters-0.1-(1, 1)-15000⠹ Creating Model Model: SVM_Parameters-0.1-(1, 1)-15000⠸ Creating Model Model: SVM_Parameters-0.1-(1, 1)-15000⠼ Creating Model Model: SVM_Parameters-0.1-(1, 1)-15000⠴ Creating Model Model: SVM_Parameters-0.1-(1, 1)-15000⠦ Creating Model Model: SVM_Parameters-0.1-(1, 1)-15000⠧ Creating Model Model: SVM_Parameters-0.1-(1, 1)-15000⠇ Creating Model Model: SVM_Parameters-0.1-(1, 1)-15000⠏ Creating Model Model: SVM_Parameters-0.1-(1, 1)-15000⠋ Creating Model Model: SVM_Parameters-0.1-(1, 1)-15000⠙ Creating Model Model: SVM_Parameters-0.1-(1, 1)-15000⠹ Creating Model Model: SVM_Parameters-0.1-(1, 1)-15000⠸ Creating Model Model: SVM_Parameters-0.1-(1, 1)-15000⠼ Creating Model Model: SVM_Parameters-0.1-(1, 1)-15000⠴ Creating Model Model: SVM_Parameters-0.1-(1, 1)-15000 Model creation for model Model: SVM_Parameters-0.1-(1, 1)-15000 successful!\n",
      "ℹ Creating ExperimentRecorder object SVM_Parameters-0.1-(1, 1)-15000. Call recorder_object.register() to register with MarkovML backend.\n",
      "⠋ Registering ExperimentRecorder with Markov Backend.⠙ Registering ExperimentRecorder with Markov Backend.⠹ Registering ExperimentRecorder with Markov Backend.⠸ Registering ExperimentRecorder with Markov Backend.⠼ Registering ExperimentRecorder with Markov Backend."
     ]
    },
    {
     "name": "stderr",
     "output_type": "stream",
     "text": [
      "\r",
      " [Elapsed Time: 0:05:11]  [|                     #              |] (  0.3 B/s) "
     ]
    },
    {
     "name": "stdout",
     "output_type": "stream",
     "text": [
      "⠴ Registering ExperimentRecorder with Markov Backend.⠦ Registering ExperimentRecorder with Markov Backend.⠧ Registering ExperimentRecorder with Markov Backend.⠇ Registering ExperimentRecorder with Markov Backend.⠏ Registering ExperimentRecorder with Markov Backend.⠋ Registering ExperimentRecorder with Markov Backend.⠙ Registering ExperimentRecorder with Markov Backend.⠹ Registering ExperimentRecorder with Markov Backend.⠸ Registering ExperimentRecorder with Markov Backend.⠼ Registering ExperimentRecorder with Markov Backend.⠴ Registering ExperimentRecorder with Markov Backend.⠦ Registering ExperimentRecorder with Markov Backend.⠧ Registering ExperimentRecorder with Markov Backend.⠇ Registering ExperimentRecorder with Markov Backend.⠏ Registering ExperimentRecorder with Markov Backend.⠋ Registering ExperimentRecorder with Markov Backend.⠙ Registering ExperimentRecorder with Markov Backend.⠹ Registering ExperimentRecorder with Markov Backend.⠸ Registering ExperimentRecorder with Markov Backend.⠼ Registering ExperimentRecorder with Markov Backend.⠴ Registering ExperimentRecorder with Markov Backend.⠦ Registering ExperimentRecorder with Markov Backend.⠧ Registering ExperimentRecorder with Markov Backend."
     ]
    },
    {
     "name": "stderr",
     "output_type": "stream",
     "text": [
      "\r",
      " [Elapsed Time: 0:05:13]  [|                              #     |] (  0.3 B/s) "
     ]
    },
    {
     "name": "stdout",
     "output_type": "stream",
     "text": [
      "✔ Registering ExperimentRecorder with Markov Backend.⠏ Registering ExperimentRecorder with Markov Backend.⠋ Registering ExperimentRecorder with Markov Backend.⠙ Registering ExperimentRecorder with Markov Backend.⠹ Registering ExperimentRecorder with Markov Backend.⠸ Registering ExperimentRecorder with Markov Backend.⠼ Registering ExperimentRecorder with Markov Backend. ExperimentRecorder successfully registered.\n",
      "ℹ You can view the experiment at \u001b\\https://app.markovml.com/pioneer-wsp-27a2ukk2as/proj/vXmg4DkwjkU3JR/experiments/hp-83bEkwMW36PvwC7NaAs8jMi\u001b]8;;\u001b\\\n"
     ]
    },
    {
     "name": "stderr",
     "output_type": "stream",
     "text": [
      " [Elapsed Time: 0:05:19]  [|                             #      |] (  0.3 B/s) "
     ]
    },
    {
     "name": "stdout",
     "output_type": "stream",
     "text": [
      "Accuracy: 0.8041639557579701\n",
      "Hinge Loss: 0.6900889178052483\n",
      "Accuracy: 0.8012139605462822\n",
      "Hinge Loss: 0.6965098634294385\n",
      "ℹ Starting recorder to track training data on markov backend using multiple threads. Please wait!\n"
     ]
    },
    {
     "name": "stderr",
     "output_type": "stream",
     "text": [
      " [Elapsed Time: 0:00:00]  [|#                                   |] (  0.0 s/B) \n"
     ]
    },
    {
     "name": "stdout",
     "output_type": "stream",
     "text": [
      "⠋ Please wait while we send the remaining data to the markov backend...\r"
     ]
    },
    {
     "name": "stderr",
     "output_type": "stream",
     "text": [
      "\r",
      " [Elapsed Time: 0:00:06]  [|          #                         |] ( 16.3 B/s) "
     ]
    },
    {
     "name": "stdout",
     "output_type": "stream",
     "text": [
      "\r"
     ]
    },
    {
     "name": "stderr",
     "output_type": "stream",
     "text": [
      "\n"
     ]
    },
    {
     "name": "stdout",
     "output_type": "stream",
     "text": [
      "✔ Please wait while we send the remaining data to the markov backend... Recording has successfully completed.\n"
     ]
    },
    {
     "name": "stderr",
     "output_type": "stream",
     "text": [
      "\r",
      " [Elapsed Time: 0:05:29]  [|             #                      |] (  0.3 B/s) "
     ]
    },
    {
     "name": "stdout",
     "output_type": "stream",
     "text": [
      "ℹ You can view the experiment at \u001b\\https://app.markovml.com/pioneer-wsp-27a2ukk2as/proj/vXmg4DkwjkU3JR/experiments/hp-83bEkwMW36PvwC7NaAs8jMi\u001b]8;;\u001b\\\n",
      "C: 0.1, ngram_range: (1, 1), max_features: 15000\n",
      "ROC AUC Score: 0.7967335803424948\n",
      "\n",
      "⠋ Fetching project with id vXmg4DkwjkU3JR⠙ Fetching project with id vXmg4DkwjkU3JR⠹ Fetching project with id vXmg4DkwjkU3JR⠸ Fetching project with id vXmg4DkwjkU3JR⠼ Fetching project with id vXmg4DkwjkU3JR⠴ Fetching project with id vXmg4DkwjkU3JR⠦ Fetching project with id vXmg4DkwjkU3JR⠧ Fetching project with id vXmg4DkwjkU3JR⠇ Fetching project with id vXmg4DkwjkU3JR⠏ Fetching project with id vXmg4DkwjkU3JR⠋ Fetching project with id vXmg4DkwjkU3JR⠙ Fetching project with id vXmg4DkwjkU3JR⠹ Fetching project with id vXmg4DkwjkU3JR⠸ Fetching project with id vXmg4DkwjkU3JR"
     ]
    },
    {
     "name": "stderr",
     "output_type": "stream",
     "text": [
      "\r",
      " [Elapsed Time: 0:05:31]  [|      #                             |] (  0.3 B/s) "
     ]
    },
    {
     "name": "stdout",
     "output_type": "stream",
     "text": [
      "✔ Fetching project with id vXmg4DkwjkU3JR Successfully fetched project Team_2_Updated_Results\n",
      "ℹ Creating MarkovML project object Team_2_Updated_Results. Call project_object.register() to register with MarkovML backend.\n",
      "ℹ Creating MarkovML model object Model: SVM_Parameters-0.1-(1, 2)-5000. Call model_object.register() to register with MarkovML backend.\n",
      "✔ Creating Model Model: SVM_Parameters-0.1-(1, 2)-5000⠙ Creating Model Model: SVM_Parameters-0.1-(1, 2)-5000⠹ Creating Model Model: SVM_Parameters-0.1-(1, 2)-5000⠸ Creating Model Model: SVM_Parameters-0.1-(1, 2)-5000⠼ Creating Model Model: SVM_Parameters-0.1-(1, 2)-5000⠴ Creating Model Model: SVM_Parameters-0.1-(1, 2)-5000⠦ Creating Model Model: SVM_Parameters-0.1-(1, 2)-5000⠧ Creating Model Model: SVM_Parameters-0.1-(1, 2)-5000⠇ Creating Model Model: SVM_Parameters-0.1-(1, 2)-5000⠏ Creating Model Model: SVM_Parameters-0.1-(1, 2)-5000⠋ Creating Model Model: SVM_Parameters-0.1-(1, 2)-5000⠙ Creating Model Model: SVM_Parameters-0.1-(1, 2)-5000⠹ Creating Model Model: SVM_Parameters-0.1-(1, 2)-5000⠸ Creating Model Model: SVM_Parameters-0.1-(1, 2)-5000⠼ Creating Model Model: SVM_Parameters-0.1-(1, 2)-5000⠴ Creating Model Model: SVM_Parameters-0.1-(1, 2)-5000⠦ Creating Model Model: SVM_Parameters-0.1-(1, 2)-5000⠧ Creating Model Model: SVM_Parameters-0.1-(1, 2)-5000⠇ Creating Model Model: SVM_Parameters-0.1-(1, 2)-5000 Model creation for model Model: SVM_Parameters-0.1-(1, 2)-5000 successful!\n",
      "ℹ Creating ExperimentRecorder object SVM_Parameters-0.1-(1, 2)-5000. Call recorder_object.register() to register with MarkovML backend.\n",
      "⠋ Registering ExperimentRecorder with Markov Backend.⠙ Registering ExperimentRecorder with Markov Backend.⠹ Registering ExperimentRecorder with Markov Backend.⠸ Registering ExperimentRecorder with Markov Backend."
     ]
    },
    {
     "name": "stderr",
     "output_type": "stream",
     "text": [
      "\r",
      " [Elapsed Time: 0:05:33]  [|                          #         |] (  0.3 B/s) "
     ]
    },
    {
     "name": "stdout",
     "output_type": "stream",
     "text": [
      "⠼ Registering ExperimentRecorder with Markov Backend.⠴ Registering ExperimentRecorder with Markov Backend.⠦ Registering ExperimentRecorder with Markov Backend.⠧ Registering ExperimentRecorder with Markov Backend.⠇ Registering ExperimentRecorder with Markov Backend.⠏ Registering ExperimentRecorder with Markov Backend.⠋ Registering ExperimentRecorder with Markov Backend.⠙ Registering ExperimentRecorder with Markov Backend.⠹ Registering ExperimentRecorder with Markov Backend.⠸ Registering ExperimentRecorder with Markov Backend.⠼ Registering ExperimentRecorder with Markov Backend.⠴ Registering ExperimentRecorder with Markov Backend.⠦ Registering ExperimentRecorder with Markov Backend.⠧ Registering ExperimentRecorder with Markov Backend.⠇ Registering ExperimentRecorder with Markov Backend.⠏ Registering ExperimentRecorder with Markov Backend.⠋ Registering ExperimentRecorder with Markov Backend.⠙ Registering ExperimentRecorder with Markov Backend.⠹ Registering ExperimentRecorder with Markov Backend.⠸ Registering ExperimentRecorder with Markov Backend.⠼ Registering ExperimentRecorder with Markov Backend.⠴ Registering ExperimentRecorder with Markov Backend."
     ]
    },
    {
     "name": "stderr",
     "output_type": "stream",
     "text": [
      "\r",
      " [Elapsed Time: 0:05:35]  [|                         #          |] (  0.3 B/s) "
     ]
    },
    {
     "name": "stdout",
     "output_type": "stream",
     "text": [
      "✔ Registering ExperimentRecorder with Markov Backend.⠧ Registering ExperimentRecorder with Markov Backend.⠇ Registering ExperimentRecorder with Markov Backend.⠏ Registering ExperimentRecorder with Markov Backend.⠋ Registering ExperimentRecorder with Markov Backend.⠙ Registering ExperimentRecorder with Markov Backend.⠹ Registering ExperimentRecorder with Markov Backend.⠸ Registering ExperimentRecorder with Markov Backend.⠼ Registering ExperimentRecorder with Markov Backend. ExperimentRecorder successfully registered.\n",
      "ℹ You can view the experiment at \u001b\\https://app.markovml.com/pioneer-wsp-27a2ukk2as/proj/vXmg4DkwjkU3JR/experiments/hp-k7rWs9q9SLY2quXUSh655yC\u001b]8;;\u001b\\\n"
     ]
    },
    {
     "name": "stderr",
     "output_type": "stream",
     "text": [
      " [Elapsed Time: 0:05:41]  [|                                  # |] (  0.3 B/s) "
     ]
    },
    {
     "name": "stdout",
     "output_type": "stream",
     "text": [
      "Accuracy: 0.8319236608111039\n",
      "Hinge Loss: 0.6566905226631967\n",
      "Accuracy: 0.8270106221547799\n",
      "Hinge Loss: 0.6661608497723824\n",
      "ℹ Starting recorder to track training data on markov backend using multiple threads. Please wait!\n"
     ]
    },
    {
     "name": "stderr",
     "output_type": "stream",
     "text": [
      " [Elapsed Time: 0:00:00]  [|#                                   |] (  0.0 s/B) \n",
      " [Elapsed Time: 0:05:49]  [|                             #      |] (  0.3 B/s) "
     ]
    },
    {
     "name": "stdout",
     "output_type": "stream",
     "text": [
      "⠋ Please wait while we send the remaining data to the markov backend...\r"
     ]
    },
    {
     "name": "stderr",
     "output_type": "stream",
     "text": [
      "\r",
      " [Elapsed Time: 0:00:06]  [|          #                         |] ( 16.3 B/s) "
     ]
    },
    {
     "name": "stdout",
     "output_type": "stream",
     "text": [
      "⠙"
     ]
    },
    {
     "name": "stderr",
     "output_type": "stream",
     "text": [
      "\n"
     ]
    },
    {
     "name": "stdout",
     "output_type": "stream",
     "text": [
      "✔Please wait while we send the remaining data to the markov backend... Recording has successfully completed.\n"
     ]
    },
    {
     "name": "stderr",
     "output_type": "stream",
     "text": [
      "\r",
      " [Elapsed Time: 0:05:51]  [|        #                           |] (  0.3 B/s) "
     ]
    },
    {
     "name": "stdout",
     "output_type": "stream",
     "text": [
      "ℹ You can view the experiment at \u001b\\https://app.markovml.com/pioneer-wsp-27a2ukk2as/proj/vXmg4DkwjkU3JR/experiments/hp-k7rWs9q9SLY2quXUSh655yC\u001b]8;;\u001b\\\n",
      "C: 0.1, ngram_range: (1, 2), max_features: 5000\n",
      "ROC AUC Score: 0.8234483584950876\n",
      "\n",
      "✔ Fetching project with id vXmg4DkwjkU3JR⠙ Fetching project with id vXmg4DkwjkU3JR⠹ Fetching project with id vXmg4DkwjkU3JR⠸ Fetching project with id vXmg4DkwjkU3JR⠼ Fetching project with id vXmg4DkwjkU3JR⠴ Fetching project with id vXmg4DkwjkU3JR⠦ Fetching project with id vXmg4DkwjkU3JR⠧ Fetching project with id vXmg4DkwjkU3JR⠇ Fetching project with id vXmg4DkwjkU3JR⠏ Fetching project with id vXmg4DkwjkU3JR⠋ Fetching project with id vXmg4DkwjkU3JR⠙ Fetching project with id vXmg4DkwjkU3JR⠹ Fetching project with id vXmg4DkwjkU3JR⠸ Fetching project with id vXmg4DkwjkU3JR Successfully fetched project Team_2_Updated_Results\n",
      "ℹ Creating MarkovML project object Team_2_Updated_Results. Call project_object.register() to register with MarkovML backend.\n",
      "ℹ Creating MarkovML model object Model: SVM_Parameters-0.1-(1, 2)-10000. Call model_object.register() to register with MarkovML backend.\n",
      "⠋ Creating Model Model: SVM_Parameters-0.1-(1, 2)-10000"
     ]
    },
    {
     "name": "stderr",
     "output_type": "stream",
     "text": [
      "\r",
      " [Elapsed Time: 0:05:53]  [|           #                        |] (  0.3 B/s) "
     ]
    },
    {
     "name": "stdout",
     "output_type": "stream",
     "text": [
      "✔ Creating Model Model: SVM_Parameters-0.1-(1, 2)-10000⠹ Creating Model Model: SVM_Parameters-0.1-(1, 2)-10000⠸ Creating Model Model: SVM_Parameters-0.1-(1, 2)-10000⠼ Creating Model Model: SVM_Parameters-0.1-(1, 2)-10000⠴ Creating Model Model: SVM_Parameters-0.1-(1, 2)-10000⠦ Creating Model Model: SVM_Parameters-0.1-(1, 2)-10000⠧ Creating Model Model: SVM_Parameters-0.1-(1, 2)-10000⠇ Creating Model Model: SVM_Parameters-0.1-(1, 2)-10000⠏ Creating Model Model: SVM_Parameters-0.1-(1, 2)-10000⠋ Creating Model Model: SVM_Parameters-0.1-(1, 2)-10000⠙ Creating Model Model: SVM_Parameters-0.1-(1, 2)-10000⠹ Creating Model Model: SVM_Parameters-0.1-(1, 2)-10000⠸ Creating Model Model: SVM_Parameters-0.1-(1, 2)-10000⠼ Creating Model Model: SVM_Parameters-0.1-(1, 2)-10000⠴ Creating Model Model: SVM_Parameters-0.1-(1, 2)-10000⠦ Creating Model Model: SVM_Parameters-0.1-(1, 2)-10000 Model creation for model Model: SVM_Parameters-0.1-(1, 2)-10000 successful!\n",
      "ℹ Creating ExperimentRecorder object SVM_Parameters-0.1-(1, 2)-10000. Call recorder_object.register() to register with MarkovML backend.\n",
      "⠋ Registering ExperimentRecorder with Markov Backend.⠙ Registering ExperimentRecorder with Markov Backend.⠹ Registering ExperimentRecorder with Markov Backend.⠸ Registering ExperimentRecorder with Markov Backend.⠼ Registering ExperimentRecorder with Markov Backend.⠴ Registering ExperimentRecorder with Markov Backend.⠦ Registering ExperimentRecorder with Markov Backend."
     ]
    },
    {
     "name": "stderr",
     "output_type": "stream",
     "text": [
      "\r",
      " [Elapsed Time: 0:05:55]  [|                               #    |] (  0.3 B/s) "
     ]
    },
    {
     "name": "stdout",
     "output_type": "stream",
     "text": [
      "⠧ Registering ExperimentRecorder with Markov Backend.⠇ Registering ExperimentRecorder with Markov Backend.⠏ Registering ExperimentRecorder with Markov Backend.⠋ Registering ExperimentRecorder with Markov Backend.⠙ Registering ExperimentRecorder with Markov Backend.⠹ Registering ExperimentRecorder with Markov Backend.⠸ Registering ExperimentRecorder with Markov Backend.⠼ Registering ExperimentRecorder with Markov Backend.⠴ Registering ExperimentRecorder with Markov Backend.⠦ Registering ExperimentRecorder with Markov Backend.⠧ Registering ExperimentRecorder with Markov Backend.⠇ Registering ExperimentRecorder with Markov Backend.⠏ Registering ExperimentRecorder with Markov Backend.⠋ Registering ExperimentRecorder with Markov Backend.⠙ Registering ExperimentRecorder with Markov Backend.⠹ Registering ExperimentRecorder with Markov Backend.⠸ Registering ExperimentRecorder with Markov Backend.⠼ Registering ExperimentRecorder with Markov Backend.⠴ Registering ExperimentRecorder with Markov Backend.⠦ Registering ExperimentRecorder with Markov Backend.⠧ Registering ExperimentRecorder with Markov Backend.⠇ Registering ExperimentRecorder with Markov Backend.⠏ Registering ExperimentRecorder with Markov Backend."
     ]
    },
    {
     "name": "stderr",
     "output_type": "stream",
     "text": [
      "\r",
      " [Elapsed Time: 0:05:57]  [|                    #               |] (  0.3 B/s) "
     ]
    },
    {
     "name": "stdout",
     "output_type": "stream",
     "text": [
      "✔ Registering ExperimentRecorder with Markov Backend.⠙ Registering ExperimentRecorder with Markov Backend.⠹ Registering ExperimentRecorder with Markov Backend.⠸ Registering ExperimentRecorder with Markov Backend.⠼ Registering ExperimentRecorder with Markov Backend.⠴ Registering ExperimentRecorder with Markov Backend. ExperimentRecorder successfully registered.\n",
      "ℹ You can view the experiment at \u001b\\https://app.markovml.com/pioneer-wsp-27a2ukk2as/proj/vXmg4DkwjkU3JR/experiments/hp-9ZXxukKgA7TtWYyQNgV84Nx\u001b]8;;\u001b\\\n"
     ]
    },
    {
     "name": "stderr",
     "output_type": "stream",
     "text": [
      " [Elapsed Time: 0:06:01]  [|                   #                |] (  0.3 B/s) "
     ]
    },
    {
     "name": "stdout",
     "output_type": "stream",
     "text": [
      "Accuracy: 0.8221643895033616\n",
      "Hinge Loss: 0.6688353936239427\n",
      "Accuracy: 0.8163884673748103\n",
      "Hinge Loss: 0.6775417298937785\n",
      "ℹ Starting recorder to track training data on markov backend using multiple threads. Please wait!\n"
     ]
    },
    {
     "name": "stderr",
     "output_type": "stream",
     "text": [
      " [Elapsed Time: 0:00:00]  [|#                                   |] (  0.0 s/B) \n"
     ]
    },
    {
     "name": "stdout",
     "output_type": "stream",
     "text": [
      "⠋ Please wait while we send the remaining data to the markov backend...\r"
     ]
    },
    {
     "name": "stderr",
     "output_type": "stream",
     "text": [
      "\r",
      " [Elapsed Time: 0:00:06]  [|          #                         |] ( 16.3 B/s) "
     ]
    },
    {
     "name": "stdout",
     "output_type": "stream",
     "text": [
      "⠙"
     ]
    },
    {
     "name": "stderr",
     "output_type": "stream",
     "text": [
      "\n"
     ]
    },
    {
     "name": "stdout",
     "output_type": "stream",
     "text": [
      "✔Please wait while we send the remaining data to the markov backend... Recording has successfully completed.\n"
     ]
    },
    {
     "name": "stderr",
     "output_type": "stream",
     "text": [
      "\r",
      " [Elapsed Time: 0:06:12]  [|                       #            |] (  0.3 B/s) "
     ]
    },
    {
     "name": "stdout",
     "output_type": "stream",
     "text": [
      "ℹ You can view the experiment at \u001b\\https://app.markovml.com/pioneer-wsp-27a2ukk2as/proj/vXmg4DkwjkU3JR/experiments/hp-9ZXxukKgA7TtWYyQNgV84Nx\u001b]8;;\u001b\\\n",
      "C: 0.1, ngram_range: (1, 2), max_features: 10000\n",
      "ROC AUC Score: 0.8125057604748475\n",
      "\n",
      "⠋ Fetching project with id vXmg4DkwjkU3JR⠙ Fetching project with id vXmg4DkwjkU3JR⠹ Fetching project with id vXmg4DkwjkU3JR⠸ Fetching project with id vXmg4DkwjkU3JR⠼ Fetching project with id vXmg4DkwjkU3JR⠴ Fetching project with id vXmg4DkwjkU3JR⠦ Fetching project with id vXmg4DkwjkU3JR⠧ Fetching project with id vXmg4DkwjkU3JR⠇ Fetching project with id vXmg4DkwjkU3JR"
     ]
    },
    {
     "name": "stderr",
     "output_type": "stream",
     "text": [
      "\r",
      " [Elapsed Time: 0:06:14]  [|   #                                |] (  0.3 B/s) "
     ]
    },
    {
     "name": "stdout",
     "output_type": "stream",
     "text": [
      "✔ Fetching project with id vXmg4DkwjkU3JR⠋ Fetching project with id vXmg4DkwjkU3JR⠙ Fetching project with id vXmg4DkwjkU3JR⠹ Fetching project with id vXmg4DkwjkU3JR⠸ Fetching project with id vXmg4DkwjkU3JR⠼ Fetching project with id vXmg4DkwjkU3JR Successfully fetched project Team_2_Updated_Results\n",
      "ℹ Creating MarkovML project object Team_2_Updated_Results. Call project_object.register() to register with MarkovML backend.\n",
      "ℹ Creating MarkovML model object Model: SVM_Parameters-0.1-(1, 2)-15000. Call model_object.register() to register with MarkovML backend.\n",
      "⠋ Creating Model Model: SVM_Parameters-0.1-(1, 2)-15000⠙ Creating Model Model: SVM_Parameters-0.1-(1, 2)-15000⠹ Creating Model Model: SVM_Parameters-0.1-(1, 2)-15000⠸ Creating Model Model: SVM_Parameters-0.1-(1, 2)-15000⠼ Creating Model Model: SVM_Parameters-0.1-(1, 2)-15000⠴ Creating Model Model: SVM_Parameters-0.1-(1, 2)-15000⠦ Creating Model Model: SVM_Parameters-0.1-(1, 2)-15000⠧ Creating Model Model: SVM_Parameters-0.1-(1, 2)-15000⠇ Creating Model Model: SVM_Parameters-0.1-(1, 2)-15000⠏ Creating Model Model: SVM_Parameters-0.1-(1, 2)-15000⠋ Creating Model Model: SVM_Parameters-0.1-(1, 2)-15000⠙ Creating Model Model: SVM_Parameters-0.1-(1, 2)-15000⠹ Creating Model Model: SVM_Parameters-0.1-(1, 2)-15000⠸ Creating Model Model: SVM_Parameters-0.1-(1, 2)-15000⠼ Creating Model Model: SVM_Parameters-0.1-(1, 2)-15000⠴ Creating Model Model: SVM_Parameters-0.1-(1, 2)-15000⠦ Creating Model Model: SVM_Parameters-0.1-(1, 2)-15000"
     ]
    },
    {
     "name": "stderr",
     "output_type": "stream",
     "text": [
      "\r",
      " [Elapsed Time: 0:06:16]  [|                #                   |] (  0.3 B/s) "
     ]
    },
    {
     "name": "stdout",
     "output_type": "stream",
     "text": [
      "✔ Model creation for model Model: SVM_Parameters-0.1-(1, 2)-15000 successful!\n",
      "ℹ Creating ExperimentRecorder object SVM_Parameters-0.1-(1, 2)-15000. Call recorder_object.register() to register with MarkovML backend.\n",
      "⠋ Registering ExperimentRecorder with Markov Backend.⠙ Registering ExperimentRecorder with Markov Backend.⠹ Registering ExperimentRecorder with Markov Backend.⠸ Registering ExperimentRecorder with Markov Backend.⠼ Registering ExperimentRecorder with Markov Backend.⠴ Registering ExperimentRecorder with Markov Backend.⠦ Registering ExperimentRecorder with Markov Backend.⠧ Registering ExperimentRecorder with Markov Backend.⠇ Registering ExperimentRecorder with Markov Backend.⠏ Registering ExperimentRecorder with Markov Backend.⠋ Registering ExperimentRecorder with Markov Backend.⠙ Registering ExperimentRecorder with Markov Backend.⠹ Registering ExperimentRecorder with Markov Backend.⠸ Registering ExperimentRecorder with Markov Backend.⠼ Registering ExperimentRecorder with Markov Backend.⠴ Registering ExperimentRecorder with Markov Backend.⠦ Registering ExperimentRecorder with Markov Backend.⠧ Registering ExperimentRecorder with Markov Backend.⠇ Registering ExperimentRecorder with Markov Backend.⠏ Registering ExperimentRecorder with Markov Backend.⠋ Registering ExperimentRecorder with Markov Backend.⠙ Registering ExperimentRecorder with Markov Backend.⠹ Registering ExperimentRecorder with Markov Backend."
     ]
    },
    {
     "name": "stderr",
     "output_type": "stream",
     "text": [
      "\r",
      " [Elapsed Time: 0:06:18]  [|                                   #|] (  0.3 B/s) "
     ]
    },
    {
     "name": "stdout",
     "output_type": "stream",
     "text": [
      "✔ Registering ExperimentRecorder with Markov Backend.⠼ Registering ExperimentRecorder with Markov Backend.⠴ Registering ExperimentRecorder with Markov Backend.⠦ Registering ExperimentRecorder with Markov Backend.⠧ Registering ExperimentRecorder with Markov Backend.⠇ Registering ExperimentRecorder with Markov Backend.⠏ Registering ExperimentRecorder with Markov Backend.⠋ Registering ExperimentRecorder with Markov Backend.⠙ Registering ExperimentRecorder with Markov Backend.⠹ Registering ExperimentRecorder with Markov Backend.⠸ Registering ExperimentRecorder with Markov Backend. ExperimentRecorder successfully registered.\n",
      "ℹ You can view the experiment at \u001b\\https://app.markovml.com/pioneer-wsp-27a2ukk2as/proj/vXmg4DkwjkU3JR/experiments/hp-3fXbiJuR7SMwfjs3ppELp9k\u001b]8;;\u001b\\\n"
     ]
    },
    {
     "name": "stderr",
     "output_type": "stream",
     "text": [
      " [Elapsed Time: 0:06:22]  [|    #                               |] (  0.3 B/s) "
     ]
    },
    {
     "name": "stdout",
     "output_type": "stream",
     "text": [
      "Accuracy: 0.8182606809802646\n",
      "Hinge Loss: 0.6740403383214053\n",
      "Accuracy: 0.8148710166919575\n",
      "Hinge Loss: 0.6790591805766313\n",
      "ℹ Starting recorder to track training data on markov backend using multiple threads. Please wait!\n"
     ]
    },
    {
     "name": "stderr",
     "output_type": "stream",
     "text": [
      " [Elapsed Time: 0:00:00]  [|#                                   |] (  0.0 s/B) \n"
     ]
    },
    {
     "name": "stdout",
     "output_type": "stream",
     "text": [
      "⠋ Please wait while we send the remaining data to the markov backend...\r"
     ]
    },
    {
     "name": "stderr",
     "output_type": "stream",
     "text": [
      "\r",
      " [Elapsed Time: 0:00:06]  [|          #                         |] ( 16.3 B/s) "
     ]
    },
    {
     "name": "stdout",
     "output_type": "stream",
     "text": [
      "⠙ Please wait while we send the remaining data to the markov backend..."
     ]
    },
    {
     "name": "stderr",
     "output_type": "stream",
     "text": [
      "\n",
      " [Elapsed Time: 0:06:32]  [|                                 #  |] (  0.3 B/s) "
     ]
    },
    {
     "name": "stdout",
     "output_type": "stream",
     "text": [
      "✔ Recording has successfully completed.\n",
      "ℹ You can view the experiment at \u001b\\https://app.markovml.com/pioneer-wsp-27a2ukk2as/proj/vXmg4DkwjkU3JR/experiments/hp-3fXbiJuR7SMwfjs3ppELp9k\u001b]8;;\u001b\\\n",
      "C: 0.1, ngram_range: (1, 2), max_features: 15000\n",
      "ROC AUC Score: 0.8109481280760935\n",
      "\n",
      "⠋ Fetching project with id vXmg4DkwjkU3JR⠙ Fetching project with id vXmg4DkwjkU3JR⠹ Fetching project with id vXmg4DkwjkU3JR⠸ Fetching project with id vXmg4DkwjkU3JR⠼ Fetching project with id vXmg4DkwjkU3JR⠴ Fetching project with id vXmg4DkwjkU3JR"
     ]
    },
    {
     "name": "stderr",
     "output_type": "stream",
     "text": [
      "\r",
      " [Elapsed Time: 0:06:34]  [|                  #                 |] (  0.3 B/s) "
     ]
    },
    {
     "name": "stdout",
     "output_type": "stream",
     "text": [
      "✔ Fetching project with id vXmg4DkwjkU3JR⠧ Fetching project with id vXmg4DkwjkU3JR⠇ Fetching project with id vXmg4DkwjkU3JR⠏ Fetching project with id vXmg4DkwjkU3JR⠋ Fetching project with id vXmg4DkwjkU3JR⠙ Fetching project with id vXmg4DkwjkU3JR⠹ Fetching project with id vXmg4DkwjkU3JR⠸ Fetching project with id vXmg4DkwjkU3JR⠼ Fetching project with id vXmg4DkwjkU3JR⠴ Fetching project with id vXmg4DkwjkU3JR⠦ Fetching project with id vXmg4DkwjkU3JR⠧ Fetching project with id vXmg4DkwjkU3JR⠇ Fetching project with id vXmg4DkwjkU3JR⠏ Fetching project with id vXmg4DkwjkU3JR⠋ Fetching project with id vXmg4DkwjkU3JR⠙ Fetching project with id vXmg4DkwjkU3JR⠹ Fetching project with id vXmg4DkwjkU3JR⠸ Fetching project with id vXmg4DkwjkU3JR Successfully fetched project Team_2_Updated_Results\n",
      "ℹ Creating MarkovML project object Team_2_Updated_Results. Call project_object.register() to register with MarkovML backend.\n",
      "ℹ Creating MarkovML model object Model: SVM_Parameters-0.1-(1, 3)-5000. Call model_object.register() to register with MarkovML backend.\n",
      "⠋ Creating Model Model: SVM_Parameters-0.1-(1, 3)-5000⠙ Creating Model Model: SVM_Parameters-0.1-(1, 3)-5000⠹ Creating Model Model: SVM_Parameters-0.1-(1, 3)-5000⠸ Creating Model Model: SVM_Parameters-0.1-(1, 3)-5000⠼ Creating Model Model: SVM_Parameters-0.1-(1, 3)-5000⠴ Creating Model Model: SVM_Parameters-0.1-(1, 3)-5000"
     ]
    },
    {
     "name": "stderr",
     "output_type": "stream",
     "text": [
      "\r",
      " [Elapsed Time: 0:06:36]  [| #                                  |] (  0.3 B/s) "
     ]
    },
    {
     "name": "stdout",
     "output_type": "stream",
     "text": [
      "✔ Creating Model Model: SVM_Parameters-0.1-(1, 3)-5000⠧ Creating Model Model: SVM_Parameters-0.1-(1, 3)-5000⠇ Creating Model Model: SVM_Parameters-0.1-(1, 3)-5000⠏ Creating Model Model: SVM_Parameters-0.1-(1, 3)-5000⠋ Creating Model Model: SVM_Parameters-0.1-(1, 3)-5000⠙ Creating Model Model: SVM_Parameters-0.1-(1, 3)-5000⠹ Creating Model Model: SVM_Parameters-0.1-(1, 3)-5000⠸ Creating Model Model: SVM_Parameters-0.1-(1, 3)-5000⠼ Creating Model Model: SVM_Parameters-0.1-(1, 3)-5000⠴ Creating Model Model: SVM_Parameters-0.1-(1, 3)-5000⠦ Creating Model Model: SVM_Parameters-0.1-(1, 3)-5000⠧ Creating Model Model: SVM_Parameters-0.1-(1, 3)-5000⠇ Creating Model Model: SVM_Parameters-0.1-(1, 3)-5000 Model creation for model Model: SVM_Parameters-0.1-(1, 3)-5000 successful!\n",
      "ℹ Creating ExperimentRecorder object SVM_Parameters-0.1-(1, 3)-5000. Call recorder_object.register() to register with MarkovML backend.\n",
      "⠋ Registering ExperimentRecorder with Markov Backend.⠙ Registering ExperimentRecorder with Markov Backend.⠹ Registering ExperimentRecorder with Markov Backend.⠸ Registering ExperimentRecorder with Markov Backend.⠼ Registering ExperimentRecorder with Markov Backend.⠴ Registering ExperimentRecorder with Markov Backend.⠦ Registering ExperimentRecorder with Markov Backend.⠧ Registering ExperimentRecorder with Markov Backend.⠇ Registering ExperimentRecorder with Markov Backend.⠏ Registering ExperimentRecorder with Markov Backend."
     ]
    },
    {
     "name": "stderr",
     "output_type": "stream",
     "text": [
      "\r",
      " [Elapsed Time: 0:06:38]  [|                     #              |] (  0.3 B/s) "
     ]
    },
    {
     "name": "stdout",
     "output_type": "stream",
     "text": [
      "⠋ Registering ExperimentRecorder with Markov Backend.⠙ Registering ExperimentRecorder with Markov Backend.⠹ Registering ExperimentRecorder with Markov Backend.⠸ Registering ExperimentRecorder with Markov Backend.⠼ Registering ExperimentRecorder with Markov Backend.⠴ Registering ExperimentRecorder with Markov Backend.⠦ Registering ExperimentRecorder with Markov Backend.⠧ Registering ExperimentRecorder with Markov Backend.⠇ Registering ExperimentRecorder with Markov Backend.⠏ Registering ExperimentRecorder with Markov Backend.⠋ Registering ExperimentRecorder with Markov Backend.⠙ Registering ExperimentRecorder with Markov Backend.⠹ Registering ExperimentRecorder with Markov Backend.⠸ Registering ExperimentRecorder with Markov Backend.⠼ Registering ExperimentRecorder with Markov Backend.⠴ Registering ExperimentRecorder with Markov Backend.⠦ Registering ExperimentRecorder with Markov Backend.⠧ Registering ExperimentRecorder with Markov Backend.⠇ Registering ExperimentRecorder with Markov Backend.⠏ Registering ExperimentRecorder with Markov Backend.⠋ Registering ExperimentRecorder with Markov Backend.⠙ Registering ExperimentRecorder with Markov Backend."
     ]
    },
    {
     "name": "stderr",
     "output_type": "stream",
     "text": [
      "\r",
      " [Elapsed Time: 0:06:40]  [|                              #     |] (  0.2 B/s) "
     ]
    },
    {
     "name": "stdout",
     "output_type": "stream",
     "text": [
      "✔ Registering ExperimentRecorder with Markov Backend.⠸ Registering ExperimentRecorder with Markov Backend.⠼ Registering ExperimentRecorder with Markov Backend. ExperimentRecorder successfully registered.\n",
      "ℹ You can view the experiment at \u001b\\https://app.markovml.com/pioneer-wsp-27a2ukk2as/proj/vXmg4DkwjkU3JR/experiments/hp-A3QojJ5CbeHsZnYQpvfLAyW\u001b]8;;\u001b\\\n"
     ]
    },
    {
     "name": "stderr",
     "output_type": "stream",
     "text": [
      "\r",
      " [Elapsed Time: 0:06:42]  [|          #                         |] (  0.2 B/s) "
     ]
    },
    {
     "name": "stdout",
     "output_type": "stream",
     "text": [
      "Accuracy: 0.8336586423769248\n",
      "Hinge Loss: 0.6545217957059206\n",
      "Accuracy: 0.8270106221547799\n",
      "Hinge Loss: 0.665402124430956"
     ]
    },
    {
     "name": "stderr",
     "output_type": "stream",
     "text": [
      "\r",
      " [Elapsed Time: 0:06:44]  [|          #                         |] (  0.2 B/s) "
     ]
    },
    {
     "name": "stdout",
     "output_type": "stream",
     "text": [
      "\n",
      "ℹ Starting recorder to track training data on markov backend using multiple threads. Please wait!\n"
     ]
    },
    {
     "name": "stderr",
     "output_type": "stream",
     "text": [
      " [Elapsed Time: 0:00:00]  [|#                                   |] (  0.0 s/B) \n",
      " [Elapsed Time: 0:06:52]  [|                  #                 |] (  0.2 B/s) "
     ]
    },
    {
     "name": "stdout",
     "output_type": "stream",
     "text": [
      "⠋ Please wait while we send the remaining data to the markov backend...\r"
     ]
    },
    {
     "name": "stderr",
     "output_type": "stream",
     "text": [
      "\r",
      " [Elapsed Time: 0:00:06]  [|          #                         |] ( 16.2 B/s) "
     ]
    },
    {
     "name": "stdout",
     "output_type": "stream",
     "text": [
      "\r"
     ]
    },
    {
     "name": "stderr",
     "output_type": "stream",
     "text": [
      "\n"
     ]
    },
    {
     "name": "stdout",
     "output_type": "stream",
     "text": [
      "✔ Please wait while we send the remaining data to the markov backend... Recording has successfully completed.\n"
     ]
    },
    {
     "name": "stderr",
     "output_type": "stream",
     "text": [
      "\r",
      " [Elapsed Time: 0:06:54]  [|                                 #  |] (  0.2 B/s) "
     ]
    },
    {
     "name": "stdout",
     "output_type": "stream",
     "text": [
      "ℹ You can view the experiment at \u001b\\https://app.markovml.com/pioneer-wsp-27a2ukk2as/proj/vXmg4DkwjkU3JR/experiments/hp-A3QojJ5CbeHsZnYQpvfLAyW\u001b]8;;\u001b\\\n",
      "C: 0.1, ngram_range: (1, 3), max_features: 5000\n",
      "ROC AUC Score: 0.8234875297240503\n",
      "\n",
      "✔ Fetching project with id vXmg4DkwjkU3JR⠙ Fetching project with id vXmg4DkwjkU3JR⠹ Fetching project with id vXmg4DkwjkU3JR⠸ Fetching project with id vXmg4DkwjkU3JR⠼ Fetching project with id vXmg4DkwjkU3JR⠴ Fetching project with id vXmg4DkwjkU3JR⠦ Fetching project with id vXmg4DkwjkU3JR⠧ Fetching project with id vXmg4DkwjkU3JR⠇ Fetching project with id vXmg4DkwjkU3JR⠏ Fetching project with id vXmg4DkwjkU3JR⠋ Fetching project with id vXmg4DkwjkU3JR⠙ Fetching project with id vXmg4DkwjkU3JR⠹ Fetching project with id vXmg4DkwjkU3JR⠸ Fetching project with id vXmg4DkwjkU3JR⠼ Fetching project with id vXmg4DkwjkU3JR Successfully fetched project Team_2_Updated_Results\n",
      "ℹ Creating MarkovML project object Team_2_Updated_Results. Call project_object.register() to register with MarkovML backend.\n",
      "ℹ Creating MarkovML model object Model: SVM_Parameters-0.1-(1, 3)-10000. Call model_object.register() to register with MarkovML backend.\n",
      "⠋ Creating Model Model: SVM_Parameters-0.1-(1, 3)-10000⠙ Creating Model Model: SVM_Parameters-0.1-(1, 3)-10000⠹ Creating Model Model: SVM_Parameters-0.1-(1, 3)-10000"
     ]
    },
    {
     "name": "stderr",
     "output_type": "stream",
     "text": [
      "\r",
      " [Elapsed Time: 0:06:56]  [|             #                      |] (  0.2 B/s) "
     ]
    },
    {
     "name": "stdout",
     "output_type": "stream",
     "text": [
      "✔ Creating Model Model: SVM_Parameters-0.1-(1, 3)-10000⠼ Creating Model Model: SVM_Parameters-0.1-(1, 3)-10000⠴ Creating Model Model: SVM_Parameters-0.1-(1, 3)-10000⠦ Creating Model Model: SVM_Parameters-0.1-(1, 3)-10000⠧ Creating Model Model: SVM_Parameters-0.1-(1, 3)-10000⠇ Creating Model Model: SVM_Parameters-0.1-(1, 3)-10000⠏ Creating Model Model: SVM_Parameters-0.1-(1, 3)-10000⠋ Creating Model Model: SVM_Parameters-0.1-(1, 3)-10000⠙ Creating Model Model: SVM_Parameters-0.1-(1, 3)-10000⠹ Creating Model Model: SVM_Parameters-0.1-(1, 3)-10000⠸ Creating Model Model: SVM_Parameters-0.1-(1, 3)-10000⠼ Creating Model Model: SVM_Parameters-0.1-(1, 3)-10000⠴ Creating Model Model: SVM_Parameters-0.1-(1, 3)-10000⠦ Creating Model Model: SVM_Parameters-0.1-(1, 3)-10000 Model creation for model Model: SVM_Parameters-0.1-(1, 3)-10000 successful!\n",
      "ℹ Creating ExperimentRecorder object SVM_Parameters-0.1-(1, 3)-10000. Call recorder_object.register() to register with MarkovML backend.\n",
      "⠋ Registering ExperimentRecorder with Markov Backend.⠙ Registering ExperimentRecorder with Markov Backend.⠹ Registering ExperimentRecorder with Markov Backend.⠸ Registering ExperimentRecorder with Markov Backend.⠼ Registering ExperimentRecorder with Markov Backend.⠴ Registering ExperimentRecorder with Markov Backend.⠦ Registering ExperimentRecorder with Markov Backend.⠧ Registering ExperimentRecorder with Markov Backend."
     ]
    },
    {
     "name": "stderr",
     "output_type": "stream",
     "text": [
      "\r",
      " [Elapsed Time: 0:06:58]  [|      #                             |] (  0.2 B/s) "
     ]
    },
    {
     "name": "stdout",
     "output_type": "stream",
     "text": [
      "⠇ Registering ExperimentRecorder with Markov Backend.⠏ Registering ExperimentRecorder with Markov Backend.⠋ Registering ExperimentRecorder with Markov Backend.⠙ Registering ExperimentRecorder with Markov Backend.⠹ Registering ExperimentRecorder with Markov Backend.⠸ Registering ExperimentRecorder with Markov Backend.⠼ Registering ExperimentRecorder with Markov Backend.⠴ Registering ExperimentRecorder with Markov Backend.⠦ Registering ExperimentRecorder with Markov Backend.⠧ Registering ExperimentRecorder with Markov Backend.⠇ Registering ExperimentRecorder with Markov Backend.⠏ Registering ExperimentRecorder with Markov Backend.⠋ Registering ExperimentRecorder with Markov Backend.⠙ Registering ExperimentRecorder with Markov Backend.⠹ Registering ExperimentRecorder with Markov Backend.⠸ Registering ExperimentRecorder with Markov Backend.⠼ Registering ExperimentRecorder with Markov Backend.⠴ Registering ExperimentRecorder with Markov Backend.⠦ Registering ExperimentRecorder with Markov Backend.⠧ Registering ExperimentRecorder with Markov Backend.⠇ Registering ExperimentRecorder with Markov Backend.⠏ Registering ExperimentRecorder with Markov Backend.⠋ Registering ExperimentRecorder with Markov Backend."
     ]
    },
    {
     "name": "stderr",
     "output_type": "stream",
     "text": [
      "\r",
      " [Elapsed Time: 0:07:00]  [|                          #         |] (  0.2 B/s) "
     ]
    },
    {
     "name": "stdout",
     "output_type": "stream",
     "text": [
      "✔ Registering ExperimentRecorder with Markov Backend.⠹ Registering ExperimentRecorder with Markov Backend.⠸ Registering ExperimentRecorder with Markov Backend. ExperimentRecorder successfully registered.\n",
      "ℹ You can view the experiment at \u001b\\https://app.markovml.com/pioneer-wsp-27a2ukk2as/proj/vXmg4DkwjkU3JR/experiments/hp-3Dh2jByh2hJuoDLKsx8skWr\u001b]8;;\u001b\\\n"
     ]
    },
    {
     "name": "stderr",
     "output_type": "stream",
     "text": [
      " [Elapsed Time: 0:07:04]  [|     #                              |] (  0.2 B/s) "
     ]
    },
    {
     "name": "stdout",
     "output_type": "stream",
     "text": [
      "Accuracy: 0.8238993710691824\n",
      "Hinge Loss: 0.6657991758837563\n",
      "Accuracy: 0.8171471927162367\n",
      "Hinge Loss: 0.6752655538694993\n",
      "ℹ Starting recorder to track training data on markov backend using multiple threads. Please wait!\n"
     ]
    },
    {
     "name": "stderr",
     "output_type": "stream",
     "text": [
      " [Elapsed Time: 0:00:00]  [|#                                   |] (  0.0 s/B) \n"
     ]
    },
    {
     "name": "stdout",
     "output_type": "stream",
     "text": [
      "⠋ Please wait while we send the remaining data to the markov backend...\r"
     ]
    },
    {
     "name": "stderr",
     "output_type": "stream",
     "text": [
      "\r",
      " [Elapsed Time: 0:00:06]  [|          #                         |] ( 16.2 B/s) "
     ]
    },
    {
     "name": "stdout",
     "output_type": "stream",
     "text": [
      "\r"
     ]
    },
    {
     "name": "stderr",
     "output_type": "stream",
     "text": [
      "\n"
     ]
    },
    {
     "name": "stdout",
     "output_type": "stream",
     "text": [
      "✔ Please wait while we send the remaining data to the markov backend... Recording has successfully completed.\n"
     ]
    },
    {
     "name": "stderr",
     "output_type": "stream",
     "text": [
      "\r",
      " [Elapsed Time: 0:07:14]  [|                       #            |] (  0.2 B/s) "
     ]
    },
    {
     "name": "stdout",
     "output_type": "stream",
     "text": [
      "ℹ You can view the experiment at \u001b\\https://app.markovml.com/pioneer-wsp-27a2ukk2as/proj/vXmg4DkwjkU3JR/experiments/hp-3Dh2jByh2hJuoDLKsx8skWr\u001b]8;;\u001b\\\n",
      "C: 0.1, ngram_range: (1, 3), max_features: 10000\n",
      "ROC AUC Score: 0.8133629191321499\n",
      "\n",
      "⠋ Fetching project with id vXmg4DkwjkU3JR⠙ Fetching project with id vXmg4DkwjkU3JR⠹ Fetching project with id vXmg4DkwjkU3JR⠸ Fetching project with id vXmg4DkwjkU3JR⠼ Fetching project with id vXmg4DkwjkU3JR⠴ Fetching project with id vXmg4DkwjkU3JR"
     ]
    },
    {
     "name": "stderr",
     "output_type": "stream",
     "text": [
      "\r",
      " [Elapsed Time: 0:07:16]  [|                            #       |] (  0.2 B/s) "
     ]
    },
    {
     "name": "stdout",
     "output_type": "stream",
     "text": [
      "✔ Fetching project with id vXmg4DkwjkU3JR⠧ Fetching project with id vXmg4DkwjkU3JR⠇ Fetching project with id vXmg4DkwjkU3JR⠏ Fetching project with id vXmg4DkwjkU3JR⠋ Fetching project with id vXmg4DkwjkU3JR⠙ Fetching project with id vXmg4DkwjkU3JR⠹ Fetching project with id vXmg4DkwjkU3JR⠸ Fetching project with id vXmg4DkwjkU3JR⠼ Fetching project with id vXmg4DkwjkU3JR Successfully fetched project Team_2_Updated_Results\n",
      "ℹ Creating MarkovML project object Team_2_Updated_Results. Call project_object.register() to register with MarkovML backend.\n",
      "ℹ Creating MarkovML model object Model: SVM_Parameters-0.1-(1, 3)-15000. Call model_object.register() to register with MarkovML backend.\n",
      "⠋ Creating Model Model: SVM_Parameters-0.1-(1, 3)-15000⠙ Creating Model Model: SVM_Parameters-0.1-(1, 3)-15000⠹ Creating Model Model: SVM_Parameters-0.1-(1, 3)-15000⠸ Creating Model Model: SVM_Parameters-0.1-(1, 3)-15000⠼ Creating Model Model: SVM_Parameters-0.1-(1, 3)-15000⠴ Creating Model Model: SVM_Parameters-0.1-(1, 3)-15000⠦ Creating Model Model: SVM_Parameters-0.1-(1, 3)-15000⠧ Creating Model Model: SVM_Parameters-0.1-(1, 3)-15000⠇ Creating Model Model: SVM_Parameters-0.1-(1, 3)-15000⠏ Creating Model Model: SVM_Parameters-0.1-(1, 3)-15000⠋ Creating Model Model: SVM_Parameters-0.1-(1, 3)-15000⠙ Creating Model Model: SVM_Parameters-0.1-(1, 3)-15000⠹ Creating Model Model: SVM_Parameters-0.1-(1, 3)-15000"
     ]
    },
    {
     "name": "stderr",
     "output_type": "stream",
     "text": [
      "\r",
      " [Elapsed Time: 0:07:18]  [|        #                           |] (  0.2 B/s) "
     ]
    },
    {
     "name": "stdout",
     "output_type": "stream",
     "text": [
      "✔ Creating Model Model: SVM_Parameters-0.1-(1, 3)-15000⠼ Creating Model Model: SVM_Parameters-0.1-(1, 3)-15000⠴ Creating Model Model: SVM_Parameters-0.1-(1, 3)-15000⠦ Creating Model Model: SVM_Parameters-0.1-(1, 3)-15000 Model creation for model Model: SVM_Parameters-0.1-(1, 3)-15000 successful!\n",
      "ℹ Creating ExperimentRecorder object SVM_Parameters-0.1-(1, 3)-15000. Call recorder_object.register() to register with MarkovML backend.\n",
      "⠋ Registering ExperimentRecorder with Markov Backend.⠙ Registering ExperimentRecorder with Markov Backend.⠹ Registering ExperimentRecorder with Markov Backend.⠸ Registering ExperimentRecorder with Markov Backend.⠼ Registering ExperimentRecorder with Markov Backend.⠴ Registering ExperimentRecorder with Markov Backend.⠦ Registering ExperimentRecorder with Markov Backend.⠧ Registering ExperimentRecorder with Markov Backend.⠇ Registering ExperimentRecorder with Markov Backend.⠏ Registering ExperimentRecorder with Markov Backend.⠋ Registering ExperimentRecorder with Markov Backend.⠙ Registering ExperimentRecorder with Markov Backend.⠹ Registering ExperimentRecorder with Markov Backend.⠸ Registering ExperimentRecorder with Markov Backend.⠼ Registering ExperimentRecorder with Markov Backend.⠴ Registering ExperimentRecorder with Markov Backend.⠦ Registering ExperimentRecorder with Markov Backend.⠧ Registering ExperimentRecorder with Markov Backend.⠇ Registering ExperimentRecorder with Markov Backend.⠏ Registering ExperimentRecorder with Markov Backend."
     ]
    },
    {
     "name": "stderr",
     "output_type": "stream",
     "text": [
      "\r",
      " [Elapsed Time: 0:07:20]  [|           #                        |] (  0.2 B/s) "
     ]
    },
    {
     "name": "stdout",
     "output_type": "stream",
     "text": [
      "✔ Registering ExperimentRecorder with Markov Backend.⠙ Registering ExperimentRecorder with Markov Backend.⠹ Registering ExperimentRecorder with Markov Backend.⠸ Registering ExperimentRecorder with Markov Backend.⠼ Registering ExperimentRecorder with Markov Backend.⠴ Registering ExperimentRecorder with Markov Backend.⠦ Registering ExperimentRecorder with Markov Backend.⠧ Registering ExperimentRecorder with Markov Backend.⠇ Registering ExperimentRecorder with Markov Backend.⠏ Registering ExperimentRecorder with Markov Backend.⠋ Registering ExperimentRecorder with Markov Backend.⠙ Registering ExperimentRecorder with Markov Backend.⠹ Registering ExperimentRecorder with Markov Backend.⠸ Registering ExperimentRecorder with Markov Backend. ExperimentRecorder successfully registered.\n",
      "ℹ You can view the experiment at \u001b\\https://app.markovml.com/pioneer-wsp-27a2ukk2as/proj/vXmg4DkwjkU3JR/experiments/hp-96tEqAmC9s3bSnjy9UiABLn\u001b]8;;\u001b\\\n"
     ]
    },
    {
     "name": "stderr",
     "output_type": "stream",
     "text": [
      " [Elapsed Time: 0:07:28]  [|                   #                |] (  0.2 B/s) "
     ]
    },
    {
     "name": "stdout",
     "output_type": "stream",
     "text": [
      "Accuracy: 0.8212968987204511\n",
      "Hinge Loss: 0.6694860117111255\n",
      "Accuracy: 0.8201820940819423\n",
      "Hinge Loss: 0.6737481031866465\n",
      "ℹ Starting recorder to track training data on markov backend using multiple threads. Please wait!\n"
     ]
    },
    {
     "name": "stderr",
     "output_type": "stream",
     "text": [
      " [Elapsed Time: 0:00:00]  [|#                                   |] (  0.0 s/B) \n"
     ]
    },
    {
     "name": "stdout",
     "output_type": "stream",
     "text": [
      "⠋ Please wait while we send the remaining data to the markov backend...\r"
     ]
    },
    {
     "name": "stderr",
     "output_type": "stream",
     "text": [
      "\r",
      " [Elapsed Time: 0:00:06]  [|          #                         |] ( 16.4 B/s) "
     ]
    },
    {
     "name": "stdout",
     "output_type": "stream",
     "text": [
      "\r"
     ]
    },
    {
     "name": "stderr",
     "output_type": "stream",
     "text": [
      "\n"
     ]
    },
    {
     "name": "stdout",
     "output_type": "stream",
     "text": [
      "✔ Please wait while we send the remaining data to the markov backend... Recording has successfully completed.\n"
     ]
    },
    {
     "name": "stderr",
     "output_type": "stream",
     "text": [
      "\r",
      " [Elapsed Time: 0:07:38]  [|                       #            |] (  0.2 B/s) "
     ]
    },
    {
     "name": "stdout",
     "output_type": "stream",
     "text": [
      "ℹ You can view the experiment at \u001b\\https://app.markovml.com/pioneer-wsp-27a2ukk2as/proj/vXmg4DkwjkU3JR/experiments/hp-96tEqAmC9s3bSnjy9UiABLn\u001b]8;;\u001b\\\n",
      "C: 0.1, ngram_range: (1, 3), max_features: 15000\n",
      "ROC AUC Score: 0.8163998414717322\n",
      "\n",
      "⠋ Fetching project with id vXmg4DkwjkU3JR⠙ Fetching project with id vXmg4DkwjkU3JR⠹ Fetching project with id vXmg4DkwjkU3JR⠸ Fetching project with id vXmg4DkwjkU3JR"
     ]
    },
    {
     "name": "stderr",
     "output_type": "stream",
     "text": [
      "\r",
      " [Elapsed Time: 0:07:40]  [|   #                                |] (  0.2 B/s) "
     ]
    },
    {
     "name": "stdout",
     "output_type": "stream",
     "text": [
      "✔ Fetching project with id vXmg4DkwjkU3JR⠴ Fetching project with id vXmg4DkwjkU3JR⠦ Fetching project with id vXmg4DkwjkU3JR⠧ Fetching project with id vXmg4DkwjkU3JR⠇ Fetching project with id vXmg4DkwjkU3JR⠏ Fetching project with id vXmg4DkwjkU3JR⠋ Fetching project with id vXmg4DkwjkU3JR⠙ Fetching project with id vXmg4DkwjkU3JR⠹ Fetching project with id vXmg4DkwjkU3JR⠸ Fetching project with id vXmg4DkwjkU3JR⠼ Fetching project with id vXmg4DkwjkU3JR Successfully fetched project Team_2_Updated_Results\n",
      "ℹ Creating MarkovML project object Team_2_Updated_Results. Call project_object.register() to register with MarkovML backend.\n",
      "ℹ Creating MarkovML model object Model: SVM_Parameters-1-(1, 1)-5000. Call model_object.register() to register with MarkovML backend.\n",
      "⠋ Creating Model Model: SVM_Parameters-1-(1, 1)-5000⠙ Creating Model Model: SVM_Parameters-1-(1, 1)-5000⠹ Creating Model Model: SVM_Parameters-1-(1, 1)-5000⠸ Creating Model Model: SVM_Parameters-1-(1, 1)-5000⠼ Creating Model Model: SVM_Parameters-1-(1, 1)-5000⠴ Creating Model Model: SVM_Parameters-1-(1, 1)-5000⠦ Creating Model Model: SVM_Parameters-1-(1, 1)-5000⠧ Creating Model Model: SVM_Parameters-1-(1, 1)-5000⠇ Creating Model Model: SVM_Parameters-1-(1, 1)-5000⠏ Creating Model Model: SVM_Parameters-1-(1, 1)-5000⠋ Creating Model Model: SVM_Parameters-1-(1, 1)-5000⠙ Creating Model Model: SVM_Parameters-1-(1, 1)-5000⠹ Creating Model Model: SVM_Parameters-1-(1, 1)-5000⠸ Creating Model Model: SVM_Parameters-1-(1, 1)-5000"
     ]
    },
    {
     "name": "stderr",
     "output_type": "stream",
     "text": [
      "\r",
      " [Elapsed Time: 0:07:42]  [|                #                   |] (  0.2 B/s) "
     ]
    },
    {
     "name": "stdout",
     "output_type": "stream",
     "text": [
      "✔ Creating Model Model: SVM_Parameters-1-(1, 1)-5000⠴ Creating Model Model: SVM_Parameters-1-(1, 1)-5000⠦ Creating Model Model: SVM_Parameters-1-(1, 1)-5000 Model creation for model Model: SVM_Parameters-1-(1, 1)-5000 successful!\n",
      "ℹ Creating ExperimentRecorder object SVM_Parameters-1-(1, 1)-5000. Call recorder_object.register() to register with MarkovML backend.\n",
      "⠋ Registering ExperimentRecorder with Markov Backend.⠙ Registering ExperimentRecorder with Markov Backend.⠹ Registering ExperimentRecorder with Markov Backend.⠸ Registering ExperimentRecorder with Markov Backend.⠼ Registering ExperimentRecorder with Markov Backend.⠴ Registering ExperimentRecorder with Markov Backend.⠦ Registering ExperimentRecorder with Markov Backend.⠧ Registering ExperimentRecorder with Markov Backend.⠇ Registering ExperimentRecorder with Markov Backend.⠏ Registering ExperimentRecorder with Markov Backend.⠋ Registering ExperimentRecorder with Markov Backend.⠙ Registering ExperimentRecorder with Markov Backend.⠹ Registering ExperimentRecorder with Markov Backend.⠸ Registering ExperimentRecorder with Markov Backend.⠼ Registering ExperimentRecorder with Markov Backend.⠴ Registering ExperimentRecorder with Markov Backend.⠦ Registering ExperimentRecorder with Markov Backend.⠧ Registering ExperimentRecorder with Markov Backend.⠇ Registering ExperimentRecorder with Markov Backend.⠏ Registering ExperimentRecorder with Markov Backend."
     ]
    },
    {
     "name": "stderr",
     "output_type": "stream",
     "text": [
      "\r",
      " [Elapsed Time: 0:07:44]  [|                                   #|] (  0.2 B/s) "
     ]
    },
    {
     "name": "stdout",
     "output_type": "stream",
     "text": [
      "✔ Registering ExperimentRecorder with Markov Backend.⠙ Registering ExperimentRecorder with Markov Backend.⠹ Registering ExperimentRecorder with Markov Backend.⠸ Registering ExperimentRecorder with Markov Backend.⠼ Registering ExperimentRecorder with Markov Backend.⠴ Registering ExperimentRecorder with Markov Backend.⠦ Registering ExperimentRecorder with Markov Backend.⠧ Registering ExperimentRecorder with Markov Backend.⠇ Registering ExperimentRecorder with Markov Backend.⠏ Registering ExperimentRecorder with Markov Backend.⠋ Registering ExperimentRecorder with Markov Backend.⠙ Registering ExperimentRecorder with Markov Backend.⠹ Registering ExperimentRecorder with Markov Backend.⠸ Registering ExperimentRecorder with Markov Backend.⠼ Registering ExperimentRecorder with Markov Backend.⠴ Registering ExperimentRecorder with Markov Backend. ExperimentRecorder successfully registered.\n",
      "ℹ You can view the experiment at \u001b\\https://app.markovml.com/pioneer-wsp-27a2ukk2as/proj/vXmg4DkwjkU3JR/experiments/hp-5A6ZyDPBYaEqSEDoAfA9YPY\u001b]8;;\u001b\\\n"
     ]
    },
    {
     "name": "stderr",
     "output_type": "stream",
     "text": [
      "\r",
      " [Elapsed Time: 0:07:46]  [|               #                    |] (  0.2 B/s) "
     ]
    },
    {
     "name": "stdout",
     "output_type": "stream",
     "text": [
      "Accuracy: 0.9444805898937324\n",
      "Hinge Loss: 0.5413142485361093\n"
     ]
    },
    {
     "name": "stderr",
     "output_type": "stream",
     "text": [
      "\r",
      " [Elapsed Time: 0:07:48]  [|    #                               |] (  0.2 B/s) "
     ]
    },
    {
     "name": "stdout",
     "output_type": "stream",
     "text": [
      "Accuracy: 0.8452200303490136\n",
      "Hinge Loss: 0.6016691957511381\n",
      "ℹ Starting recorder to track training data on markov backend using multiple threads. Please wait!\n"
     ]
    },
    {
     "name": "stderr",
     "output_type": "stream",
     "text": [
      " [Elapsed Time: 0:00:00]  [|#                                   |] (  0.0 s/B) \n",
      " [Elapsed Time: 0:07:56]  [|             #                      |] (  0.2 B/s) "
     ]
    },
    {
     "name": "stdout",
     "output_type": "stream",
     "text": [
      "⠋ Please wait while we send the remaining data to the markov backend..."
     ]
    },
    {
     "name": "stderr",
     "output_type": "stream",
     "text": [
      "\r",
      " [Elapsed Time: 0:00:06]  [|          #                         |] ( 16.3 B/s) "
     ]
    },
    {
     "name": "stdout",
     "output_type": "stream",
     "text": [
      "⠙"
     ]
    },
    {
     "name": "stderr",
     "output_type": "stream",
     "text": [
      "\n"
     ]
    },
    {
     "name": "stdout",
     "output_type": "stream",
     "text": [
      "✔Please wait while we send the remaining data to the markov backend... Recording has successfully completed.\n",
      "ℹ You can view the experiment at \u001b\\https://app.markovml.com/pioneer-wsp-27a2ukk2as/proj/vXmg4DkwjkU3JR/experiments/hp-5A6ZyDPBYaEqSEDoAfA9YPY\u001b]8;;\u001b\\\n",
      "C: 1, ngram_range: (1, 1), max_features: 5000\n",
      "ROC AUC Score: 0.8445293922468617\n",
      "\n",
      "⠋ Fetching project with id vXmg4DkwjkU3JR⠙ Fetching project with id vXmg4DkwjkU3JR⠹ Fetching project with id vXmg4DkwjkU3JR⠸ Fetching project with id vXmg4DkwjkU3JR⠼ Fetching project with id vXmg4DkwjkU3JR"
     ]
    },
    {
     "name": "stderr",
     "output_type": "stream",
     "text": [
      "\r",
      " [Elapsed Time: 0:07:58]  [|                                 #  |] (  0.2 B/s) "
     ]
    },
    {
     "name": "stdout",
     "output_type": "stream",
     "text": [
      "✔ Fetching project with id vXmg4DkwjkU3JR⠦ Fetching project with id vXmg4DkwjkU3JR⠧ Fetching project with id vXmg4DkwjkU3JR⠇ Fetching project with id vXmg4DkwjkU3JR⠏ Fetching project with id vXmg4DkwjkU3JR⠋ Fetching project with id vXmg4DkwjkU3JR⠙ Fetching project with id vXmg4DkwjkU3JR⠹ Fetching project with id vXmg4DkwjkU3JR Successfully fetched project Team_2_Updated_Results\n",
      "ℹ Creating MarkovML project object Team_2_Updated_Results. Call project_object.register() to register with MarkovML backend.\n",
      "ℹ Creating MarkovML model object Model: SVM_Parameters-1-(1, 1)-10000. Call model_object.register() to register with MarkovML backend.\n",
      "⠋ Creating Model Model: SVM_Parameters-1-(1, 1)-10000⠙ Creating Model Model: SVM_Parameters-1-(1, 1)-10000⠹ Creating Model Model: SVM_Parameters-1-(1, 1)-10000⠸ Creating Model Model: SVM_Parameters-1-(1, 1)-10000⠼ Creating Model Model: SVM_Parameters-1-(1, 1)-10000⠴ Creating Model Model: SVM_Parameters-1-(1, 1)-10000⠦ Creating Model Model: SVM_Parameters-1-(1, 1)-10000⠧ Creating Model Model: SVM_Parameters-1-(1, 1)-10000⠇ Creating Model Model: SVM_Parameters-1-(1, 1)-10000⠏ Creating Model Model: SVM_Parameters-1-(1, 1)-10000⠋ Creating Model Model: SVM_Parameters-1-(1, 1)-10000⠙ Creating Model Model: SVM_Parameters-1-(1, 1)-10000⠹ Creating Model Model: SVM_Parameters-1-(1, 1)-10000⠸ Creating Model Model: SVM_Parameters-1-(1, 1)-10000⠼ Creating Model Model: SVM_Parameters-1-(1, 1)-10000"
     ]
    },
    {
     "name": "stderr",
     "output_type": "stream",
     "text": [
      "\r",
      " [Elapsed Time: 0:08:00]  [|                  #                 |] (  0.2 B/s) "
     ]
    },
    {
     "name": "stdout",
     "output_type": "stream",
     "text": [
      "✔ Creating Model Model: SVM_Parameters-1-(1, 1)-10000⠦ Creating Model Model: SVM_Parameters-1-(1, 1)-10000⠧ Creating Model Model: SVM_Parameters-1-(1, 1)-10000 Model creation for model Model: SVM_Parameters-1-(1, 1)-10000 successful!\n",
      "ℹ Creating ExperimentRecorder object SVM_Parameters-1-(1, 1)-10000. Call recorder_object.register() to register with MarkovML backend.\n",
      "⠋ Registering ExperimentRecorder with Markov Backend.⠙ Registering ExperimentRecorder with Markov Backend.⠹ Registering ExperimentRecorder with Markov Backend.⠸ Registering ExperimentRecorder with Markov Backend.⠼ Registering ExperimentRecorder with Markov Backend.⠴ Registering ExperimentRecorder with Markov Backend.⠦ Registering ExperimentRecorder with Markov Backend.⠧ Registering ExperimentRecorder with Markov Backend.⠇ Registering ExperimentRecorder with Markov Backend.⠏ Registering ExperimentRecorder with Markov Backend.⠋ Registering ExperimentRecorder with Markov Backend.⠙ Registering ExperimentRecorder with Markov Backend.⠹ Registering ExperimentRecorder with Markov Backend.⠸ Registering ExperimentRecorder with Markov Backend.⠼ Registering ExperimentRecorder with Markov Backend.⠴ Registering ExperimentRecorder with Markov Backend.⠦ Registering ExperimentRecorder with Markov Backend.⠧ Registering ExperimentRecorder with Markov Backend.⠇ Registering ExperimentRecorder with Markov Backend.⠏ Registering ExperimentRecorder with Markov Backend."
     ]
    },
    {
     "name": "stderr",
     "output_type": "stream",
     "text": [
      "\r",
      " [Elapsed Time: 0:08:02]  [| #                                  |] (  0.2 B/s) "
     ]
    },
    {
     "name": "stdout",
     "output_type": "stream",
     "text": [
      "✔ Registering ExperimentRecorder with Markov Backend.⠙ Registering ExperimentRecorder with Markov Backend.⠹ Registering ExperimentRecorder with Markov Backend.⠸ Registering ExperimentRecorder with Markov Backend.⠼ Registering ExperimentRecorder with Markov Backend.⠴ Registering ExperimentRecorder with Markov Backend.⠦ Registering ExperimentRecorder with Markov Backend.⠧ Registering ExperimentRecorder with Markov Backend.⠇ Registering ExperimentRecorder with Markov Backend.⠏ Registering ExperimentRecorder with Markov Backend.⠋ Registering ExperimentRecorder with Markov Backend.⠙ Registering ExperimentRecorder with Markov Backend.⠹ Registering ExperimentRecorder with Markov Backend.⠸ Registering ExperimentRecorder with Markov Backend.⠼ Registering ExperimentRecorder with Markov Backend.⠴ Registering ExperimentRecorder with Markov Backend. ExperimentRecorder successfully registered.\n",
      "ℹ You can view the experiment at \u001b\\https://app.markovml.com/pioneer-wsp-27a2ukk2as/proj/vXmg4DkwjkU3JR/experiments/hp-54toGkxy7zWu8bL9yw9wC4V\u001b]8;;\u001b\\\n"
     ]
    },
    {
     "name": "stderr",
     "output_type": "stream",
     "text": [
      " [Elapsed Time: 0:08:06]  [|                             #      |] (  0.2 B/s) "
     ]
    },
    {
     "name": "stdout",
     "output_type": "stream",
     "text": [
      "Accuracy: 0.9594448058989373\n",
      "Hinge Loss: 0.5298199956625461\n"
     ]
    },
    {
     "name": "stderr",
     "output_type": "stream",
     "text": [
      "\r",
      " [Elapsed Time: 0:08:08]  [|         #                          |] (  0.2 B/s) "
     ]
    },
    {
     "name": "stdout",
     "output_type": "stream",
     "text": [
      "Accuracy: 0.8505311077389985\n",
      "Hinge Loss: 0.6009104704097117\n",
      "ℹ Starting recorder to track training data on markov backend using multiple threads. Please wait!\n"
     ]
    },
    {
     "name": "stderr",
     "output_type": "stream",
     "text": [
      " [Elapsed Time: 0:00:00]  [|#                                   |] (  0.0 s/B) \n",
      " [Elapsed Time: 0:08:16]  [| #                                  |] (  0.2 B/s) "
     ]
    },
    {
     "name": "stdout",
     "output_type": "stream",
     "text": [
      "⠋ Please wait while we send the remaining data to the markov backend...\r"
     ]
    },
    {
     "name": "stderr",
     "output_type": "stream",
     "text": [
      "\r",
      " [Elapsed Time: 0:00:06]  [|          #                         |] ( 16.3 B/s) "
     ]
    },
    {
     "name": "stdout",
     "output_type": "stream",
     "text": [
      "\r"
     ]
    },
    {
     "name": "stderr",
     "output_type": "stream",
     "text": [
      "\n"
     ]
    },
    {
     "name": "stdout",
     "output_type": "stream",
     "text": [
      "✔ Please wait while we send the remaining data to the markov backend... Recording has successfully completed.\n",
      "ℹ You can view the experiment at \u001b\\https://app.markovml.com/pioneer-wsp-27a2ukk2as/proj/vXmg4DkwjkU3JR/experiments/hp-54toGkxy7zWu8bL9yw9wC4V\u001b]8;;\u001b\\\n",
      "C: 1, ngram_range: (1, 1), max_features: 10000\n"
     ]
    },
    {
     "name": "stderr",
     "output_type": "stream",
     "text": [
      "\r",
      " [Elapsed Time: 0:08:18]  [|                  #                 |] (  0.2 B/s) "
     ]
    },
    {
     "name": "stdout",
     "output_type": "stream",
     "text": [
      "ROC AUC Score: 0.8497460782687238\n",
      "\n",
      "✔ Fetching project with id vXmg4DkwjkU3JR⠙ Fetching project with id vXmg4DkwjkU3JR⠹ Fetching project with id vXmg4DkwjkU3JR⠸ Fetching project with id vXmg4DkwjkU3JR⠼ Fetching project with id vXmg4DkwjkU3JR⠴ Fetching project with id vXmg4DkwjkU3JR⠦ Fetching project with id vXmg4DkwjkU3JR⠧ Fetching project with id vXmg4DkwjkU3JR⠇ Fetching project with id vXmg4DkwjkU3JR⠏ Fetching project with id vXmg4DkwjkU3JR⠋ Fetching project with id vXmg4DkwjkU3JR⠙ Fetching project with id vXmg4DkwjkU3JR⠹ Fetching project with id vXmg4DkwjkU3JR⠸ Fetching project with id vXmg4DkwjkU3JR⠼ Fetching project with id vXmg4DkwjkU3JR Successfully fetched project Team_2_Updated_Results\n",
      "ℹ Creating MarkovML project object Team_2_Updated_Results. Call project_object.register() to register with MarkovML backend.\n",
      "ℹ Creating MarkovML model object Model: SVM_Parameters-1-(1, 1)-15000. Call model_object.register() to register with MarkovML backend.\n",
      "⠋ Creating Model Model: SVM_Parameters-1-(1, 1)-15000⠙ Creating Model Model: SVM_Parameters-1-(1, 1)-15000⠹ Creating Model Model: SVM_Parameters-1-(1, 1)-15000⠸ Creating Model Model: SVM_Parameters-1-(1, 1)-15000⠼ Creating Model Model: SVM_Parameters-1-(1, 1)-15000⠴ Creating Model Model: SVM_Parameters-1-(1, 1)-15000⠦ Creating Model Model: SVM_Parameters-1-(1, 1)-15000⠧ Creating Model Model: SVM_Parameters-1-(1, 1)-15000"
     ]
    },
    {
     "name": "stderr",
     "output_type": "stream",
     "text": [
      "\r",
      " [Elapsed Time: 0:08:20]  [|                                 #  |] (  0.2 B/s) "
     ]
    },
    {
     "name": "stdout",
     "output_type": "stream",
     "text": [
      "✔ Creating Model Model: SVM_Parameters-1-(1, 1)-15000⠏ Creating Model Model: SVM_Parameters-1-(1, 1)-15000⠋ Creating Model Model: SVM_Parameters-1-(1, 1)-15000⠙ Creating Model Model: SVM_Parameters-1-(1, 1)-15000⠹ Creating Model Model: SVM_Parameters-1-(1, 1)-15000⠸ Creating Model Model: SVM_Parameters-1-(1, 1)-15000⠼ Creating Model Model: SVM_Parameters-1-(1, 1)-15000⠴ Creating Model Model: SVM_Parameters-1-(1, 1)-15000 Model creation for model Model: SVM_Parameters-1-(1, 1)-15000 successful!\n",
      "ℹ Creating ExperimentRecorder object SVM_Parameters-1-(1, 1)-15000. Call recorder_object.register() to register with MarkovML backend.\n",
      "⠋ Registering ExperimentRecorder with Markov Backend.⠙ Registering ExperimentRecorder with Markov Backend.⠹ Registering ExperimentRecorder with Markov Backend.⠸ Registering ExperimentRecorder with Markov Backend.⠼ Registering ExperimentRecorder with Markov Backend.⠴ Registering ExperimentRecorder with Markov Backend.⠦ Registering ExperimentRecorder with Markov Backend.⠧ Registering ExperimentRecorder with Markov Backend.⠇ Registering ExperimentRecorder with Markov Backend.⠏ Registering ExperimentRecorder with Markov Backend.⠋ Registering ExperimentRecorder with Markov Backend.⠙ Registering ExperimentRecorder with Markov Backend.⠹ Registering ExperimentRecorder with Markov Backend."
     ]
    },
    {
     "name": "stderr",
     "output_type": "stream",
     "text": [
      "\r",
      " [Elapsed Time: 0:08:22]  [|             #                      |] (  0.2 B/s) "
     ]
    },
    {
     "name": "stdout",
     "output_type": "stream",
     "text": [
      "✔ Registering ExperimentRecorder with Markov Backend.⠼ Registering ExperimentRecorder with Markov Backend.⠴ Registering ExperimentRecorder with Markov Backend.⠦ Registering ExperimentRecorder with Markov Backend.⠧ Registering ExperimentRecorder with Markov Backend.⠇ Registering ExperimentRecorder with Markov Backend.⠏ Registering ExperimentRecorder with Markov Backend.⠋ Registering ExperimentRecorder with Markov Backend.⠙ Registering ExperimentRecorder with Markov Backend.⠹ Registering ExperimentRecorder with Markov Backend.⠸ Registering ExperimentRecorder with Markov Backend.⠼ Registering ExperimentRecorder with Markov Backend.⠴ Registering ExperimentRecorder with Markov Backend.⠦ Registering ExperimentRecorder with Markov Backend.⠧ Registering ExperimentRecorder with Markov Backend.⠇ Registering ExperimentRecorder with Markov Backend.⠏ Registering ExperimentRecorder with Markov Backend.⠋ Registering ExperimentRecorder with Markov Backend.⠙ Registering ExperimentRecorder with Markov Backend.⠹ Registering ExperimentRecorder with Markov Backend.⠸ Registering ExperimentRecorder with Markov Backend. ExperimentRecorder successfully registered.\n",
      "ℹ You can view the experiment at \u001b\\https://app.markovml.com/pioneer-wsp-27a2ukk2as/proj/vXmg4DkwjkU3JR/experiments/hp-5boQ6x2HeXaHEysU3qnPWFP\u001b]8;;\u001b\\\n"
     ]
    },
    {
     "name": "stderr",
     "output_type": "stream",
     "text": [
      " [Elapsed Time: 0:08:28]  [|                         #          |] (  0.2 B/s) "
     ]
    },
    {
     "name": "stdout",
     "output_type": "stream",
     "text": [
      "Accuracy: 0.9696378225981349\n",
      "Hinge Loss: 0.522663196703535\n",
      "Accuracy: 0.8452200303490136\n",
      "Hinge Loss: 0.6031866464339909\n",
      "ℹ Starting recorder to track training data on markov backend using multiple threads. Please wait!\n"
     ]
    },
    {
     "name": "stderr",
     "output_type": "stream",
     "text": [
      " [Elapsed Time: 0:00:00]  [|#                                   |] (  0.0 s/B) \n",
      " [Elapsed Time: 0:08:36]  [|                #                   |] (  0.2 B/s) "
     ]
    },
    {
     "name": "stdout",
     "output_type": "stream",
     "text": [
      "⠋ Please wait while we send the remaining data to the markov backend...\r"
     ]
    },
    {
     "name": "stderr",
     "output_type": "stream",
     "text": [
      "\r",
      " [Elapsed Time: 0:00:06]  [|          #                         |] ( 16.2 B/s) "
     ]
    },
    {
     "name": "stdout",
     "output_type": "stream",
     "text": [
      "⠙ Please wait while we send the remaining data to the markov backend..."
     ]
    },
    {
     "name": "stderr",
     "output_type": "stream",
     "text": [
      "\n"
     ]
    },
    {
     "name": "stdout",
     "output_type": "stream",
     "text": [
      "✔ Recording has successfully completed.\n"
     ]
    },
    {
     "name": "stderr",
     "output_type": "stream",
     "text": [
      "\r",
      " [Elapsed Time: 0:08:38]  [|   #                                |] (  0.2 B/s) "
     ]
    },
    {
     "name": "stdout",
     "output_type": "stream",
     "text": [
      "ℹ You can view the experiment at \u001b\\https://app.markovml.com/pioneer-wsp-27a2ukk2as/proj/vXmg4DkwjkU3JR/experiments/hp-5boQ6x2HeXaHEysU3qnPWFP\u001b]8;;\u001b\\\n",
      "C: 1, ngram_range: (1, 1), max_features: 15000\n",
      "ROC AUC Score: 0.8444510497889361\n",
      "\n",
      "⠋ Fetching project with id vXmg4DkwjkU3JR⠙ Fetching project with id vXmg4DkwjkU3JR⠹ Fetching project with id vXmg4DkwjkU3JR⠸ Fetching project with id vXmg4DkwjkU3JR⠼ Fetching project with id vXmg4DkwjkU3JR⠴ Fetching project with id vXmg4DkwjkU3JR⠦ Fetching project with id vXmg4DkwjkU3JR⠧ Fetching project with id vXmg4DkwjkU3JR⠇ Fetching project with id vXmg4DkwjkU3JR"
     ]
    },
    {
     "name": "stderr",
     "output_type": "stream",
     "text": [
      "\r",
      " [Elapsed Time: 0:08:40]  [|                       #            |] (  0.2 B/s) "
     ]
    },
    {
     "name": "stdout",
     "output_type": "stream",
     "text": [
      "✔ Fetching project with id vXmg4DkwjkU3JR⠋ Fetching project with id vXmg4DkwjkU3JR⠙ Fetching project with id vXmg4DkwjkU3JR⠹ Fetching project with id vXmg4DkwjkU3JR⠸ Fetching project with id vXmg4DkwjkU3JR⠼ Fetching project with id vXmg4DkwjkU3JR⠴ Fetching project with id vXmg4DkwjkU3JR⠦ Fetching project with id vXmg4DkwjkU3JR⠧ Fetching project with id vXmg4DkwjkU3JR⠇ Fetching project with id vXmg4DkwjkU3JR⠏ Fetching project with id vXmg4DkwjkU3JR⠋ Fetching project with id vXmg4DkwjkU3JR⠙ Fetching project with id vXmg4DkwjkU3JR⠹ Fetching project with id vXmg4DkwjkU3JR⠸ Fetching project with id vXmg4DkwjkU3JR⠼ Fetching project with id vXmg4DkwjkU3JR⠴ Fetching project with id vXmg4DkwjkU3JR Successfully fetched project Team_2_Updated_Results\n",
      "ℹ Creating MarkovML project object Team_2_Updated_Results. Call project_object.register() to register with MarkovML backend.\n",
      "ℹ Creating MarkovML model object Model: SVM_Parameters-1-(1, 2)-5000. Call model_object.register() to register with MarkovML backend.\n",
      "⠋ Creating Model Model: SVM_Parameters-1-(1, 2)-5000⠙ Creating Model Model: SVM_Parameters-1-(1, 2)-5000⠹ Creating Model Model: SVM_Parameters-1-(1, 2)-5000⠸ Creating Model Model: SVM_Parameters-1-(1, 2)-5000⠼ Creating Model Model: SVM_Parameters-1-(1, 2)-5000⠴ Creating Model Model: SVM_Parameters-1-(1, 2)-5000"
     ]
    },
    {
     "name": "stderr",
     "output_type": "stream",
     "text": [
      "\r",
      " [Elapsed Time: 0:08:42]  [|                            #       |] (  0.2 B/s) "
     ]
    },
    {
     "name": "stdout",
     "output_type": "stream",
     "text": [
      "✔ Creating Model Model: SVM_Parameters-1-(1, 2)-5000⠧ Creating Model Model: SVM_Parameters-1-(1, 2)-5000⠇ Creating Model Model: SVM_Parameters-1-(1, 2)-5000⠏ Creating Model Model: SVM_Parameters-1-(1, 2)-5000⠋ Creating Model Model: SVM_Parameters-1-(1, 2)-5000⠙ Creating Model Model: SVM_Parameters-1-(1, 2)-5000⠹ Creating Model Model: SVM_Parameters-1-(1, 2)-5000⠸ Creating Model Model: SVM_Parameters-1-(1, 2)-5000⠼ Creating Model Model: SVM_Parameters-1-(1, 2)-5000 Model creation for model Model: SVM_Parameters-1-(1, 2)-5000 successful!\n",
      "ℹ Creating ExperimentRecorder object SVM_Parameters-1-(1, 2)-5000. Call recorder_object.register() to register with MarkovML backend.\n",
      "⠋ Registering ExperimentRecorder with Markov Backend.⠙ Registering ExperimentRecorder with Markov Backend.⠹ Registering ExperimentRecorder with Markov Backend.⠸ Registering ExperimentRecorder with Markov Backend.⠼ Registering ExperimentRecorder with Markov Backend.⠴ Registering ExperimentRecorder with Markov Backend.⠦ Registering ExperimentRecorder with Markov Backend.⠧ Registering ExperimentRecorder with Markov Backend.⠇ Registering ExperimentRecorder with Markov Backend.⠏ Registering ExperimentRecorder with Markov Backend.⠋ Registering ExperimentRecorder with Markov Backend.⠙ Registering ExperimentRecorder with Markov Backend.⠹ Registering ExperimentRecorder with Markov Backend.⠸ Registering ExperimentRecorder with Markov Backend."
     ]
    },
    {
     "name": "stderr",
     "output_type": "stream",
     "text": [
      "\r",
      " [Elapsed Time: 0:08:44]  [|        #                           |] (  0.2 B/s) "
     ]
    },
    {
     "name": "stdout",
     "output_type": "stream",
     "text": [
      "✔ Registering ExperimentRecorder with Markov Backend.⠴ Registering ExperimentRecorder with Markov Backend.⠦ Registering ExperimentRecorder with Markov Backend.⠧ Registering ExperimentRecorder with Markov Backend.⠇ Registering ExperimentRecorder with Markov Backend.⠏ Registering ExperimentRecorder with Markov Backend.⠋ Registering ExperimentRecorder with Markov Backend.⠙ Registering ExperimentRecorder with Markov Backend.⠹ Registering ExperimentRecorder with Markov Backend.⠸ Registering ExperimentRecorder with Markov Backend.⠼ Registering ExperimentRecorder with Markov Backend.⠴ Registering ExperimentRecorder with Markov Backend.⠦ Registering ExperimentRecorder with Markov Backend.⠧ Registering ExperimentRecorder with Markov Backend.⠇ Registering ExperimentRecorder with Markov Backend.⠏ Registering ExperimentRecorder with Markov Backend.⠋ Registering ExperimentRecorder with Markov Backend.⠙ Registering ExperimentRecorder with Markov Backend. ExperimentRecorder successfully registered.\n",
      "ℹ You can view the experiment at \u001b\\https://app.markovml.com/pioneer-wsp-27a2ukk2as/proj/vXmg4DkwjkU3JR/experiments/hp-AhPvAtPZsoyL5gsN33TkTV5\u001b]8;;\u001b\\\n"
     ]
    },
    {
     "name": "stderr",
     "output_type": "stream",
     "text": [
      " [Elapsed Time: 0:08:48]  [|                               #    |] (  0.2 B/s) "
     ]
    },
    {
     "name": "stdout",
     "output_type": "stream",
     "text": [
      "Accuracy: 0.9449143352851876\n",
      "Hinge Loss: 0.5415311212318369\n",
      "Accuracy: 0.8391502276176024\n",
      "Hinge Loss: 0.6069802731411229\n",
      "ℹ Starting recorder to track training data on markov backend using multiple threads. Please wait!\n"
     ]
    },
    {
     "name": "stderr",
     "output_type": "stream",
     "text": [
      " [Elapsed Time: 0:00:00]  [|#                                   |] (  0.0 s/B) \n",
      " [Elapsed Time: 0:08:58]  [|           #                        |] (  0.2 B/s) "
     ]
    },
    {
     "ename": "KeyboardInterrupt",
     "evalue": "",
     "output_type": "error",
     "traceback": [
      "\u001b[0;31m---------------------------------------------------------------------------\u001b[0m",
      "\u001b[0;31mKeyboardInterrupt\u001b[0m                         Traceback (most recent call last)",
      "Cell \u001b[0;32mIn[30], line 59\u001b[0m\n\u001b[1;32m     57\u001b[0m     recorder1\u001b[38;5;241m.\u001b[39msummary\u001b[38;5;241m.\u001b[39madd_training_accuracy(value\u001b[38;5;241m=\u001b[39m\u001b[38;5;124m\"\u001b[39m\u001b[38;5;132;01m{:.2f}\u001b[39;00m\u001b[38;5;124m\"\u001b[39m\u001b[38;5;241m.\u001b[39mformat(training_accuracy))\n\u001b[1;32m     58\u001b[0m     recorder1\u001b[38;5;241m.\u001b[39msummary\u001b[38;5;241m.\u001b[39madd_validation_loss(value\u001b[38;5;241m=\u001b[39m\u001b[38;5;124m\"\u001b[39m\u001b[38;5;132;01m{:.2f}\u001b[39;00m\u001b[38;5;124m\"\u001b[39m\u001b[38;5;241m.\u001b[39mformat(hinge_loss))\n\u001b[0;32m---> 59\u001b[0m     recorder1\u001b[38;5;241m.\u001b[39msummary\u001b[38;5;241m.\u001b[39madd_validation_accuracy(value\u001b[38;5;241m=\u001b[39m\u001b[38;5;124m\"\u001b[39m\u001b[38;5;132;01m{:.2f}\u001b[39;00m\u001b[38;5;124m\"\u001b[39m\u001b[38;5;241m.\u001b[39mformat(accuracy))\n\u001b[1;32m     62\u001b[0m \u001b[38;5;66;03m# Calculate ROC AUC score\u001b[39;00m\n\u001b[1;32m     63\u001b[0m roc_auc \u001b[38;5;241m=\u001b[39m roc_auc_score(y_val, y_pred)\n",
      "File \u001b[0;32m~/venv/lib/python3.9/site-packages/markov/api/recording/experiments/experiment_recorder.py:145\u001b[0m, in \u001b[0;36mExperimentRecorder.__exit__\u001b[0;34m(self, exc_type, exc_val, exc_tb)\u001b[0m\n\u001b[1;32m    144\u001b[0m \u001b[38;5;28;01mdef\u001b[39;00m \u001b[38;5;21m__exit__\u001b[39m(\u001b[38;5;28mself\u001b[39m, exc_type, exc_val, exc_tb):\n\u001b[0;32m--> 145\u001b[0m     \u001b[38;5;28;43mself\u001b[39;49m\u001b[38;5;241;43m.\u001b[39;49m\u001b[43mstop\u001b[49m\u001b[43m(\u001b[49m\u001b[43m)\u001b[49m\n",
      "File \u001b[0;32m~/venv/lib/python3.9/site-packages/markov/api/recording/experiments/experiment_recorder.py:387\u001b[0m, in \u001b[0;36mExperimentRecorder.stop\u001b[0;34m(self)\u001b[0m\n\u001b[1;32m    384\u001b[0m     \u001b[38;5;28mself\u001b[39m\u001b[38;5;241m.\u001b[39m_summary\u001b[38;5;241m.\u001b[39mset()\n\u001b[1;32m    386\u001b[0m \u001b[38;5;28mself\u001b[39m\u001b[38;5;241m.\u001b[39m_machine_stats_processor\u001b[38;5;241m.\u001b[39mstop()\n\u001b[0;32m--> 387\u001b[0m is_success \u001b[38;5;241m=\u001b[39m \u001b[38;5;28;43mself\u001b[39;49m\u001b[38;5;241;43m.\u001b[39;49m\u001b[43m_processor\u001b[49m\u001b[38;5;241;43m.\u001b[39;49m\u001b[43mstop\u001b[49m\u001b[43m(\u001b[49m\u001b[43m)\u001b[49m\n\u001b[1;32m    388\u001b[0m \u001b[38;5;28;01mif\u001b[39;00m is_success:\n\u001b[1;32m    389\u001b[0m     \u001b[38;5;28mself\u001b[39m\u001b[38;5;241m.\u001b[39m_print_experiment_url()\n",
      "File \u001b[0;32m~/venv/lib/python3.9/site-packages/markov/common/utils/exception_handling_util.py:9\u001b[0m, in \u001b[0;36msupress_exception_as_warning.<locals>.inner\u001b[0;34m(*args, **kwargs)\u001b[0m\n\u001b[1;32m      6\u001b[0m \u001b[38;5;129m@wraps\u001b[39m(func)\n\u001b[1;32m      7\u001b[0m \u001b[38;5;28;01mdef\u001b[39;00m \u001b[38;5;21minner\u001b[39m(\u001b[38;5;241m*\u001b[39margs, \u001b[38;5;241m*\u001b[39m\u001b[38;5;241m*\u001b[39mkwargs):\n\u001b[1;32m      8\u001b[0m     \u001b[38;5;28;01mtry\u001b[39;00m:\n\u001b[0;32m----> 9\u001b[0m         return_value \u001b[38;5;241m=\u001b[39m \u001b[43mfunc\u001b[49m\u001b[43m(\u001b[49m\u001b[38;5;241;43m*\u001b[39;49m\u001b[43margs\u001b[49m\u001b[43m,\u001b[49m\u001b[43m \u001b[49m\u001b[38;5;241;43m*\u001b[39;49m\u001b[43mkwargs\u001b[49m\u001b[43m)\u001b[49m\n\u001b[1;32m     10\u001b[0m         \u001b[38;5;28;01mreturn\u001b[39;00m return_value\n\u001b[1;32m     11\u001b[0m     \u001b[38;5;28;01mexcept\u001b[39;00m \u001b[38;5;167;01mException\u001b[39;00m \u001b[38;5;28;01mas\u001b[39;00m e:\n",
      "File \u001b[0;32m~/venv/lib/python3.9/site-packages/markov/api/recording/experiments/processors/experiment_recording_processor.py:115\u001b[0m, in \u001b[0;36mExperimentRecordingProcessor.stop\u001b[0;34m(self)\u001b[0m\n\u001b[1;32m    113\u001b[0m \u001b[38;5;28;01mif\u001b[39;00m \u001b[38;5;28mself\u001b[39m\u001b[38;5;241m.\u001b[39m_consumer_thread\u001b[38;5;241m.\u001b[39mis_alive():\n\u001b[1;32m    114\u001b[0m     \u001b[38;5;28mself\u001b[39m\u001b[38;5;241m.\u001b[39m_consumer_thread\u001b[38;5;241m.\u001b[39msync_remaining_elements()\n\u001b[0;32m--> 115\u001b[0m     \u001b[38;5;28;43mself\u001b[39;49m\u001b[38;5;241;43m.\u001b[39;49m\u001b[43m_consumer_thread\u001b[49m\u001b[38;5;241;43m.\u001b[39;49m\u001b[43mjoin\u001b[49m\u001b[43m(\u001b[49m\u001b[43m)\u001b[49m\n\u001b[1;32m    117\u001b[0m \u001b[38;5;28mself\u001b[39m\u001b[38;5;241m.\u001b[39m_tpe\u001b[38;5;241m.\u001b[39mshutdown()\n\u001b[1;32m    119\u001b[0m is_success \u001b[38;5;241m=\u001b[39m \u001b[38;5;28;01mFalse\u001b[39;00m\n",
      "File \u001b[0;32m/usr/lib/python3.9/threading.py:1060\u001b[0m, in \u001b[0;36mThread.join\u001b[0;34m(self, timeout)\u001b[0m\n\u001b[1;32m   1057\u001b[0m     \u001b[38;5;28;01mraise\u001b[39;00m \u001b[38;5;167;01mRuntimeError\u001b[39;00m(\u001b[38;5;124m\"\u001b[39m\u001b[38;5;124mcannot join current thread\u001b[39m\u001b[38;5;124m\"\u001b[39m)\n\u001b[1;32m   1059\u001b[0m \u001b[38;5;28;01mif\u001b[39;00m timeout \u001b[38;5;129;01mis\u001b[39;00m \u001b[38;5;28;01mNone\u001b[39;00m:\n\u001b[0;32m-> 1060\u001b[0m     \u001b[38;5;28;43mself\u001b[39;49m\u001b[38;5;241;43m.\u001b[39;49m\u001b[43m_wait_for_tstate_lock\u001b[49m\u001b[43m(\u001b[49m\u001b[43m)\u001b[49m\n\u001b[1;32m   1061\u001b[0m \u001b[38;5;28;01melse\u001b[39;00m:\n\u001b[1;32m   1062\u001b[0m     \u001b[38;5;66;03m# the behavior of a negative timeout isn't documented, but\u001b[39;00m\n\u001b[1;32m   1063\u001b[0m     \u001b[38;5;66;03m# historically .join(timeout=x) for x<0 has acted as if timeout=0\u001b[39;00m\n\u001b[1;32m   1064\u001b[0m     \u001b[38;5;28mself\u001b[39m\u001b[38;5;241m.\u001b[39m_wait_for_tstate_lock(timeout\u001b[38;5;241m=\u001b[39m\u001b[38;5;28mmax\u001b[39m(timeout, \u001b[38;5;241m0\u001b[39m))\n",
      "File \u001b[0;32m/usr/lib/python3.9/threading.py:1080\u001b[0m, in \u001b[0;36mThread._wait_for_tstate_lock\u001b[0;34m(self, block, timeout)\u001b[0m\n\u001b[1;32m   1077\u001b[0m     \u001b[38;5;28;01mreturn\u001b[39;00m\n\u001b[1;32m   1079\u001b[0m \u001b[38;5;28;01mtry\u001b[39;00m:\n\u001b[0;32m-> 1080\u001b[0m     \u001b[38;5;28;01mif\u001b[39;00m \u001b[43mlock\u001b[49m\u001b[38;5;241;43m.\u001b[39;49m\u001b[43macquire\u001b[49m\u001b[43m(\u001b[49m\u001b[43mblock\u001b[49m\u001b[43m,\u001b[49m\u001b[43m \u001b[49m\u001b[43mtimeout\u001b[49m\u001b[43m)\u001b[49m:\n\u001b[1;32m   1081\u001b[0m         lock\u001b[38;5;241m.\u001b[39mrelease()\n\u001b[1;32m   1082\u001b[0m         \u001b[38;5;28mself\u001b[39m\u001b[38;5;241m.\u001b[39m_stop()\n",
      "\u001b[0;31mKeyboardInterrupt\u001b[0m: "
     ]
    },
    {
     "name": "stdout",
     "output_type": "stream",
     "text": []
    }
   ],
   "source": [
    "c_values = [0.01, 0.1, 1, 10, 100]\n",
    "ngram_ranges = [(1, 1), (1, 2), (1, 3)]\n",
    "max_features_values = [5000, 10000, 15000]\n",
    "\n",
    "# Initialize variables to store best results\n",
    "best_score = 0\n",
    "best_params = {}\n",
    "\n",
    "# Iterate over hyperparameter combinations\n",
    "for c in c_values:\n",
    "    for ngram_range in ngram_ranges:\n",
    "        for max_features in max_features_values:\n",
    "\n",
    "            tfidf_vectorizer = TfidfVectorizer(max_features=max_features, ngram_range=ngram_range)\n",
    "            X_train_tfidf = tfidf_vectorizer.fit_transform(X_train)\n",
    "            X_val_tfidf = tfidf_vectorizer.transform(X_val)\n",
    "            \n",
    "\n",
    "            # Create and train the SVM model with hyperparameter tuning\n",
    "            svm_model = SVC(kernel='linear',C=c, class_weight='balanced')\n",
    "            \n",
    "            my_project = markov.Project.get_by_id(\"vXmg4DkwjkU3JR\")\n",
    "            recorder1 = my_project.create_experiment_recorder(\n",
    "                    experiment_name = f\"SVM_Parameters-{c}-{ngram_range}-{max_features}\",\n",
    "                experiment_notes = \"Linear SVM Experiment\",\n",
    "                hyper_parameters ={\n",
    "                    \"C\": c,\n",
    "                    \"kernel\": \"linear\",\n",
    "                    \"max_features\":max_features,\n",
    "                    \"ngram-range\":ngram_range\n",
    "                }\n",
    "            )\n",
    "            recorder1.register()\n",
    "            svm_model.fit(X_train_tfidf, y_train)\n",
    "            #predcting training accuracy\n",
    "            y_pred_train = svm_model.predict(X_train_tfidf)\n",
    "            accuracy = accuracy_score(y_train, y_pred_train)\n",
    "            print(\"Accuracy:\", accuracy)\n",
    "            hinge_loss = np.maximum(0, 1 - y_train * y_pred_train).mean()\n",
    "            print(\"Hinge Loss:\", hinge_loss)\n",
    "            training_accuracy = accuracy\n",
    "            training_loss = hinge_loss\n",
    "            \n",
    "            # Predict on the validation set\n",
    "            y_pred = svm_model.predict(X_val_tfidf)\n",
    "            \n",
    "            # Calculate accuracy\n",
    "            accuracy = accuracy_score(y_val, y_pred)\n",
    "            print(\"Accuracy:\", accuracy)\n",
    "            hinge_loss = np.maximum(0, 1 - y_val * y_pred).mean()\n",
    "            print(\"Hinge Loss:\", hinge_loss)\n",
    "\n",
    "            with recorder1:\n",
    "                recorder1.add_record({\"accuracy\": accuracy})\n",
    "                recorder1.add_record({\"loss\": hinge_loss})\n",
    "                recorder1.summary.add_training_loss(value=\"{:.2f}\".format(training_loss))\n",
    "                recorder1.summary.add_training_accuracy(value=\"{:.2f}\".format(training_accuracy))\n",
    "                recorder1.summary.add_validation_loss(value=\"{:.2f}\".format(hinge_loss))\n",
    "                recorder1.summary.add_validation_accuracy(value=\"{:.2f}\".format(accuracy))\n",
    "\n",
    "\n",
    "            # Calculate ROC AUC score\n",
    "            roc_auc = roc_auc_score(y_val, y_pred)\n",
    "\n",
    "            # Print current combination's results\n",
    "            print(f'C: {c}, ngram_range: {ngram_range}, max_features: {max_features}')\n",
    "            print(f'ROC AUC Score: {roc_auc}\\n')\n",
    "            \n",
    "\n",
    "            # Update best results if necessary\n",
    "            if roc_auc > best_score:\n",
    "                best_score = roc_auc\n",
    "                best_params = {'C': c, 'ngram_range': ngram_range, 'max_features': max_features}\n",
    "\n",
    "# Print best results\n"
   ]
  },
  {
   "cell_type": "code",
   "execution_count": 69,
   "id": "4cb31888",
   "metadata": {},
   "outputs": [
    {
     "name": "stdout",
     "output_type": "stream",
     "text": [
      "Best Hyperparameters: {'C': 1, 'ngram_range': (1, 1), 'max_features': 10000}\n",
      "Best ROC AUC Score: 0.8497460782687238\n",
      "\r"
     ]
    },
    {
     "name": "stderr",
     "output_type": "stream",
     "text": [
      "\r",
      " [Elapsed Time: 0:46:37]  [|                                #   |] ( 28.0 s/B) "
     ]
    }
   ],
   "source": [
    "print('Best Hyperparameters:', best_params)\n",
    "print('Best ROC AUC Score:', best_score)"
   ]
  },
  {
   "cell_type": "markdown",
   "id": "4d5a44d4",
   "metadata": {},
   "source": [
    "### Identifying the best hyperparameters and associated ROC AUC score and creating and testing model with it"
   ]
  },
  {
   "cell_type": "code",
   "execution_count": 70,
   "id": "73f34e4b",
   "metadata": {},
   "outputs": [
    {
     "name": "stdout",
     "output_type": "stream",
     "text": [
      "\r"
     ]
    },
    {
     "name": "stderr",
     "output_type": "stream",
     "text": [
      "\r",
      " [Elapsed Time: 0:46:39]  [|            #                       |] ( 28.0 s/B) "
     ]
    }
   ],
   "source": [
    "data = pd.read_csv('../Data/Cleaned_Tweets_stopwords.csv')\n",
    "\n",
    "X = data['cleaned_text']\n",
    "y = data['label']\n",
    "\n",
    "X_temp, X_test, y_temp, y_test = train_test_split(X, y, test_size=0.3, random_state=42)\n",
    "X_train, X_val, y_train, y_val = train_test_split(X_temp, y_temp, test_size=0.2, random_state=42)\n"
   ]
  },
  {
   "cell_type": "code",
   "execution_count": 72,
   "id": "8463ae2f",
   "metadata": {},
   "outputs": [
    {
     "name": "stdout",
     "output_type": "stream",
     "text": [
      "⠋ Fetching project with id vXmg4DkwjkU3JR⠙ Fetching project with id vXmg4DkwjkU3JR⠹ Fetching project with id vXmg4DkwjkU3JR⠸ Fetching project with id vXmg4DkwjkU3JR⠼ Fetching project with id vXmg4DkwjkU3JR⠴ Fetching project with id vXmg4DkwjkU3JR⠦ Fetching project with id vXmg4DkwjkU3JR"
     ]
    },
    {
     "name": "stderr",
     "output_type": "stream",
     "text": [
      "\r",
      " [Elapsed Time: 0:47:03]  [|            #                       |] ( 28.2 s/B) "
     ]
    },
    {
     "name": "stdout",
     "output_type": "stream",
     "text": [
      "✔ Fetching project with id vXmg4DkwjkU3JR⠇ Fetching project with id vXmg4DkwjkU3JR⠏ Fetching project with id vXmg4DkwjkU3JR⠋ Fetching project with id vXmg4DkwjkU3JR⠙ Fetching project with id vXmg4DkwjkU3JR⠹ Fetching project with id vXmg4DkwjkU3JR⠸ Fetching project with id vXmg4DkwjkU3JR⠼ Fetching project with id vXmg4DkwjkU3JR⠴ Fetching project with id vXmg4DkwjkU3JR Successfully fetched project Team_2_Updated_Results\n",
      "ℹ Creating MarkovML project object Team_2_Updated_Results. Call project_object.register() to register with MarkovML backend.\n",
      "ℹ Creating MarkovML model object Model: Best_SVM_Model. Call model_object.register() to register with MarkovML backend.\n",
      "⠋ Creating Model Model: Best_SVM_Model⠙ Creating Model Model: Best_SVM_Model⠹ Creating Model Model: Best_SVM_Model⠸ Creating Model Model: Best_SVM_Model⠼ Creating Model Model: Best_SVM_Model⠴ Creating Model Model: Best_SVM_Model⠦ Creating Model Model: Best_SVM_Model⠧ Creating Model Model: Best_SVM_Model⠇ Creating Model Model: Best_SVM_Model⠏ Creating Model Model: Best_SVM_Model⠋ Creating Model Model: Best_SVM_Model⠙ Creating Model Model: Best_SVM_Model⠹ Creating Model Model: Best_SVM_Model⠸ Creating Model Model: Best_SVM_Model"
     ]
    },
    {
     "name": "stderr",
     "output_type": "stream",
     "text": [
      "\r",
      " [Elapsed Time: 0:47:05]  [|                                #   |] ( 28.3 s/B) "
     ]
    },
    {
     "name": "stdout",
     "output_type": "stream",
     "text": [
      "✔ Creating Model Model: Best_SVM_Model⠴ Creating Model Model: Best_SVM_Model⠦ Creating Model Model: Best_SVM_Model⠧ Creating Model Model: Best_SVM_Model⠇ Creating Model Model: Best_SVM_Model Model creation for model Model: Best_SVM_Model successful!\n",
      "ℹ Creating ExperimentRecorder object Best_SVM_Model. Call recorder_object.register() to register with MarkovML backend.\n",
      "⠋ Registering ExperimentRecorder with Markov Backend.⠙ Registering ExperimentRecorder with Markov Backend.⠹ Registering ExperimentRecorder with Markov Backend.⠸ Registering ExperimentRecorder with Markov Backend.⠼ Registering ExperimentRecorder with Markov Backend.⠴ Registering ExperimentRecorder with Markov Backend.⠦ Registering ExperimentRecorder with Markov Backend.⠧ Registering ExperimentRecorder with Markov Backend.⠇ Registering ExperimentRecorder with Markov Backend.⠏ Registering ExperimentRecorder with Markov Backend.⠋ Registering ExperimentRecorder with Markov Backend.⠙ Registering ExperimentRecorder with Markov Backend.⠹ Registering ExperimentRecorder with Markov Backend.⠸ Registering ExperimentRecorder with Markov Backend.⠼ Registering ExperimentRecorder with Markov Backend.⠴ Registering ExperimentRecorder with Markov Backend.⠦ Registering ExperimentRecorder with Markov Backend."
     ]
    },
    {
     "name": "stderr",
     "output_type": "stream",
     "text": [
      "\r",
      " [Elapsed Time: 0:47:07]  [|                   #                |] ( 28.3 s/B) "
     ]
    },
    {
     "name": "stdout",
     "output_type": "stream",
     "text": [
      "✔ Registering ExperimentRecorder with Markov Backend.⠇ Registering ExperimentRecorder with Markov Backend.⠏ Registering ExperimentRecorder with Markov Backend.⠋ Registering ExperimentRecorder with Markov Backend.⠙ Registering ExperimentRecorder with Markov Backend.⠹ Registering ExperimentRecorder with Markov Backend.⠸ Registering ExperimentRecorder with Markov Backend.⠼ Registering ExperimentRecorder with Markov Backend.⠴ Registering ExperimentRecorder with Markov Backend.⠦ Registering ExperimentRecorder with Markov Backend.⠧ Registering ExperimentRecorder with Markov Backend.⠇ Registering ExperimentRecorder with Markov Backend.⠏ Registering ExperimentRecorder with Markov Backend.⠋ Registering ExperimentRecorder with Markov Backend.⠙ Registering ExperimentRecorder with Markov Backend.⠹ Registering ExperimentRecorder with Markov Backend.⠸ Registering ExperimentRecorder with Markov Backend.⠼ Registering ExperimentRecorder with Markov Backend.⠴ Registering ExperimentRecorder with Markov Backend.⠦ Registering ExperimentRecorder with Markov Backend. ExperimentRecorder successfully registered.\n",
      "ℹ You can view the experiment at \u001b\\https://app.markovml.com/pioneer-wsp-27a2ukk2as/proj/vXmg4DkwjkU3JR/experiments/hp-3Q38KtrZ5VGPT4pLyvQ7eD5\u001b]8;;\u001b\\\n"
     ]
    },
    {
     "name": "stderr",
     "output_type": "stream",
     "text": [
      " [Elapsed Time: 0:47:17]  [|        #                           |] ( 28.4 s/B) "
     ]
    },
    {
     "name": "stdout",
     "output_type": "stream",
     "text": [
      "Accuracy: 0.96529284164859\n",
      "Hinge Loss: 0.5273861171366594\n",
      "Accuracy: 0.8407367280606717\n",
      "Hinge Loss: 0.5937161430119177\n",
      "ℹ Starting recorder to track training data on markov backend using multiple threads. Please wait!\n"
     ]
    },
    {
     "name": "stderr",
     "output_type": "stream",
     "text": [
      " [Elapsed Time: 0:00:00]  [|#                                   |] (  0.0 s/B) \n",
      " [Elapsed Time: 0:47:27]  [|                                  # |] ( 28.5 s/B) "
     ]
    },
    {
     "name": "stdout",
     "output_type": "stream",
     "text": [
      "⠋ Please wait while we send the remaining data to the markov backend...\r"
     ]
    },
    {
     "name": "stderr",
     "output_type": "stream",
     "text": [
      "\r",
      " [Elapsed Time: 0:00:06]  [|          #                         |] ( 16.1 B/s) "
     ]
    },
    {
     "name": "stdout",
     "output_type": "stream",
     "text": [
      "⠙"
     ]
    },
    {
     "name": "stderr",
     "output_type": "stream",
     "text": [
      "\n"
     ]
    },
    {
     "name": "stdout",
     "output_type": "stream",
     "text": [
      "✔Please wait while we send the remaining data to the markov backend... Recording has successfully completed.\n",
      "ℹ You can view the experiment at \u001b\\https://app.markovml.com/pioneer-wsp-27a2ukk2as/proj/vXmg4DkwjkU3JR/experiments/hp-3Q38KtrZ5VGPT4pLyvQ7eD5\u001b]8;;\u001b\\\n",
      "\r"
     ]
    },
    {
     "name": "stderr",
     "output_type": "stream",
     "text": [
      " [Elapsed Time: 0:47:49]  [|                              #     |] ( 28.7 s/B) "
     ]
    }
   ],
   "source": [
    "final_tfidf_vectorizer = TfidfVectorizer(max_features=best_params['max_features'], ngram_range=best_params['ngram_range'], stop_words='english')\n",
    "X_train_tfidf = final_tfidf_vectorizer.fit_transform(X_train)\n",
    "X_test_tfidf = final_tfidf_vectorizer.transform(X_test)\n",
    "X_val_tfidf = final_tfidf_vectorizer.transform(X_val)\n",
    "\n",
    "\n",
    "final_svm_model = SVC(kernel='linear',C=best_params['C'], class_weight='balanced',probability=True)\n",
    "my_project = markov.Project.get_by_id(\"vXmg4DkwjkU3JR\")\n",
    "recorder1 = my_project.create_experiment_recorder(\n",
    "        experiment_name = f\"Best_SVM_Model\",\n",
    "    experiment_notes = \"Linear SVM Experiment\",\n",
    "    hyper_parameters ={\n",
    "        \"C\": best_params['C'],\n",
    "        \"kernel\": \"linear\",\n",
    "        \"max_features\":best_params['max_features'],\n",
    "        \"ngram-range\":best_params['ngram_range']\n",
    "    }\n",
    ")\n",
    "recorder1.register()\n",
    "\n",
    "final_svm_model.fit(X_train_tfidf, y_train)\n",
    "#predcting training accuracy\n",
    "\n",
    "y_pred_train = final_svm_model.predict(X_train_tfidf)\n",
    "accuracy = accuracy_score(y_train, y_pred_train)\n",
    "print(\"Accuracy:\", accuracy)\n",
    "hinge_loss = np.maximum(0, 1 - y_train * y_pred_train).mean()\n",
    "print(\"Hinge Loss:\", hinge_loss)\n",
    "training_accuracy = accuracy\n",
    "training_loss = hinge_loss\n",
    "\n",
    "y_pred = final_svm_model.predict(X_val_tfidf)\n",
    "\n",
    "# Calculate accuracy\n",
    "accuracy = accuracy_score(y_val, y_pred)\n",
    "print(\"Accuracy:\", accuracy)\n",
    "hinge_loss = np.maximum(0, 1 - y_val * y_pred).mean()\n",
    "print(\"Hinge Loss:\", hinge_loss)\n",
    "\n",
    "# Predict on the validation set\n",
    "\n",
    "\n",
    "with recorder1:\n",
    "    recorder1.add_record({\"accuracy\": accuracy})\n",
    "    recorder1.add_record({\"loss\": hinge_loss})\n",
    "    recorder1.summary.add_training_loss(value=\"{:.2f}\".format(training_loss))\n",
    "    recorder1.summary.add_training_accuracy(value=\"{:.2f}\".format(training_accuracy))\n",
    "    recorder1.summary.add_validation_loss(value=\"{:.2f}\".format(hinge_loss))\n",
    "    recorder1.summary.add_validation_accuracy(value=\"{:.2f}\".format(accuracy))\n",
    "\n",
    "\n",
    "\n",
    "\n",
    "\n",
    "  # Get predicted probabilities"
   ]
  },
  {
   "cell_type": "code",
   "execution_count": 73,
   "id": "2dc7786d",
   "metadata": {},
   "outputs": [
    {
     "name": "stderr",
     "output_type": "stream",
     "text": [
      "\r",
      " [Elapsed Time: 0:47:51]  [|          #                         |] ( 28.7 s/B) "
     ]
    },
    {
     "name": "stdout",
     "output_type": "stream",
     "text": [
      "\r"
     ]
    },
    {
     "name": "stderr",
     "output_type": "stream",
     "text": [
      " [Elapsed Time: 0:48:07]  [|      #                             |] ( 28.9 s/B) "
     ]
    }
   ],
   "source": [
    "y_test_pred = final_svm_model.predict(X_test_tfidf)\n",
    "y_test_prob = final_svm_model.predict_proba(X_test_tfidf)\n",
    "max_values = np.max(y_test_prob, axis=1)\n",
    "orig_copy = [[value] for value in max_values]\n",
    "y_pred = [[value] for value in y_test_pred]\n"
   ]
  },
  {
   "cell_type": "code",
   "execution_count": 74,
   "id": "a4d5fc3f",
   "metadata": {},
   "outputs": [
    {
     "name": "stdout",
     "output_type": "stream",
     "text": [
      "ℹ Creating EvaluationRecorder object Evaluating Best SVM Model. Call recorder_object.register() to register with MarkovML backend.\n",
      "⠋ Registering evaluation recorder Evaluating Best SVM Model⠙ Registering evaluation recorder Evaluating Best SVM Model⠹ Registering evaluation recorder Evaluating Best SVM Model⠸ Registering evaluation recorder Evaluating Best SVM Model⠼ Registering evaluation recorder Evaluating Best SVM Model⠴ Registering evaluation recorder Evaluating Best SVM Model⠦ Registering evaluation recorder Evaluating Best SVM Model⠧ Registering evaluation recorder Evaluating Best SVM Model⠇ Registering evaluation recorder Evaluating Best SVM Model⠏ Registering evaluation recorder Evaluating Best SVM Model⠋ Registering evaluation recorder Evaluating Best SVM Model⠙ Registering evaluation recorder Evaluating Best SVM Model⠹ Registering evaluation recorder Evaluating Best SVM Model⠸ Registering evaluation recorder Evaluating Best SVM Model⠼ Registering evaluation recorder Evaluating Best SVM Model"
     ]
    },
    {
     "name": "stderr",
     "output_type": "stream",
     "text": [
      "\r",
      " [Elapsed Time: 0:48:09]  [|                          #         |] ( 28.9 s/B) "
     ]
    },
    {
     "name": "stdout",
     "output_type": "stream",
     "text": [
      "✔ Registering evaluation recorder Evaluating Best SVM Model⠦ Registering evaluation recorder Evaluating Best SVM Model⠧ Registering evaluation recorder Evaluating Best SVM Model⠇ Registering evaluation recorder Evaluating Best SVM Model⠏ Registering evaluation recorder Evaluating Best SVM Model⠋ Registering evaluation recorder Evaluating Best SVM Model⠙ Registering evaluation recorder Evaluating Best SVM Model⠹ Registering evaluation recorder Evaluating Best SVM Model⠸ Registering evaluation recorder Evaluating Best SVM Model⠼ Registering evaluation recorder Evaluating Best SVM Model⠴ Registering evaluation recorder Evaluating Best SVM Model⠦ Registering evaluation recorder Evaluating Best SVM Model⠧ Registering evaluation recorder Evaluating Best SVM Model⠇ Registering evaluation recorder Evaluating Best SVM Model Evaluation recorder creation for EvaluationRecording(name='Evaluating Best SVM Model', model_id='D9R7SvnXnvYodkiJy3', note='Testing evaluation with MarkovML', dataset_id='4Sjrh3yito3qKjujy', info={}) successful.\n"
     ]
    },
    {
     "data": {
      "text/plain": [
       "<markov.api.recording.evaluations.evaluation_recorder.EvaluationRecorder at 0x7f931223b040>"
      ]
     },
     "execution_count": 74,
     "metadata": {},
     "output_type": "execute_result"
    },
    {
     "name": "stdout",
     "output_type": "stream",
     "text": [
      "\r"
     ]
    },
    {
     "name": "stderr",
     "output_type": "stream",
     "text": [
      " [Elapsed Time: 0:48:17]  [|                                  # |] ( 29.0 s/B) "
     ]
    }
   ],
   "source": [
    "from markov.api.schemas.model_recording import SingleTagInferenceRecord,RecordMetaType\n",
    "from markov import EvaluationRecorder\n",
    "\n",
    "evaluation_recorder = EvaluationRecorder(\n",
    "    name=f\"Evaluating Best SVM Model\",\n",
    "    notes=f\"Testing evaluation with MarkovML\",\n",
    "    model_id=\"D9R7SvnXnvYodkiJy3\",  # or my_model.model_id\n",
    "    dataset_id=\"4Sjrh3yito3qKjujy\"\n",
    "    \n",
    ")\n",
    "\n",
    "evaluation_recorder.register()"
   ]
  },
  {
   "cell_type": "code",
   "execution_count": 75,
   "id": "b7c5c08f",
   "metadata": {},
   "outputs": [
    {
     "name": "stderr",
     "output_type": "stream",
     "text": [
      "Upload Progress : 100%|████████████████████████| 2/2 [00:04<00:00,  2.10s/batch]\n"
     ]
    },
    {
     "name": "stdout",
     "output_type": "stream",
     "text": [
      "EvaluationRecordingFinishResponse(count=1977, recording_id='4N2pkoE9goR3RW4NNmmM2aG', return_code='OK', message='', run_id='uNHSdMtt7GoVnR7ptPj')\n",
      "\r"
     ]
    },
    {
     "name": "stderr",
     "output_type": "stream",
     "text": [
      " [Elapsed Time: 0:53:02]  [|  #                                 |] ( 31.8 s/B) "
     ]
    }
   ],
   "source": [
    "def _get_cost(inferred, actual):\n",
    "    if actual == inferred:\n",
    "        return 0\n",
    "    else:\n",
    "        return random.randint(2, 5)\n",
    "    \n",
    "urid = 1\n",
    "for prob, pred, orig, txt in zip(orig_copy, y_pred, y_test, X_test):\n",
    "    urid=urid+1\n",
    "    mi_record = SingleTagInferenceRecord(\n",
    "        inferred=float(pred[0]),\n",
    "        actual=float(orig),\n",
    "        urid=urid,\n",
    "        score=float(prob[0]),\n",
    "        custom_metrics=[\n",
    "            RecordCustomMetric(label=\"Cost\", value=_get_cost(float(pred[0]), float(orig))),\n",
    "            RecordCustomMetric(label=\"Probability\", value=float(prob[0]))\n",
    "        ]\n",
    "    )\n",
    "    evaluation_recorder.add_record(mi_record)\n",
    "outcome = evaluation_recorder.finish()\n",
    "print(outcome)"
   ]
  },
  {
   "cell_type": "code",
   "execution_count": 76,
   "id": "c0c70cb8",
   "metadata": {},
   "outputs": [
    {
     "name": "stdout",
     "output_type": "stream",
     "text": [
      "ℹ Creating EvaluationRecorder object Reddit Eval on Best SVM. Call recorder_object.register() to register with MarkovML backend.\n",
      "⠋ Registering evaluation recorder Reddit Eval on Best SVM⠙ Registering evaluation recorder Reddit Eval on Best SVM⠹ Registering evaluation recorder Reddit Eval on Best SVM⠸ Registering evaluation recorder Reddit Eval on Best SVM⠼ Registering evaluation recorder Reddit Eval on Best SVM"
     ]
    },
    {
     "name": "stderr",
     "output_type": "stream",
     "text": [
      "\r",
      " [Elapsed Time: 0:53:04]  [|                      #             |] ( 31.8 s/B) "
     ]
    },
    {
     "name": "stdout",
     "output_type": "stream",
     "text": [
      "⠴ Registering evaluation recorder Reddit Eval on Best SVM⠦ Registering evaluation recorder Reddit Eval on Best SVM⠧ Registering evaluation recorder Reddit Eval on Best SVM⠇ Registering evaluation recorder Reddit Eval on Best SVM⠏ Registering evaluation recorder Reddit Eval on Best SVM⠋ Registering evaluation recorder Reddit Eval on Best SVM⠙ Registering evaluation recorder Reddit Eval on Best SVM⠹ Registering evaluation recorder Reddit Eval on Best SVM⠸ Registering evaluation recorder Reddit Eval on Best SVM⠼ Registering evaluation recorder Reddit Eval on Best SVM⠴ Registering evaluation recorder Reddit Eval on Best SVM⠦ Registering evaluation recorder Reddit Eval on Best SVM⠧ Registering evaluation recorder Reddit Eval on Best SVM⠇ Registering evaluation recorder Reddit Eval on Best SVM⠏ Registering evaluation recorder Reddit Eval on Best SVM⠋ Registering evaluation recorder Reddit Eval on Best SVM⠙ Registering evaluation recorder Reddit Eval on Best SVM⠹ Registering evaluation recorder Reddit Eval on Best SVM⠸ Registering evaluation recorder Reddit Eval on Best SVM⠼ Registering evaluation recorder Reddit Eval on Best SVM⠴ Registering evaluation recorder Reddit Eval on Best SVM⠦ Registering evaluation recorder Reddit Eval on Best SVM"
     ]
    },
    {
     "name": "stderr",
     "output_type": "stream",
     "text": [
      "\r",
      " [Elapsed Time: 0:53:06]  [|                             #      |] ( 31.9 s/B) "
     ]
    },
    {
     "name": "stdout",
     "output_type": "stream",
     "text": [
      "✔ Registering evaluation recorder Reddit Eval on Best SVM⠇ Registering evaluation recorder Reddit Eval on Best SVM⠏ Registering evaluation recorder Reddit Eval on Best SVM⠋ Registering evaluation recorder Reddit Eval on Best SVM⠙ Registering evaluation recorder Reddit Eval on Best SVM⠹ Registering evaluation recorder Reddit Eval on Best SVM⠸ Registering evaluation recorder Reddit Eval on Best SVM⠼ Registering evaluation recorder Reddit Eval on Best SVM⠴ Registering evaluation recorder Reddit Eval on Best SVM⠦ Registering evaluation recorder Reddit Eval on Best SVM⠧ Registering evaluation recorder Reddit Eval on Best SVM⠇ Registering evaluation recorder Reddit Eval on Best SVM⠏ Registering evaluation recorder Reddit Eval on Best SVM Evaluation recorder creation for EvaluationRecording(name='Reddit Eval on Best SVM', model_id='D9R7SvnXnvYodkiJy3', note='Testing evaluation with MarkovML', dataset_id='4Sjrh3yito3qKjujy', info={}) successful.\n"
     ]
    },
    {
     "data": {
      "text/plain": [
       "<markov.api.recording.evaluations.evaluation_recorder.EvaluationRecorder at 0x7f9311e11a90>"
      ]
     },
     "execution_count": 76,
     "metadata": {},
     "output_type": "execute_result"
    },
    {
     "name": "stdout",
     "output_type": "stream",
     "text": [
      "\r"
     ]
    },
    {
     "name": "stderr",
     "output_type": "stream",
     "text": [
      " [Elapsed Time: 0:53:38]  [|   #                                |] ( 32.2 s/B) "
     ]
    }
   ],
   "source": [
    "from markov.api.schemas.model_recording import SingleTagInferenceRecord,RecordMetaType\n",
    "from markov import EvaluationRecorder\n",
    "\n",
    "evaluation_recorder = EvaluationRecorder(\n",
    "    name=f\"Reddit Eval on Best SVM\",\n",
    "    notes=f\"Testing evaluation with MarkovML\",\n",
    "    model_id=\"D9R7SvnXnvYodkiJy3\",  # or my_model.model_id\n",
    "    dataset_id=\"4Sjrh3yito3qKjujy\"\n",
    "    \n",
    ")\n",
    "\n",
    "evaluation_recorder.register()"
   ]
  },
  {
   "cell_type": "code",
   "execution_count": 77,
   "id": "0b0d620d",
   "metadata": {},
   "outputs": [
    {
     "name": "stdout",
     "output_type": "stream",
     "text": [
      "\r"
     ]
    },
    {
     "name": "stderr",
     "output_type": "stream",
     "text": [
      " [Elapsed Time: 0:53:46]  [|            #                       |] ( 32.3 s/B) "
     ]
    }
   ],
   "source": [
    "data = pd.read_csv('../Data/Cleaned_Reddit.csv')\n",
    "\n",
    "X_test = data['cleaned_text']\n",
    "y_test = data['label']\n",
    "\n",
    "X_test_tfidf = final_tfidf_vectorizer.transform(X_test)\n",
    "\n",
    "y_test_pred = final_svm_model.predict(X_test_tfidf)\n",
    "y_test_prob = final_svm_model.predict_proba(X_test_tfidf)\n",
    "max_values = np.max(y_test_prob, axis=1)\n",
    "orig_copy = [[value] for value in max_values]\n",
    "y_pred = [[value] for value in y_test_pred]\n",
    "\n"
   ]
  },
  {
   "cell_type": "code",
   "execution_count": 78,
   "id": "d7506b31",
   "metadata": {},
   "outputs": [
    {
     "name": "stderr",
     "output_type": "stream",
     "text": [
      "Upload Progress : 100%|████████████████████████| 1/1 [00:01<00:00,  1.33s/batch]\n"
     ]
    },
    {
     "name": "stdout",
     "output_type": "stream",
     "text": [
      "EvaluationRecordingFinishResponse(count=752, recording_id='eCeNnkX8BRDwQDfYANJ4D7g', return_code='OK', message='', run_id='yJRAChfnp3m9APdWhGM')\n",
      "\r"
     ]
    },
    {
     "name": "stderr",
     "output_type": "stream",
     "text": [
      " [Elapsed Time: 0:56:45]  [|  #                                 |] ( 34.1 s/B) "
     ]
    }
   ],
   "source": [
    "def _get_cost(inferred, actual):\n",
    "    if actual == inferred:\n",
    "        return 0\n",
    "    else:\n",
    "        return random.randint(2, 5)\n",
    "    \n",
    "urid = 1\n",
    "for prob, pred, orig, txt in zip(orig_copy, y_pred, y_test, X_test):\n",
    "    urid=urid+1\n",
    "    mi_record = SingleTagInferenceRecord(\n",
    "        inferred=float(pred[0]),\n",
    "        actual=float(orig),\n",
    "        urid=urid,\n",
    "        score=float(prob[0]),\n",
    "        custom_metrics=[\n",
    "            RecordCustomMetric(label=\"Cost\", value=_get_cost(float(pred[0]), float(orig))),\n",
    "            RecordCustomMetric(label=\"Probability\", value=float(prob[0]))\n",
    "        ]\n",
    "    )\n",
    "    evaluation_recorder.add_record(mi_record)\n",
    "outcome = evaluation_recorder.finish()\n",
    "print(outcome)"
   ]
  }
 ],
 "metadata": {
  "kernelspec": {
   "display_name": "Python 3 (ipykernel)",
   "language": "python",
   "name": "python3"
  },
  "language_info": {
   "codemirror_mode": {
    "name": "ipython",
    "version": 3
   },
   "file_extension": ".py",
   "mimetype": "text/x-python",
   "name": "python",
   "nbconvert_exporter": "python",
   "pygments_lexer": "ipython3",
   "version": "3.9.16"
  }
 },
 "nbformat": 4,
 "nbformat_minor": 5
}
