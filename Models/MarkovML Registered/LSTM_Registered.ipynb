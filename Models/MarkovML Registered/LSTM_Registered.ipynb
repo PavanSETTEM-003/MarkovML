{
 "cells": [
  {
   "cell_type": "markdown",
   "id": "fc52b7cf",
   "metadata": {},
   "source": [
    "# Basic LSTM Model"
   ]
  },
  {
   "cell_type": "code",
   "execution_count": 1,
   "id": "69931402",
   "metadata": {},
   "outputs": [
    {
     "name": "stderr",
     "output_type": "stream",
     "text": [
      "2023-08-19 02:43:46.950612: I tensorflow/tsl/cuda/cudart_stub.cc:28] Could not find cuda drivers on your machine, GPU will not be used.\n",
      "2023-08-19 02:43:46.991536: I tensorflow/tsl/cuda/cudart_stub.cc:28] Could not find cuda drivers on your machine, GPU will not be used.\n",
      "2023-08-19 02:43:46.992481: I tensorflow/core/platform/cpu_feature_guard.cc:182] This TensorFlow binary is optimized to use available CPU instructions in performance-critical operations.\n",
      "To enable the following instructions: AVX2 FMA, in other operations, rebuild TensorFlow with the appropriate compiler flags.\n",
      "2023-08-19 02:43:47.748861: W tensorflow/compiler/tf2tensorrt/utils/py_utils.cc:38] TF-TRT Warning: Could not find TensorRT\n"
     ]
    },
    {
     "name": "stdout",
     "output_type": "stream",
     "text": [
      "\r"
     ]
    }
   ],
   "source": [
    "import numpy as np\n",
    "import pandas as pd\n",
    "from sklearn.model_selection import train_test_split\n",
    "from keras.preprocessing.text import Tokenizer\n",
    "from keras.preprocessing.sequence import pad_sequences\n",
    "from keras.layers import Embedding, LSTM, Dense\n",
    "from keras.models import Sequential\n",
    "from tensorflow.keras.optimizers.legacy import Adam\n",
    "from sklearn.metrics import accuracy_score\n",
    "from sklearn.model_selection import RandomizedSearchCV\n",
    "import matplotlib.pyplot as plt\n",
    "from sklearn.metrics import confusion_matrix, classification_report, roc_curve, roc_auc_score, auc\n",
    "import seaborn as sns\n",
    "import markov\n",
    "import random\n",
    "from markov.api.schemas.model_recording import SingleTagInferenceRecord,RecordMetaType,RecordCustomMetric"
   ]
  },
  {
   "cell_type": "markdown",
   "id": "290011c5",
   "metadata": {},
   "source": [
    "### Data Preprocessing: Loads cleaned tweet data, tokenizes text and labels, and splits into train and test sets."
   ]
  },
  {
   "cell_type": "code",
   "execution_count": 3,
   "id": "30740860",
   "metadata": {},
   "outputs": [
    {
     "name": "stdout",
     "output_type": "stream",
     "text": [
      "\r"
     ]
    }
   ],
   "source": [
    "data = pd.read_csv('../Data/Cleaned_Tweets_stopwords.csv')\n",
    "\n",
    "text = data['cleaned_text'].tolist()\n",
    "labels = data['label'].tolist()"
   ]
  },
  {
   "cell_type": "code",
   "execution_count": 9,
   "id": "6a32b5c9",
   "metadata": {},
   "outputs": [
    {
     "name": "stdout",
     "output_type": "stream",
     "text": [
      "\r"
     ]
    }
   ],
   "source": [
    "max_words = 10000\n",
    "max_seq_len = 100\n",
    "\n",
    "tokenizer = Tokenizer(num_words=max_words)\n",
    "tokenizer.fit_on_texts(text)\n",
    "sequences = tokenizer.texts_to_sequences(text)\n",
    "word_index = tokenizer.word_index\n",
    "\n",
    "X = pad_sequences(sequences, maxlen=max_seq_len)\n",
    "y = np.array(labels)\n",
    "X_train, X_test, y_train, y_test = train_test_split(X, y, test_size=0.2, random_state=42)\n",
    "X_train, X_val, y_train, y_val = train_test_split(X_train, y_train, test_size=0.2, random_state=42)"
   ]
  },
  {
   "cell_type": "markdown",
   "id": "ac4bc7cc",
   "metadata": {},
   "source": [
    "### Word Embeddings: Utilizes pre-trained GloVe word vectors to create an embedding matrix for the words in the dataset."
   ]
  },
  {
   "cell_type": "code",
   "execution_count": 10,
   "id": "7101c8a2",
   "metadata": {},
   "outputs": [
    {
     "name": "stdout",
     "output_type": "stream",
     "text": [
      "\r"
     ]
    }
   ],
   "source": [
    "embedding_dim = 100\n",
    "\n",
    "embeddings_index = {}\n",
    "with open('../../../notebook/glove.twitter.27B.100d.txt', encoding='utf-8') as f:\n",
    "    for line in f:\n",
    "        values = line.split()\n",
    "        word = values[0]\n",
    "        coefs = np.asarray(values[1:], dtype='float32')\n",
    "        embeddings_index[word] = coefs\n"
   ]
  },
  {
   "cell_type": "code",
   "execution_count": 11,
   "id": "6bb638f3",
   "metadata": {},
   "outputs": [
    {
     "name": "stdout",
     "output_type": "stream",
     "text": [
      "\r"
     ]
    }
   ],
   "source": [
    "num_words = min(max_words, len(word_index) + 1)\n",
    "embedding_matrix = np.zeros((num_words, embedding_dim))\n",
    "for word, i in word_index.items():\n",
    "    if i >= max_words:\n",
    "        continue\n",
    "    embedding_vector = embeddings_index.get(word)\n",
    "    if embedding_vector is not None:\n",
    "        embedding_matrix[i] = embedding_vector\n"
   ]
  },
  {
   "cell_type": "markdown",
   "id": "f9e6ec50",
   "metadata": {},
   "source": [
    "### LSTM Model: Constructs a Keras Sequential model with an Embedding layer, LSTM layer, and Dense layer for sentiment analysis of tweets, and compiles it with appropriate loss and optimizer."
   ]
  },
  {
   "cell_type": "code",
   "execution_count": 12,
   "id": "18cba2e3",
   "metadata": {},
   "outputs": [
    {
     "name": "stdout",
     "output_type": "stream",
     "text": [
      "\r"
     ]
    }
   ],
   "source": [
    "model = Sequential()\n",
    "model.add(Embedding(num_words, embedding_dim, input_length=max_seq_len, weights=[embedding_matrix], trainable=False))\n",
    "model.add(LSTM(128, dropout=0.1, recurrent_dropout=0.2))\n",
    "model.add(Dense(1, activation='relu'))\n",
    "\n",
    "model.compile(loss='binary_crossentropy', optimizer='adam', metrics=['accuracy'])\n"
   ]
  },
  {
   "cell_type": "code",
   "execution_count": 13,
   "id": "558dbc1c",
   "metadata": {},
   "outputs": [
    {
     "name": "stdout",
     "output_type": "stream",
     "text": [
      "\r"
     ]
    }
   ],
   "source": [
    "\n",
    "MODEL_NAME = \"Basic_LSTM\"\n",
    "\n",
    "markov.keras.auto_record(\n",
    "    name=MODEL_NAME,\n",
    "    notes=\"LSTM Basic Model Using Keras\",\n",
    "    project_id=\"vXmg4DkwjkU3JR\" # team-2 project\n",
    ")"
   ]
  },
  {
   "cell_type": "markdown",
   "id": "0027946a",
   "metadata": {},
   "source": [
    "### Trains a sentiment analysis model, records metrics, and plots training progress."
   ]
  },
  {
   "cell_type": "code",
   "execution_count": 14,
   "id": "46c993c5",
   "metadata": {},
   "outputs": [
    {
     "name": "stdout",
     "output_type": "stream",
     "text": [
      "ℹ Creating MarkovML model object Model: Basic_LSTM. Call model_object.register() to register with MarkovML backend.\n",
      "✔ Creating Model Model: Basic_LSTM⠙ Creating Model Model: Basic_LSTM⠹ Creating Model Model: Basic_LSTM⠸ Creating Model Model: Basic_LSTM⠼ Creating Model Model: Basic_LSTM⠴ Creating Model Model: Basic_LSTM⠦ Creating Model Model: Basic_LSTM⠧ Creating Model Model: Basic_LSTM⠇ Creating Model Model: Basic_LSTM⠏ Creating Model Model: Basic_LSTM⠋ Creating Model Model: Basic_LSTM⠙ Creating Model Model: Basic_LSTM⠹ Creating Model Model: Basic_LSTM⠸ Creating Model Model: Basic_LSTM⠼ Creating Model Model: Basic_LSTM⠴ Creating Model Model: Basic_LSTM⠦ Creating Model Model: Basic_LSTM⠧ Creating Model Model: Basic_LSTM⠇ Creating Model Model: Basic_LSTM⠏ Creating Model Model: Basic_LSTM⠋ Creating Model Model: Basic_LSTM⠙ Creating Model Model: Basic_LSTM⠹ Creating Model Model: Basic_LSTM⠸ Creating Model Model: Basic_LSTM⠼ Creating Model Model: Basic_LSTM⠴ Creating Model Model: Basic_LSTM⠦ Creating Model Model: Basic_LSTM⠧ Creating Model Model: Basic_LSTM⠇ Creating Model Model: Basic_LSTM⠏ Creating Model Model: Basic_LSTM⠋ Creating Model Model: Basic_LSTM⠙ Creating Model Model: Basic_LSTM⠹ Creating Model Model: Basic_LSTM Model creation for model Model: Basic_LSTM successful!\n",
      "ℹ Creating ExperimentRecorder object Basic_LSTM. Call recorder_object.register() to register with MarkovML backend.\n",
      "✔ Registering ExperimentRecorder with Markov Backend.⠙ Registering ExperimentRecorder with Markov Backend.⠹ Registering ExperimentRecorder with Markov Backend.⠸ Registering ExperimentRecorder with Markov Backend.⠼ Registering ExperimentRecorder with Markov Backend.⠴ Registering ExperimentRecorder with Markov Backend.⠦ Registering ExperimentRecorder with Markov Backend.⠧ Registering ExperimentRecorder with Markov Backend.⠇ Registering ExperimentRecorder with Markov Backend.⠏ Registering ExperimentRecorder with Markov Backend.⠋ Registering ExperimentRecorder with Markov Backend.⠙ Registering ExperimentRecorder with Markov Backend.⠹ Registering ExperimentRecorder with Markov Backend.⠸ Registering ExperimentRecorder with Markov Backend.⠼ Registering ExperimentRecorder with Markov Backend.⠴ Registering ExperimentRecorder with Markov Backend.⠦ Registering ExperimentRecorder with Markov Backend.⠧ Registering ExperimentRecorder with Markov Backend.⠇ Registering ExperimentRecorder with Markov Backend.⠏ Registering ExperimentRecorder with Markov Backend.⠋ Registering ExperimentRecorder with Markov Backend.⠙ Registering ExperimentRecorder with Markov Backend.⠹ Registering ExperimentRecorder with Markov Backend.⠸ Registering ExperimentRecorder with Markov Backend.⠼ Registering ExperimentRecorder with Markov Backend.⠴ Registering ExperimentRecorder with Markov Backend.⠦ Registering ExperimentRecorder with Markov Backend.⠧ Registering ExperimentRecorder with Markov Backend.⠇ Registering ExperimentRecorder with Markov Backend.⠏ Registering ExperimentRecorder with Markov Backend.⠋ Registering ExperimentRecorder with Markov Backend.⠙ Registering ExperimentRecorder with Markov Backend.⠹ Registering ExperimentRecorder with Markov Backend.⠸ Registering ExperimentRecorder with Markov Backend.⠼ Registering ExperimentRecorder with Markov Backend.⠴ Registering ExperimentRecorder with Markov Backend.⠦ Registering ExperimentRecorder with Markov Backend.⠧ Registering ExperimentRecorder with Markov Backend.⠇ Registering ExperimentRecorder with Markov Backend. ExperimentRecorder successfully registered.\n",
      "ℹ You can view the experiment at \u001b\\https://app.markovml.com/pioneer-wsp-27a2ukk2as/proj/vXmg4DkwjkU3JR/experiments/hp-c5hEdGspVmtdPbwhF94iZk9\u001b]8;;\u001b\\\n",
      "ℹ Starting recorder to track training data on markov backend using multiple threads. Please wait!\n"
     ]
    },
    {
     "name": "stderr",
     "output_type": "stream",
     "text": [
      " [Elapsed Time: 0:02:33]  [|                      #             |] (  0.2 B/s) \n"
     ]
    },
    {
     "name": "stdout",
     "output_type": "stream",
     "text": [
      "⠋ Please wait while we send the remaining data to the markov backend...\r"
     ]
    },
    {
     "name": "stderr",
     "output_type": "stream",
     "text": [
      "\r",
      " [Elapsed Time: 0:02:38]  [|  #                                 |] (  0.6 B/s) "
     ]
    },
    {
     "name": "stdout",
     "output_type": "stream",
     "text": [
      "⠙"
     ]
    },
    {
     "name": "stderr",
     "output_type": "stream",
     "text": [
      "\n"
     ]
    },
    {
     "name": "stdout",
     "output_type": "stream",
     "text": [
      "✔Please wait while we send the remaining data to the markov backend... Recording has successfully completed.\n",
      "ℹ You can view the experiment at \u001b\\https://app.markovml.com/pioneer-wsp-27a2ukk2as/proj/vXmg4DkwjkU3JR/experiments/hp-c5hEdGspVmtdPbwhF94iZk9\u001b]8;;\u001b\\\n"
     ]
    },
    {
     "data": {
      "text/plain": [
       "<keras.src.callbacks.History at 0x7fd871d5f070>"
      ]
     },
     "execution_count": 14,
     "metadata": {},
     "output_type": "execute_result"
    },
    {
     "name": "stdout",
     "output_type": "stream",
     "text": []
    }
   ],
   "source": [
    "model.fit(X_train, y_train, batch_size=64, epochs=10, validation_data=(X_val, y_val), verbose=0)"
   ]
  },
  {
   "cell_type": "markdown",
   "id": "1356cff1",
   "metadata": {},
   "source": [
    "# Finding the Best Hyper Parameters"
   ]
  },
  {
   "cell_type": "code",
   "execution_count": 16,
   "id": "d105e94e",
   "metadata": {},
   "outputs": [
    {
     "name": "stdout",
     "output_type": "stream",
     "text": []
    }
   ],
   "source": [
    "def create_lstm_model(learning_rate=0.001, lstm_units=128, dropout_rate=0.2):\n",
    "    model = Sequential()\n",
    "    model.add(Embedding(num_words, embedding_dim, input_length=max_seq_len, weights=[embedding_matrix], trainable=False))\n",
    "    model.add(LSTM(lstm_units, dropout=dropout_rate, recurrent_dropout=dropout_rate))\n",
    "    model.add(Dense(1, activation='sigmoid'))\n",
    "    \n",
    "    optimizer = Adam(learning_rate=learning_rate)\n",
    "    model.compile(loss='binary_crossentropy', optimizer=optimizer, metrics=['accuracy'])\n",
    "    return model\n",
    "\n",
    "X_train, X_test, y_train, y_test = train_test_split(X, y, test_size=0.2, random_state=42)\n",
    "X_train, X_val, y_train, y_val = train_test_split(X_train, y_train, test_size=0.2, random_state=42)"
   ]
  },
  {
   "cell_type": "markdown",
   "id": "b4c8b29e",
   "metadata": {},
   "source": [
    "## Hyperparameter Tuning\n",
    "- Performs hyperparameter tuning using Randomized Search for the LSTM model.\n",
    "- Identifies the best hyperparameters (learning rate, LSTM units, dropout rate, batch size) based on accuracy."
   ]
  },
  {
   "cell_type": "code",
   "execution_count": 29,
   "id": "fd4baf91",
   "metadata": {},
   "outputs": [
    {
     "name": "stdout",
     "output_type": "stream",
     "text": [
      "ℹ Creating MarkovML model object Model: LSTM_Parameters-0.001-256-0.3-128. Call model_object.register() to register with MarkovML backend.\n",
      "⠋ Creating Model Model: LSTM_Parameters-0.001-256-0.3-128⠙ Creating Model Model: LSTM_Parameters-0.001-256-0.3-128⠹ Creating Model Model: LSTM_Parameters-0.001-256-0.3-128⠸ Creating Model Model: LSTM_Parameters-0.001-256-0.3-128⠼ Creating Model Model: LSTM_Parameters-0.001-256-0.3-128⠴ Creating Model Model: LSTM_Parameters-0.001-256-0.3-128⠦ Creating Model Model: LSTM_Parameters-0.001-256-0.3-128⠧ Creating Model Model: LSTM_Parameters-0.001-256-0.3-128"
     ]
    },
    {
     "name": "stderr",
     "output_type": "stream",
     "text": [
      "\r",
      " [Elapsed Time: 0:17:17]  [|    #                               |] ( 10.4 s/B) "
     ]
    },
    {
     "name": "stdout",
     "output_type": "stream",
     "text": [
      "✔ Creating Model Model: LSTM_Parameters-0.001-256-0.3-128⠏ Creating Model Model: LSTM_Parameters-0.001-256-0.3-128⠋ Creating Model Model: LSTM_Parameters-0.001-256-0.3-128⠙ Creating Model Model: LSTM_Parameters-0.001-256-0.3-128⠹ Creating Model Model: LSTM_Parameters-0.001-256-0.3-128⠸ Creating Model Model: LSTM_Parameters-0.001-256-0.3-128⠼ Creating Model Model: LSTM_Parameters-0.001-256-0.3-128⠴ Creating Model Model: LSTM_Parameters-0.001-256-0.3-128⠦ Creating Model Model: LSTM_Parameters-0.001-256-0.3-128 Model creation for model Model: LSTM_Parameters-0.001-256-0.3-128 successful!\n",
      "ℹ Creating ExperimentRecorder object LSTM_Parameters-0.001-256-0.3-128. Call recorder_object.register() to register with MarkovML backend.\n",
      "⠋ Registering ExperimentRecorder with Markov Backend.⠙ Registering ExperimentRecorder with Markov Backend.⠹ Registering ExperimentRecorder with Markov Backend.⠸ Registering ExperimentRecorder with Markov Backend.⠼ Registering ExperimentRecorder with Markov Backend.⠴ Registering ExperimentRecorder with Markov Backend.⠦ Registering ExperimentRecorder with Markov Backend.⠧ Registering ExperimentRecorder with Markov Backend.⠇ Registering ExperimentRecorder with Markov Backend.⠏ Registering ExperimentRecorder with Markov Backend.⠋ Registering ExperimentRecorder with Markov Backend.⠙ Registering ExperimentRecorder with Markov Backend.⠹ Registering ExperimentRecorder with Markov Backend.⠸ Registering ExperimentRecorder with Markov Backend.⠼ Registering ExperimentRecorder with Markov Backend."
     ]
    },
    {
     "name": "stderr",
     "output_type": "stream",
     "text": [
      "\r",
      " [Elapsed Time: 0:17:19]  [|                        #           |] ( 10.4 s/B) "
     ]
    },
    {
     "name": "stdout",
     "output_type": "stream",
     "text": [
      "⠴ Registering ExperimentRecorder with Markov Backend.⠦ Registering ExperimentRecorder with Markov Backend.⠧ Registering ExperimentRecorder with Markov Backend."
     ]
    },
    {
     "name": "stderr",
     "output_type": "stream",
     "text": [
      "\r",
      " [Elapsed Time: 0:17:16]  [| #                                  |] ( 34.6 s/B) "
     ]
    },
    {
     "name": "stdout",
     "output_type": "stream",
     "text": [
      "✔ Registering ExperimentRecorder with Markov Backend.⠏ Registering ExperimentRecorder with Markov Backend.⠋ Registering ExperimentRecorder with Markov Backend.⠙ Registering ExperimentRecorder with Markov Backend.⠹ Registering ExperimentRecorder with Markov Backend.⠸ Registering ExperimentRecorder with Markov Backend.⠼ Registering ExperimentRecorder with Markov Backend.⠴ Registering ExperimentRecorder with Markov Backend.⠦ Registering ExperimentRecorder with Markov Backend.⠧ Registering ExperimentRecorder with Markov Backend.⠇ Registering ExperimentRecorder with Markov Backend.⠏ Registering ExperimentRecorder with Markov Backend.⠋ Registering ExperimentRecorder with Markov Backend.⠙ Registering ExperimentRecorder with Markov Backend.⠹ Registering ExperimentRecorder with Markov Backend.⠸ Registering ExperimentRecorder with Markov Backend.⠼ Registering ExperimentRecorder with Markov Backend.⠴ Registering ExperimentRecorder with Markov Backend. ExperimentRecorder successfully registered.\n",
      "ℹ You can view the experiment at \u001b\\https://app.markovml.com/pioneer-wsp-27a2ukk2as/proj/vXmg4DkwjkU3JR/experiments/hp-AVZG93mP7cUQw3yAz3fGQWU\u001b]8;;\u001b\\\n",
      "ℹ Starting recorder to track training data on markov backend using multiple threads. Please wait!\n"
     ]
    },
    {
     "name": "stderr",
     "output_type": "stream",
     "text": [
      " [Elapsed Time: 0:07:28]  [|                     #              |] ( 15.0 s/B) \n",
      " [Elapsed Time: 0:42:29]  [|           #                        |] ( 25.5 s/B) "
     ]
    },
    {
     "ename": "KeyboardInterrupt",
     "evalue": "",
     "output_type": "error",
     "traceback": [
      "\u001b[0;31m---------------------------------------------------------------------------\u001b[0m",
      "\u001b[0;31mKeyboardInterrupt\u001b[0m                         Traceback (most recent call last)",
      "Cell \u001b[0;32mIn[29], line 25\u001b[0m\n\u001b[1;32m     18\u001b[0m     MODEL_NAME \u001b[38;5;241m=\u001b[39m \u001b[38;5;124mf\u001b[39m\u001b[38;5;124m\"\u001b[39m\u001b[38;5;124mLSTM_Parameters-\u001b[39m\u001b[38;5;132;01m{\u001b[39;00mlearning_rate\u001b[38;5;132;01m}\u001b[39;00m\u001b[38;5;124m-\u001b[39m\u001b[38;5;132;01m{\u001b[39;00mlstm_units\u001b[38;5;132;01m}\u001b[39;00m\u001b[38;5;124m-\u001b[39m\u001b[38;5;132;01m{\u001b[39;00mdropout_rate\u001b[38;5;132;01m}\u001b[39;00m\u001b[38;5;124m-\u001b[39m\u001b[38;5;132;01m{\u001b[39;00mbatch_size\u001b[38;5;132;01m}\u001b[39;00m\u001b[38;5;124m\"\u001b[39m\n\u001b[1;32m     20\u001b[0m     markov\u001b[38;5;241m.\u001b[39mkeras\u001b[38;5;241m.\u001b[39mauto_record(\n\u001b[1;32m     21\u001b[0m         name\u001b[38;5;241m=\u001b[39mMODEL_NAME,\n\u001b[1;32m     22\u001b[0m         notes\u001b[38;5;241m=\u001b[39m\u001b[38;5;124mf\u001b[39m\u001b[38;5;124m\"\u001b[39m\u001b[38;5;124mLSTM-\u001b[39m\u001b[38;5;132;01m{\u001b[39;00mlearning_rate\u001b[38;5;132;01m}\u001b[39;00m\u001b[38;5;124m-\u001b[39m\u001b[38;5;132;01m{\u001b[39;00mlstm_units\u001b[38;5;132;01m}\u001b[39;00m\u001b[38;5;124m-\u001b[39m\u001b[38;5;132;01m{\u001b[39;00mdropout_rate\u001b[38;5;132;01m}\u001b[39;00m\u001b[38;5;124m-\u001b[39m\u001b[38;5;132;01m{\u001b[39;00mbatch_size\u001b[38;5;132;01m}\u001b[39;00m\u001b[38;5;124m\"\u001b[39m,\n\u001b[1;32m     23\u001b[0m         project_id\u001b[38;5;241m=\u001b[39m\u001b[38;5;124m\"\u001b[39m\u001b[38;5;124mvXmg4DkwjkU3JR\u001b[39m\u001b[38;5;124m\"\u001b[39m \u001b[38;5;66;03m# team-2 project\u001b[39;00m\n\u001b[1;32m     24\u001b[0m     )\n\u001b[0;32m---> 25\u001b[0m     \u001b[43mmodel\u001b[49m\u001b[38;5;241;43m.\u001b[39;49m\u001b[43mfit\u001b[49m\u001b[43m(\u001b[49m\u001b[43mX_train\u001b[49m\u001b[43m,\u001b[49m\u001b[43m \u001b[49m\u001b[43my_train\u001b[49m\u001b[43m,\u001b[49m\u001b[43m \u001b[49m\u001b[43mbatch_size\u001b[49m\u001b[38;5;241;43m=\u001b[39;49m\u001b[43mbatch_size\u001b[49m\u001b[43m,\u001b[49m\u001b[43m \u001b[49m\u001b[43mepochs\u001b[49m\u001b[38;5;241;43m=\u001b[39;49m\u001b[38;5;241;43m10\u001b[39;49m\u001b[43m,\u001b[49m\u001b[43m \u001b[49m\u001b[43mvalidation_data\u001b[49m\u001b[38;5;241;43m=\u001b[39;49m\u001b[43m(\u001b[49m\u001b[43mX_val\u001b[49m\u001b[43m,\u001b[49m\u001b[43m \u001b[49m\u001b[43my_val\u001b[49m\u001b[43m)\u001b[49m\u001b[43m,\u001b[49m\u001b[43mverbose\u001b[49m\u001b[38;5;241;43m=\u001b[39;49m\u001b[38;5;241;43m0\u001b[39;49m\u001b[43m)\u001b[49m\n\u001b[1;32m     26\u001b[0m \u001b[38;5;28;01mexcept\u001b[39;00m \u001b[38;5;167;01mException\u001b[39;00m \u001b[38;5;28;01mas\u001b[39;00m e:\n\u001b[1;32m     27\u001b[0m     \u001b[38;5;28mprint\u001b[39m(\u001b[38;5;124m\"\u001b[39m\u001b[38;5;124mAn error occurred:\u001b[39m\u001b[38;5;124m\"\u001b[39m, \u001b[38;5;28mstr\u001b[39m(e))\n",
      "File \u001b[0;32m~/venv/lib/python3.9/site-packages/markov/api/recording/experiments/integrations/keras/keras_auto_record.py:41\u001b[0m, in \u001b[0;36mpatched_fit\u001b[0;34m(wrapped, instance, args, kwargs)\u001b[0m\n\u001b[1;32m     39\u001b[0m \u001b[38;5;28;01melse\u001b[39;00m:\n\u001b[1;32m     40\u001b[0m     kwargs[\u001b[38;5;124m\"\u001b[39m\u001b[38;5;124mcallbacks\u001b[39m\u001b[38;5;124m\"\u001b[39m] \u001b[38;5;241m=\u001b[39m [get_callback(callback_params)]\n\u001b[0;32m---> 41\u001b[0m \u001b[38;5;28;01mreturn\u001b[39;00m \u001b[43mwrapped\u001b[49m\u001b[43m(\u001b[49m\u001b[38;5;241;43m*\u001b[39;49m\u001b[43margs\u001b[49m\u001b[43m,\u001b[49m\u001b[43m \u001b[49m\u001b[38;5;241;43m*\u001b[39;49m\u001b[38;5;241;43m*\u001b[39;49m\u001b[43mkwargs\u001b[49m\u001b[43m)\u001b[49m\n",
      "File \u001b[0;32m~/venv/lib/python3.9/site-packages/markov/api/recording/experiments/integrations/keras/keras_auto_record.py:41\u001b[0m, in \u001b[0;36mpatched_fit\u001b[0;34m(wrapped, instance, args, kwargs)\u001b[0m\n\u001b[1;32m     39\u001b[0m \u001b[38;5;28;01melse\u001b[39;00m:\n\u001b[1;32m     40\u001b[0m     kwargs[\u001b[38;5;124m\"\u001b[39m\u001b[38;5;124mcallbacks\u001b[39m\u001b[38;5;124m\"\u001b[39m] \u001b[38;5;241m=\u001b[39m [get_callback(callback_params)]\n\u001b[0;32m---> 41\u001b[0m \u001b[38;5;28;01mreturn\u001b[39;00m \u001b[43mwrapped\u001b[49m\u001b[43m(\u001b[49m\u001b[38;5;241;43m*\u001b[39;49m\u001b[43margs\u001b[49m\u001b[43m,\u001b[49m\u001b[43m \u001b[49m\u001b[38;5;241;43m*\u001b[39;49m\u001b[38;5;241;43m*\u001b[39;49m\u001b[43mkwargs\u001b[49m\u001b[43m)\u001b[49m\n",
      "    \u001b[0;31m[... skipping similar frames: patched_fit at line 41 (3 times)]\u001b[0m\n",
      "File \u001b[0;32m~/venv/lib/python3.9/site-packages/markov/api/recording/experiments/integrations/keras/keras_auto_record.py:41\u001b[0m, in \u001b[0;36mpatched_fit\u001b[0;34m(wrapped, instance, args, kwargs)\u001b[0m\n\u001b[1;32m     39\u001b[0m \u001b[38;5;28;01melse\u001b[39;00m:\n\u001b[1;32m     40\u001b[0m     kwargs[\u001b[38;5;124m\"\u001b[39m\u001b[38;5;124mcallbacks\u001b[39m\u001b[38;5;124m\"\u001b[39m] \u001b[38;5;241m=\u001b[39m [get_callback(callback_params)]\n\u001b[0;32m---> 41\u001b[0m \u001b[38;5;28;01mreturn\u001b[39;00m \u001b[43mwrapped\u001b[49m\u001b[43m(\u001b[49m\u001b[38;5;241;43m*\u001b[39;49m\u001b[43margs\u001b[49m\u001b[43m,\u001b[49m\u001b[43m \u001b[49m\u001b[38;5;241;43m*\u001b[39;49m\u001b[38;5;241;43m*\u001b[39;49m\u001b[43mkwargs\u001b[49m\u001b[43m)\u001b[49m\n",
      "File \u001b[0;32m~/venv/lib/python3.9/site-packages/keras/src/utils/traceback_utils.py:65\u001b[0m, in \u001b[0;36mfilter_traceback.<locals>.error_handler\u001b[0;34m(*args, **kwargs)\u001b[0m\n\u001b[1;32m     63\u001b[0m filtered_tb \u001b[38;5;241m=\u001b[39m \u001b[38;5;28;01mNone\u001b[39;00m\n\u001b[1;32m     64\u001b[0m \u001b[38;5;28;01mtry\u001b[39;00m:\n\u001b[0;32m---> 65\u001b[0m     \u001b[38;5;28;01mreturn\u001b[39;00m \u001b[43mfn\u001b[49m\u001b[43m(\u001b[49m\u001b[38;5;241;43m*\u001b[39;49m\u001b[43margs\u001b[49m\u001b[43m,\u001b[49m\u001b[43m \u001b[49m\u001b[38;5;241;43m*\u001b[39;49m\u001b[38;5;241;43m*\u001b[39;49m\u001b[43mkwargs\u001b[49m\u001b[43m)\u001b[49m\n\u001b[1;32m     66\u001b[0m \u001b[38;5;28;01mexcept\u001b[39;00m \u001b[38;5;167;01mException\u001b[39;00m \u001b[38;5;28;01mas\u001b[39;00m e:\n\u001b[1;32m     67\u001b[0m     filtered_tb \u001b[38;5;241m=\u001b[39m _process_traceback_frames(e\u001b[38;5;241m.\u001b[39m__traceback__)\n",
      "File \u001b[0;32m~/venv/lib/python3.9/site-packages/keras/src/engine/training.py:1822\u001b[0m, in \u001b[0;36mModel.fit\u001b[0;34m(self, x, y, batch_size, epochs, verbose, callbacks, validation_split, validation_data, shuffle, class_weight, sample_weight, initial_epoch, steps_per_epoch, validation_steps, validation_batch_size, validation_freq, max_queue_size, workers, use_multiprocessing)\u001b[0m\n\u001b[1;32m   1820\u001b[0m \u001b[38;5;28;01mif\u001b[39;00m \u001b[38;5;28mgetattr\u001b[39m(\u001b[38;5;28mself\u001b[39m, \u001b[38;5;124m\"\u001b[39m\u001b[38;5;124m_eval_data_handler\u001b[39m\u001b[38;5;124m\"\u001b[39m, \u001b[38;5;28;01mNone\u001b[39;00m) \u001b[38;5;129;01mis\u001b[39;00m \u001b[38;5;129;01mnot\u001b[39;00m \u001b[38;5;28;01mNone\u001b[39;00m:\n\u001b[1;32m   1821\u001b[0m     \u001b[38;5;28;01mdel\u001b[39;00m \u001b[38;5;28mself\u001b[39m\u001b[38;5;241m.\u001b[39m_eval_data_handler\n\u001b[0;32m-> 1822\u001b[0m \u001b[43mcallbacks\u001b[49m\u001b[38;5;241;43m.\u001b[39;49m\u001b[43mon_train_end\u001b[49m\u001b[43m(\u001b[49m\u001b[43mlogs\u001b[49m\u001b[38;5;241;43m=\u001b[39;49m\u001b[43mtraining_logs\u001b[49m\u001b[43m)\u001b[49m\n\u001b[1;32m   1823\u001b[0m \u001b[38;5;28;01mreturn\u001b[39;00m \u001b[38;5;28mself\u001b[39m\u001b[38;5;241m.\u001b[39mhistory\n",
      "File \u001b[0;32m~/venv/lib/python3.9/site-packages/keras/src/callbacks.py:541\u001b[0m, in \u001b[0;36mCallbackList.on_train_end\u001b[0;34m(self, logs)\u001b[0m\n\u001b[1;32m    539\u001b[0m logs \u001b[38;5;241m=\u001b[39m \u001b[38;5;28mself\u001b[39m\u001b[38;5;241m.\u001b[39m_process_logs(logs)\n\u001b[1;32m    540\u001b[0m \u001b[38;5;28;01mfor\u001b[39;00m callback \u001b[38;5;129;01min\u001b[39;00m \u001b[38;5;28mself\u001b[39m\u001b[38;5;241m.\u001b[39mcallbacks:\n\u001b[0;32m--> 541\u001b[0m     \u001b[43mcallback\u001b[49m\u001b[38;5;241;43m.\u001b[39;49m\u001b[43mon_train_end\u001b[49m\u001b[43m(\u001b[49m\u001b[43mlogs\u001b[49m\u001b[43m)\u001b[49m\n",
      "File \u001b[0;32m~/venv/lib/python3.9/site-packages/markov/common/utils/exception_handling_util.py:9\u001b[0m, in \u001b[0;36msupress_exception_as_warning.<locals>.inner\u001b[0;34m(*args, **kwargs)\u001b[0m\n\u001b[1;32m      6\u001b[0m \u001b[38;5;129m@wraps\u001b[39m(func)\n\u001b[1;32m      7\u001b[0m \u001b[38;5;28;01mdef\u001b[39;00m \u001b[38;5;21minner\u001b[39m(\u001b[38;5;241m*\u001b[39margs, \u001b[38;5;241m*\u001b[39m\u001b[38;5;241m*\u001b[39mkwargs):\n\u001b[1;32m      8\u001b[0m     \u001b[38;5;28;01mtry\u001b[39;00m:\n\u001b[0;32m----> 9\u001b[0m         return_value \u001b[38;5;241m=\u001b[39m \u001b[43mfunc\u001b[49m\u001b[43m(\u001b[49m\u001b[38;5;241;43m*\u001b[39;49m\u001b[43margs\u001b[49m\u001b[43m,\u001b[49m\u001b[43m \u001b[49m\u001b[38;5;241;43m*\u001b[39;49m\u001b[43mkwargs\u001b[49m\u001b[43m)\u001b[49m\n\u001b[1;32m     10\u001b[0m         \u001b[38;5;28;01mreturn\u001b[39;00m return_value\n\u001b[1;32m     11\u001b[0m     \u001b[38;5;28;01mexcept\u001b[39;00m \u001b[38;5;167;01mException\u001b[39;00m \u001b[38;5;28;01mas\u001b[39;00m e:\n",
      "File \u001b[0;32m~/venv/lib/python3.9/site-packages/markov/api/recording/experiments/integrations/keras/_callback.py:60\u001b[0m, in \u001b[0;36mMarkovAutoRecordKerasCallback.on_train_end\u001b[0;34m(self, logs)\u001b[0m\n\u001b[1;32m     57\u001b[0m \u001b[38;5;129m@supress_exception_as_warning\u001b[39m\n\u001b[1;32m     58\u001b[0m \u001b[38;5;28;01mdef\u001b[39;00m \u001b[38;5;21mon_train_end\u001b[39m(\u001b[38;5;28mself\u001b[39m, logs\u001b[38;5;241m=\u001b[39m\u001b[38;5;28;01mNone\u001b[39;00m):\n\u001b[1;32m     59\u001b[0m     \u001b[38;5;28;01mif\u001b[39;00m \u001b[38;5;28mself\u001b[39m\u001b[38;5;241m.\u001b[39m_experiment_recorder:\n\u001b[0;32m---> 60\u001b[0m         \u001b[38;5;28;43mself\u001b[39;49m\u001b[38;5;241;43m.\u001b[39;49m\u001b[43m_experiment_recorder\u001b[49m\u001b[38;5;241;43m.\u001b[39;49m\u001b[43mstop\u001b[49m\u001b[43m(\u001b[49m\u001b[43m)\u001b[49m\n",
      "File \u001b[0;32m~/venv/lib/python3.9/site-packages/markov/api/recording/experiments/experiment_recorder.py:387\u001b[0m, in \u001b[0;36mExperimentRecorder.stop\u001b[0;34m(self)\u001b[0m\n\u001b[1;32m    384\u001b[0m     \u001b[38;5;28mself\u001b[39m\u001b[38;5;241m.\u001b[39m_summary\u001b[38;5;241m.\u001b[39mset()\n\u001b[1;32m    386\u001b[0m \u001b[38;5;28mself\u001b[39m\u001b[38;5;241m.\u001b[39m_machine_stats_processor\u001b[38;5;241m.\u001b[39mstop()\n\u001b[0;32m--> 387\u001b[0m is_success \u001b[38;5;241m=\u001b[39m \u001b[38;5;28;43mself\u001b[39;49m\u001b[38;5;241;43m.\u001b[39;49m\u001b[43m_processor\u001b[49m\u001b[38;5;241;43m.\u001b[39;49m\u001b[43mstop\u001b[49m\u001b[43m(\u001b[49m\u001b[43m)\u001b[49m\n\u001b[1;32m    388\u001b[0m \u001b[38;5;28;01mif\u001b[39;00m is_success:\n\u001b[1;32m    389\u001b[0m     \u001b[38;5;28mself\u001b[39m\u001b[38;5;241m.\u001b[39m_print_experiment_url()\n",
      "File \u001b[0;32m~/venv/lib/python3.9/site-packages/markov/common/utils/exception_handling_util.py:9\u001b[0m, in \u001b[0;36msupress_exception_as_warning.<locals>.inner\u001b[0;34m(*args, **kwargs)\u001b[0m\n\u001b[1;32m      6\u001b[0m \u001b[38;5;129m@wraps\u001b[39m(func)\n\u001b[1;32m      7\u001b[0m \u001b[38;5;28;01mdef\u001b[39;00m \u001b[38;5;21minner\u001b[39m(\u001b[38;5;241m*\u001b[39margs, \u001b[38;5;241m*\u001b[39m\u001b[38;5;241m*\u001b[39mkwargs):\n\u001b[1;32m      8\u001b[0m     \u001b[38;5;28;01mtry\u001b[39;00m:\n\u001b[0;32m----> 9\u001b[0m         return_value \u001b[38;5;241m=\u001b[39m \u001b[43mfunc\u001b[49m\u001b[43m(\u001b[49m\u001b[38;5;241;43m*\u001b[39;49m\u001b[43margs\u001b[49m\u001b[43m,\u001b[49m\u001b[43m \u001b[49m\u001b[38;5;241;43m*\u001b[39;49m\u001b[43mkwargs\u001b[49m\u001b[43m)\u001b[49m\n\u001b[1;32m     10\u001b[0m         \u001b[38;5;28;01mreturn\u001b[39;00m return_value\n\u001b[1;32m     11\u001b[0m     \u001b[38;5;28;01mexcept\u001b[39;00m \u001b[38;5;167;01mException\u001b[39;00m \u001b[38;5;28;01mas\u001b[39;00m e:\n",
      "File \u001b[0;32m~/venv/lib/python3.9/site-packages/markov/api/recording/experiments/processors/experiment_recording_processor.py:115\u001b[0m, in \u001b[0;36mExperimentRecordingProcessor.stop\u001b[0;34m(self)\u001b[0m\n\u001b[1;32m    113\u001b[0m \u001b[38;5;28;01mif\u001b[39;00m \u001b[38;5;28mself\u001b[39m\u001b[38;5;241m.\u001b[39m_consumer_thread\u001b[38;5;241m.\u001b[39mis_alive():\n\u001b[1;32m    114\u001b[0m     \u001b[38;5;28mself\u001b[39m\u001b[38;5;241m.\u001b[39m_consumer_thread\u001b[38;5;241m.\u001b[39msync_remaining_elements()\n\u001b[0;32m--> 115\u001b[0m     \u001b[38;5;28;43mself\u001b[39;49m\u001b[38;5;241;43m.\u001b[39;49m\u001b[43m_consumer_thread\u001b[49m\u001b[38;5;241;43m.\u001b[39;49m\u001b[43mjoin\u001b[49m\u001b[43m(\u001b[49m\u001b[43m)\u001b[49m\n\u001b[1;32m    117\u001b[0m \u001b[38;5;28mself\u001b[39m\u001b[38;5;241m.\u001b[39m_tpe\u001b[38;5;241m.\u001b[39mshutdown()\n\u001b[1;32m    119\u001b[0m is_success \u001b[38;5;241m=\u001b[39m \u001b[38;5;28;01mFalse\u001b[39;00m\n",
      "File \u001b[0;32m/usr/lib/python3.9/threading.py:1060\u001b[0m, in \u001b[0;36mThread.join\u001b[0;34m(self, timeout)\u001b[0m\n\u001b[1;32m   1057\u001b[0m     \u001b[38;5;28;01mraise\u001b[39;00m \u001b[38;5;167;01mRuntimeError\u001b[39;00m(\u001b[38;5;124m\"\u001b[39m\u001b[38;5;124mcannot join current thread\u001b[39m\u001b[38;5;124m\"\u001b[39m)\n\u001b[1;32m   1059\u001b[0m \u001b[38;5;28;01mif\u001b[39;00m timeout \u001b[38;5;129;01mis\u001b[39;00m \u001b[38;5;28;01mNone\u001b[39;00m:\n\u001b[0;32m-> 1060\u001b[0m     \u001b[38;5;28;43mself\u001b[39;49m\u001b[38;5;241;43m.\u001b[39;49m\u001b[43m_wait_for_tstate_lock\u001b[49m\u001b[43m(\u001b[49m\u001b[43m)\u001b[49m\n\u001b[1;32m   1061\u001b[0m \u001b[38;5;28;01melse\u001b[39;00m:\n\u001b[1;32m   1062\u001b[0m     \u001b[38;5;66;03m# the behavior of a negative timeout isn't documented, but\u001b[39;00m\n\u001b[1;32m   1063\u001b[0m     \u001b[38;5;66;03m# historically .join(timeout=x) for x<0 has acted as if timeout=0\u001b[39;00m\n\u001b[1;32m   1064\u001b[0m     \u001b[38;5;28mself\u001b[39m\u001b[38;5;241m.\u001b[39m_wait_for_tstate_lock(timeout\u001b[38;5;241m=\u001b[39m\u001b[38;5;28mmax\u001b[39m(timeout, \u001b[38;5;241m0\u001b[39m))\n",
      "File \u001b[0;32m/usr/lib/python3.9/threading.py:1080\u001b[0m, in \u001b[0;36mThread._wait_for_tstate_lock\u001b[0;34m(self, block, timeout)\u001b[0m\n\u001b[1;32m   1077\u001b[0m     \u001b[38;5;28;01mreturn\u001b[39;00m\n\u001b[1;32m   1079\u001b[0m \u001b[38;5;28;01mtry\u001b[39;00m:\n\u001b[0;32m-> 1080\u001b[0m     \u001b[38;5;28;01mif\u001b[39;00m \u001b[43mlock\u001b[49m\u001b[38;5;241;43m.\u001b[39;49m\u001b[43macquire\u001b[49m\u001b[43m(\u001b[49m\u001b[43mblock\u001b[49m\u001b[43m,\u001b[49m\u001b[43m \u001b[49m\u001b[43mtimeout\u001b[49m\u001b[43m)\u001b[49m:\n\u001b[1;32m   1081\u001b[0m         lock\u001b[38;5;241m.\u001b[39mrelease()\n\u001b[1;32m   1082\u001b[0m         \u001b[38;5;28mself\u001b[39m\u001b[38;5;241m.\u001b[39m_stop()\n",
      "\u001b[0;31mKeyboardInterrupt\u001b[0m: "
     ]
    },
    {
     "name": "stdout",
     "output_type": "stream",
     "text": []
    }
   ],
   "source": [
    "\n",
    "\n",
    "param_dist = {\n",
    "    'learning_rate': [0.001],\n",
    "    'lstm_units': [  256],\n",
    "    'dropout_rate': [0.3],\n",
    "    'batch_size': [128]\n",
    "}\n",
    "\n",
    "best_score = float('-inf')\n",
    "best_params = None\n",
    "for _ in range(10):  # Number of iterations for random search \n",
    "    try:\n",
    "        learning_rate = np.random.choice(param_dist['learning_rate'])\n",
    "        lstm_units = np.random.choice(param_dist['lstm_units'])\n",
    "        dropout_rate = np.random.choice(param_dist['dropout_rate'])\n",
    "        batch_size = np.random.choice(param_dist['batch_size'])\n",
    "\n",
    "        model = create_lstm_model(learning_rate=learning_rate, lstm_units=lstm_units, dropout_rate=dropout_rate)\n",
    "        MODEL_NAME = f\"LSTM_Parameters-{learning_rate}-{lstm_units}-{dropout_rate}-{batch_size}\"\n",
    "\n",
    "        markov.keras.auto_record(\n",
    "            name=MODEL_NAME,\n",
    "            notes=f\"LSTM-{learning_rate}-{lstm_units}-{dropout_rate}-{batch_size}\",\n",
    "            project_id=\"vXmg4DkwjkU3JR\" # team-2 project\n",
    "        )\n",
    "        model.fit(X_train, y_train, batch_size=batch_size, epochs=10, validation_data=(X_val, y_val),verbose=0)\n",
    "    except Exception as e:\n",
    "        print(\"An error occurred:\", str(e))\n"
   ]
  },
  {
   "cell_type": "markdown",
   "id": "f307d5a3",
   "metadata": {},
   "source": [
    "# Creating model with the best found Parameters"
   ]
  },
  {
   "cell_type": "markdown",
   "id": "ca175759",
   "metadata": {},
   "source": [
    "### Creates a model with the best parameters and trains it, visualizing loss and accuracy trends over epochs."
   ]
  },
  {
   "cell_type": "code",
   "execution_count": 8,
   "id": "00fb6eb7",
   "metadata": {},
   "outputs": [
    {
     "name": "stdout",
     "output_type": "stream",
     "text": [
      "\r"
     ]
    }
   ],
   "source": [
    "learning_rate=0.01\n",
    "lstm_units=256\n",
    "dropout_rate=0.2\n",
    "batch_size=128\n",
    "best_model = create_lstm_model(learning_rate=learning_rate,\n",
    "                               lstm_units=lstm_units,\n",
    "                               dropout_rate=dropout_rate)\n",
    "MODEL_NAME = f\"Best LSTM Parameters\"\n",
    "\n",
    "markov.keras.auto_record(\n",
    "    name=MODEL_NAME,\n",
    "    notes=f\"LSTM_Parameters=best\",\n",
    "    project_id=\"vXmg4DkwjkU3JR\" # team-2 project new\n",
    ")"
   ]
  },
  {
   "cell_type": "code",
   "execution_count": 9,
   "id": "9be9eda6",
   "metadata": {},
   "outputs": [
    {
     "name": "stdout",
     "output_type": "stream",
     "text": [
      "ℹ Creating MarkovML model object Model: Testing Best_LSTM Model. Call model_object.register() to register with MarkovML backend.\n",
      "✔ Creating Model Model: Testing Best_LSTM Model⠙ Creating Model Model: Testing Best_LSTM Model⠹ Creating Model Model: Testing Best_LSTM Model⠸ Creating Model Model: Testing Best_LSTM Model⠼ Creating Model Model: Testing Best_LSTM Model⠴ Creating Model Model: Testing Best_LSTM Model⠦ Creating Model Model: Testing Best_LSTM Model⠧ Creating Model Model: Testing Best_LSTM Model⠇ Creating Model Model: Testing Best_LSTM Model⠏ Creating Model Model: Testing Best_LSTM Model⠋ Creating Model Model: Testing Best_LSTM Model⠙ Creating Model Model: Testing Best_LSTM Model⠹ Creating Model Model: Testing Best_LSTM Model⠸ Creating Model Model: Testing Best_LSTM Model⠼ Creating Model Model: Testing Best_LSTM Model⠴ Creating Model Model: Testing Best_LSTM Model⠦ Creating Model Model: Testing Best_LSTM Model⠧ Creating Model Model: Testing Best_LSTM Model⠇ Creating Model Model: Testing Best_LSTM Model⠏ Creating Model Model: Testing Best_LSTM Model⠋ Creating Model Model: Testing Best_LSTM Model⠙ Creating Model Model: Testing Best_LSTM Model⠹ Creating Model Model: Testing Best_LSTM Model⠸ Creating Model Model: Testing Best_LSTM Model⠼ Creating Model Model: Testing Best_LSTM Model⠴ Creating Model Model: Testing Best_LSTM Model⠦ Creating Model Model: Testing Best_LSTM Model⠧ Creating Model Model: Testing Best_LSTM Model⠇ Creating Model Model: Testing Best_LSTM Model⠏ Creating Model Model: Testing Best_LSTM Model⠋ Creating Model Model: Testing Best_LSTM Model Model creation for model Model: Testing Best_LSTM Model successful!\n",
      "ℹ Creating ExperimentRecorder object Testing Best_LSTM Model. Call recorder_object.register() to register with MarkovML backend.\n",
      "✔ Registering ExperimentRecorder with Markov Backend.⠙ Registering ExperimentRecorder with Markov Backend.⠹ Registering ExperimentRecorder with Markov Backend.⠸ Registering ExperimentRecorder with Markov Backend.⠼ Registering ExperimentRecorder with Markov Backend.⠴ Registering ExperimentRecorder with Markov Backend.⠦ Registering ExperimentRecorder with Markov Backend.⠧ Registering ExperimentRecorder with Markov Backend.⠇ Registering ExperimentRecorder with Markov Backend.⠏ Registering ExperimentRecorder with Markov Backend.⠋ Registering ExperimentRecorder with Markov Backend.⠙ Registering ExperimentRecorder with Markov Backend.⠹ Registering ExperimentRecorder with Markov Backend.⠸ Registering ExperimentRecorder with Markov Backend.⠼ Registering ExperimentRecorder with Markov Backend.⠴ Registering ExperimentRecorder with Markov Backend.⠦ Registering ExperimentRecorder with Markov Backend.⠧ Registering ExperimentRecorder with Markov Backend.⠇ Registering ExperimentRecorder with Markov Backend.⠏ Registering ExperimentRecorder with Markov Backend.⠋ Registering ExperimentRecorder with Markov Backend.⠙ Registering ExperimentRecorder with Markov Backend.⠹ Registering ExperimentRecorder with Markov Backend.⠸ Registering ExperimentRecorder with Markov Backend.⠼ Registering ExperimentRecorder with Markov Backend.⠴ Registering ExperimentRecorder with Markov Backend.⠦ Registering ExperimentRecorder with Markov Backend.⠧ Registering ExperimentRecorder with Markov Backend.⠇ Registering ExperimentRecorder with Markov Backend.⠏ Registering ExperimentRecorder with Markov Backend.⠋ Registering ExperimentRecorder with Markov Backend.⠙ Registering ExperimentRecorder with Markov Backend.⠹ Registering ExperimentRecorder with Markov Backend.⠸ Registering ExperimentRecorder with Markov Backend.⠼ Registering ExperimentRecorder with Markov Backend.⠴ Registering ExperimentRecorder with Markov Backend.⠦ Registering ExperimentRecorder with Markov Backend.⠧ Registering ExperimentRecorder with Markov Backend.⠇ Registering ExperimentRecorder with Markov Backend.⠏ Registering ExperimentRecorder with Markov Backend.⠋ Registering ExperimentRecorder with Markov Backend.⠙ Registering ExperimentRecorder with Markov Backend.⠹ Registering ExperimentRecorder with Markov Backend.⠸ Registering ExperimentRecorder with Markov Backend.⠼ Registering ExperimentRecorder with Markov Backend.⠴ Registering ExperimentRecorder with Markov Backend. ExperimentRecorder successfully registered.\n",
      "ℹ You can view the experiment at \u001b\\https://app.markovml.com/pioneer-wsp-27a2ukk2as/proj/488emc37Q5Ck4Z/experiments/hp-8T8zNMzfGSHKsFX5Pafoar8\u001b]8;;\u001b\\\n",
      "ℹ Starting recorder to track training data on markov backend using multiple threads. Please wait!\n",
      "Epoch 1/10\n"
     ]
    },
    {
     "name": "stderr",
     "output_type": "stream",
     "text": [
      " [Elapsed Time: 0:00:02]  [|                    #               |] ( 49.9 B/s) "
     ]
    },
    {
     "name": "stdout",
     "output_type": "stream",
     "text": [
      " 2/42 [>.............................] - ETA: 21s - loss: 0.6427 - accuracy: 0.6133 "
     ]
    },
    {
     "name": "stderr",
     "output_type": "stream",
     "text": [
      "\r",
      " [Elapsed Time: 0:00:00]  [|#                                   |] (  0.0 s/B) "
     ]
    },
    {
     "name": "stdout",
     "output_type": "stream",
     "text": [
      " 4/42 [=>............................] - ETA: 20s - loss: 1.1463 - accuracy: 0.5918"
     ]
    },
    {
     "name": "stderr",
     "output_type": "stream",
     "text": [
      "\r",
      " [Elapsed Time: 0:00:04]  [|                               #    |] ( 24.9 B/s) "
     ]
    },
    {
     "name": "stdout",
     "output_type": "stream",
     "text": [
      " 8/42 [====>.........................] - ETA: 19s - loss: 0.8695 - accuracy: 0.6338"
     ]
    },
    {
     "name": "stderr",
     "output_type": "stream",
     "text": [
      "\r",
      " [Elapsed Time: 0:00:06]  [|         #                          |] ( 16.0 B/s) "
     ]
    },
    {
     "name": "stdout",
     "output_type": "stream",
     "text": [
      "11/42 [======>.......................] - ETA: 18s - loss: 0.7765 - accuracy: 0.6669"
     ]
    },
    {
     "name": "stderr",
     "output_type": "stream",
     "text": [
      " [Elapsed Time: 0:00:05]  [|                  #                 |] (  5.6 B/s) "
     ]
    },
    {
     "name": "stdout",
     "output_type": "stream",
     "text": [
      "15/42 [=========>....................] - ETA: 15s - loss: 0.7028 - accuracy: 0.6958"
     ]
    },
    {
     "name": "stderr",
     "output_type": "stream",
     "text": [
      "\r",
      " [Elapsed Time: 0:00:10]  [|                              #     |] (  9.7 B/s) "
     ]
    },
    {
     "name": "stdout",
     "output_type": "stream",
     "text": [
      "19/42 [============>.................] - ETA: 13s - loss: 0.6521 - accuracy: 0.7159"
     ]
    },
    {
     "name": "stderr",
     "output_type": "stream",
     "text": [
      "\r",
      " [Elapsed Time: 0:00:12]  [|                  #                 |] (  7.9 B/s) "
     ]
    },
    {
     "name": "stdout",
     "output_type": "stream",
     "text": [
      "22/42 [==============>...............] - ETA: 11s - loss: 0.6247 - accuracy: 0.7269"
     ]
    },
    {
     "name": "stderr",
     "output_type": "stream",
     "text": [
      " [Elapsed Time: 0:00:14]  [|  #                                 |] (  6.8 B/s) "
     ]
    },
    {
     "name": "stdout",
     "output_type": "stream",
     "text": [
      "26/42 [=================>............] - ETA: 9s - loss: 0.6283 - accuracy: 0.7290"
     ]
    },
    {
     "name": "stderr",
     "output_type": "stream",
     "text": [
      "\r",
      " [Elapsed Time: 0:00:16]  [|                        #           |] (  5.9 B/s) "
     ]
    },
    {
     "name": "stdout",
     "output_type": "stream",
     "text": [
      "30/42 [====================>.........] - ETA: 6s - loss: 0.6003 - accuracy: 0.7414"
     ]
    },
    {
     "name": "stderr",
     "output_type": "stream",
     "text": [
      "\r",
      " [Elapsed Time: 0:00:19]  [|                         #          |] (  5.2 B/s) "
     ]
    },
    {
     "name": "stdout",
     "output_type": "stream",
     "text": [
      "\b\b\b\b\b\b\b\b\b\b\b\b\b\b\b\b\b\b\b\b\b\b\b\b\b\b\b\b\b\b\b\b\b\b\b\b\b\b\b\b\b\b\b\b\b\b\b\b\b\b\b\b\b\b\b\b\b\b\b\b\b\b\b\b\b\b\b\b\b\b\b\b\b\b\b\b\b\b\b\b\b\b\r",
      "31/42 [=====================>........] - ETA: 6s - loss: 0.5951 - accuracy: 0.7432"
     ]
    },
    {
     "name": "stderr",
     "output_type": "stream",
     "text": [
      "\r",
      " [Elapsed Time: 0:00:16]  [|                  #                 |] (  1.8 B/s) "
     ]
    },
    {
     "name": "stdout",
     "output_type": "stream",
     "text": [
      "34/42 [=======================>......] - ETA: 4s - loss: 0.5961 - accuracy: 0.7339"
     ]
    },
    {
     "name": "stderr",
     "output_type": "stream",
     "text": [
      "\r",
      " [Elapsed Time: 0:00:21]  [|     #                              |] (  4.7 B/s) "
     ]
    },
    {
     "name": "stdout",
     "output_type": "stream",
     "text": [
      "38/42 [==========================>...] - ETA: 2s - loss: 0.5881 - accuracy: 0.7340"
     ]
    },
    {
     "name": "stderr",
     "output_type": "stream",
     "text": [
      "\r",
      " [Elapsed Time: 0:00:23]  [|              #                     |] (  4.3 B/s) "
     ]
    },
    {
     "name": "stdout",
     "output_type": "stream",
     "text": [
      "40/42 [===========================>..] - ETA: 1s - loss: 0.5816 - accuracy: 0.7363"
     ]
    },
    {
     "name": "stderr",
     "output_type": "stream",
     "text": [
      "\r",
      " [Elapsed Time: 0:00:21]  [|   #                                |] (  1.4 B/s) "
     ]
    },
    {
     "name": "stdout",
     "output_type": "stream",
     "text": [
      "42/42 [==============================] - ETA: 0s - loss: 0.5754 - accuracy: 0.7398"
     ]
    },
    {
     "name": "stderr",
     "output_type": "stream",
     "text": [
      "\r",
      " [Elapsed Time: 0:00:25]  [|                                  # |] (  4.0 B/s) "
     ]
    },
    {
     "name": "stdout",
     "output_type": "stream",
     "text": [
      "42/42 [==============================] - 28s 601ms/step - loss: 0.5754 - accuracy: 0.7398 - val_loss: 0.4470 - val_accuracy: 0.7982\n",
      "Epoch 2/10\n"
     ]
    },
    {
     "name": "stderr",
     "output_type": "stream",
     "text": [
      "\r",
      " [Elapsed Time: 0:00:27]  [|              #                     |] (  3.7 B/s) "
     ]
    },
    {
     "name": "stdout",
     "output_type": "stream",
     "text": [
      " 4/42 [=>............................] - ETA: 19s - loss: 0.4261 - accuracy: 0.8105"
     ]
    },
    {
     "name": "stderr",
     "output_type": "stream",
     "text": [
      "\r",
      " [Elapsed Time: 0:00:26]  [|                         #          |] (  1.1 B/s) "
     ]
    },
    {
     "name": "stdout",
     "output_type": "stream",
     "text": [
      "\b\b\b\b\b\b\b\b\b\b\b\b\b\b\b\b\b\b\b\b\b\b\b\b\b\b\b\b\b\b\b\b\b\b\b\b\b\b\b\b\b\b\b\b\b\b\b\b\b\b\b\b\b\b\b\b\b\b\b\b\b\b\b\b\b\b\b\b\b\b\b\b\b\b\b\b\b\b\b\b\b\b\b\r",
      " 5/42 [==>...........................] - ETA: 19s - loss: 0.4057 - accuracy: 0.8250"
     ]
    },
    {
     "name": "stderr",
     "output_type": "stream",
     "text": [
      "\r",
      " [Elapsed Time: 0:00:29]  [|        #                           |] (  3.4 B/s) "
     ]
    },
    {
     "name": "stdout",
     "output_type": "stream",
     "text": [
      " 8/42 [====>.........................] - ETA: 18s - loss: 0.4063 - accuracy: 0.8193"
     ]
    },
    {
     "name": "stderr",
     "output_type": "stream",
     "text": [
      "\r",
      " [Elapsed Time: 0:00:31]  [|                            #       |] (  3.2 B/s) "
     ]
    },
    {
     "name": "stdout",
     "output_type": "stream",
     "text": [
      "12/42 [=======>......................] - ETA: 16s - loss: 0.3941 - accuracy: 0.8242"
     ]
    },
    {
     "name": "stderr",
     "output_type": "stream",
     "text": [
      "\r",
      " [Elapsed Time: 0:00:33]  [|                       #            |] (  3.0 B/s) "
     ]
    },
    {
     "name": "stdout",
     "output_type": "stream",
     "text": [
      "14/42 [=========>....................] - ETA: 15s - loss: 0.3863 - accuracy: 0.8298"
     ]
    },
    {
     "name": "stderr",
     "output_type": "stream",
     "text": [
      "\r",
      " [Elapsed Time: 0:00:31]  [|                           #        |] (  1.0 B/s) "
     ]
    },
    {
     "name": "stdout",
     "output_type": "stream",
     "text": [
      "16/42 [==========>...................] - ETA: 14s - loss: 0.3879 - accuracy: 0.8281"
     ]
    },
    {
     "name": "stderr",
     "output_type": "stream",
     "text": [
      "\r",
      " [Elapsed Time: 0:00:35]  [|#                                   |] (  2.8 B/s) "
     ]
    },
    {
     "name": "stdout",
     "output_type": "stream",
     "text": [
      "20/42 [=============>................] - ETA: 12s - loss: 0.3791 - accuracy: 0.8289"
     ]
    },
    {
     "name": "stderr",
     "output_type": "stream",
     "text": [
      "\r",
      " [Elapsed Time: 0:00:38]  [|                       #            |] (  2.6 B/s) "
     ]
    },
    {
     "name": "stdout",
     "output_type": "stream",
     "text": [
      "24/42 [================>.............] - ETA: 9s - loss: 0.3712 - accuracy: 0.8317 "
     ]
    },
    {
     "name": "stderr",
     "output_type": "stream",
     "text": [
      "\r",
      " [Elapsed Time: 0:00:40]  [|                            #       |] (  2.5 B/s) "
     ]
    },
    {
     "name": "stdout",
     "output_type": "stream",
     "text": [
      "26/42 [=================>............] - ETA: 8s - loss: 0.3693 - accuracy: 0.8329"
     ]
    },
    {
     "name": "stderr",
     "output_type": "stream",
     "text": [
      "\r",
      " [Elapsed Time: 0:00:38]  [|                          #         |] (  0.8 B/s) "
     ]
    },
    {
     "name": "stdout",
     "output_type": "stream",
     "text": [
      "28/42 [===================>..........] - ETA: 7s - loss: 0.3662 - accuracy: 0.8340"
     ]
    },
    {
     "name": "stderr",
     "output_type": "stream",
     "text": [
      "\r",
      " [Elapsed Time: 0:00:42]  [|        #                           |] (  2.4 B/s) "
     ]
    },
    {
     "name": "stdout",
     "output_type": "stream",
     "text": [
      "31/42 [=====================>........] - ETA: 6s - loss: 0.3658 - accuracy: 0.8347"
     ]
    },
    {
     "name": "stderr",
     "output_type": "stream",
     "text": [
      "\r",
      " [Elapsed Time: 0:00:44]  [|           #                        |] (  2.3 B/s) "
     ]
    },
    {
     "name": "stdout",
     "output_type": "stream",
     "text": [
      "35/42 [========================>.....] - ETA: 3s - loss: 0.3637 - accuracy: 0.8348"
     ]
    },
    {
     "name": "stderr",
     "output_type": "stream",
     "text": [
      "\r",
      " [Elapsed Time: 0:00:46]  [|                               #    |] (  2.2 B/s) "
     ]
    },
    {
     "name": "stdout",
     "output_type": "stream",
     "text": [
      "\b\b\b\b\b\b\b\b\b\b\b\b\b\b\b\b\b\b\b\b\b\b\b\b\b\b\b\b\b\b\b\b\b\b\b\b\b\b\b\b\b\b\b\b\b\b\b\b\b\b\b\b\b\b\b\b\b\b\b\b\b\b\b\b\b\b\b\b\b\b\b\b\b\b\b\b\b\b\b\b\b\b\r",
      "36/42 [========================>.....] - ETA: 3s - loss: 0.3618 - accuracy: 0.8357"
     ]
    },
    {
     "name": "stderr",
     "output_type": "stream",
     "text": [
      "\r",
      " [Elapsed Time: 0:00:44]  [|         #                          |] (  0.7 B/s) "
     ]
    },
    {
     "name": "stdout",
     "output_type": "stream",
     "text": [
      "39/42 [==========================>...] - ETA: 1s - loss: 0.3634 - accuracy: 0.8349"
     ]
    },
    {
     "name": "stderr",
     "output_type": "stream",
     "text": [
      "\r",
      " [Elapsed Time: 0:00:48]  [|                    #               |] (  2.1 B/s) "
     ]
    },
    {
     "name": "stdout",
     "output_type": "stream",
     "text": [
      "42/42 [==============================] - ETA: 0s - loss: 0.3632 - accuracy: 0.8351"
     ]
    },
    {
     "name": "stderr",
     "output_type": "stream",
     "text": [
      "\r",
      " [Elapsed Time: 0:00:50]  [|#                                   |] (  2.0 B/s) "
     ]
    },
    {
     "name": "stdout",
     "output_type": "stream",
     "text": [
      "42/42 [==============================] - 24s 577ms/step - loss: 0.3632 - accuracy: 0.8351 - val_loss: 0.3384 - val_accuracy: 0.8407\n",
      "Epoch 3/10\n",
      " 2/42 [>.............................] - ETA: 20s - loss: 0.2632 - accuracy: 0.9062"
     ]
    },
    {
     "name": "stderr",
     "output_type": "stream",
     "text": [
      " [Elapsed Time: 0:00:52]  [|                     #              |] (  1.9 B/s) "
     ]
    },
    {
     "name": "stdout",
     "output_type": "stream",
     "text": [
      "11/42 [======>.......................] - ETA: 16s - loss: 0.2933 - accuracy: 0.8707"
     ]
    },
    {
     "name": "stderr",
     "output_type": "stream",
     "text": [
      "\r",
      " [Elapsed Time: 0:00:57]  [|#                                   |] (  1.7 B/s) "
     ]
    },
    {
     "name": "stdout",
     "output_type": "stream",
     "text": [
      "13/42 [========>.....................] - ETA: 16s - loss: 0.2929 - accuracy: 0.8696"
     ]
    },
    {
     "name": "stderr",
     "output_type": "stream",
     "text": [
      "\r",
      " [Elapsed Time: 0:00:55]  [|                    #               |] (  0.5 B/s) "
     ]
    },
    {
     "name": "stdout",
     "output_type": "stream",
     "text": [
      "15/42 [=========>....................] - ETA: 14s - loss: 0.2882 - accuracy: 0.8693"
     ]
    },
    {
     "name": "stderr",
     "output_type": "stream",
     "text": [
      "\r",
      " [Elapsed Time: 0:00:59]  [|                      #             |] (  1.7 B/s) "
     ]
    },
    {
     "name": "stdout",
     "output_type": "stream",
     "text": [
      "20/42 [=============>................] - ETA: 12s - loss: 0.3032 - accuracy: 0.8637"
     ]
    },
    {
     "name": "stderr",
     "output_type": "stream",
     "text": [
      "\r",
      " [Elapsed Time: 0:01:02]  [|                           #        |] (  1.6 B/s) "
     ]
    },
    {
     "name": "stdout",
     "output_type": "stream",
     "text": [
      "22/42 [==============>...............] - ETA: 10s - loss: 0.3110 - accuracy: 0.8594"
     ]
    },
    {
     "name": "stderr",
     "output_type": "stream",
     "text": [
      "\r",
      " [Elapsed Time: 0:01:00]  [|                             #      |] (  0.5 B/s) "
     ]
    },
    {
     "name": "stdout",
     "output_type": "stream",
     "text": [
      "24/42 [================>.............] - ETA: 9s - loss: 0.3119 - accuracy: 0.8587 "
     ]
    },
    {
     "name": "stderr",
     "output_type": "stream",
     "text": [
      "\r",
      " [Elapsed Time: 0:01:04]  [|     #                              |] (  1.6 B/s) "
     ]
    },
    {
     "name": "stdout",
     "output_type": "stream",
     "text": [
      "27/42 [==================>...........] - ETA: 8s - loss: 0.3123 - accuracy: 0.8594"
     ]
    },
    {
     "name": "stderr",
     "output_type": "stream",
     "text": [
      "\r",
      " [Elapsed Time: 0:01:06]  [|              #                     |] (  1.5 B/s) "
     ]
    },
    {
     "name": "stdout",
     "output_type": "stream",
     "text": [
      "31/42 [=====================>........] - ETA: 6s - loss: 0.3141 - accuracy: 0.8589"
     ]
    },
    {
     "name": "stderr",
     "output_type": "stream",
     "text": [
      "\r",
      " [Elapsed Time: 0:01:08]  [|                                  # |] (  1.5 B/s) "
     ]
    },
    {
     "name": "stdout",
     "output_type": "stream",
     "text": [
      "\b\b\b\b\b\b\b\b\b\b\b\b\b\b\b\b\b\b\b\b\b\b\b\b\b\b\b\b\b\b\b\b\b\b\b\b\b\b\b\b\b\b\b\b\b\b\b\b\b\b\b\b\b\b\b\b\b\b\b\b\b\b\b\b\b\b\b\b\b\b\b\b\b\b\b\b\b\b\b\b\b\b\r",
      "32/42 [=====================>........] - ETA: 5s - loss: 0.3150 - accuracy: 0.8584"
     ]
    },
    {
     "name": "stderr",
     "output_type": "stream",
     "text": [
      "\r",
      " [Elapsed Time: 0:01:05]  [|          #                         |] (  0.5 B/s) "
     ]
    },
    {
     "name": "stdout",
     "output_type": "stream",
     "text": [
      "35/42 [========================>.....] - ETA: 3s - loss: 0.3150 - accuracy: 0.8571"
     ]
    },
    {
     "name": "stderr",
     "output_type": "stream",
     "text": [
      "\r",
      " [Elapsed Time: 0:01:10]  [|                 #                  |] (  1.4 B/s) "
     ]
    },
    {
     "name": "stdout",
     "output_type": "stream",
     "text": [
      "38/42 [==========================>...] - ETA: 2s - loss: 0.3121 - accuracy: 0.8590"
     ]
    },
    {
     "name": "stderr",
     "output_type": "stream",
     "text": [
      "\r",
      " [Elapsed Time: 0:01:12]  [|   #                                |] (  1.4 B/s) "
     ]
    },
    {
     "name": "stdout",
     "output_type": "stream",
     "text": [
      "41/42 [============================>.] - ETA: 0s - loss: 0.3130 - accuracy: 0.8567"
     ]
    },
    {
     "name": "stderr",
     "output_type": "stream",
     "text": [
      "\r",
      " [Elapsed Time: 0:01:10]  [|           #                        |] (  0.4 B/s) "
     ]
    },
    {
     "name": "stdout",
     "output_type": "stream",
     "text": [
      "\b\b\b\b\b\b\b\b\b\b\b\b\b\b\b\b\b\b\b\b\b\b\b\b\b\b\b\b\b\b\b\b\b\b\b\b\b\b\b\b\b\b\b\b\b\b\b\b\b\b\b\b\b\b\b\b\b\b\b\b\b\b\b\b\b\b\b\b\b\b\b\b\b\b\b\b\b\b\b\b\b\b\r",
      "42/42 [==============================] - ETA: 0s - loss: 0.3128 - accuracy: 0.8569"
     ]
    },
    {
     "name": "stderr",
     "output_type": "stream",
     "text": [
      "\r",
      " [Elapsed Time: 0:01:14]  [|                       #            |] (  1.3 B/s) "
     ]
    },
    {
     "name": "stdout",
     "output_type": "stream",
     "text": [
      "42/42 [==============================] - 24s 576ms/step - loss: 0.3128 - accuracy: 0.8569 - val_loss: 0.3390 - val_accuracy: 0.8285\n",
      "Epoch 4/10\n",
      " 1/42 [..............................] - ETA: 24s - loss: 0.3152 - accuracy: 0.7969"
     ]
    },
    {
     "name": "stderr",
     "output_type": "stream",
     "text": [
      "\r",
      " [Elapsed Time: 0:01:16]  [|                            #       |] (  1.3 B/s) "
     ]
    },
    {
     "name": "stdout",
     "output_type": "stream",
     "text": [
      " 5/42 [==>...........................] - ETA: 20s - loss: 0.3028 - accuracy: 0.8641"
     ]
    },
    {
     "name": "stderr",
     "output_type": "stream",
     "text": [
      "\r",
      " [Elapsed Time: 0:01:18]  [|       #                            |] (  1.3 B/s) "
     ]
    },
    {
     "name": "stdout",
     "output_type": "stream",
     "text": [
      "\b\b\b\b\b\b\b\b\b\b\b\b\b\b\b\b\b\b\b\b\b\b\b\b\b\b\b\b\b\b\b\b\b\b\b\b\b\b\b\b\b\b\b\b\b\b\b\b\b\b\b\b\b\b\b\b\b\b\b\b\b\b\b\b\b\b\b\b\b\b\b\b\b\b\b\b\b\b\b\b\b\b\b\r",
      " 6/42 [===>..........................] - ETA: 19s - loss: 0.2896 - accuracy: 0.8724"
     ]
    },
    {
     "name": "stderr",
     "output_type": "stream",
     "text": [
      "\r",
      " [Elapsed Time: 0:01:15]  [|                                 #  |] (  0.4 B/s) "
     ]
    },
    {
     "name": "stdout",
     "output_type": "stream",
     "text": [
      "10/42 [======>.......................] - ETA: 17s - loss: 0.2790 - accuracy: 0.8734"
     ]
    },
    {
     "name": "stderr",
     "output_type": "stream",
     "text": [
      "\r",
      " [Elapsed Time: 0:01:20]  [|               #                    |] (  1.2 B/s) "
     ]
    },
    {
     "name": "stdout",
     "output_type": "stream",
     "text": [
      "13/42 [========>.....................] - ETA: 15s - loss: 0.2691 - accuracy: 0.8762"
     ]
    },
    {
     "name": "stderr",
     "output_type": "stream",
     "text": [
      "\r",
      " [Elapsed Time: 0:01:22]  [|                                   #|] (  1.2 B/s) "
     ]
    },
    {
     "name": "stdout",
     "output_type": "stream",
     "text": [
      "15/42 [=========>....................] - ETA: 14s - loss: 0.2655 - accuracy: 0.8786"
     ]
    },
    {
     "name": "stderr",
     "output_type": "stream",
     "text": [
      "\r",
      " [Elapsed Time: 0:01:20]  [|                #                   |] (  0.4 B/s) "
     ]
    },
    {
     "name": "stdout",
     "output_type": "stream",
     "text": [
      "17/42 [===========>..................] - ETA: 13s - loss: 0.2632 - accuracy: 0.8796"
     ]
    },
    {
     "name": "stderr",
     "output_type": "stream",
     "text": [
      "\r",
      " [Elapsed Time: 0:01:24]  [|              #                     |] (  1.2 B/s) "
     ]
    },
    {
     "name": "stdout",
     "output_type": "stream",
     "text": [
      "21/42 [==============>...............] - ETA: 11s - loss: 0.2641 - accuracy: 0.8824"
     ]
    },
    {
     "name": "stderr",
     "output_type": "stream",
     "text": [
      "\r",
      " [Elapsed Time: 0:01:27]  [|       #                            |] (  1.1 B/s) "
     ]
    },
    {
     "name": "stdout",
     "output_type": "stream",
     "text": [
      "25/42 [================>.............] - ETA: 9s - loss: 0.2634 - accuracy: 0.8816"
     ]
    },
    {
     "name": "stderr",
     "output_type": "stream",
     "text": [
      "\r",
      " [Elapsed Time: 0:01:29]  [|                            #       |] (  1.1 B/s) "
     ]
    },
    {
     "name": "stdout",
     "output_type": "stream",
     "text": [
      "\b\b\b\b\b\b\b\b\b\b\b\b\b\b\b\b\b\b\b\b\b\b\b\b\b\b\b\b\b\b\b\b\b\b\b\b\b\b\b\b\b\b\b\b\b\b\b\b\b\b\b\b\b\b\b\b\b\b\b\b\b\b\b\b\b\b\b\b\b\b\b\b\b\b\b\b\b\b\b\b\b\b\r",
      "26/42 [=================>............] - ETA: 8s - loss: 0.2674 - accuracy: 0.8798"
     ]
    },
    {
     "name": "stderr",
     "output_type": "stream",
     "text": [
      "\r",
      " [Elapsed Time: 0:01:27]  [|       #                            |] (  0.3 B/s) "
     ]
    },
    {
     "name": "stdout",
     "output_type": "stream",
     "text": [
      "28/42 [===================>..........] - ETA: 7s - loss: 0.2680 - accuracy: 0.8800"
     ]
    },
    {
     "name": "stderr",
     "output_type": "stream",
     "text": [
      "\r",
      " [Elapsed Time: 0:01:31]  [|                       #            |] (  1.1 B/s) "
     ]
    },
    {
     "name": "stdout",
     "output_type": "stream",
     "text": [
      "32/42 [=====================>........] - ETA: 5s - loss: 0.2654 - accuracy: 0.8818"
     ]
    },
    {
     "name": "stderr",
     "output_type": "stream",
     "text": [
      "\r",
      " [Elapsed Time: 0:01:33]  [| #                                  |] (  1.1 B/s) "
     ]
    },
    {
     "name": "stdout",
     "output_type": "stream",
     "text": [
      "36/42 [========================>.....] - ETA: 3s - loss: 0.2682 - accuracy: 0.8822"
     ]
    },
    {
     "name": "stderr",
     "output_type": "stream",
     "text": [
      " [Elapsed Time: 0:01:35]  [|                   #                |] (  1.0 B/s) "
     ]
    },
    {
     "name": "stdout",
     "output_type": "stream",
     "text": [
      "40/42 [===========================>..] - ETA: 1s - loss: 0.2692 - accuracy: 0.8826"
     ]
    },
    {
     "name": "stderr",
     "output_type": "stream",
     "text": [
      "\r",
      " [Elapsed Time: 0:01:38]  [|                           #        |] (  1.0 B/s) "
     ]
    },
    {
     "name": "stdout",
     "output_type": "stream",
     "text": [
      "42/42 [==============================] - ETA: 0s - loss: 0.2705 - accuracy: 0.8820"
     ]
    },
    {
     "name": "stderr",
     "output_type": "stream",
     "text": [
      "\r",
      " [Elapsed Time: 0:01:40]  [|     #                              |] (  1.0 B/s) "
     ]
    },
    {
     "name": "stdout",
     "output_type": "stream",
     "text": [
      "42/42 [==============================] - 25s 607ms/step - loss: 0.2705 - accuracy: 0.8820 - val_loss: 0.3218 - val_accuracy: 0.8558\n",
      "Epoch 5/10\n",
      " 2/42 [>.............................] - ETA: 21s - loss: 0.2120 - accuracy: 0.9180"
     ]
    },
    {
     "name": "stderr",
     "output_type": "stream",
     "text": [
      "\r",
      " [Elapsed Time: 0:01:42]  [|                #                   |] (  1.0 B/s) "
     ]
    },
    {
     "name": "stdout",
     "output_type": "stream",
     "text": [
      "\b\b\b\b\b\b\b\b\b\b\b\b\b\b\b\b\b\b\b\b\b\b\b\b\b\b\b\b\b\b\b\b\b\b\b\b\b\b\b\b\b\b\b\b\b\b\b\b\b\b\b\b\b\b\b\b\b\b\b\b\b\b\b\b\b\b\b\b\b\b\b\b\b\b\b\b\b\b\b\b\b\b\b\r",
      " 3/42 [=>............................] - ETA: 24s - loss: 0.2216 - accuracy: 0.9062"
     ]
    },
    {
     "name": "stderr",
     "output_type": "stream",
     "text": [
      "\r",
      " [Elapsed Time: 0:01:40]  [|    #                               |] (  0.3 B/s) "
     ]
    },
    {
     "name": "stdout",
     "output_type": "stream",
     "text": [
      " 6/42 [===>..........................] - ETA: 20s - loss: 0.2403 - accuracy: 0.8958"
     ]
    },
    {
     "name": "stderr",
     "output_type": "stream",
     "text": [
      "\r",
      " [Elapsed Time: 0:01:44]  [|                               #    |] (  1.0 B/s) "
     ]
    },
    {
     "name": "stdout",
     "output_type": "stream",
     "text": [
      "10/42 [======>.......................] - ETA: 18s - loss: 0.2252 - accuracy: 0.9023"
     ]
    },
    {
     "name": "stderr",
     "output_type": "stream",
     "text": [
      "\r",
      " [Elapsed Time: 0:01:46]  [|           #                        |] (  0.9 B/s) "
     ]
    },
    {
     "name": "stdout",
     "output_type": "stream",
     "text": [
      "12/42 [=======>......................] - ETA: 17s - loss: 0.2177 - accuracy: 0.9069"
     ]
    },
    {
     "name": "stderr",
     "output_type": "stream",
     "text": [
      "\r",
      " [Elapsed Time: 0:01:45]  [|                          #         |] (  0.3 B/s) "
     ]
    },
    {
     "name": "stdout",
     "output_type": "stream",
     "text": [
      "\b\b\b\b\b\b\b\b\b\b\b\b\b\b\b\b\b\b\b\b\b\b\b\b\b\b\b\b\b\b\b\b\b\b\b\b\b\b\b\b\b\b\b\b\b\b\b\b\b\b\b\b\b\b\b\b\b\b\b\b\b\b\b\b\b\b\b\b\b\b\b\b\b\b\b\b\b\b\b\b\b\b\b\r",
      "13/42 [========>.....................] - ETA: 16s - loss: 0.2229 - accuracy: 0.9044"
     ]
    },
    {
     "name": "stderr",
     "output_type": "stream",
     "text": [
      "\r",
      " [Elapsed Time: 0:01:48]  [|        #                           |] (  0.9 B/s) "
     ]
    },
    {
     "name": "stdout",
     "output_type": "stream",
     "text": [
      "17/42 [===========>..................] - ETA: 14s - loss: 0.2279 - accuracy: 0.9035"
     ]
    },
    {
     "name": "stderr",
     "output_type": "stream",
     "text": [
      "\r",
      " [Elapsed Time: 0:01:50]  [|                            #       |] (  0.9 B/s) "
     ]
    },
    {
     "name": "stdout",
     "output_type": "stream",
     "text": [
      "21/42 [==============>...............] - ETA: 11s - loss: 0.2267 - accuracy: 0.9014"
     ]
    },
    {
     "name": "stderr",
     "output_type": "stream",
     "text": [
      " [Elapsed Time: 0:01:50]  [|                       #            |] (  0.3 B/s) "
     ]
    },
    {
     "name": "stdout",
     "output_type": "stream",
     "text": [
      "25/42 [================>.............] - ETA: 9s - loss: 0.2273 - accuracy: 0.9000 "
     ]
    },
    {
     "name": "stderr",
     "output_type": "stream",
     "text": [
      "\r",
      " [Elapsed Time: 0:01:55]  [|#                                   |] (  0.9 B/s) "
     ]
    },
    {
     "name": "stdout",
     "output_type": "stream",
     "text": [
      "29/42 [===================>..........] - ETA: 7s - loss: 0.2243 - accuracy: 0.9009"
     ]
    },
    {
     "name": "stderr",
     "output_type": "stream",
     "text": [
      "\r",
      " [Elapsed Time: 0:01:57]  [|                    #               |] (  0.9 B/s) "
     ]
    },
    {
     "name": "stdout",
     "output_type": "stream",
     "text": [
      "\b\b\b\b\b\b\b\b\b\b\b\b\b\b\b\b\b\b\b\b\b\b\b\b\b\b\b\b\b\b\b\b\b\b\b\b\b\b\b\b\b\b\b\b\b\b\b\b\b\b\b\b\b\b\b\b\b\b\b\b\b\b\b\b\b\b\b\b\b\b\b\b\b\b\b\b\b\b\b\b\b\b\r",
      "30/42 [====================>.........] - ETA: 6s - loss: 0.2247 - accuracy: 0.9016"
     ]
    },
    {
     "name": "stderr",
     "output_type": "stream",
     "text": [
      "\r",
      " [Elapsed Time: 0:01:55]  [| #                                  |] (  0.3 B/s) "
     ]
    },
    {
     "name": "stdout",
     "output_type": "stream",
     "text": [
      "32/42 [=====================>........] - ETA: 5s - loss: 0.2261 - accuracy: 0.8999"
     ]
    },
    {
     "name": "stderr",
     "output_type": "stream",
     "text": [
      "\r",
      " [Elapsed Time: 0:01:59]  [|                              #     |] (  0.8 B/s) "
     ]
    },
    {
     "name": "stdout",
     "output_type": "stream",
     "text": [
      "36/42 [========================>.....] - ETA: 3s - loss: 0.2252 - accuracy: 0.9002"
     ]
    },
    {
     "name": "stderr",
     "output_type": "stream",
     "text": [
      "\r",
      " [Elapsed Time: 0:02:01]  [|          #                         |] (  0.8 B/s) "
     ]
    },
    {
     "name": "stdout",
     "output_type": "stream",
     "text": [
      "40/42 [===========================>..] - ETA: 1s - loss: 0.2254 - accuracy: 0.9004"
     ]
    },
    {
     "name": "stderr",
     "output_type": "stream",
     "text": [
      " [Elapsed Time: 0:02:00]  [|                  #                 |] (  0.2 B/s) "
     ]
    },
    {
     "name": "stdout",
     "output_type": "stream",
     "text": [
      "42/42 [==============================] - 25s 585ms/step - loss: 0.2264 - accuracy: 0.8996 - val_loss: 0.3356 - val_accuracy: 0.8627\n",
      "Epoch 6/10\n",
      " 1/42 [..............................] - ETA: 22s - loss: 0.1646 - accuracy: 0.9297"
     ]
    },
    {
     "name": "stderr",
     "output_type": "stream",
     "text": [
      "\r",
      " [Elapsed Time: 0:02:06]  [|                                #   |] (  0.8 B/s) "
     ]
    },
    {
     "name": "stdout",
     "output_type": "stream",
     "text": [
      " 5/42 [==>...........................] - ETA: 20s - loss: 0.1669 - accuracy: 0.9375"
     ]
    },
    {
     "name": "stderr",
     "output_type": "stream",
     "text": [
      " [Elapsed Time: 0:02:05]  [|                               #    |] (  0.2 B/s) "
     ]
    },
    {
     "name": "stdout",
     "output_type": "stream",
     "text": [
      " 9/42 [=====>........................] - ETA: 18s - loss: 0.1904 - accuracy: 0.9184"
     ]
    },
    {
     "name": "stderr",
     "output_type": "stream",
     "text": [
      "\r",
      " [Elapsed Time: 0:02:10]  [|         #                          |] (  0.8 B/s) "
     ]
    },
    {
     "name": "stdout",
     "output_type": "stream",
     "text": [
      "12/42 [=======>......................] - ETA: 16s - loss: 0.1869 - accuracy: 0.9232"
     ]
    },
    {
     "name": "stderr",
     "output_type": "stream",
     "text": [
      "\r",
      " [Elapsed Time: 0:02:12]  [|                               #    |] (  0.8 B/s) "
     ]
    },
    {
     "name": "stdout",
     "output_type": "stream",
     "text": [
      "14/42 [=========>....................] - ETA: 15s - loss: 0.1937 - accuracy: 0.9213"
     ]
    },
    {
     "name": "stderr",
     "output_type": "stream",
     "text": [
      "\r",
      " [Elapsed Time: 0:02:10]  [|         #                          |] (  0.2 B/s) "
     ]
    },
    {
     "name": "stdout",
     "output_type": "stream",
     "text": [
      "17/42 [===========>..................] - ETA: 13s - loss: 0.1907 - accuracy: 0.9223"
     ]
    },
    {
     "name": "stderr",
     "output_type": "stream",
     "text": [
      "\r",
      " [Elapsed Time: 0:02:14]  [|                   #                |] (  0.7 B/s) "
     ]
    },
    {
     "name": "stdout",
     "output_type": "stream",
     "text": [
      "21/42 [==============>...............] - ETA: 11s - loss: 0.1933 - accuracy: 0.9219"
     ]
    },
    {
     "name": "stderr",
     "output_type": "stream",
     "text": [
      "\r",
      " [Elapsed Time: 0:02:17]  [|  #                                 |] (  0.7 B/s) "
     ]
    },
    {
     "name": "stdout",
     "output_type": "stream",
     "text": [
      "23/42 [===============>..............] - ETA: 10s - loss: 0.1926 - accuracy: 0.9219"
     ]
    },
    {
     "name": "stderr",
     "output_type": "stream",
     "text": [
      "\r",
      " [Elapsed Time: 0:02:15]  [|            #                       |] (  0.2 B/s) "
     ]
    },
    {
     "name": "stdout",
     "output_type": "stream",
     "text": [
      "\b\b\b\b\b\b\b\b\b\b\b\b\b\b\b\b\b\b\b\b\b\b\b\b\b\b\b\b\b\b\b\b\b\b\b\b\b\b\b\b\b\b\b\b\b\b\b\b\b\b\b\b\b\b\b\b\b\b\b\b\b\b\b\b\b\b\b\b\b\b\b\b\b\b\b\b\b\b\b\b\b\b\b\r",
      "24/42 [================>.............] - ETA: 9s - loss: 0.1918 - accuracy: 0.9222 "
     ]
    },
    {
     "name": "stderr",
     "output_type": "stream",
     "text": [
      "\r",
      " [Elapsed Time: 0:02:19]  [|                         #          |] (  0.7 B/s) "
     ]
    },
    {
     "name": "stdout",
     "output_type": "stream",
     "text": [
      "28/42 [===================>..........] - ETA: 7s - loss: 0.1940 - accuracy: 0.9202"
     ]
    },
    {
     "name": "stderr",
     "output_type": "stream",
     "text": [
      "\r",
      " [Elapsed Time: 0:02:21]  [|                          #         |] (  0.7 B/s) "
     ]
    },
    {
     "name": "stdout",
     "output_type": "stream",
     "text": [
      "32/42 [=====================>........] - ETA: 5s - loss: 0.1940 - accuracy: 0.9202"
     ]
    },
    {
     "name": "stderr",
     "output_type": "stream",
     "text": [
      "\r",
      " [Elapsed Time: 0:02:23]  [|      #                             |] (  0.7 B/s) "
     ]
    },
    {
     "name": "stdout",
     "output_type": "stream",
     "text": [
      "\b\b\b\b\b\b\b\b\b\b\b\b\b\b\b\b\b\b\b\b\b\b\b\b\b\b\b\b\b\b\b\b\b\b\b\b\b\b\b\b\b\b\b\b\b\b\b\b\b\b\b\b\b\b\b\b\b\b\b\b\b\b\b\b\b\b\b\b\b\b\b\b\b\b\b\b\b\b\b\b\b\b\r",
      "33/42 [======================>.......] - ETA: 4s - loss: 0.1947 - accuracy: 0.9202"
     ]
    },
    {
     "name": "stderr",
     "output_type": "stream",
     "text": [
      "\r",
      " [Elapsed Time: 0:02:20]  [|                                #   |] (  0.2 B/s) "
     ]
    },
    {
     "name": "stdout",
     "output_type": "stream",
     "text": [
      "36/42 [========================>.....] - ETA: 3s - loss: 0.1940 - accuracy: 0.9204"
     ]
    },
    {
     "name": "stderr",
     "output_type": "stream",
     "text": [
      "\r",
      " [Elapsed Time: 0:02:25]  [|               #                    |] (  0.7 B/s) "
     ]
    },
    {
     "name": "stdout",
     "output_type": "stream",
     "text": [
      "40/42 [===========================>..] - ETA: 1s - loss: 0.1960 - accuracy: 0.9197"
     ]
    },
    {
     "name": "stderr",
     "output_type": "stream",
     "text": [
      "\r",
      " [Elapsed Time: 0:02:27]  [|                                  # |] (  0.7 B/s) "
     ]
    },
    {
     "name": "stdout",
     "output_type": "stream",
     "text": [
      "42/42 [==============================] - ETA: 0s - loss: 0.1964 - accuracy: 0.9197"
     ]
    },
    {
     "name": "stderr",
     "output_type": "stream",
     "text": [
      "\r",
      " [Elapsed Time: 0:02:25]  [|                 #                  |] (  0.2 B/s) "
     ]
    },
    {
     "name": "stdout",
     "output_type": "stream",
     "text": [
      "42/42 [==============================] - 25s 586ms/step - loss: 0.1964 - accuracy: 0.9197 - val_loss: 0.3812 - val_accuracy: 0.8392\n",
      "Epoch 7/10\n"
     ]
    },
    {
     "name": "stderr",
     "output_type": "stream",
     "text": [
      "\r",
      " [Elapsed Time: 0:02:30]  [|         #                          |] (  0.7 B/s) "
     ]
    },
    {
     "name": "stdout",
     "output_type": "stream",
     "text": [
      " 4/42 [=>............................] - ETA: 20s - loss: 0.1732 - accuracy: 0.9316"
     ]
    },
    {
     "name": "stderr",
     "output_type": "stream",
     "text": [
      "\r",
      " [Elapsed Time: 0:02:32]  [|              #                     |] (  0.7 B/s) "
     ]
    },
    {
     "name": "stdout",
     "output_type": "stream",
     "text": [
      " 6/42 [===>..........................] - ETA: 20s - loss: 0.1663 - accuracy: 0.9362"
     ]
    },
    {
     "name": "stderr",
     "output_type": "stream",
     "text": [
      "\r",
      " [Elapsed Time: 0:02:30]  [|    #                               |] (  0.2 B/s) "
     ]
    },
    {
     "name": "stdout",
     "output_type": "stream",
     "text": [
      " 8/42 [====>.........................] - ETA: 18s - loss: 0.1703 - accuracy: 0.9346"
     ]
    },
    {
     "name": "stderr",
     "output_type": "stream",
     "text": [
      "\r",
      " [Elapsed Time: 0:02:34]  [|                                   #|] (  0.6 B/s) "
     ]
    },
    {
     "name": "stdout",
     "output_type": "stream",
     "text": [
      "12/42 [=======>......................] - ETA: 16s - loss: 0.1763 - accuracy: 0.9336"
     ]
    },
    {
     "name": "stderr",
     "output_type": "stream",
     "text": [
      "\r",
      " [Elapsed Time: 0:02:36]  [|              #                     |] (  0.6 B/s) "
     ]
    },
    {
     "name": "stdout",
     "output_type": "stream",
     "text": [
      "15/42 [=========>....................] - ETA: 15s - loss: 0.1737 - accuracy: 0.9297"
     ]
    },
    {
     "name": "stderr",
     "output_type": "stream",
     "text": [
      "\r",
      " [Elapsed Time: 0:02:35]  [|                          #         |] (  0.2 B/s) "
     ]
    },
    {
     "name": "stdout",
     "output_type": "stream",
     "text": [
      "\b\b\b\b\b\b\b\b\b\b\b\b\b\b\b\b\b\b\b\b\b\b\b\b\b\b\b\b\b\b\b\b\b\b\b\b\b\b\b\b\b\b\b\b\b\b\b\b\b\b\b\b\b\b\b\b\b\b\b\b\b\b\b\b\b\b\b\b\b\b\b\b\b\b\b\b\b\b\b\b\b\b\b\r",
      "16/42 [==========>...................] - ETA: 14s - loss: 0.1740 - accuracy: 0.9292"
     ]
    },
    {
     "name": "stderr",
     "output_type": "stream",
     "text": [
      "\r",
      " [Elapsed Time: 0:02:39]  [|       #                            |] (  0.6 B/s) "
     ]
    },
    {
     "name": "stdout",
     "output_type": "stream",
     "text": [
      "19/42 [============>.................] - ETA: 12s - loss: 0.1695 - accuracy: 0.9322"
     ]
    },
    {
     "name": "stderr",
     "output_type": "stream",
     "text": [
      "\r",
      " [Elapsed Time: 0:02:41]  [|                           #        |] (  0.6 B/s) "
     ]
    },
    {
     "name": "stdout",
     "output_type": "stream",
     "text": [
      "23/42 [===============>..............] - ETA: 10s - loss: 0.1646 - accuracy: 0.9338"
     ]
    },
    {
     "name": "stderr",
     "output_type": "stream",
     "text": [
      "\r",
      " [Elapsed Time: 0:02:43]  [|                      #             |] (  0.6 B/s) "
     ]
    },
    {
     "name": "stdout",
     "output_type": "stream",
     "text": [
      "\b\b\b\b\b\b\b\b\b\b\b\b\b\b\b\b\b\b\b\b\b\b\b\b\b\b\b\b\b\b\b\b\b\b\b\b\b\b\b\b\b\b\b\b\b\b\b\b\b\b\b\b\b\b\b\b\b\b\b\b\b\b\b\b\b\b\b\b\b\b\b\b\b\b\b\b\b\b\b\b\b\b\b\r",
      "24/42 [================>.............] - ETA: 10s - loss: 0.1659 - accuracy: 0.9329"
     ]
    },
    {
     "name": "stderr",
     "output_type": "stream",
     "text": [
      "\r",
      " [Elapsed Time: 0:02:40]  [|                       #            |] (  0.2 B/s) "
     ]
    },
    {
     "name": "stdout",
     "output_type": "stream",
     "text": [
      "26/42 [=================>............] - ETA: 9s - loss: 0.1641 - accuracy: 0.9342"
     ]
    },
    {
     "name": "stderr",
     "output_type": "stream",
     "text": [
      "\r",
      " [Elapsed Time: 0:02:45]  [|  #                                 |] (  0.6 B/s) "
     ]
    },
    {
     "name": "stdout",
     "output_type": "stream",
     "text": [
      "30/42 [====================>.........] - ETA: 6s - loss: 0.1600 - accuracy: 0.9365"
     ]
    },
    {
     "name": "stderr",
     "output_type": "stream",
     "text": [
      "\r",
      " [Elapsed Time: 0:02:47]  [|                   #                |] (  0.6 B/s) "
     ]
    },
    {
     "name": "stdout",
     "output_type": "stream",
     "text": [
      "32/42 [=====================>........] - ETA: 5s - loss: 0.1599 - accuracy: 0.9365"
     ]
    },
    {
     "name": "stderr",
     "output_type": "stream",
     "text": [
      "\r",
      " [Elapsed Time: 0:02:45]  [|  #                                 |] (  0.2 B/s) "
     ]
    },
    {
     "name": "stdout",
     "output_type": "stream",
     "text": [
      "34/42 [=======================>......] - ETA: 4s - loss: 0.1602 - accuracy: 0.9368"
     ]
    },
    {
     "name": "stderr",
     "output_type": "stream",
     "text": [
      "\r",
      " [Elapsed Time: 0:02:49]  [|                              #     |] (  0.6 B/s) "
     ]
    },
    {
     "name": "stdout",
     "output_type": "stream",
     "text": [
      "37/42 [=========================>....] - ETA: 2s - loss: 0.1628 - accuracy: 0.9354"
     ]
    },
    {
     "name": "stderr",
     "output_type": "stream",
     "text": [
      "\r",
      " [Elapsed Time: 0:02:51]  [|          #                         |] (  0.6 B/s) "
     ]
    },
    {
     "name": "stdout",
     "output_type": "stream",
     "text": [
      "41/42 [============================>.] - ETA: 0s - loss: 0.1613 - accuracy: 0.9365"
     ]
    },
    {
     "name": "stderr",
     "output_type": "stream",
     "text": [
      " [Elapsed Time: 0:02:54]  [|            #                       |] (  0.6 B/s) "
     ]
    },
    {
     "name": "stdout",
     "output_type": "stream",
     "text": [
      "\b\b\b\b\b\b\b\b\b\b\b\b\b\b\b\b\b\b\b\b\b\b\b\b\b\b\b\b\b\b\b\b\b\b\b\b\b\b\b\b\b\b\b\b\b\b\b\b\b\b\b\b\b\b\b\b\b\b\b\b\b\b\b\b\b\b\b\b\b\b\b\b\b\b\b\b\b\b\b\b\b\b\r",
      "42/42 [==============================] - ETA: 0s - loss: 0.1621 - accuracy: 0.9361"
     ]
    },
    {
     "name": "stderr",
     "output_type": "stream",
     "text": [
      "\r",
      " [Elapsed Time: 0:02:56]  [|                                #   |] (  0.6 B/s) "
     ]
    },
    {
     "name": "stdout",
     "output_type": "stream",
     "text": [
      "42/42 [==============================] - 26s 618ms/step - loss: 0.1621 - accuracy: 0.9361 - val_loss: 0.3752 - val_accuracy: 0.8505\n",
      "Epoch 8/10\n",
      " 3/42 [=>............................] - ETA: 23s - loss: 0.1380 - accuracy: 0.9453"
     ]
    },
    {
     "name": "stderr",
     "output_type": "stream",
     "text": [
      "\r",
      " [Elapsed Time: 0:02:58]  [|                   #                |] (  0.6 B/s) "
     ]
    },
    {
     "name": "stdout",
     "output_type": "stream",
     "text": [
      "\b\b\b\b\b\b\b\b\b\b\b\b\b\b\b\b\b\b\b\b\b\b\b\b\b\b\b\b\b\b\b\b\b\b\b\b\b\b\b\b\b\b\b\b\b\b\b\b\b\b\b\b\b\b\b\b\b\b\b\b\b\b\b\b\b\b\b\b\b\b\b\b\b\b\b\b\b\b\b\b\b\b\b\r",
      " 4/42 [=>............................] - ETA: 23s - loss: 0.1189 - accuracy: 0.9551"
     ]
    },
    {
     "name": "stderr",
     "output_type": "stream",
     "text": [
      "\r",
      " [Elapsed Time: 0:02:56]  [|                                #   |] (  0.2 B/s) "
     ]
    },
    {
     "name": "stdout",
     "output_type": "stream",
     "text": [
      " 6/42 [===>..........................] - ETA: 22s - loss: 0.1321 - accuracy: 0.9479"
     ]
    },
    {
     "name": "stderr",
     "output_type": "stream",
     "text": [
      "\r",
      " [Elapsed Time: 0:03:00]  [|  #                                 |] (  0.6 B/s) "
     ]
    },
    {
     "name": "stdout",
     "output_type": "stream",
     "text": [
      " 9/42 [=====>........................] - ETA: 20s - loss: 0.1332 - accuracy: 0.9479"
     ]
    },
    {
     "name": "stderr",
     "output_type": "stream",
     "text": [
      "\r",
      " [Elapsed Time: 0:03:02]  [|                      #             |] (  0.5 B/s) "
     ]
    },
    {
     "name": "stdout",
     "output_type": "stream",
     "text": [
      "12/42 [=======>......................] - ETA: 18s - loss: 0.1407 - accuracy: 0.9421"
     ]
    },
    {
     "name": "stderr",
     "output_type": "stream",
     "text": [
      "\r",
      " [Elapsed Time: 0:03:04]  [|                             #      |] (  0.5 B/s) "
     ]
    },
    {
     "name": "stdout",
     "output_type": "stream",
     "text": [
      "\b\b\b\b\b\b\b\b\b\b\b\b\b\b\b\b\b\b\b\b\b\b\b\b\b\b\b\b\b\b\b\b\b\b\b\b\b\b\b\b\b\b\b\b\b\b\b\b\b\b\b\b\b\b\b\b\b\b\b\b\b\b\b\b\b\b\b\b\b\b\b\b\b\b\b\b\b\b\b\b\b\b\b\r",
      "13/42 [========>.....................] - ETA: 18s - loss: 0.1433 - accuracy: 0.9393"
     ]
    },
    {
     "name": "stderr",
     "output_type": "stream",
     "text": [
      "\r",
      " [Elapsed Time: 0:03:01]  [|                #                   |] (  0.2 B/s) "
     ]
    },
    {
     "name": "stdout",
     "output_type": "stream",
     "text": [
      "15/42 [=========>....................] - ETA: 18s - loss: 0.1432 - accuracy: 0.9370"
     ]
    },
    {
     "name": "stderr",
     "output_type": "stream",
     "text": [
      "\r",
      " [Elapsed Time: 0:03:06]  [|     #                              |] (  0.5 B/s) "
     ]
    },
    {
     "name": "stdout",
     "output_type": "stream",
     "text": [
      "19/42 [============>.................] - ETA: 15s - loss: 0.1454 - accuracy: 0.9375"
     ]
    },
    {
     "name": "stderr",
     "output_type": "stream",
     "text": [
      " [Elapsed Time: 0:03:06]  [|     #                              |] (  0.2 B/s) "
     ]
    },
    {
     "name": "stdout",
     "output_type": "stream",
     "text": [
      "22/42 [==============>...............] - ETA: 14s - loss: 0.1441 - accuracy: 0.9396"
     ]
    },
    {
     "name": "stderr",
     "output_type": "stream",
     "text": [
      "\r",
      " [Elapsed Time: 0:03:11]  [|                           #        |] (  0.5 B/s) "
     ]
    },
    {
     "name": "stdout",
     "output_type": "stream",
     "text": [
      "24/42 [================>.............] - ETA: 12s - loss: 0.1466 - accuracy: 0.9382"
     ]
    },
    {
     "name": "stderr",
     "output_type": "stream",
     "text": [
      "\r",
      " [Elapsed Time: 0:03:13]  [|       #                            |] (  0.5 B/s) "
     ]
    },
    {
     "name": "stdout",
     "output_type": "stream",
     "text": [
      "\b\b\b\b\b\b\b\b\b\b\b\b\b\b\b\b\b\b\b\b\b\b\b\b\b\b\b\b\b\b\b\b\b\b\b\b\b\b\b\b\b\b\b\b\b\b\b\b\b\b\b\b\b\b\b\b\b\b\b\b\b\b\b\b\b\b\b\b\b\b\b\b\b\b\b\b\b\b\b\b\b\b\b\r",
      "25/42 [================>.............] - ETA: 12s - loss: 0.1453 - accuracy: 0.9384"
     ]
    },
    {
     "name": "stderr",
     "output_type": "stream",
     "text": [
      "\r",
      " [Elapsed Time: 0:03:11]  [|                           #        |] (  0.2 B/s) "
     ]
    },
    {
     "name": "stdout",
     "output_type": "stream",
     "text": [
      "\b\b\b\b\b\b\b\b\b\b\b\b\b\b\b\b\b\b\b\b\b\b\b\b\b\b\b\b\b\b\b\b\b\b\b\b\b\b\b\b\b\b\b\b\b\b\b\b\b\b\b\b\b\b\b\b\b\b\b\b\b\b\b\b\b\b\b\b\b\b\b\b\b\b\b\b\b\b\b\b\b\b\b\r",
      "26/42 [=================>............] - ETA: 11s - loss: 0.1420 - accuracy: 0.9405"
     ]
    },
    {
     "name": "stderr",
     "output_type": "stream",
     "text": [
      "\r",
      " [Elapsed Time: 0:03:15]  [|            #                       |] (  0.5 B/s) "
     ]
    },
    {
     "name": "stdout",
     "output_type": "stream",
     "text": [
      "29/42 [===================>..........] - ETA: 9s - loss: 0.1376 - accuracy: 0.9432 "
     ]
    },
    {
     "name": "stderr",
     "output_type": "stream",
     "text": [
      "\r",
      " [Elapsed Time: 0:03:17]  [|                                   #|] (  0.5 B/s) "
     ]
    },
    {
     "name": "stdout",
     "output_type": "stream",
     "text": [
      "31/42 [=====================>........] - ETA: 8s - loss: 0.1426 - accuracy: 0.9420"
     ]
    },
    {
     "name": "stderr",
     "output_type": "stream",
     "text": [
      " [Elapsed Time: 0:03:17]  [|                          #         |] (  0.2 B/s) "
     ]
    },
    {
     "name": "stdout",
     "output_type": "stream",
     "text": [
      "33/42 [======================>.......] - ETA: 6s - loss: 0.1420 - accuracy: 0.9429"
     ]
    },
    {
     "name": "stderr",
     "output_type": "stream",
     "text": [
      "\r",
      " [Elapsed Time: 0:03:21]  [|   #                                |] (  0.5 B/s) "
     ]
    },
    {
     "name": "stdout",
     "output_type": "stream",
     "text": [
      "36/42 [========================>.....] - ETA: 4s - loss: 0.1415 - accuracy: 0.9434"
     ]
    },
    {
     "name": "stderr",
     "output_type": "stream",
     "text": [
      "\r",
      " [Elapsed Time: 0:03:24]  [|                          #         |] (  0.5 B/s) "
     ]
    },
    {
     "name": "stdout",
     "output_type": "stream",
     "text": [
      "\b\b\b\b\b\b\b\b\b\b\b\b\b\b\b\b\b\b\b\b\b\b\b\b\b\b\b\b\b\b\b\b\b\b\b\b\b\b\b\b\b\b\b\b\b\b\b\b\b\b\b\b\b\b\b\b\b\b\b\b\b\b\b\b\b\b\b\b\b\b\b\b\b\b\b\b\b\b\b\b\b\b\r",
      "37/42 [=========================>....] - ETA: 3s - loss: 0.1413 - accuracy: 0.9432"
     ]
    },
    {
     "name": "stderr",
     "output_type": "stream",
     "text": [
      "\r",
      " [Elapsed Time: 0:03:22]  [|    #                               |] (  0.1 B/s) "
     ]
    },
    {
     "name": "stdout",
     "output_type": "stream",
     "text": [
      "39/42 [==========================>...] - ETA: 2s - loss: 0.1414 - accuracy: 0.9439"
     ]
    },
    {
     "name": "stderr",
     "output_type": "stream",
     "text": [
      "\r",
      " [Elapsed Time: 0:03:26]  [|                      #             |] (  0.5 B/s) "
     ]
    },
    {
     "name": "stdout",
     "output_type": "stream",
     "text": [
      "42/42 [==============================] - ETA: 0s - loss: 0.1409 - accuracy: 0.9438"
     ]
    },
    {
     "name": "stderr",
     "output_type": "stream",
     "text": [
      "\r",
      " [Elapsed Time: 0:03:28]  [|  #                                 |] (  0.5 B/s) "
     ]
    },
    {
     "name": "stdout",
     "output_type": "stream",
     "text": [
      "42/42 [==============================] - 34s 810ms/step - loss: 0.1409 - accuracy: 0.9438 - val_loss: 0.3771 - val_accuracy: 0.8596\n",
      "Epoch 9/10\n"
     ]
    },
    {
     "name": "stderr",
     "output_type": "stream",
     "text": [
      " [Elapsed Time: 0:03:30]  [|                 #                  |] (  0.5 B/s) "
     ]
    },
    {
     "name": "stdout",
     "output_type": "stream",
     "text": [
      " 6/42 [===>..........................] - ETA: 30s - loss: 0.0919 - accuracy: 0.9727"
     ]
    },
    {
     "name": "stderr",
     "output_type": "stream",
     "text": [
      "\r",
      " [Elapsed Time: 0:03:32]  [|                                   #|] (  0.1 B/s) "
     ]
    },
    {
     "name": "stdout",
     "output_type": "stream",
     "text": [
      "12/42 [=======>......................] - ETA: 25s - loss: 0.1015 - accuracy: 0.9635"
     ]
    },
    {
     "name": "stderr",
     "output_type": "stream",
     "text": [
      "\r",
      " [Elapsed Time: 0:03:37]  [|               #                    |] (  0.1 B/s) "
     ]
    },
    {
     "name": "stdout",
     "output_type": "stream",
     "text": [
      "19/42 [============>.................] - ETA: 18s - loss: 0.0929 - accuracy: 0.9667"
     ]
    },
    {
     "name": "stderr",
     "output_type": "stream",
     "text": [
      "\r",
      " [Elapsed Time: 0:03:42]  [|   #                                |] (  0.1 B/s) "
     ]
    },
    {
     "name": "stdout",
     "output_type": "stream",
     "text": [
      "26/42 [=================>............] - ETA: 12s - loss: 0.0966 - accuracy: 0.9663"
     ]
    },
    {
     "name": "stderr",
     "output_type": "stream",
     "text": [
      "\r",
      " [Elapsed Time: 0:03:48]  [|                      #             |] (  0.1 B/s) "
     ]
    },
    {
     "name": "stdout",
     "output_type": "stream",
     "text": [
      "33/42 [======================>.......] - ETA: 7s - loss: 0.1000 - accuracy: 0.9645"
     ]
    },
    {
     "name": "stderr",
     "output_type": "stream",
     "text": [
      "\r",
      " [Elapsed Time: 0:03:53]  [|                             #      |] (  0.1 B/s) "
     ]
    },
    {
     "name": "stdout",
     "output_type": "stream",
     "text": [
      "39/42 [==========================>...] - ETA: 2s - loss: 0.0990 - accuracy: 0.9639"
     ]
    },
    {
     "name": "stderr",
     "output_type": "stream",
     "text": [
      "\r",
      " [Elapsed Time: 0:03:59]  [|              #                     |] (  0.1 B/s) "
     ]
    },
    {
     "name": "stdout",
     "output_type": "stream",
     "text": [
      "42/42 [==============================] - 36s 842ms/step - loss: 0.0997 - accuracy: 0.9632 - val_loss: 0.4151 - val_accuracy: 0.8627\n",
      "Epoch 10/10\n",
      " 2/42 [>.............................] - ETA: 32s - loss: 0.0505 - accuracy: 0.9844"
     ]
    },
    {
     "name": "stderr",
     "output_type": "stream",
     "text": [
      " [Elapsed Time: 0:04:07]  [|                              #     |] (  0.4 B/s) "
     ]
    },
    {
     "name": "stdout",
     "output_type": "stream",
     "text": [
      " 5/42 [==>...........................] - ETA: 28s - loss: 0.0668 - accuracy: 0.9750"
     ]
    },
    {
     "name": "stderr",
     "output_type": "stream",
     "text": [
      "\r",
      " [Elapsed Time: 0:04:09]  [|                     #              |] (  0.4 B/s) "
     ]
    },
    {
     "name": "stdout",
     "output_type": "stream",
     "text": [
      " 8/42 [====>.........................] - ETA: 25s - loss: 0.0647 - accuracy: 0.9775"
     ]
    },
    {
     "name": "stderr",
     "output_type": "stream",
     "text": [
      "\r",
      " [Elapsed Time: 0:04:11]  [| #                                  |] (  0.4 B/s) "
     ]
    },
    {
     "name": "stdout",
     "output_type": "stream",
     "text": [
      "\b\b\b\b\b\b\b\b\b\b\b\b\b\b\b\b\b\b\b\b\b\b\b\b\b\b\b\b\b\b\b\b\b\b\b\b\b\b\b\b\b\b\b\b\b\b\b\b\b\b\b\b\b\b\b\b\b\b\b\b\b\b\b\b\b\b\b\b\b\b\b\b\b\b\b\b\b\b\b\b\b\b\b\r",
      " 9/42 [=====>........................] - ETA: 24s - loss: 0.0690 - accuracy: 0.9757"
     ]
    },
    {
     "name": "stderr",
     "output_type": "stream",
     "text": [
      "\r",
      " [Elapsed Time: 0:04:09]  [|                       #            |] (  0.1 B/s) "
     ]
    },
    {
     "name": "stdout",
     "output_type": "stream",
     "text": [
      "11/42 [======>.......................] - ETA: 22s - loss: 0.0718 - accuracy: 0.9759"
     ]
    },
    {
     "name": "stderr",
     "output_type": "stream",
     "text": [
      "\r",
      " [Elapsed Time: 0:04:14]  [|                    #               |] (  0.4 B/s) "
     ]
    },
    {
     "name": "stdout",
     "output_type": "stream",
     "text": [
      "15/42 [=========>....................] - ETA: 18s - loss: 0.0760 - accuracy: 0.9745"
     ]
    },
    {
     "name": "stderr",
     "output_type": "stream",
     "text": [
      "\r",
      " [Elapsed Time: 0:04:16]  [|                            #       |] (  0.4 B/s) "
     ]
    },
    {
     "name": "stdout",
     "output_type": "stream",
     "text": [
      "19/42 [============>.................] - ETA: 15s - loss: 0.0743 - accuracy: 0.9753"
     ]
    },
    {
     "name": "stderr",
     "output_type": "stream",
     "text": [
      "\r",
      " [Elapsed Time: 0:04:18]  [|       #                            |] (  0.4 B/s) "
     ]
    },
    {
     "name": "stdout",
     "output_type": "stream",
     "text": [
      "\b\b\b\b\b\b\b\b\b\b\b\b\b\b\b\b\b\b\b\b\b\b\b\b\b\b\b\b\b\b\b\b\b\b\b\b\b\b\b\b\b\b\b\b\b\b\b\b\b\b\b\b\b\b\b\b\b\b\b\b\b\b\b\b\b\b\b\b\b\b\b\b\b\b\b\b\b\b\b\b\b\b\b\r",
      "20/42 [=============>................] - ETA: 14s - loss: 0.0745 - accuracy: 0.9750"
     ]
    },
    {
     "name": "stderr",
     "output_type": "stream",
     "text": [
      "\r",
      " [Elapsed Time: 0:04:16]  [|                            #       |] (  0.1 B/s) "
     ]
    },
    {
     "name": "stdout",
     "output_type": "stream",
     "text": [
      "22/42 [==============>...............] - ETA: 13s - loss: 0.0725 - accuracy: 0.9762"
     ]
    },
    {
     "name": "stderr",
     "output_type": "stream",
     "text": [
      "\r",
      " [Elapsed Time: 0:04:20]  [|              #                     |] (  0.4 B/s) "
     ]
    },
    {
     "name": "stdout",
     "output_type": "stream",
     "text": [
      "25/42 [================>.............] - ETA: 11s - loss: 0.0698 - accuracy: 0.9772"
     ]
    },
    {
     "name": "stderr",
     "output_type": "stream",
     "text": [
      "\r",
      " [Elapsed Time: 0:04:22]  [|                                  # |] (  0.4 B/s) "
     ]
    },
    {
     "name": "stdout",
     "output_type": "stream",
     "text": [
      "29/42 [===================>..........] - ETA: 8s - loss: 0.0739 - accuracy: 0.9741"
     ]
    },
    {
     "name": "stderr",
     "output_type": "stream",
     "text": [
      " [Elapsed Time: 0:04:24]  [|                 #                  |] (  0.4 B/s) "
     ]
    },
    {
     "name": "stdout",
     "output_type": "stream",
     "text": [
      "33/42 [======================>.......] - ETA: 5s - loss: 0.0733 - accuracy: 0.9740"
     ]
    },
    {
     "name": "stderr",
     "output_type": "stream",
     "text": [
      "\r",
      " [Elapsed Time: 0:04:27]  [|       #                            |] (  0.4 B/s) "
     ]
    },
    {
     "name": "stdout",
     "output_type": "stream",
     "text": [
      "35/42 [========================>.....] - ETA: 4s - loss: 0.0737 - accuracy: 0.9732"
     ]
    },
    {
     "name": "stderr",
     "output_type": "stream",
     "text": [
      "\r",
      " [Elapsed Time: 0:04:29]  [|                           #        |] (  0.4 B/s) "
     ]
    },
    {
     "name": "stdout",
     "output_type": "stream",
     "text": [
      "39/42 [==========================>...] - ETA: 1s - loss: 0.0742 - accuracy: 0.9732"
     ]
    },
    {
     "name": "stderr",
     "output_type": "stream",
     "text": [
      "\r",
      " [Elapsed Time: 0:04:31]  [|                      #             |] (  0.4 B/s) "
     ]
    },
    {
     "name": "stdout",
     "output_type": "stream",
     "text": [
      "\b\b\b\b\b\b\b\b\b\b\b\b\b\b\b\b\b\b\b\b\b\b\b\b\b\b\b\b\b\b\b\b\b\b\b\b\b\b\b\b\b\b\b\b\b\b\b\b\b\b\b\b\b\b\b\b\b\b\b\b\b\b\b\b\b\b\b\b\b\b\b\b\b\b\b\b\b\b\b\b\b\b\r",
      "40/42 [===========================>..] - ETA: 1s - loss: 0.0741 - accuracy: 0.9734"
     ]
    },
    {
     "name": "stderr",
     "output_type": "stream",
     "text": [
      "\r",
      " [Elapsed Time: 0:04:28]  [|                         #          |] (  0.1 B/s) "
     ]
    },
    {
     "name": "stdout",
     "output_type": "stream",
     "text": [
      "42/42 [==============================] - ETA: 0s - loss: 0.0765 - accuracy: 0.9721"
     ]
    },
    {
     "name": "stderr",
     "output_type": "stream",
     "text": [
      "\r",
      " [Elapsed Time: 0:04:33]  [|#                                   |] (  0.4 B/s) "
     ]
    },
    {
     "name": "stdout",
     "output_type": "stream",
     "text": [
      "\b\b\b\b\b\b\b\b\b\b\b\b\b\b\b\b\b\b\b\b\b\b\b\b\b\b\b\b\b\b\b\b\b\b\b\b\b\b\b\b\b\b\b\b\b\b\b\b\b\b\b\b\b\b\b\b\b\b\b\b\b\b\b\b\b\b\b\b\b\b\b\b\b\b\b\b\b\b\b\b\b\b\r",
      "42/42 [==============================] - 29s 673ms/step - loss: 0.0765 - accuracy: 0.9721 - val_loss: 0.5061 - val_accuracy: 0.8528\n"
     ]
    },
    {
     "name": "stderr",
     "output_type": "stream",
     "text": [
      " [Elapsed Time: 0:04:35]  [|                       #            |] (  0.1 B/s) \n"
     ]
    },
    {
     "name": "stdout",
     "output_type": "stream",
     "text": [
      "⠋ Please wait while we send the remaining data to the markov backend...⠙ Please wait while we send the remaining data to the markov backend...⠹ Please wait while we send the remaining data to the markov backend...⠸ Please wait while we send the remaining data to the markov backend...⠼ Please wait while we send the remaining data to the markov backend...⠴ Please wait while we send the remaining data to the markov backend...⠦ Please wait while we send the remaining data to the markov backend...⠧ Please wait while we send the remaining data to the markov backend...⠇ Please wait while we send the remaining data to the markov backend...⠏ Please wait while we send the remaining data to the markov backend...⠋ Please wait while we send the remaining data to the markov backend...⠙ Please wait while we send the remaining data to the markov backend..."
     ]
    },
    {
     "name": "stderr",
     "output_type": "stream",
     "text": [
      " [Elapsed Time: 0:04:41]  [|        #                           |] (  0.4 B/s) \n"
     ]
    },
    {
     "name": "stdout",
     "output_type": "stream",
     "text": [
      "✔ Recording has successfully completed.\n",
      "ℹ You can view the experiment at \u001b\\https://app.markovml.com/pioneer-wsp-27a2ukk2as/proj/488emc37Q5Ck4Z/experiments/hp-8T8zNMzfGSHKsFX5Pafoar8\u001b]8;;\u001b\\\n"
     ]
    },
    {
     "data": {
      "text/plain": [
       "<keras.src.callbacks.History at 0x7f7a880f9f70>"
      ]
     },
     "execution_count": 9,
     "metadata": {},
     "output_type": "execute_result"
    },
    {
     "name": "stdout",
     "output_type": "stream",
     "text": []
    }
   ],
   "source": [
    "best_model.fit(X_train, y_train, batch_size=batch_size, epochs=10, validation_data=(X_val, y_val) ,verbose=1)"
   ]
  },
  {
   "cell_type": "code",
   "execution_count": 18,
   "id": "65545237",
   "metadata": {},
   "outputs": [
    {
     "name": "stdout",
     "output_type": "stream",
     "text": [
      "ℹ Creating EvaluationRecorder object Testing for Best_LSTM_Model. Call recorder_object.register() to register with MarkovML backend.\n",
      "⠋ Registering evaluation recorder Testing for Best_LSTM_Model⠙ Registering evaluation recorder Testing for Best_LSTM_Model⠹ Registering evaluation recorder Testing for Best_LSTM_Model⠸ Registering evaluation recorder Testing for Best_LSTM_Model⠼ Registering evaluation recorder Testing for Best_LSTM_Model⠴ Registering evaluation recorder Testing for Best_LSTM_Model"
     ]
    },
    {
     "name": "stderr",
     "output_type": "stream",
     "text": [
      "\r",
      " [Elapsed Time: 0:03:57]  [|  #                                 |] (  0.4 B/s) "
     ]
    },
    {
     "name": "stdout",
     "output_type": "stream",
     "text": [
      "⠦ Registering evaluation recorder Testing for Best_LSTM_Model⠧ Registering evaluation recorder Testing for Best_LSTM_Model⠇ Registering evaluation recorder Testing for Best_LSTM_Model⠏ Registering evaluation recorder Testing for Best_LSTM_Model⠋ Registering evaluation recorder Testing for Best_LSTM_Model⠙ Registering evaluation recorder Testing for Best_LSTM_Model⠹ Registering evaluation recorder Testing for Best_LSTM_Model⠸ Registering evaluation recorder Testing for Best_LSTM_Model⠼ Registering evaluation recorder Testing for Best_LSTM_Model⠴ Registering evaluation recorder Testing for Best_LSTM_Model⠦ Registering evaluation recorder Testing for Best_LSTM_Model⠧ Registering evaluation recorder Testing for Best_LSTM_Model⠇ Registering evaluation recorder Testing for Best_LSTM_Model⠏ Registering evaluation recorder Testing for Best_LSTM_Model⠋ Registering evaluation recorder Testing for Best_LSTM_Model⠙ Registering evaluation recorder Testing for Best_LSTM_Model⠹ Registering evaluation recorder Testing for Best_LSTM_Model⠸ Registering evaluation recorder Testing for Best_LSTM_Model"
     ]
    },
    {
     "name": "stderr",
     "output_type": "stream",
     "text": [
      "\r",
      " [Elapsed Time: 0:03:56]  [|           #                        |] (  0.1 B/s) "
     ]
    },
    {
     "name": "stdout",
     "output_type": "stream",
     "text": [
      "✔ Registering evaluation recorder Testing for Best_LSTM_Model⠴ Registering evaluation recorder Testing for Best_LSTM_Model Evaluation recorder creation for EvaluationRecording(name='Testing for Best_LSTM_Model', model_id='FCcih5bHwMoN8XMrTR', note='', dataset_id='4Sjrh3yito3qKjujy', info={'project_id': 'vXmg4DkwjkU3JR'}) successful.\n"
     ]
    },
    {
     "data": {
      "text/plain": [
       "<markov.api.recording.evaluations.evaluation_recorder.EvaluationRecorder at 0x7fd86c4f8580>"
      ]
     },
     "execution_count": 18,
     "metadata": {},
     "output_type": "execute_result"
    },
    {
     "name": "stdout",
     "output_type": "stream",
     "text": [
      "\r"
     ]
    },
    {
     "name": "stderr",
     "output_type": "stream",
     "text": [
      " [Elapsed Time: 0:04:57]  [|                      #             |] (  0.3 B/s) "
     ]
    }
   ],
   "source": [
    "evaluation_recorder3 = markov.EvaluationRecorder(\n",
    "    name=f\"Testing for Best_LSTM_Model\",\n",
    "    model_id=\"FCcih5bHwMoN8XMrTR\",\n",
    "    project_id=\"vXmg4DkwjkU3JR\",\n",
    "    dataset_id=\"4Sjrh3yito3qKjujy\"\n",
    ")\n",
    "evaluation_recorder3.register()"
   ]
  },
  {
   "cell_type": "code",
   "execution_count": 19,
   "id": "da9d87ed",
   "metadata": {},
   "outputs": [
    {
     "name": "stderr",
     "output_type": "stream",
     "text": [
      "\r",
      " [Elapsed Time: 0:04:59]  [|                            #       |] (  0.3 B/s) "
     ]
    },
    {
     "name": "stdout",
     "output_type": "stream",
     "text": [
      " 9/42 [=====>........................] - ETA: 4s"
     ]
    },
    {
     "name": "stderr",
     "output_type": "stream",
     "text": [
      "\r",
      " [Elapsed Time: 0:04:58]  [|                              #     |] (  0.1 B/s) "
     ]
    },
    {
     "name": "stdout",
     "output_type": "stream",
     "text": [
      "\b\b\b\b\b\b\b\b\b\b\b\b\b\b\b\b\b\b\b\b\b\b\b\b\b\b\b\b\b\b\b\b\b\b\b\b\b\b\b\b\b\b\b\b\b\b\b\b\r",
      "10/42 [======>.......................] - ETA: 4s"
     ]
    },
    {
     "name": "stderr",
     "output_type": "stream",
     "text": [
      "\r",
      " [Elapsed Time: 0:05:01]  [|        #                           |] (  0.3 B/s) "
     ]
    },
    {
     "name": "stdout",
     "output_type": "stream",
     "text": [
      "25/42 [================>.............] - ETA: 2s"
     ]
    },
    {
     "name": "stderr",
     "output_type": "stream",
     "text": [
      "\r",
      " [Elapsed Time: 0:05:03]  [|           #                        |] (  0.3 B/s) "
     ]
    },
    {
     "name": "stdout",
     "output_type": "stream",
     "text": [
      "42/42 [==============================] - 6s 138ms/step\n"
     ]
    },
    {
     "name": "stderr",
     "output_type": "stream",
     "text": [
      "\r",
      " [Elapsed Time: 0:05:05]  [|                                  # |] (  0.3 B/s) "
     ]
    },
    {
     "name": "stdout",
     "output_type": "stream",
     "text": [
      "\r"
     ]
    },
    {
     "name": "stderr",
     "output_type": "stream",
     "text": [
      " [Elapsed Time: 0:05:08]  [|          #                         |] ( 10.3 s/B) "
     ]
    }
   ],
   "source": [
    "y_pred = model.predict(X_test)\n",
    "orig_copy = y_pred.tolist()\n",
    "y_pred[y_pred > 0.5] = 1\n",
    "y_pred[y_pred <= 0.5] = 0\n",
    "y_pred=y_pred.astype(\"int32\")\n"
   ]
  },
  {
   "cell_type": "code",
   "execution_count": 20,
   "id": "560d448b",
   "metadata": {},
   "outputs": [
    {
     "name": "stderr",
     "output_type": "stream",
     "text": [
      "Upload Progress : 100%|████████████████████████| 2/2 [00:04<00:00,  2.25s/batch]\n"
     ]
    },
    {
     "name": "stdout",
     "output_type": "stream",
     "text": [
      "EvaluationRecordingFinishResponse(count=1318, recording_id='7pJzkqVjX72DA2EF2LRs3yH', return_code='OK', message='', run_id='GXL7ZEjZMuJk4LwLoj9')\n",
      "\r"
     ]
    },
    {
     "name": "stderr",
     "output_type": "stream",
     "text": [
      " [Elapsed Time: 0:06:47]  [|                          #         |] (  0.2 B/s) "
     ]
    }
   ],
   "source": [
    "def _get_cost(inferred, actual):\n",
    "    if actual == inferred:\n",
    "        return 0\n",
    "    else:\n",
    "        return random.randint(2, 5)\n",
    "    \n",
    "urid = 1\n",
    "for prob, pred, orig, txt in zip(orig_copy, y_pred, y_test, X_test):\n",
    "    urid=urid+1\n",
    "    mi_record = SingleTagInferenceRecord(\n",
    "        inferred=float(pred[0]),\n",
    "        actual=float(orig),\n",
    "        urid=urid,\n",
    "        score=float(prob[0]),\n",
    "        custom_metrics=[\n",
    "            RecordCustomMetric(label=\"Cost\", value=_get_cost(float(pred[0]), float(orig))),\n",
    "            RecordCustomMetric(label=\"Probability\", value=float(prob[0]))\n",
    "        ]\n",
    "    )\n",
    "    evaluation_recorder3.add_record(mi_record)\n",
    "outcome = evaluation_recorder3.finish()\n",
    "print(outcome)"
   ]
  },
  {
   "cell_type": "markdown",
   "id": "84ae322d",
   "metadata": {},
   "source": [
    "# Testing on Data from other Social Media Sites(Reddit)"
   ]
  },
  {
   "cell_type": "markdown",
   "id": "35ffd7a9",
   "metadata": {},
   "source": [
    "- Evaluates the best model on unseen Reddit data, presenting a classification report, confusion matrix heatmap, and ROC curve for performance assessment."
   ]
  },
  {
   "cell_type": "code",
   "execution_count": 23,
   "id": "c6110157",
   "metadata": {
    "scrolled": false
   },
   "outputs": [
    {
     "name": "stderr",
     "output_type": "stream",
     "text": [
      "\r",
      " [Elapsed Time: 0:07:02]  [|                         #          |] (  0.2 B/s) "
     ]
    },
    {
     "name": "stdout",
     "output_type": "stream",
     "text": [
      "24/24 [==============================] - 3s 120ms/step\n",
      "\r"
     ]
    }
   ],
   "source": [
    "data = pd.read_csv('../Data/Cleaned_Reddit.csv')\n",
    "\n",
    "unseen_text = data['cleaned_text']\n",
    "unseen_labels = data['label']\n",
    "\n",
    "unseen_sequences = tokenizer.texts_to_sequences(unseen_text)\n",
    "unseen_X = pad_sequences(unseen_sequences, maxlen=max_seq_len)\n",
    "unseen_y = np.array(unseen_labels)\n",
    "\n",
    "unseen_y_pred = model.predict(unseen_X)\n",
    "\n",
    "orig_copy = unseen_y_pred.tolist()\n",
    "unseen_y_pred[unseen_y_pred > 0.5] = 1\n",
    "unseen_y_pred[unseen_y_pred <= 0.5] = 0\n",
    "unseen_y_pred=unseen_y_pred.astype(\"int32\")\n"
   ]
  },
  {
   "cell_type": "code",
   "execution_count": 27,
   "id": "5ac1a93e",
   "metadata": {},
   "outputs": [
    {
     "name": "stdout",
     "output_type": "stream",
     "text": [
      "ℹ Creating EvaluationRecorder object Unseen Data Testing for Best_LSTM_Model. Call recorder_object.register() to register with MarkovML backend.\n",
      "✔ Registering evaluation recorder Unseen Data Testing for Best_LSTM_Model⠙ Registering evaluation recorder Unseen Data Testing for Best_LSTM_Model⠹ Registering evaluation recorder Unseen Data Testing for Best_LSTM_Model⠸ Registering evaluation recorder Unseen Data Testing for Best_LSTM_Model⠼ Registering evaluation recorder Unseen Data Testing for Best_LSTM_Model⠴ Registering evaluation recorder Unseen Data Testing for Best_LSTM_Model⠦ Registering evaluation recorder Unseen Data Testing for Best_LSTM_Model⠧ Registering evaluation recorder Unseen Data Testing for Best_LSTM_Model⠇ Registering evaluation recorder Unseen Data Testing for Best_LSTM_Model⠏ Registering evaluation recorder Unseen Data Testing for Best_LSTM_Model⠋ Registering evaluation recorder Unseen Data Testing for Best_LSTM_Model⠙ Registering evaluation recorder Unseen Data Testing for Best_LSTM_Model⠹ Registering evaluation recorder Unseen Data Testing for Best_LSTM_Model⠸ Registering evaluation recorder Unseen Data Testing for Best_LSTM_Model⠼ Registering evaluation recorder Unseen Data Testing for Best_LSTM_Model⠴ Registering evaluation recorder Unseen Data Testing for Best_LSTM_Model⠦ Registering evaluation recorder Unseen Data Testing for Best_LSTM_Model⠧ Registering evaluation recorder Unseen Data Testing for Best_LSTM_Model⠇ Registering evaluation recorder Unseen Data Testing for Best_LSTM_Model⠏ Registering evaluation recorder Unseen Data Testing for Best_LSTM_Model⠋ Registering evaluation recorder Unseen Data Testing for Best_LSTM_Model⠙ Registering evaluation recorder Unseen Data Testing for Best_LSTM_Model⠹ Registering evaluation recorder Unseen Data Testing for Best_LSTM_Model⠸ Registering evaluation recorder Unseen Data Testing for Best_LSTM_Model⠼ Registering evaluation recorder Unseen Data Testing for Best_LSTM_Model Evaluation recorder creation for EvaluationRecording(name='Unseen Data Testing for Best_LSTM_Model', model_id='FCcih5bHwMoN8XMrTR', note='', dataset_id='4Sjrh3yito3qKjujy', info={'project_id': 'vXmg4DkwjkU3JR'}) successful.\n"
     ]
    },
    {
     "data": {
      "text/plain": [
       "<markov.api.recording.evaluations.evaluation_recorder.EvaluationRecorder at 0x7fd83cfab4f0>"
      ]
     },
     "execution_count": 27,
     "metadata": {},
     "output_type": "execute_result"
    },
    {
     "name": "stdout",
     "output_type": "stream",
     "text": [
      "\r"
     ]
    },
    {
     "name": "stderr",
     "output_type": "stream",
     "text": [
      " [Elapsed Time: 0:07:53]  [|                    #               |] (  0.2 B/s) "
     ]
    }
   ],
   "source": [
    "evaluation_recorder1 = markov.EvaluationRecorder(\n",
    "    name=f\"Unseen Data Testing for Best_LSTM_Model\",\n",
    "    model_id=\"FCcih5bHwMoN8XMrTR\",\n",
    "    project_id=\"vXmg4DkwjkU3JR\",\n",
    "    dataset_id=\"4Sjrh3yito3qKjujy\"\n",
    ")\n",
    "evaluation_recorder1.register()"
   ]
  },
  {
   "cell_type": "code",
   "execution_count": 25,
   "id": "4b9cd67e",
   "metadata": {},
   "outputs": [
    {
     "name": "stdout",
     "output_type": "stream",
     "text": [
      "\r"
     ]
    },
    {
     "name": "stderr",
     "output_type": "stream",
     "text": [
      " [Elapsed Time: 0:07:20]  [|            #                       |] (  0.2 B/s) "
     ]
    }
   ],
   "source": [
    "def _get_cost(inferred, actual):\n",
    "    if actual == inferred:\n",
    "        return 0\n",
    "    else:\n",
    "        return random.randint(2, 5)"
   ]
  },
  {
   "cell_type": "code",
   "execution_count": 28,
   "id": "5626ca32",
   "metadata": {},
   "outputs": [
    {
     "name": "stderr",
     "output_type": "stream",
     "text": [
      "Upload Progress : 100%|████████████████████████| 1/1 [00:01<00:00,  1.04s/batch]\n"
     ]
    },
    {
     "name": "stdout",
     "output_type": "stream",
     "text": [
      "EvaluationRecordingFinishResponse(count=752, recording_id='7cvE7Fx5Jh9zFJnaAitdcMH', return_code='OK', message='', run_id='cBBZBVM7q7vs4GL6Ccf')\n",
      "\r"
     ]
    },
    {
     "name": "stderr",
     "output_type": "stream",
     "text": [
      " [Elapsed Time: 0:17:15]  [|               #                    |] ( 10.4 s/B) "
     ]
    }
   ],
   "source": [
    "urid = 1\n",
    "for prob, pred, orig, txt in zip(orig_copy, unseen_y_pred, unseen_y, unseen_X):\n",
    "    urid = urid + 1\n",
    "    mi_record = SingleTagInferenceRecord(\n",
    "        inferred=float(pred[0]),\n",
    "        actual=float(orig),\n",
    "        urid=urid,\n",
    "        score=float(prob[0]),\n",
    "        custom_metrics=[\n",
    "            RecordCustomMetric(label=\"Cost\", value=_get_cost(float(pred[0]), float(orig))),\n",
    "            RecordCustomMetric(label=\"Probability\", value=float(prob[0]))\n",
    "        ]\n",
    "    )\n",
    "    evaluation_recorder1.add_record(mi_record)\n",
    "outcome = evaluation_recorder1.finish()\n",
    "print(outcome)"
   ]
  }
 ],
 "metadata": {
  "kernelspec": {
   "display_name": "Python 3 (ipykernel)",
   "language": "python",
   "name": "python3"
  },
  "language_info": {
   "codemirror_mode": {
    "name": "ipython",
    "version": 3
   },
   "file_extension": ".py",
   "mimetype": "text/x-python",
   "name": "python",
   "nbconvert_exporter": "python",
   "pygments_lexer": "ipython3",
   "version": "3.9.16"
  }
 },
 "nbformat": 4,
 "nbformat_minor": 5
}
