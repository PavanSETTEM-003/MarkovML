{
 "cells": [
  {
   "cell_type": "code",
   "execution_count": 4,
   "id": "b8bd3adb",
   "metadata": {},
   "outputs": [
    {
     "name": "stdout",
     "output_type": "stream",
     "text": []
    }
   ],
   "source": [
    "# run in Interactive python\n",
    "# ipython\n",
    "markov init --api-token=eEgdgto3SXBEzG8edLW85qZX\n",
    "                                                                                                                                                                                                                                                                                                                                                                                        "
   ]
  },
  {
   "cell_type": "code",
   "execution_count": 1,
   "id": "ce518a26",
   "metadata": {},
   "outputs": [
    {
     "name": "stderr",
     "output_type": "stream",
     "text": [
      "2023-08-19 22:20:58.415134: I tensorflow/tsl/cuda/cudart_stub.cc:28] Could not find cuda drivers on your machine, GPU will not be used.\n",
      "2023-08-19 22:21:01.891711: I tensorflow/tsl/cuda/cudart_stub.cc:28] Could not find cuda drivers on your machine, GPU will not be used.\n",
      "2023-08-19 22:21:01.950397: I tensorflow/core/platform/cpu_feature_guard.cc:182] This TensorFlow binary is optimized to use available CPU instructions in performance-critical operations.\n",
      "To enable the following instructions: AVX2 FMA, in other operations, rebuild TensorFlow with the appropriate compiler flags.\n",
      "2023-08-19 22:21:08.867617: W tensorflow/compiler/tf2tensorrt/utils/py_utils.cc:38] TF-TRT Warning: Could not find TensorRT\n"
     ]
    },
    {
     "name": "stdout",
     "output_type": "stream",
     "text": [
      "\r"
     ]
    }
   ],
   "source": [
    "import markov\n",
    "import keras\n",
    "import random\n",
    "import pandas as pd\n",
    "import numpy as np\n",
    "from sklearn.model_selection import train_test_split\n",
    "from sklearn.feature_extraction.text import CountVectorizer\n",
    "from keras.models import Sequential\n",
    "from keras.layers import Dense"
   ]
  },
  {
   "cell_type": "code",
   "execution_count": 4,
   "id": "629e2e7d",
   "metadata": {},
   "outputs": [
    {
     "name": "stdout",
     "output_type": "stream",
     "text": [
      "\r"
     ]
    }
   ],
   "source": [
    "\n",
    "# Read the data from the CSV file into a Pandas DataFrame\n",
    "data = pd.read_csv('../Data/Cleaned_Tweets_stopwords.csv')\n",
    "\n",
    "tweets = data['cleaned_text']\n",
    "labels = data['label']\n",
    "\n",
    "# Create a CountVectorizer object for converting text data into a matrix of token counts\n",
    "vectorizer = CountVectorizer()\n",
    "X = vectorizer.fit_transform(tweets)\n",
    "\n",
    "# Convert the sparse matrix to a dense numpy array\n",
    "X = X.toarray()\n",
    "\n",
    "# Split the data into training and testing sets (80% training, 20% testing)\n",
    "X_train, X_test, y_train, y_test = train_test_split(X, labels, test_size=0.2, random_state=42)\n",
    "\n",
    "# Convert labels to one-hot encoding\n",
    "num_classes = len(np.unique(labels))\n",
    "y_train_onehot = pd.get_dummies(y_train).values\n",
    "y_test_onehot = pd.get_dummies(y_test).values\n"
   ]
  },
  {
   "cell_type": "code",
   "execution_count": 5,
   "id": "2198b998",
   "metadata": {},
   "outputs": [
    {
     "name": "stdout",
     "output_type": "stream",
     "text": [
      "\r"
     ]
    }
   ],
   "source": [
    "\n",
    "# Create a Multinomial Naive Bayes model in Keras\n",
    "num_classes=2\n",
    "model = Sequential()\n",
    "model.add(Dense(num_classes, input_shape=(X_train.shape[1],), activation='softmax'))\n",
    "\n",
    "# Compile the model\n",
    "model.compile(loss='categorical_crossentropy', optimizer='adam', metrics=['accuracy'])\n"
   ]
  },
  {
   "cell_type": "code",
   "execution_count": 6,
   "id": "c3be21b6",
   "metadata": {},
   "outputs": [
    {
     "name": "stdout",
     "output_type": "stream",
     "text": [
      "\r"
     ]
    }
   ],
   "source": [
    "\n",
    "MODEL_NAME = \"Naive_Bayes_Best\"\n",
    "\n",
    "markov.keras.auto_record(\n",
    "    name=MODEL_NAME,\n",
    "    notes=\"Multinomial Naive Bayes Baseline Model Using Keras\",\n",
    "    project_id=\"vXmg4DkwjkU3JR\" # team-2 project\n",
    ")"
   ]
  },
  {
   "cell_type": "code",
   "execution_count": 7,
   "id": "916146aa",
   "metadata": {},
   "outputs": [
    {
     "name": "stderr",
     "output_type": "stream",
     "text": [
      "2023-08-19 22:22:58.265300: W tensorflow/tsl/framework/cpu_allocator_impl.cc:83] Allocation of 673961328 exceeds 10% of free system memory.\n"
     ]
    },
    {
     "name": "stdout",
     "output_type": "stream",
     "text": [
      "ℹ Creating MarkovML model object Model: Naive_Bayes_Best. Call model_object.register() to register with MarkovML backend.\n",
      "✔ Creating Model Model: Naive_Bayes_Best⠙ Creating Model Model: Naive_Bayes_Best⠹ Creating Model Model: Naive_Bayes_Best⠸ Creating Model Model: Naive_Bayes_Best⠼ Creating Model Model: Naive_Bayes_Best⠴ Creating Model Model: Naive_Bayes_Best⠦ Creating Model Model: Naive_Bayes_Best⠧ Creating Model Model: Naive_Bayes_Best⠇ Creating Model Model: Naive_Bayes_Best⠏ Creating Model Model: Naive_Bayes_Best⠋ Creating Model Model: Naive_Bayes_Best⠙ Creating Model Model: Naive_Bayes_Best⠹ Creating Model Model: Naive_Bayes_Best⠸ Creating Model Model: Naive_Bayes_Best⠼ Creating Model Model: Naive_Bayes_Best⠴ Creating Model Model: Naive_Bayes_Best⠦ Creating Model Model: Naive_Bayes_Best⠧ Creating Model Model: Naive_Bayes_Best⠇ Creating Model Model: Naive_Bayes_Best⠏ Creating Model Model: Naive_Bayes_Best⠋ Creating Model Model: Naive_Bayes_Best⠙ Creating Model Model: Naive_Bayes_Best⠹ Creating Model Model: Naive_Bayes_Best⠸ Creating Model Model: Naive_Bayes_Best⠼ Creating Model Model: Naive_Bayes_Best⠴ Creating Model Model: Naive_Bayes_Best⠦ Creating Model Model: Naive_Bayes_Best⠧ Creating Model Model: Naive_Bayes_Best⠇ Creating Model Model: Naive_Bayes_Best⠏ Creating Model Model: Naive_Bayes_Best⠋ Creating Model Model: Naive_Bayes_Best⠙ Creating Model Model: Naive_Bayes_Best⠹ Creating Model Model: Naive_Bayes_Best⠸ Creating Model Model: Naive_Bayes_Best⠼ Creating Model Model: Naive_Bayes_Best⠴ Creating Model Model: Naive_Bayes_Best⠦ Creating Model Model: Naive_Bayes_Best⠧ Creating Model Model: Naive_Bayes_Best⠇ Creating Model Model: Naive_Bayes_Best⠏ Creating Model Model: Naive_Bayes_Best⠋ Creating Model Model: Naive_Bayes_Best⠙ Creating Model Model: Naive_Bayes_Best⠹ Creating Model Model: Naive_Bayes_Best Model creation for model Model: Naive_Bayes_Best successful!\n",
      "ℹ Creating ExperimentRecorder object Naive_Bayes_Best. Call recorder_object.register() to register with MarkovML backend.\n",
      "✔ Registering ExperimentRecorder with Markov Backend.⠙ Registering ExperimentRecorder with Markov Backend.⠹ Registering ExperimentRecorder with Markov Backend.⠸ Registering ExperimentRecorder with Markov Backend.⠼ Registering ExperimentRecorder with Markov Backend.⠴ Registering ExperimentRecorder with Markov Backend.⠦ Registering ExperimentRecorder with Markov Backend.⠧ Registering ExperimentRecorder with Markov Backend.⠇ Registering ExperimentRecorder with Markov Backend.⠏ Registering ExperimentRecorder with Markov Backend.⠋ Registering ExperimentRecorder with Markov Backend.⠙ Registering ExperimentRecorder with Markov Backend.⠹ Registering ExperimentRecorder with Markov Backend.⠸ Registering ExperimentRecorder with Markov Backend.⠼ Registering ExperimentRecorder with Markov Backend.⠴ Registering ExperimentRecorder with Markov Backend.⠦ Registering ExperimentRecorder with Markov Backend.⠧ Registering ExperimentRecorder with Markov Backend.⠇ Registering ExperimentRecorder with Markov Backend.⠏ Registering ExperimentRecorder with Markov Backend.⠋ Registering ExperimentRecorder with Markov Backend.⠙ Registering ExperimentRecorder with Markov Backend.⠹ Registering ExperimentRecorder with Markov Backend.⠸ Registering ExperimentRecorder with Markov Backend.⠼ Registering ExperimentRecorder with Markov Backend.⠴ Registering ExperimentRecorder with Markov Backend.⠦ Registering ExperimentRecorder with Markov Backend.⠧ Registering ExperimentRecorder with Markov Backend.⠇ Registering ExperimentRecorder with Markov Backend.⠏ Registering ExperimentRecorder with Markov Backend.⠋ Registering ExperimentRecorder with Markov Backend.⠙ Registering ExperimentRecorder with Markov Backend.⠹ Registering ExperimentRecorder with Markov Backend.⠸ Registering ExperimentRecorder with Markov Backend.⠼ Registering ExperimentRecorder with Markov Backend.⠴ Registering ExperimentRecorder with Markov Backend.⠦ Registering ExperimentRecorder with Markov Backend.⠧ Registering ExperimentRecorder with Markov Backend. ExperimentRecorder successfully registered.\n",
      "ℹ You can view the experiment at \u001b\\https://app.markovml.com/pioneer-wsp-27a2ukk2as/proj/vXmg4DkwjkU3JR/experiments/hp-9uxAu9M3Gge9hDjxP2aYcQX\u001b]8;;\u001b\\\n",
      "ℹ Starting recorder to track training data on markov backend using multiple threads. Please wait!\n",
      "Epoch 1/15\n"
     ]
    },
    {
     "name": "stderr",
     "output_type": "stream",
     "text": [
      "\r",
      " [Elapsed Time: 0:00:00]  [|#                                   |] (  0.0 s/B) "
     ]
    },
    {
     "name": "stdout",
     "output_type": "stream",
     "text": [
      " 58/149 [==========>...................] - ETA: 0s - loss: 0.6717 - accuracy: 0.6789"
     ]
    },
    {
     "name": "stderr",
     "output_type": "stream",
     "text": [
      "\r",
      " [Elapsed Time: 0:00:02]  [|                    #               |] ( 49.9 B/s) "
     ]
    },
    {
     "name": "stdout",
     "output_type": "stream",
     "text": [
      "149/149 [==============================] - 4s 8ms/step - loss: 0.6409 - accuracy: 0.7567 - val_loss: 0.5848 - val_accuracy: 0.8159\n",
      "Epoch 2/15\n",
      "  9/149 [>.............................] - ETA: 0s - loss: 0.5673 - accuracy: 0.8854"
     ]
    },
    {
     "name": "stderr",
     "output_type": "stream",
     "text": [
      "\r",
      " [Elapsed Time: 0:00:00]  [|#                                   |] (  0.0 s/B) "
     ]
    },
    {
     "name": "stdout",
     "output_type": "stream",
     "text": [
      "149/149 [==============================] - 1s 6ms/step - loss: 0.5216 - accuracy: 0.8899 - val_loss: 0.5198 - val_accuracy: 0.8178\n",
      "Epoch 3/15\n",
      " 30/149 [=====>........................] - ETA: 0s - loss: 0.4642 - accuracy: 0.8990"
     ]
    },
    {
     "name": "stderr",
     "output_type": "stream",
     "text": [
      "\r",
      " [Elapsed Time: 0:00:04]  [|                               #    |] ( 24.9 B/s) "
     ]
    },
    {
     "name": "stdout",
     "output_type": "stream",
     "text": [
      "149/149 [==============================] - 1s 6ms/step - loss: 0.4416 - accuracy: 0.9098 - val_loss: 0.4779 - val_accuracy: 0.8235\n",
      "Epoch 4/15\n",
      "149/149 [==============================] - 1s 6ms/step - loss: 0.3843 - accuracy: 0.9230 - val_loss: 0.4478 - val_accuracy: 0.8159\n",
      "Epoch 5/15\n",
      "111/149 [=====================>........] - ETA: 0s - loss: 0.3437 - accuracy: 0.9338"
     ]
    },
    {
     "name": "stderr",
     "output_type": "stream",
     "text": [
      "\r",
      " [Elapsed Time: 0:00:06]  [|        #                           |] ( 15.7 B/s) "
     ]
    },
    {
     "name": "stdout",
     "output_type": "stream",
     "text": [
      "149/149 [==============================] - 1s 6ms/step - loss: 0.3411 - accuracy: 0.9338 - val_loss: 0.4251 - val_accuracy: 0.8254\n",
      "Epoch 6/15\n",
      "149/149 [==============================] - 1s 6ms/step - loss: 0.3070 - accuracy: 0.9397 - val_loss: 0.4087 - val_accuracy: 0.8254\n",
      "Epoch 7/15\n",
      "144/149 [===========================>..] - ETA: 0s - loss: 0.2787 - accuracy: 0.9453"
     ]
    },
    {
     "name": "stderr",
     "output_type": "stream",
     "text": [
      "\r",
      " [Elapsed Time: 0:00:05]  [|                 #                  |] (  5.5 B/s) "
     ]
    },
    {
     "name": "stdout",
     "output_type": "stream",
     "text": [
      "149/149 [==============================] - 1s 7ms/step - loss: 0.2792 - accuracy: 0.9448 - val_loss: 0.3952 - val_accuracy: 0.8216\n",
      "Epoch 8/15\n",
      " 80/149 [===============>..............] - ETA: 0s - loss: 0.2589 - accuracy: 0.9484"
     ]
    },
    {
     "name": "stderr",
     "output_type": "stream",
     "text": [
      "\r",
      " [Elapsed Time: 0:00:08]  [|                 #                  |] ( 11.1 B/s) "
     ]
    },
    {
     "name": "stdout",
     "output_type": "stream",
     "text": [
      "149/149 [==============================] - 1s 7ms/step - loss: 0.2560 - accuracy: 0.9500 - val_loss: 0.3848 - val_accuracy: 0.8292\n",
      "Epoch 9/15\n",
      "149/149 [==============================] - 1s 7ms/step - loss: 0.2363 - accuracy: 0.9549 - val_loss: 0.3761 - val_accuracy: 0.8311\n",
      "Epoch 10/15\n",
      "149/149 [==============================] - 1s 6ms/step - loss: 0.2192 - accuracy: 0.9589 - val_loss: 0.3690 - val_accuracy: 0.8349\n",
      "Epoch 11/15\n",
      "136/149 [==========================>...] - ETA: 0s - loss: 0.2047 - accuracy: 0.9625"
     ]
    },
    {
     "name": "stderr",
     "output_type": "stream",
     "text": [
      "\r",
      " [Elapsed Time: 0:00:12]  [|                      #             |] (  8.2 B/s) "
     ]
    },
    {
     "name": "stdout",
     "output_type": "stream",
     "text": [
      "149/149 [==============================] - 1s 6ms/step - loss: 0.2043 - accuracy: 0.9627 - val_loss: 0.3638 - val_accuracy: 0.8387\n",
      "Epoch 12/15\n",
      "149/149 [==============================] - 1s 6ms/step - loss: 0.1911 - accuracy: 0.9654 - val_loss: 0.3590 - val_accuracy: 0.8444\n",
      "Epoch 13/15\n",
      "149/149 [==============================] - 1s 6ms/step - loss: 0.1794 - accuracy: 0.9692 - val_loss: 0.3545 - val_accuracy: 0.8406\n",
      "Epoch 14/15\n",
      " 94/149 [=================>............] - ETA: 0s - loss: 0.1721 - accuracy: 0.9737"
     ]
    },
    {
     "name": "stderr",
     "output_type": "stream",
     "text": [
      "\r",
      " [Elapsed Time: 0:00:11]  [|                          #         |] (  2.6 B/s) "
     ]
    },
    {
     "name": "stdout",
     "output_type": "stream",
     "text": [
      "143/149 [===========================>..] - ETA: 0s - loss: 0.1687 - accuracy: 0.9736"
     ]
    },
    {
     "name": "stderr",
     "output_type": "stream",
     "text": [
      "\r",
      " [Elapsed Time: 0:00:15]  [|      #                             |] (  6.6 B/s) "
     ]
    },
    {
     "name": "stdout",
     "output_type": "stream",
     "text": [
      "149/149 [==============================] - 1s 6ms/step - loss: 0.1690 - accuracy: 0.9730 - val_loss: 0.3519 - val_accuracy: 0.8406\n",
      "Epoch 15/15\n",
      "149/149 [==============================] - 1s 6ms/step - loss: 0.1591 - accuracy: 0.9758 - val_loss: 0.3498 - val_accuracy: 0.8406\n"
     ]
    },
    {
     "name": "stderr",
     "output_type": "stream",
     "text": [
      " [Elapsed Time: 0:00:19]  [|                    #               |] (  1.5 B/s) \n"
     ]
    },
    {
     "name": "stdout",
     "output_type": "stream",
     "text": [
      "⠋ Please wait while we send the remaining data to the markov backend...\r"
     ]
    },
    {
     "name": "stderr",
     "output_type": "stream",
     "text": [
      "\r",
      " [Elapsed Time: 0:00:24]  [|                           #        |] (  4.1 B/s) "
     ]
    },
    {
     "name": "stdout",
     "output_type": "stream",
     "text": [
      "\r"
     ]
    },
    {
     "name": "stderr",
     "output_type": "stream",
     "text": [
      "\n"
     ]
    },
    {
     "name": "stdout",
     "output_type": "stream",
     "text": [
      "✔ Please wait while we send the remaining data to the markov backend... Recording has successfully completed.\n",
      "ℹ You can view the experiment at \u001b\\https://app.markovml.com/pioneer-wsp-27a2ukk2as/proj/vXmg4DkwjkU3JR/experiments/hp-9uxAu9M3Gge9hDjxP2aYcQX\u001b]8;;\u001b\\\n"
     ]
    },
    {
     "data": {
      "text/plain": [
       "<keras.src.callbacks.History at 0x7f4b6b812670>"
      ]
     },
     "execution_count": 7,
     "metadata": {},
     "output_type": "execute_result"
    },
    {
     "name": "stdout",
     "output_type": "stream",
     "text": []
    }
   ],
   "source": [
    "epochs = 15\n",
    "batch_size = 32\n",
    "model.fit(X_train, y_train_onehot, epochs=epochs, batch_size=batch_size, validation_split=0.1)"
   ]
  },
  {
   "cell_type": "code",
   "execution_count": 24,
   "id": "cb8d5e4a",
   "metadata": {},
   "outputs": [
    {
     "name": "stdout",
     "output_type": "stream",
     "text": [
      "42/42 [==============================] - 0s 3ms/step\n"
     ]
    }
   ],
   "source": [
    "y_pred = model.predict(X_test)\n",
    "probs = y_pred.tolist()\n",
    "orig_pred = np.max(probs, axis=1, keepdims=True)\n",
    "max_indices = np.argmax(y_pred, axis=1)\n",
    "y_pred = max_indices.reshape(-1, 1)\n"
   ]
  },
  {
   "cell_type": "code",
   "execution_count": 27,
   "id": "ea7c236b",
   "metadata": {},
   "outputs": [
    {
     "data": {
      "text/plain": [
       "array([[0.56940758],\n",
       "       [0.92422092],\n",
       "       [0.98501343],\n",
       "       ...,\n",
       "       [0.90917826],\n",
       "       [0.90663344],\n",
       "       [0.75266635]])"
      ]
     },
     "execution_count": 27,
     "metadata": {},
     "output_type": "execute_result"
    },
    {
     "name": "stdout",
     "output_type": "stream",
     "text": []
    }
   ],
   "source": [
    "orig_pred"
   ]
  },
  {
   "cell_type": "code",
   "execution_count": 29,
   "id": "fe6e7556",
   "metadata": {},
   "outputs": [
    {
     "name": "stdout",
     "output_type": "stream",
     "text": [
      "ℹ Creating EvaluationRecorder object Evaluating Best Naive Bayes Model. Call recorder_object.register() to register with MarkovML backend.\n",
      "✔ Registering evaluation recorder Evaluating Best Naive Bayes Model⠙ Registering evaluation recorder Evaluating Best Naive Bayes Model⠹ Registering evaluation recorder Evaluating Best Naive Bayes Model⠸ Registering evaluation recorder Evaluating Best Naive Bayes Model⠼ Registering evaluation recorder Evaluating Best Naive Bayes Model⠴ Registering evaluation recorder Evaluating Best Naive Bayes Model⠦ Registering evaluation recorder Evaluating Best Naive Bayes Model⠧ Registering evaluation recorder Evaluating Best Naive Bayes Model⠇ Registering evaluation recorder Evaluating Best Naive Bayes Model⠏ Registering evaluation recorder Evaluating Best Naive Bayes Model⠋ Registering evaluation recorder Evaluating Best Naive Bayes Model⠙ Registering evaluation recorder Evaluating Best Naive Bayes Model⠹ Registering evaluation recorder Evaluating Best Naive Bayes Model⠸ Registering evaluation recorder Evaluating Best Naive Bayes Model⠼ Registering evaluation recorder Evaluating Best Naive Bayes Model⠴ Registering evaluation recorder Evaluating Best Naive Bayes Model⠦ Registering evaluation recorder Evaluating Best Naive Bayes Model⠧ Registering evaluation recorder Evaluating Best Naive Bayes Model⠇ Registering evaluation recorder Evaluating Best Naive Bayes Model⠏ Registering evaluation recorder Evaluating Best Naive Bayes Model⠋ Registering evaluation recorder Evaluating Best Naive Bayes Model⠙ Registering evaluation recorder Evaluating Best Naive Bayes Model⠹ Registering evaluation recorder Evaluating Best Naive Bayes Model⠸ Registering evaluation recorder Evaluating Best Naive Bayes Model⠼ Registering evaluation recorder Evaluating Best Naive Bayes Model Evaluation recorder creation for EvaluationRecording(name='Evaluating Best Naive Bayes Model', model_id='AhRMwdTfu52yLuE4TR', note='', dataset_id='4Sjrh3yito3qKjujy', info={'project_id': 'vXmg4DkwjkU3JR'}) successful.\n"
     ]
    },
    {
     "data": {
      "text/plain": [
       "<markov.api.recording.evaluations.evaluation_recorder.EvaluationRecorder at 0x7f4ae03a6250>"
      ]
     },
     "execution_count": 29,
     "metadata": {},
     "output_type": "execute_result"
    },
    {
     "name": "stdout",
     "output_type": "stream",
     "text": []
    }
   ],
   "source": [
    "evaluation_recorder1 = markov.EvaluationRecorder(\n",
    "    name=f\"Evaluating Best Naive Bayes Model\",\n",
    "    model_id=\"AhRMwdTfu52yLuE4TR\",\n",
    "    project_id=\"vXmg4DkwjkU3JR\",\n",
    "    dataset_id=\"4Sjrh3yito3qKjujy\"\n",
    ")\n",
    "evaluation_recorder1.register()"
   ]
  },
  {
   "cell_type": "code",
   "execution_count": 30,
   "id": "22705266",
   "metadata": {},
   "outputs": [
    {
     "name": "stdout",
     "output_type": "stream",
     "text": []
    }
   ],
   "source": [
    "def _get_cost(inferred, actual):\n",
    "    if actual == inferred:\n",
    "        return 0\n",
    "    else:\n",
    "        return random.randint(2, 5)"
   ]
  },
  {
   "cell_type": "code",
   "execution_count": 31,
   "id": "6b5b0d91",
   "metadata": {},
   "outputs": [
    {
     "name": "stderr",
     "output_type": "stream",
     "text": [
      "Upload Progress : 100%|████████████████████████| 2/2 [00:10<00:00,  5.34s/batch]\n"
     ]
    },
    {
     "name": "stdout",
     "output_type": "stream",
     "text": [
      "EvaluationRecordingFinishResponse(count=1318, recording_id='9RDU4yJzAvw8G9D4WmiJAJs', return_code='OK', message='', run_id='4WsKRyVukc7yXMTdsUi')\n"
     ]
    }
   ],
   "source": [
    "import markov\n",
    "from markov.api.schemas.model_recording import SingleTagInferenceRecord,RecordMetaType,RecordCustomMetric\n",
    "urid = 1\n",
    "for prob, pred, orig, txt in zip(orig_pred, y_pred, y_test, X_test):\n",
    "    urid = urid + 1\n",
    "    mi_record = SingleTagInferenceRecord(\n",
    "        inferred=float(pred[0]),\n",
    "        actual=float(orig),\n",
    "        urid=urid,\n",
    "        score=float(prob[0]),\n",
    "        custom_metrics=[\n",
    "            RecordCustomMetric(label=\"Cost\", value=_get_cost(float(pred[0]), float(orig))),\n",
    "            RecordCustomMetric(label=\"Probability\", value=float(prob[0]))\n",
    "        ]\n",
    "    )\n",
    "    evaluation_recorder1.add_record(mi_record)\n",
    "outcome = evaluation_recorder1.finish()\n",
    "print(outcome)"
   ]
  }
 ],
 "metadata": {
  "kernelspec": {
   "display_name": "Python 3 (ipykernel)",
   "language": "python",
   "name": "python3"
  },
  "language_info": {
   "codemirror_mode": {
    "name": "ipython",
    "version": 3
   },
   "file_extension": ".py",
   "mimetype": "text/x-python",
   "name": "python",
   "nbconvert_exporter": "python",
   "pygments_lexer": "ipython3",
   "version": "3.9.16"
  }
 },
 "nbformat": 4,
 "nbformat_minor": 5
}
